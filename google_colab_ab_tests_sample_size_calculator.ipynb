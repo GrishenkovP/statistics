{
  "nbformat": 4,
  "nbformat_minor": 0,
  "metadata": {
    "colab": {
      "name": "google_colab_ab_tests_sample_size_calculator.ipynb",
      "provenance": [],
      "collapsed_sections": []
    },
    "kernelspec": {
      "name": "python3",
      "display_name": "Python 3"
    },
    "language_info": {
      "name": "python"
    }
  },
  "cells": [
    {
      "cell_type": "code",
      "metadata": {
        "id": "6ueKayXIb1tV",
        "colab": {
          "base_uri": "https://localhost:8080/"
        },
        "outputId": "7dbb4c75-0f77-4db5-82e1-2898e1b49db5"
      },
      "source": [
        "import math\n",
        "import numpy as np\n",
        "import scipy.stats as stats\n",
        "import statsmodels.stats.api as sms"
      ],
      "execution_count": 1,
      "outputs": [
        {
          "output_type": "stream",
          "name": "stderr",
          "text": [
            "/usr/local/lib/python3.7/dist-packages/statsmodels/tools/_testing.py:19: FutureWarning: pandas.util.testing is deprecated. Use the functions in the public API at pandas.testing instead.\n",
            "  import pandas.util.testing as tm\n"
          ]
        }
      ]
    },
    {
      "cell_type": "markdown",
      "metadata": {
        "id": "gAAluA3XypG9"
      },
      "source": [
        "### Вариант 1"
      ]
    },
    {
      "cell_type": "code",
      "metadata": {
        "id": "tmSbjiHGylXF"
      },
      "source": [
        "# Evan's Awesome A/B Tools - https://www.evanmiller.org/ab-testing/sample-size.html"
      ],
      "execution_count": 2,
      "outputs": []
    },
    {
      "cell_type": "markdown",
      "metadata": {
        "id": "NDFNh2KnzMaj"
      },
      "source": [
        "### Вариант 2"
      ]
    },
    {
      "cell_type": "code",
      "metadata": {
        "colab": {
          "base_uri": "https://localhost:8080/"
        },
        "id": "ZSIBXr20zM5T",
        "outputId": "5b465c78-e010-465c-de04-1973326b4d6d"
      },
      "source": [
        "baseline_rate = 0.1\n",
        "practical_significance = 0.01\n",
        "confidence_level = 0.05 \n",
        "sensitivity = 0.8 \n",
        "\n",
        "effect_size = sms.proportion_effectsize(baseline_rate, baseline_rate + practical_significance)\n",
        "sample_size = sms.NormalIndPower().solve_power(effect_size = effect_size, power = sensitivity, \n",
        "                                               alpha = confidence_level, ratio=1)\n",
        "print(sample_size)"
      ],
      "execution_count": 3,
      "outputs": [
        {
          "output_type": "stream",
          "name": "stdout",
          "text": [
            "14744.104836925611\n"
          ]
        }
      ]
    },
    {
      "cell_type": "markdown",
      "metadata": {
        "id": "Gjg63Lraz1s7"
      },
      "source": [
        "### Вариант 3"
      ]
    },
    {
      "cell_type": "code",
      "metadata": {
        "id": "u5Ys4x1sz7Lz"
      },
      "source": [
        "def min_sample_size(br=baseline_rate, \n",
        "                    ps=practical_significance, \n",
        "                    power=sensitivity, \n",
        "                    sig_level=confidence_level):\n",
        "    standard_norm = stats.norm(0, 1)\n",
        "    Z_beta = standard_norm.ppf(power)\n",
        "    Z_alpha = standard_norm.ppf(1-sig_level/2)\n",
        "    pooled_prob = (br + br+ps) / 2\n",
        "    min_N = (2 * pooled_prob * (1 - pooled_prob) * (Z_beta + Z_alpha)**2\n",
        "             / ps**2)\n",
        "    return min_N"
      ],
      "execution_count": 4,
      "outputs": []
    },
    {
      "cell_type": "code",
      "metadata": {
        "colab": {
          "base_uri": "https://localhost:8080/"
        },
        "id": "8NZnTvag0rK7",
        "outputId": "34725279-1ded-4d25-b3b0-e24697ca9d0e"
      },
      "source": [
        "print(min_sample_size())"
      ],
      "execution_count": 5,
      "outputs": [
        {
          "output_type": "stream",
          "name": "stdout",
          "text": [
            "14751.969460709113\n"
          ]
        }
      ]
    }
  ]
}