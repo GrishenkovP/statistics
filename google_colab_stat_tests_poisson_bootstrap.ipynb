{
  "nbformat": 4,
  "nbformat_minor": 0,
  "metadata": {
    "colab": {
      "provenance": [],
      "collapsed_sections": []
    },
    "kernelspec": {
      "name": "python3",
      "display_name": "Python 3"
    },
    "language_info": {
      "name": "python"
    },
    "widgets": {
      "application/vnd.jupyter.widget-state+json": {
        "9ddebf34c5a94300923fa09440668791": {
          "model_module": "@jupyter-widgets/controls",
          "model_name": "HBoxModel",
          "model_module_version": "1.5.0",
          "state": {
            "_dom_classes": [],
            "_model_module": "@jupyter-widgets/controls",
            "_model_module_version": "1.5.0",
            "_model_name": "HBoxModel",
            "_view_count": null,
            "_view_module": "@jupyter-widgets/controls",
            "_view_module_version": "1.5.0",
            "_view_name": "HBoxView",
            "box_style": "",
            "children": [
              "IPY_MODEL_49dcbf3ec0304f409417b113c9adc128",
              "IPY_MODEL_58f0bbc50a1244fe85df56d28e984200",
              "IPY_MODEL_0837a6ef395b41e49a3b84e9bc897528"
            ],
            "layout": "IPY_MODEL_a63728e2e29e41cfb70b38a6754035f9"
          }
        },
        "49dcbf3ec0304f409417b113c9adc128": {
          "model_module": "@jupyter-widgets/controls",
          "model_name": "HTMLModel",
          "model_module_version": "1.5.0",
          "state": {
            "_dom_classes": [],
            "_model_module": "@jupyter-widgets/controls",
            "_model_module_version": "1.5.0",
            "_model_name": "HTMLModel",
            "_view_count": null,
            "_view_module": "@jupyter-widgets/controls",
            "_view_module_version": "1.5.0",
            "_view_name": "HTMLView",
            "description": "",
            "description_tooltip": null,
            "layout": "IPY_MODEL_b953954260fd46918de1780a78938417",
            "placeholder": "​",
            "style": "IPY_MODEL_3ef3afe8850245fc8f7f7c6edbbd24fe",
            "value": "100%"
          }
        },
        "58f0bbc50a1244fe85df56d28e984200": {
          "model_module": "@jupyter-widgets/controls",
          "model_name": "FloatProgressModel",
          "model_module_version": "1.5.0",
          "state": {
            "_dom_classes": [],
            "_model_module": "@jupyter-widgets/controls",
            "_model_module_version": "1.5.0",
            "_model_name": "FloatProgressModel",
            "_view_count": null,
            "_view_module": "@jupyter-widgets/controls",
            "_view_module_version": "1.5.0",
            "_view_name": "ProgressView",
            "bar_style": "success",
            "description": "",
            "description_tooltip": null,
            "layout": "IPY_MODEL_00c333ca691c475997dd32472110a373",
            "max": 10,
            "min": 0,
            "orientation": "horizontal",
            "style": "IPY_MODEL_9c42bd3eceb043b1b8dc4f2d521aeb3e",
            "value": 10
          }
        },
        "0837a6ef395b41e49a3b84e9bc897528": {
          "model_module": "@jupyter-widgets/controls",
          "model_name": "HTMLModel",
          "model_module_version": "1.5.0",
          "state": {
            "_dom_classes": [],
            "_model_module": "@jupyter-widgets/controls",
            "_model_module_version": "1.5.0",
            "_model_name": "HTMLModel",
            "_view_count": null,
            "_view_module": "@jupyter-widgets/controls",
            "_view_module_version": "1.5.0",
            "_view_name": "HTMLView",
            "description": "",
            "description_tooltip": null,
            "layout": "IPY_MODEL_62af7f7c4e6d4fb0be24c4ee5ab5fa84",
            "placeholder": "​",
            "style": "IPY_MODEL_c6ea0892460c4f0ea96f684e634e039c",
            "value": " 10/10 [00:00&lt;00:00, 106.99it/s]"
          }
        },
        "a63728e2e29e41cfb70b38a6754035f9": {
          "model_module": "@jupyter-widgets/base",
          "model_name": "LayoutModel",
          "model_module_version": "1.2.0",
          "state": {
            "_model_module": "@jupyter-widgets/base",
            "_model_module_version": "1.2.0",
            "_model_name": "LayoutModel",
            "_view_count": null,
            "_view_module": "@jupyter-widgets/base",
            "_view_module_version": "1.2.0",
            "_view_name": "LayoutView",
            "align_content": null,
            "align_items": null,
            "align_self": null,
            "border": null,
            "bottom": null,
            "display": null,
            "flex": null,
            "flex_flow": null,
            "grid_area": null,
            "grid_auto_columns": null,
            "grid_auto_flow": null,
            "grid_auto_rows": null,
            "grid_column": null,
            "grid_gap": null,
            "grid_row": null,
            "grid_template_areas": null,
            "grid_template_columns": null,
            "grid_template_rows": null,
            "height": null,
            "justify_content": null,
            "justify_items": null,
            "left": null,
            "margin": null,
            "max_height": null,
            "max_width": null,
            "min_height": null,
            "min_width": null,
            "object_fit": null,
            "object_position": null,
            "order": null,
            "overflow": null,
            "overflow_x": null,
            "overflow_y": null,
            "padding": null,
            "right": null,
            "top": null,
            "visibility": null,
            "width": null
          }
        },
        "b953954260fd46918de1780a78938417": {
          "model_module": "@jupyter-widgets/base",
          "model_name": "LayoutModel",
          "model_module_version": "1.2.0",
          "state": {
            "_model_module": "@jupyter-widgets/base",
            "_model_module_version": "1.2.0",
            "_model_name": "LayoutModel",
            "_view_count": null,
            "_view_module": "@jupyter-widgets/base",
            "_view_module_version": "1.2.0",
            "_view_name": "LayoutView",
            "align_content": null,
            "align_items": null,
            "align_self": null,
            "border": null,
            "bottom": null,
            "display": null,
            "flex": null,
            "flex_flow": null,
            "grid_area": null,
            "grid_auto_columns": null,
            "grid_auto_flow": null,
            "grid_auto_rows": null,
            "grid_column": null,
            "grid_gap": null,
            "grid_row": null,
            "grid_template_areas": null,
            "grid_template_columns": null,
            "grid_template_rows": null,
            "height": null,
            "justify_content": null,
            "justify_items": null,
            "left": null,
            "margin": null,
            "max_height": null,
            "max_width": null,
            "min_height": null,
            "min_width": null,
            "object_fit": null,
            "object_position": null,
            "order": null,
            "overflow": null,
            "overflow_x": null,
            "overflow_y": null,
            "padding": null,
            "right": null,
            "top": null,
            "visibility": null,
            "width": null
          }
        },
        "3ef3afe8850245fc8f7f7c6edbbd24fe": {
          "model_module": "@jupyter-widgets/controls",
          "model_name": "DescriptionStyleModel",
          "model_module_version": "1.5.0",
          "state": {
            "_model_module": "@jupyter-widgets/controls",
            "_model_module_version": "1.5.0",
            "_model_name": "DescriptionStyleModel",
            "_view_count": null,
            "_view_module": "@jupyter-widgets/base",
            "_view_module_version": "1.2.0",
            "_view_name": "StyleView",
            "description_width": ""
          }
        },
        "00c333ca691c475997dd32472110a373": {
          "model_module": "@jupyter-widgets/base",
          "model_name": "LayoutModel",
          "model_module_version": "1.2.0",
          "state": {
            "_model_module": "@jupyter-widgets/base",
            "_model_module_version": "1.2.0",
            "_model_name": "LayoutModel",
            "_view_count": null,
            "_view_module": "@jupyter-widgets/base",
            "_view_module_version": "1.2.0",
            "_view_name": "LayoutView",
            "align_content": null,
            "align_items": null,
            "align_self": null,
            "border": null,
            "bottom": null,
            "display": null,
            "flex": null,
            "flex_flow": null,
            "grid_area": null,
            "grid_auto_columns": null,
            "grid_auto_flow": null,
            "grid_auto_rows": null,
            "grid_column": null,
            "grid_gap": null,
            "grid_row": null,
            "grid_template_areas": null,
            "grid_template_columns": null,
            "grid_template_rows": null,
            "height": null,
            "justify_content": null,
            "justify_items": null,
            "left": null,
            "margin": null,
            "max_height": null,
            "max_width": null,
            "min_height": null,
            "min_width": null,
            "object_fit": null,
            "object_position": null,
            "order": null,
            "overflow": null,
            "overflow_x": null,
            "overflow_y": null,
            "padding": null,
            "right": null,
            "top": null,
            "visibility": null,
            "width": null
          }
        },
        "9c42bd3eceb043b1b8dc4f2d521aeb3e": {
          "model_module": "@jupyter-widgets/controls",
          "model_name": "ProgressStyleModel",
          "model_module_version": "1.5.0",
          "state": {
            "_model_module": "@jupyter-widgets/controls",
            "_model_module_version": "1.5.0",
            "_model_name": "ProgressStyleModel",
            "_view_count": null,
            "_view_module": "@jupyter-widgets/base",
            "_view_module_version": "1.2.0",
            "_view_name": "StyleView",
            "bar_color": null,
            "description_width": ""
          }
        },
        "62af7f7c4e6d4fb0be24c4ee5ab5fa84": {
          "model_module": "@jupyter-widgets/base",
          "model_name": "LayoutModel",
          "model_module_version": "1.2.0",
          "state": {
            "_model_module": "@jupyter-widgets/base",
            "_model_module_version": "1.2.0",
            "_model_name": "LayoutModel",
            "_view_count": null,
            "_view_module": "@jupyter-widgets/base",
            "_view_module_version": "1.2.0",
            "_view_name": "LayoutView",
            "align_content": null,
            "align_items": null,
            "align_self": null,
            "border": null,
            "bottom": null,
            "display": null,
            "flex": null,
            "flex_flow": null,
            "grid_area": null,
            "grid_auto_columns": null,
            "grid_auto_flow": null,
            "grid_auto_rows": null,
            "grid_column": null,
            "grid_gap": null,
            "grid_row": null,
            "grid_template_areas": null,
            "grid_template_columns": null,
            "grid_template_rows": null,
            "height": null,
            "justify_content": null,
            "justify_items": null,
            "left": null,
            "margin": null,
            "max_height": null,
            "max_width": null,
            "min_height": null,
            "min_width": null,
            "object_fit": null,
            "object_position": null,
            "order": null,
            "overflow": null,
            "overflow_x": null,
            "overflow_y": null,
            "padding": null,
            "right": null,
            "top": null,
            "visibility": null,
            "width": null
          }
        },
        "c6ea0892460c4f0ea96f684e634e039c": {
          "model_module": "@jupyter-widgets/controls",
          "model_name": "DescriptionStyleModel",
          "model_module_version": "1.5.0",
          "state": {
            "_model_module": "@jupyter-widgets/controls",
            "_model_module_version": "1.5.0",
            "_model_name": "DescriptionStyleModel",
            "_view_count": null,
            "_view_module": "@jupyter-widgets/base",
            "_view_module_version": "1.2.0",
            "_view_name": "StyleView",
            "description_width": ""
          }
        }
      }
    }
  },
  "cells": [
    {
      "cell_type": "markdown",
      "source": [
        "# Вебинар \"Как я перестал беспокоиться и полюбил Пуассон-Bootstrap\" (канал karpov.courses, автор Валерий Бабушкин)"
      ],
      "metadata": {
        "id": "2lsH7l-iCOw5"
      }
    },
    {
      "cell_type": "code",
      "source": [
        "import os\n",
        "import numpy as np\n",
        "from typing import Tuple, List\n",
        "import multiprocessing as mp\n",
        "from tqdm.notebook import tqdm"
      ],
      "metadata": {
        "id": "ZaICHrzlyLmr"
      },
      "execution_count": 1,
      "outputs": []
    },
    {
      "cell_type": "markdown",
      "source": [
        "### Тест"
      ],
      "metadata": {
        "id": "Zty0-QeKCFNw"
      }
    },
    {
      "cell_type": "code",
      "source": [
        "B = 10\n",
        "N = 2"
      ],
      "metadata": {
        "id": "KWk3jTjvB-o5"
      },
      "execution_count": 2,
      "outputs": []
    },
    {
      "cell_type": "code",
      "source": [
        "def poisson_b(B):\n",
        "  sampled = np.random.poisson(1,B)\n",
        "  return sampled"
      ],
      "metadata": {
        "id": "3g2ZRl9PCEiA"
      },
      "execution_count": 3,
      "outputs": []
    },
    {
      "cell_type": "code",
      "source": [
        "def binomial_b(N):\n",
        "  list_sampled = []\n",
        "  for _ in range(B):\n",
        "    sampled = np.random.binomial(N,1./N)\n",
        "    list_sampled.append(sampled)\n",
        "  return list_sampled"
      ],
      "metadata": {
        "id": "qCgHVJ6CC3ea"
      },
      "execution_count": 4,
      "outputs": []
    },
    {
      "cell_type": "code",
      "source": [
        "%%time\n",
        "l1 = list(map(poisson_b,[B for _ in range(N)]))"
      ],
      "metadata": {
        "colab": {
          "base_uri": "https://localhost:8080/"
        },
        "id": "CgU3RkNiDY4g",
        "outputId": "eb277dc7-2480-4453-8e76-4be75dcfe6b3"
      },
      "execution_count": 5,
      "outputs": [
        {
          "output_type": "stream",
          "name": "stdout",
          "text": [
            "CPU times: user 0 ns, sys: 241 µs, total: 241 µs\n",
            "Wall time: 249 µs\n"
          ]
        }
      ]
    },
    {
      "cell_type": "code",
      "source": [
        "print(l1)"
      ],
      "metadata": {
        "colab": {
          "base_uri": "https://localhost:8080/"
        },
        "id": "kRXD1ZmSLYOK",
        "outputId": "1b46256f-085b-44e0-9a12-b288b5c94bd3"
      },
      "execution_count": 6,
      "outputs": [
        {
          "output_type": "stream",
          "name": "stdout",
          "text": [
            "[array([1, 1, 2, 0, 1, 1, 0, 0, 1, 0]), array([1, 0, 1, 2, 0, 0, 1, 2, 1, 0])]\n"
          ]
        }
      ]
    },
    {
      "cell_type": "code",
      "source": [
        "%%time\n",
        "l2 = list(map(binomial_b,[N for _ in range(N)]))"
      ],
      "metadata": {
        "colab": {
          "base_uri": "https://localhost:8080/"
        },
        "id": "HYES9vgBDlvA",
        "outputId": "f2a7a6d3-ef3b-42c1-d21a-ed44c78d320b"
      },
      "execution_count": 7,
      "outputs": [
        {
          "output_type": "stream",
          "name": "stdout",
          "text": [
            "CPU times: user 211 µs, sys: 0 ns, total: 211 µs\n",
            "Wall time: 217 µs\n"
          ]
        }
      ]
    },
    {
      "cell_type": "code",
      "source": [
        "print(l2)"
      ],
      "metadata": {
        "colab": {
          "base_uri": "https://localhost:8080/"
        },
        "id": "HkAHojqzNOuR",
        "outputId": "725de6f3-fab9-4ed1-bf7e-12030b68aebb"
      },
      "execution_count": 8,
      "outputs": [
        {
          "output_type": "stream",
          "name": "stdout",
          "text": [
            "[[2, 1, 0, 1, 1, 0, 1, 2, 1, 0], [1, 1, 2, 2, 1, 1, 0, 0, 2, 2]]\n"
          ]
        }
      ]
    },
    {
      "cell_type": "markdown",
      "source": [
        "### Пример из вебинара"
      ],
      "metadata": {
        "id": "lUiFrNdKCKJA"
      }
    },
    {
      "cell_type": "code",
      "source": [
        "N_bootstraps: int = 100\n",
        "def poisson_bootstrap_tp_fp_fn_tn(\n",
        "    bundle: Tuple[float, List[Tuple[float, float, float, int]]],\n",
        "                                 ) ->List[np.ndarray]:\n",
        "    threshold, data = bundle\n",
        "    TP = np.zeros((N_bootstraps))\n",
        "    FP = np.zeros((N_bootstraps))\n",
        "    FN = np.zeros((N_bootstraps))\n",
        "    TN = np.zeros((N_bootstraps))\n",
        "    for current_label, current_predict, weight, index in data:\n",
        "        np.random.seed(index)\n",
        "        current_predict += np.random.normal(0,0.0125,1)\n",
        "        current_predict = int(np.clip(current_predict,0,1) >= threshold)\n",
        "        p_sample = np.random.poisson(1, N_bootstraps) * weight\n",
        "        \n",
        "        if current_label == 1 and current_predict == 1:\n",
        "            TP += p_sample\n",
        "        if current_label == 1 and current_predict == 0:\n",
        "            FN += p_sample\n",
        "        if current_label == 0 and current_predict == 1:\n",
        "            FP += p_sample\n",
        "        if current_label == 0 and current_predict == 0:\n",
        "            TN += p_sample\n",
        "            \n",
        "    return [TP, FP, FN, TN]"
      ],
      "metadata": {
        "id": "UOIZJ4RAzolo"
      },
      "execution_count": 9,
      "outputs": []
    },
    {
      "cell_type": "code",
      "source": [
        "N = 100\n",
        "labels = np.random.randint(0,2,N)\n",
        "predicts = np.clip(np.random.normal(0.5,1,N),0,1)\n",
        "weights = np.array([1 for _ in range(N)])\n",
        "\n",
        "print(labels[:10])\n",
        "print(predicts[:10])\n",
        "print(weights[:10])"
      ],
      "metadata": {
        "colab": {
          "base_uri": "https://localhost:8080/"
        },
        "id": "ArJ4SEHH0vYY",
        "outputId": "23f80db3-90af-415b-936f-4d81dbbf5508"
      },
      "execution_count": 10,
      "outputs": [
        {
          "output_type": "stream",
          "name": "stdout",
          "text": [
            "[1 1 0 0 1 1 0 1 0 1]\n",
            "[0.         0.75077398 0.14852907 1.         0.         0.73624778\n",
            " 0.         0.55996524 0.         1.        ]\n",
            "[1 1 1 1 1 1 1 1 1 1]\n"
          ]
        }
      ]
    },
    {
      "cell_type": "code",
      "source": [
        "chunk_size = 10\n",
        "threshold = 0.81\n",
        "generator = (\n",
        "    (\n",
        "        threshold,\n",
        "        [\n",
        "            (labels[x + y],\n",
        "             predicts[x + y],\n",
        "             weights[x + y],\n",
        "             x + y,\n",
        "            )\n",
        "    \n",
        "        for x in range(chunk_size)\n",
        "        if x+y < N\n",
        "        ],\n",
        "        \n",
        "    )\n",
        "        for y in range(0,N,chunk_size)\n",
        "\n",
        ")"
      ],
      "metadata": {
        "id": "e3UwPmKK08Zg"
      },
      "execution_count": 11,
      "outputs": []
    },
    {
      "cell_type": "code",
      "source": [
        "cpu_to_use = np.max([os.cpu_count()-1,1])\n",
        "print(cpu_to_use)\n",
        "\n",
        "with mp.Pool(processes=cpu_to_use) as pool:\n",
        "    stat_list = list(tqdm(pool.imap(poisson_bootstrap_tp_fp_fn_tn, generator),\n",
        "                    total = N//chunk_size))\n",
        "\n",
        "TP, FP, FN, TN = np.sum(stat_list,0)\n",
        "print(TP,FP,FN,TN)"
      ],
      "metadata": {
        "colab": {
          "base_uri": "https://localhost:8080/",
          "height": 431,
          "referenced_widgets": [
            "9ddebf34c5a94300923fa09440668791",
            "49dcbf3ec0304f409417b113c9adc128",
            "58f0bbc50a1244fe85df56d28e984200",
            "0837a6ef395b41e49a3b84e9bc897528",
            "a63728e2e29e41cfb70b38a6754035f9",
            "b953954260fd46918de1780a78938417",
            "3ef3afe8850245fc8f7f7c6edbbd24fe",
            "00c333ca691c475997dd32472110a373",
            "9c42bd3eceb043b1b8dc4f2d521aeb3e",
            "62af7f7c4e6d4fb0be24c4ee5ab5fa84",
            "c6ea0892460c4f0ea96f684e634e039c"
          ]
        },
        "id": "-F6jN-cX1IkJ",
        "outputId": "624658da-a02d-48ce-f696-a3fd20715518"
      },
      "execution_count": 12,
      "outputs": [
        {
          "output_type": "stream",
          "name": "stdout",
          "text": [
            "1\n"
          ]
        },
        {
          "output_type": "display_data",
          "data": {
            "text/plain": [
              "  0%|          | 0/10 [00:00<?, ?it/s]"
            ],
            "application/vnd.jupyter.widget-view+json": {
              "version_major": 2,
              "version_minor": 0,
              "model_id": "9ddebf34c5a94300923fa09440668791"
            }
          },
          "metadata": {}
        },
        {
          "output_type": "stream",
          "name": "stdout",
          "text": [
            "[31. 28. 30. 34. 23. 24. 25. 23. 34. 28. 21. 31. 42. 28. 37. 18. 25. 31.\n",
            " 27. 26. 29. 23. 29. 28. 22. 39. 23. 25. 26. 30. 32. 28. 24. 24. 16. 20.\n",
            " 28. 26. 26. 33. 21. 12. 31. 21. 25. 30. 24. 21. 24. 26. 21. 26. 20. 34.\n",
            " 28. 22. 30. 27. 20. 23. 28. 28. 32. 24. 16. 24. 42. 24. 30. 32. 27. 31.\n",
            " 29. 23. 23. 29. 26. 30. 26. 29. 26. 40. 25. 25. 21. 30. 27. 33. 36. 32.\n",
            " 34. 32. 34. 30. 26. 31. 20. 29. 24. 28.] [18. 17. 19. 12. 11. 19. 12. 14. 20. 16. 21. 13. 11. 19. 10. 23. 12. 14.\n",
            " 12. 23. 15. 17. 16. 20. 12. 17. 19. 15. 17. 23. 16. 16. 12. 18. 16. 16.\n",
            " 15. 22. 17. 13. 24. 15. 13. 15. 13. 25. 14.  8. 16. 21. 10. 18. 14. 19.\n",
            " 14. 15. 20. 20. 15. 20. 16. 17. 11. 11. 19. 25. 14. 17. 14. 26.  8. 20.\n",
            " 19. 10. 19. 21. 20. 13. 16. 18. 18. 16. 19. 14. 13. 11. 22. 11. 17. 13.\n",
            " 16. 13. 18. 15. 12. 18. 16. 13. 13. 16.] [16. 17. 20. 19. 24. 21. 15. 21. 22. 20. 19. 18. 19. 26. 26. 26. 21. 15.\n",
            " 27. 14. 24. 19. 18. 17. 20. 23. 27. 23. 17. 24. 37. 29. 19. 18. 27. 27.\n",
            " 21. 27. 17. 28. 31. 22. 35. 31. 27. 26. 23. 22. 23. 27. 25. 32. 32. 18.\n",
            " 24. 27. 23. 20. 24. 26. 27. 22. 24. 21. 26. 25. 12. 24. 30. 18. 11. 16.\n",
            " 25. 23. 16. 27. 22. 19. 29. 23. 27. 19. 19. 25. 16. 16. 27. 23. 21. 17.\n",
            " 25. 16. 23. 15. 25. 16. 28. 25. 27. 30.] [28. 26. 36. 32. 39. 33. 29. 32. 29. 31. 27. 31. 30. 37. 22. 29. 25. 26.\n",
            " 38. 32. 35. 32. 31. 33. 38. 40. 29. 33. 39. 28. 36. 33. 32. 35. 32. 34.\n",
            " 28. 34. 38. 34. 28. 15. 40. 27. 26. 29. 41. 27. 45. 21. 34. 34. 26. 25.\n",
            " 35. 42. 29. 30. 35. 28. 33. 29. 33. 33. 21. 30. 30. 34. 31. 33. 23. 25.\n",
            " 26. 24. 38. 38. 41. 31. 35. 33. 34. 30. 25. 18. 33. 31. 29. 27. 31. 36.\n",
            " 29. 25. 17. 28. 32. 36. 25. 27. 30. 29.]\n"
          ]
        }
      ]
    }
  ]
}