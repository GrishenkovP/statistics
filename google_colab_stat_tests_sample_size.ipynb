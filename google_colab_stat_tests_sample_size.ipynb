{
  "nbformat": 4,
  "nbformat_minor": 0,
  "metadata": {
    "colab": {
      "provenance": []
    },
    "kernelspec": {
      "name": "python3",
      "display_name": "Python 3"
    },
    "language_info": {
      "name": "python"
    },
    "widgets": {
      "application/vnd.jupyter.widget-state+json": {
        "3a26800c3df44478b00225ed86e44431": {
          "model_module": "@jupyter-widgets/controls",
          "model_name": "HBoxModel",
          "model_module_version": "1.5.0",
          "state": {
            "_dom_classes": [],
            "_model_module": "@jupyter-widgets/controls",
            "_model_module_version": "1.5.0",
            "_model_name": "HBoxModel",
            "_view_count": null,
            "_view_module": "@jupyter-widgets/controls",
            "_view_module_version": "1.5.0",
            "_view_name": "HBoxView",
            "box_style": "",
            "children": [
              "IPY_MODEL_8299c19d08ef406c9257b77b3f50d798",
              "IPY_MODEL_784d698f41a540d187df585cddfc302f",
              "IPY_MODEL_4b209b29526c41df992917003d486047"
            ],
            "layout": "IPY_MODEL_c24163ce91d142d4ab7c85701d7436d0"
          }
        },
        "8299c19d08ef406c9257b77b3f50d798": {
          "model_module": "@jupyter-widgets/controls",
          "model_name": "HTMLModel",
          "model_module_version": "1.5.0",
          "state": {
            "_dom_classes": [],
            "_model_module": "@jupyter-widgets/controls",
            "_model_module_version": "1.5.0",
            "_model_name": "HTMLModel",
            "_view_count": null,
            "_view_module": "@jupyter-widgets/controls",
            "_view_module_version": "1.5.0",
            "_view_name": "HTMLView",
            "description": "",
            "description_tooltip": null,
            "layout": "IPY_MODEL_96aac82cd8e949df8be9954ac96b9eda",
            "placeholder": "​",
            "style": "IPY_MODEL_55c6525e7b3f4f8a9849bf437ba67583",
            "value": "100%"
          }
        },
        "784d698f41a540d187df585cddfc302f": {
          "model_module": "@jupyter-widgets/controls",
          "model_name": "FloatProgressModel",
          "model_module_version": "1.5.0",
          "state": {
            "_dom_classes": [],
            "_model_module": "@jupyter-widgets/controls",
            "_model_module_version": "1.5.0",
            "_model_name": "FloatProgressModel",
            "_view_count": null,
            "_view_module": "@jupyter-widgets/controls",
            "_view_module_version": "1.5.0",
            "_view_name": "ProgressView",
            "bar_style": "success",
            "description": "",
            "description_tooltip": null,
            "layout": "IPY_MODEL_b5e1bbc2cb3a454db9b7ff03aeff2a85",
            "max": 10000,
            "min": 0,
            "orientation": "horizontal",
            "style": "IPY_MODEL_1ee78b58a28847a9be675bfc1202724e",
            "value": 10000
          }
        },
        "4b209b29526c41df992917003d486047": {
          "model_module": "@jupyter-widgets/controls",
          "model_name": "HTMLModel",
          "model_module_version": "1.5.0",
          "state": {
            "_dom_classes": [],
            "_model_module": "@jupyter-widgets/controls",
            "_model_module_version": "1.5.0",
            "_model_name": "HTMLModel",
            "_view_count": null,
            "_view_module": "@jupyter-widgets/controls",
            "_view_module_version": "1.5.0",
            "_view_name": "HTMLView",
            "description": "",
            "description_tooltip": null,
            "layout": "IPY_MODEL_5ccbb9c6974e45efa67033cd4d7ee9f1",
            "placeholder": "​",
            "style": "IPY_MODEL_1ff84362c8f842e6945e36b2c2ec0910",
            "value": " 10000/10000 [00:08&lt;00:00, 1274.38it/s]"
          }
        },
        "c24163ce91d142d4ab7c85701d7436d0": {
          "model_module": "@jupyter-widgets/base",
          "model_name": "LayoutModel",
          "model_module_version": "1.2.0",
          "state": {
            "_model_module": "@jupyter-widgets/base",
            "_model_module_version": "1.2.0",
            "_model_name": "LayoutModel",
            "_view_count": null,
            "_view_module": "@jupyter-widgets/base",
            "_view_module_version": "1.2.0",
            "_view_name": "LayoutView",
            "align_content": null,
            "align_items": null,
            "align_self": null,
            "border": null,
            "bottom": null,
            "display": null,
            "flex": null,
            "flex_flow": null,
            "grid_area": null,
            "grid_auto_columns": null,
            "grid_auto_flow": null,
            "grid_auto_rows": null,
            "grid_column": null,
            "grid_gap": null,
            "grid_row": null,
            "grid_template_areas": null,
            "grid_template_columns": null,
            "grid_template_rows": null,
            "height": null,
            "justify_content": null,
            "justify_items": null,
            "left": null,
            "margin": null,
            "max_height": null,
            "max_width": null,
            "min_height": null,
            "min_width": null,
            "object_fit": null,
            "object_position": null,
            "order": null,
            "overflow": null,
            "overflow_x": null,
            "overflow_y": null,
            "padding": null,
            "right": null,
            "top": null,
            "visibility": null,
            "width": null
          }
        },
        "96aac82cd8e949df8be9954ac96b9eda": {
          "model_module": "@jupyter-widgets/base",
          "model_name": "LayoutModel",
          "model_module_version": "1.2.0",
          "state": {
            "_model_module": "@jupyter-widgets/base",
            "_model_module_version": "1.2.0",
            "_model_name": "LayoutModel",
            "_view_count": null,
            "_view_module": "@jupyter-widgets/base",
            "_view_module_version": "1.2.0",
            "_view_name": "LayoutView",
            "align_content": null,
            "align_items": null,
            "align_self": null,
            "border": null,
            "bottom": null,
            "display": null,
            "flex": null,
            "flex_flow": null,
            "grid_area": null,
            "grid_auto_columns": null,
            "grid_auto_flow": null,
            "grid_auto_rows": null,
            "grid_column": null,
            "grid_gap": null,
            "grid_row": null,
            "grid_template_areas": null,
            "grid_template_columns": null,
            "grid_template_rows": null,
            "height": null,
            "justify_content": null,
            "justify_items": null,
            "left": null,
            "margin": null,
            "max_height": null,
            "max_width": null,
            "min_height": null,
            "min_width": null,
            "object_fit": null,
            "object_position": null,
            "order": null,
            "overflow": null,
            "overflow_x": null,
            "overflow_y": null,
            "padding": null,
            "right": null,
            "top": null,
            "visibility": null,
            "width": null
          }
        },
        "55c6525e7b3f4f8a9849bf437ba67583": {
          "model_module": "@jupyter-widgets/controls",
          "model_name": "DescriptionStyleModel",
          "model_module_version": "1.5.0",
          "state": {
            "_model_module": "@jupyter-widgets/controls",
            "_model_module_version": "1.5.0",
            "_model_name": "DescriptionStyleModel",
            "_view_count": null,
            "_view_module": "@jupyter-widgets/base",
            "_view_module_version": "1.2.0",
            "_view_name": "StyleView",
            "description_width": ""
          }
        },
        "b5e1bbc2cb3a454db9b7ff03aeff2a85": {
          "model_module": "@jupyter-widgets/base",
          "model_name": "LayoutModel",
          "model_module_version": "1.2.0",
          "state": {
            "_model_module": "@jupyter-widgets/base",
            "_model_module_version": "1.2.0",
            "_model_name": "LayoutModel",
            "_view_count": null,
            "_view_module": "@jupyter-widgets/base",
            "_view_module_version": "1.2.0",
            "_view_name": "LayoutView",
            "align_content": null,
            "align_items": null,
            "align_self": null,
            "border": null,
            "bottom": null,
            "display": null,
            "flex": null,
            "flex_flow": null,
            "grid_area": null,
            "grid_auto_columns": null,
            "grid_auto_flow": null,
            "grid_auto_rows": null,
            "grid_column": null,
            "grid_gap": null,
            "grid_row": null,
            "grid_template_areas": null,
            "grid_template_columns": null,
            "grid_template_rows": null,
            "height": null,
            "justify_content": null,
            "justify_items": null,
            "left": null,
            "margin": null,
            "max_height": null,
            "max_width": null,
            "min_height": null,
            "min_width": null,
            "object_fit": null,
            "object_position": null,
            "order": null,
            "overflow": null,
            "overflow_x": null,
            "overflow_y": null,
            "padding": null,
            "right": null,
            "top": null,
            "visibility": null,
            "width": null
          }
        },
        "1ee78b58a28847a9be675bfc1202724e": {
          "model_module": "@jupyter-widgets/controls",
          "model_name": "ProgressStyleModel",
          "model_module_version": "1.5.0",
          "state": {
            "_model_module": "@jupyter-widgets/controls",
            "_model_module_version": "1.5.0",
            "_model_name": "ProgressStyleModel",
            "_view_count": null,
            "_view_module": "@jupyter-widgets/base",
            "_view_module_version": "1.2.0",
            "_view_name": "StyleView",
            "bar_color": null,
            "description_width": ""
          }
        },
        "5ccbb9c6974e45efa67033cd4d7ee9f1": {
          "model_module": "@jupyter-widgets/base",
          "model_name": "LayoutModel",
          "model_module_version": "1.2.0",
          "state": {
            "_model_module": "@jupyter-widgets/base",
            "_model_module_version": "1.2.0",
            "_model_name": "LayoutModel",
            "_view_count": null,
            "_view_module": "@jupyter-widgets/base",
            "_view_module_version": "1.2.0",
            "_view_name": "LayoutView",
            "align_content": null,
            "align_items": null,
            "align_self": null,
            "border": null,
            "bottom": null,
            "display": null,
            "flex": null,
            "flex_flow": null,
            "grid_area": null,
            "grid_auto_columns": null,
            "grid_auto_flow": null,
            "grid_auto_rows": null,
            "grid_column": null,
            "grid_gap": null,
            "grid_row": null,
            "grid_template_areas": null,
            "grid_template_columns": null,
            "grid_template_rows": null,
            "height": null,
            "justify_content": null,
            "justify_items": null,
            "left": null,
            "margin": null,
            "max_height": null,
            "max_width": null,
            "min_height": null,
            "min_width": null,
            "object_fit": null,
            "object_position": null,
            "order": null,
            "overflow": null,
            "overflow_x": null,
            "overflow_y": null,
            "padding": null,
            "right": null,
            "top": null,
            "visibility": null,
            "width": null
          }
        },
        "1ff84362c8f842e6945e36b2c2ec0910": {
          "model_module": "@jupyter-widgets/controls",
          "model_name": "DescriptionStyleModel",
          "model_module_version": "1.5.0",
          "state": {
            "_model_module": "@jupyter-widgets/controls",
            "_model_module_version": "1.5.0",
            "_model_name": "DescriptionStyleModel",
            "_view_count": null,
            "_view_module": "@jupyter-widgets/base",
            "_view_module_version": "1.2.0",
            "_view_name": "StyleView",
            "description_width": ""
          }
        }
      }
    }
  },
  "cells": [
    {
      "cell_type": "markdown",
      "source": [
        "# Sample Size"
      ],
      "metadata": {
        "id": "gE2kevbd9H3T"
      }
    },
    {
      "cell_type": "code",
      "metadata": {
        "id": "aNx0mCx499oM"
      },
      "source": [
        "import math\n",
        "import numpy as np\n",
        "import scipy.stats as stats\n",
        "from scipy.stats import norm\n",
        "import statsmodels.stats.api as sms\n",
        "from statsmodels.stats.proportion import proportions_ztest\n",
        "from statsmodels.stats.power import TTestIndPower\n",
        "from statsmodels.stats.power import zt_ind_solve_power\n",
        "from tqdm.notebook import tqdm"
      ],
      "execution_count": 87,
      "outputs": []
    },
    {
      "cell_type": "markdown",
      "metadata": {
        "id": "n0yAlc2S-HYZ"
      },
      "source": [
        "### Вариант 1"
      ]
    },
    {
      "cell_type": "code",
      "metadata": {
        "id": "VOdn1Tq5-Pnv"
      },
      "source": [
        "# Evan's Awesome A/B Tools - https://www.evanmiller.org/ab-testing/sample-size.html\n",
        "# https://www.evanmiller.org/ab-testing/sample-size.html#!10;80;5;1;0\n",
        "# Результат - 14313"
      ],
      "execution_count": 88,
      "outputs": []
    },
    {
      "cell_type": "markdown",
      "source": [
        "### Вариант 2"
      ],
      "metadata": {
        "id": "5ZL8QUaO9Lu-"
      }
    },
    {
      "cell_type": "code",
      "source": [
        "def calc_sample_size(alpha, power, p, pct_mde, var='Absolute'):\n",
        "    \"\"\" Based on https://www.evanmiller.org/ab-testing/sample-size.html\n",
        "\n",
        "    Args:\n",
        "        alpha (float): How often are you willing to accept a Type I error (false positive)?\n",
        "        power (float): How often do you want to correctly detect a true positive (1-beta)?\n",
        "        p (float): Base conversion rate\n",
        "        pct_mde (float): Minimum detectable effect, relative to base conversion rate.\n",
        "\n",
        "    \"\"\"\n",
        "    if var=='Absolute':\n",
        "        delta = pct_mde\n",
        "    else:\n",
        "        delta = p*pct_mde\n",
        "\n",
        "    t_alpha2 = norm.ppf(1.0-alpha/2)\n",
        "    t_beta = norm.ppf(power)\n",
        "\n",
        "    sd1 = np.sqrt(2 * p * (1.0 - p))\n",
        "    sd2 = np.sqrt(p * (1.0 - p) + (p + delta) * (1.0 - p - delta))\n",
        "\n",
        "    return (t_alpha2 * sd1 + t_beta * sd2) * (t_alpha2 * sd1 + t_beta * sd2) / (delta * delta)"
      ],
      "metadata": {
        "id": "CBtswED99YVz"
      },
      "execution_count": 89,
      "outputs": []
    },
    {
      "cell_type": "code",
      "source": [
        "calc_sample_size(0.05,0.8,0.1,0.01)"
      ],
      "metadata": {
        "colab": {
          "base_uri": "https://localhost:8080/"
        },
        "id": "pgQPumOZ9mrC",
        "outputId": "dec53369-4f35-4c98-bd13-10a83e007941"
      },
      "execution_count": 90,
      "outputs": [
        {
          "output_type": "execute_result",
          "data": {
            "text/plain": [
              "14312.856241916566"
            ]
          },
          "metadata": {},
          "execution_count": 90
        }
      ]
    },
    {
      "cell_type": "code",
      "source": [
        "# Проверка\n",
        "\n",
        "n = 10000\n",
        "res = []\n",
        "for _ in tqdm(range(n)):\n",
        "\n",
        "  p1 = np.random.binomial(1,0.10,14313)\n",
        "  p2 = np.random.binomial(1,0.11,14313)\n",
        "\n",
        "  cnts = [p1.sum(),p2.sum()]\n",
        "  nobs = [len(p1),len(p2)]\n",
        "  pval = proportions_ztest(cnts,nobs)[1]\n",
        "  res.append(pval <= 0.05)\n",
        "np.mean(res)"
      ],
      "metadata": {
        "colab": {
          "base_uri": "https://localhost:8080/",
          "height": 66,
          "referenced_widgets": [
            "3a26800c3df44478b00225ed86e44431",
            "8299c19d08ef406c9257b77b3f50d798",
            "784d698f41a540d187df585cddfc302f",
            "4b209b29526c41df992917003d486047",
            "c24163ce91d142d4ab7c85701d7436d0",
            "96aac82cd8e949df8be9954ac96b9eda",
            "55c6525e7b3f4f8a9849bf437ba67583",
            "b5e1bbc2cb3a454db9b7ff03aeff2a85",
            "1ee78b58a28847a9be675bfc1202724e",
            "5ccbb9c6974e45efa67033cd4d7ee9f1",
            "1ff84362c8f842e6945e36b2c2ec0910"
          ]
        },
        "id": "jgJZdwNrsrUB",
        "outputId": "b42fc992-be59-49f8-d7cd-8397973a28ea"
      },
      "execution_count": 91,
      "outputs": [
        {
          "output_type": "display_data",
          "data": {
            "text/plain": [
              "  0%|          | 0/10000 [00:00<?, ?it/s]"
            ],
            "application/vnd.jupyter.widget-view+json": {
              "version_major": 2,
              "version_minor": 0,
              "model_id": "3a26800c3df44478b00225ed86e44431"
            }
          },
          "metadata": {}
        },
        {
          "output_type": "execute_result",
          "data": {
            "text/plain": [
              "0.7845"
            ]
          },
          "metadata": {},
          "execution_count": 91
        }
      ]
    },
    {
      "cell_type": "markdown",
      "source": [
        "### Вариант 3"
      ],
      "metadata": {
        "id": "kEHIEXxkFO2m"
      }
    },
    {
      "cell_type": "code",
      "source": [
        "baseline_rate = 0.1\n",
        "practical_significance = 0.01\n",
        "confidence_level = 0.05\n",
        "sensitivity = 0.8\n",
        "\n",
        "effect_size = sms.proportion_effectsize(baseline_rate, baseline_rate + practical_significance,)\n",
        "print(effect_size)"
      ],
      "metadata": {
        "colab": {
          "base_uri": "https://localhost:8080/"
        },
        "id": "AJaSepWkEEZn",
        "outputId": "5bbd4996-b5fb-45da-bcb1-bd1504508af8"
      },
      "execution_count": 92,
      "outputs": [
        {
          "output_type": "stream",
          "name": "stdout",
          "text": [
            "-0.03262940076737697\n"
          ]
        }
      ]
    },
    {
      "cell_type": "code",
      "source": [
        "n_0, n_a = 14313, 14313   # размеры выборок\n",
        "p_0, p_a = 0.1, 0.11  # доли\n",
        "\n",
        "# дисперсии\n",
        "var_0, var_a = p_0 * (1 - p_0),  p_a * (1 - p_a)\n",
        "\n",
        "# стандартизированный размер эффекта\n",
        "(p_a - p_0) / ((n_0 * np.sqrt(var_0) + n_a * np.sqrt(var_a)) / (n_0 + n_a))"
      ],
      "metadata": {
        "colab": {
          "base_uri": "https://localhost:8080/"
        },
        "id": "NDTzqSOEId1y",
        "outputId": "3af72f31-29d7-408a-9faf-92d168546804"
      },
      "execution_count": 93,
      "outputs": [
        {
          "output_type": "execute_result",
          "data": {
            "text/plain": [
              "0.03263229605883621"
            ]
          },
          "metadata": {},
          "execution_count": 93
        }
      ]
    },
    {
      "cell_type": "code",
      "source": [
        "sms.NormalIndPower().solve_power(effect_size = effect_size,\n",
        "                                 power = sensitivity,\n",
        "                                 alpha = confidence_level,\n",
        "                                 ratio=1)"
      ],
      "metadata": {
        "colab": {
          "base_uri": "https://localhost:8080/"
        },
        "id": "n00uLEq4EEV5",
        "outputId": "f9611bd6-b172-4b38-9425-1de061952c48"
      },
      "execution_count": 94,
      "outputs": [
        {
          "output_type": "execute_result",
          "data": {
            "text/plain": [
              "14744.104836925611"
            ]
          },
          "metadata": {},
          "execution_count": 94
        }
      ]
    },
    {
      "cell_type": "code",
      "source": [
        "TTestIndPower().solve_power(effect_size,\n",
        "                            power=sensitivity,\n",
        "                            nobs1=None,\n",
        "                            alpha=confidence_level,\n",
        "                            ratio=1\n",
        "                            )"
      ],
      "metadata": {
        "colab": {
          "base_uri": "https://localhost:8080/"
        },
        "id": "yLH2mCk4EEQB",
        "outputId": "cf61f809-40b3-48a0-a50c-6f352025ef70"
      },
      "execution_count": 95,
      "outputs": [
        {
          "output_type": "execute_result",
          "data": {
            "text/plain": [
              "14745.065479705505"
            ]
          },
          "metadata": {},
          "execution_count": 95
        }
      ]
    },
    {
      "cell_type": "code",
      "source": [
        "zt_ind_solve_power(effect_size=effect_size,\n",
        "                   nobs1=None,\n",
        "                   alpha=confidence_level,\n",
        "                   power=sensitivity,\n",
        "                   ratio=1,\n",
        "                   alternative='two-sided')\n"
      ],
      "metadata": {
        "colab": {
          "base_uri": "https://localhost:8080/"
        },
        "id": "FVqeHCjzEEM6",
        "outputId": "cb65d859-c2c6-4cb4-f112-1d21dbfebc70"
      },
      "execution_count": 96,
      "outputs": [
        {
          "output_type": "execute_result",
          "data": {
            "text/plain": [
              "14744.104836925611"
            ]
          },
          "metadata": {},
          "execution_count": 96
        }
      ]
    },
    {
      "cell_type": "markdown",
      "source": [
        "### Вариант 4"
      ],
      "metadata": {
        "id": "j0RPMxsB5bST"
      }
    },
    {
      "cell_type": "markdown",
      "source": [
        "Публикация \"Стратификация. Как разбиение выборки повышает чувствительность A/B теста\", X5RetailGroup, Хабр. Авторы Николай Назаров, Александр Сахнов"
      ],
      "metadata": {
        "id": "gTJoc7Mc5veD"
      }
    },
    {
      "cell_type": "markdown",
      "source": [
        "Вероятности ошибок I и II рода положим равными 0.05 и 0.20 соответственно. Допустим, для пользователей, попадающих под условия эксперимента, на исторических данных мы получили оценку средней выручки (2500 рублей) и оценку её стандартного отклонения (800 рублей). После рассылки писем будем ожидать, что выручка увеличится минимум на 100 рублей."
      ],
      "metadata": {
        "id": "XC9zjRab6Ry7"
      }
    },
    {
      "cell_type": "code",
      "source": [
        "alpha = 0.05                    # вероятность ошибки I рода\n",
        "beta = 0.2                      # вероятность ошибки II рода\n",
        "mu_control = 2500               # средняя выручка с пользователя в контрольной группе\n",
        "delta = 0.04                    # размер эффекта (100 руб = 4 процента от 2500 руб )\n",
        "std = 800                       # стандартное отклонение\n",
        "\n",
        "mu_pilot = mu_control* (1 + delta) # средняя выручка с пользователя в экспериментальной группе\n",
        "effect = mu_pilot - mu_control\n",
        "t_alpha = stats.norm.ppf(1 - alpha / 2, loc=0, scale=1)\n",
        "t_beta = stats.norm.ppf(1 - beta, loc=0, scale=1)\n",
        "var = 2 * std ** 2\n",
        "sample_size = int((t_alpha + t_beta) ** 2 * var / (effect ** 2))\n",
        "print(f'sample_size = {sample_size}')"
      ],
      "metadata": {
        "id": "tzUjAHYG5nID",
        "colab": {
          "base_uri": "https://localhost:8080/"
        },
        "outputId": "7b8b6bc4-2de7-4fd8-ae0f-2738a59ba7a7"
      },
      "execution_count": 97,
      "outputs": [
        {
          "output_type": "stream",
          "name": "stdout",
          "text": [
            "sample_size = 1004\n"
          ]
        }
      ]
    }
  ]
}
