{
  "nbformat": 4,
  "nbformat_minor": 0,
  "metadata": {
    "colab": {
      "provenance": [],
      "collapsed_sections": []
    },
    "kernelspec": {
      "name": "python3",
      "display_name": "Python 3"
    },
    "language_info": {
      "name": "python"
    },
    "widgets": {
      "application/vnd.jupyter.widget-state+json": {
        "a3b3ce977cb64bb98488af75f4fdf208": {
          "model_module": "@jupyter-widgets/controls",
          "model_name": "HBoxModel",
          "model_module_version": "1.5.0",
          "state": {
            "_dom_classes": [],
            "_model_module": "@jupyter-widgets/controls",
            "_model_module_version": "1.5.0",
            "_model_name": "HBoxModel",
            "_view_count": null,
            "_view_module": "@jupyter-widgets/controls",
            "_view_module_version": "1.5.0",
            "_view_name": "HBoxView",
            "box_style": "",
            "children": [
              "IPY_MODEL_62906be13cb448d698660c0b44e8ac62",
              "IPY_MODEL_384c22b3b4db4ca493dd4d751c1292c1",
              "IPY_MODEL_ad6c0ced82a543ae8490b9c900f14a79"
            ],
            "layout": "IPY_MODEL_f3886dcb6e98410aa86fe9429626644d"
          }
        },
        "62906be13cb448d698660c0b44e8ac62": {
          "model_module": "@jupyter-widgets/controls",
          "model_name": "HTMLModel",
          "model_module_version": "1.5.0",
          "state": {
            "_dom_classes": [],
            "_model_module": "@jupyter-widgets/controls",
            "_model_module_version": "1.5.0",
            "_model_name": "HTMLModel",
            "_view_count": null,
            "_view_module": "@jupyter-widgets/controls",
            "_view_module_version": "1.5.0",
            "_view_name": "HTMLView",
            "description": "",
            "description_tooltip": null,
            "layout": "IPY_MODEL_b78cf9d99a3b48f68c1d320589dace07",
            "placeholder": "​",
            "style": "IPY_MODEL_8c3f073143894719acdf6412ff1e4563",
            "value": "100%"
          }
        },
        "384c22b3b4db4ca493dd4d751c1292c1": {
          "model_module": "@jupyter-widgets/controls",
          "model_name": "FloatProgressModel",
          "model_module_version": "1.5.0",
          "state": {
            "_dom_classes": [],
            "_model_module": "@jupyter-widgets/controls",
            "_model_module_version": "1.5.0",
            "_model_name": "FloatProgressModel",
            "_view_count": null,
            "_view_module": "@jupyter-widgets/controls",
            "_view_module_version": "1.5.0",
            "_view_name": "ProgressView",
            "bar_style": "success",
            "description": "",
            "description_tooltip": null,
            "layout": "IPY_MODEL_7b4c230d63e04608aab9d6845de7afb0",
            "max": 10000,
            "min": 0,
            "orientation": "horizontal",
            "style": "IPY_MODEL_81463803b7de4416af7d7e6a24665789",
            "value": 10000
          }
        },
        "ad6c0ced82a543ae8490b9c900f14a79": {
          "model_module": "@jupyter-widgets/controls",
          "model_name": "HTMLModel",
          "model_module_version": "1.5.0",
          "state": {
            "_dom_classes": [],
            "_model_module": "@jupyter-widgets/controls",
            "_model_module_version": "1.5.0",
            "_model_name": "HTMLModel",
            "_view_count": null,
            "_view_module": "@jupyter-widgets/controls",
            "_view_module_version": "1.5.0",
            "_view_name": "HTMLView",
            "description": "",
            "description_tooltip": null,
            "layout": "IPY_MODEL_bc0281336f884d998d98b724f8aced79",
            "placeholder": "​",
            "style": "IPY_MODEL_e6bc3ff4e68d4fed9e150f892fe76f3e",
            "value": " 10000/10000 [00:14&lt;00:00, 1031.48it/s]"
          }
        },
        "f3886dcb6e98410aa86fe9429626644d": {
          "model_module": "@jupyter-widgets/base",
          "model_name": "LayoutModel",
          "model_module_version": "1.2.0",
          "state": {
            "_model_module": "@jupyter-widgets/base",
            "_model_module_version": "1.2.0",
            "_model_name": "LayoutModel",
            "_view_count": null,
            "_view_module": "@jupyter-widgets/base",
            "_view_module_version": "1.2.0",
            "_view_name": "LayoutView",
            "align_content": null,
            "align_items": null,
            "align_self": null,
            "border": null,
            "bottom": null,
            "display": null,
            "flex": null,
            "flex_flow": null,
            "grid_area": null,
            "grid_auto_columns": null,
            "grid_auto_flow": null,
            "grid_auto_rows": null,
            "grid_column": null,
            "grid_gap": null,
            "grid_row": null,
            "grid_template_areas": null,
            "grid_template_columns": null,
            "grid_template_rows": null,
            "height": null,
            "justify_content": null,
            "justify_items": null,
            "left": null,
            "margin": null,
            "max_height": null,
            "max_width": null,
            "min_height": null,
            "min_width": null,
            "object_fit": null,
            "object_position": null,
            "order": null,
            "overflow": null,
            "overflow_x": null,
            "overflow_y": null,
            "padding": null,
            "right": null,
            "top": null,
            "visibility": null,
            "width": null
          }
        },
        "b78cf9d99a3b48f68c1d320589dace07": {
          "model_module": "@jupyter-widgets/base",
          "model_name": "LayoutModel",
          "model_module_version": "1.2.0",
          "state": {
            "_model_module": "@jupyter-widgets/base",
            "_model_module_version": "1.2.0",
            "_model_name": "LayoutModel",
            "_view_count": null,
            "_view_module": "@jupyter-widgets/base",
            "_view_module_version": "1.2.0",
            "_view_name": "LayoutView",
            "align_content": null,
            "align_items": null,
            "align_self": null,
            "border": null,
            "bottom": null,
            "display": null,
            "flex": null,
            "flex_flow": null,
            "grid_area": null,
            "grid_auto_columns": null,
            "grid_auto_flow": null,
            "grid_auto_rows": null,
            "grid_column": null,
            "grid_gap": null,
            "grid_row": null,
            "grid_template_areas": null,
            "grid_template_columns": null,
            "grid_template_rows": null,
            "height": null,
            "justify_content": null,
            "justify_items": null,
            "left": null,
            "margin": null,
            "max_height": null,
            "max_width": null,
            "min_height": null,
            "min_width": null,
            "object_fit": null,
            "object_position": null,
            "order": null,
            "overflow": null,
            "overflow_x": null,
            "overflow_y": null,
            "padding": null,
            "right": null,
            "top": null,
            "visibility": null,
            "width": null
          }
        },
        "8c3f073143894719acdf6412ff1e4563": {
          "model_module": "@jupyter-widgets/controls",
          "model_name": "DescriptionStyleModel",
          "model_module_version": "1.5.0",
          "state": {
            "_model_module": "@jupyter-widgets/controls",
            "_model_module_version": "1.5.0",
            "_model_name": "DescriptionStyleModel",
            "_view_count": null,
            "_view_module": "@jupyter-widgets/base",
            "_view_module_version": "1.2.0",
            "_view_name": "StyleView",
            "description_width": ""
          }
        },
        "7b4c230d63e04608aab9d6845de7afb0": {
          "model_module": "@jupyter-widgets/base",
          "model_name": "LayoutModel",
          "model_module_version": "1.2.0",
          "state": {
            "_model_module": "@jupyter-widgets/base",
            "_model_module_version": "1.2.0",
            "_model_name": "LayoutModel",
            "_view_count": null,
            "_view_module": "@jupyter-widgets/base",
            "_view_module_version": "1.2.0",
            "_view_name": "LayoutView",
            "align_content": null,
            "align_items": null,
            "align_self": null,
            "border": null,
            "bottom": null,
            "display": null,
            "flex": null,
            "flex_flow": null,
            "grid_area": null,
            "grid_auto_columns": null,
            "grid_auto_flow": null,
            "grid_auto_rows": null,
            "grid_column": null,
            "grid_gap": null,
            "grid_row": null,
            "grid_template_areas": null,
            "grid_template_columns": null,
            "grid_template_rows": null,
            "height": null,
            "justify_content": null,
            "justify_items": null,
            "left": null,
            "margin": null,
            "max_height": null,
            "max_width": null,
            "min_height": null,
            "min_width": null,
            "object_fit": null,
            "object_position": null,
            "order": null,
            "overflow": null,
            "overflow_x": null,
            "overflow_y": null,
            "padding": null,
            "right": null,
            "top": null,
            "visibility": null,
            "width": null
          }
        },
        "81463803b7de4416af7d7e6a24665789": {
          "model_module": "@jupyter-widgets/controls",
          "model_name": "ProgressStyleModel",
          "model_module_version": "1.5.0",
          "state": {
            "_model_module": "@jupyter-widgets/controls",
            "_model_module_version": "1.5.0",
            "_model_name": "ProgressStyleModel",
            "_view_count": null,
            "_view_module": "@jupyter-widgets/base",
            "_view_module_version": "1.2.0",
            "_view_name": "StyleView",
            "bar_color": null,
            "description_width": ""
          }
        },
        "bc0281336f884d998d98b724f8aced79": {
          "model_module": "@jupyter-widgets/base",
          "model_name": "LayoutModel",
          "model_module_version": "1.2.0",
          "state": {
            "_model_module": "@jupyter-widgets/base",
            "_model_module_version": "1.2.0",
            "_model_name": "LayoutModel",
            "_view_count": null,
            "_view_module": "@jupyter-widgets/base",
            "_view_module_version": "1.2.0",
            "_view_name": "LayoutView",
            "align_content": null,
            "align_items": null,
            "align_self": null,
            "border": null,
            "bottom": null,
            "display": null,
            "flex": null,
            "flex_flow": null,
            "grid_area": null,
            "grid_auto_columns": null,
            "grid_auto_flow": null,
            "grid_auto_rows": null,
            "grid_column": null,
            "grid_gap": null,
            "grid_row": null,
            "grid_template_areas": null,
            "grid_template_columns": null,
            "grid_template_rows": null,
            "height": null,
            "justify_content": null,
            "justify_items": null,
            "left": null,
            "margin": null,
            "max_height": null,
            "max_width": null,
            "min_height": null,
            "min_width": null,
            "object_fit": null,
            "object_position": null,
            "order": null,
            "overflow": null,
            "overflow_x": null,
            "overflow_y": null,
            "padding": null,
            "right": null,
            "top": null,
            "visibility": null,
            "width": null
          }
        },
        "e6bc3ff4e68d4fed9e150f892fe76f3e": {
          "model_module": "@jupyter-widgets/controls",
          "model_name": "DescriptionStyleModel",
          "model_module_version": "1.5.0",
          "state": {
            "_model_module": "@jupyter-widgets/controls",
            "_model_module_version": "1.5.0",
            "_model_name": "DescriptionStyleModel",
            "_view_count": null,
            "_view_module": "@jupyter-widgets/base",
            "_view_module_version": "1.2.0",
            "_view_name": "StyleView",
            "description_width": ""
          }
        }
      }
    }
  },
  "cells": [
    {
      "cell_type": "code",
      "metadata": {
        "id": "aNx0mCx499oM"
      },
      "source": [
        "import math\n",
        "import numpy as np\n",
        "import scipy.stats as stats\n",
        "from scipy.stats import norm\n",
        "import statsmodels.stats.api as sms\n",
        "from statsmodels.stats.proportion import proportions_ztest\n",
        "from tqdm.notebook import tqdm"
      ],
      "execution_count": 1,
      "outputs": []
    },
    {
      "cell_type": "markdown",
      "metadata": {
        "id": "n0yAlc2S-HYZ"
      },
      "source": [
        "### Вариант 1"
      ]
    },
    {
      "cell_type": "code",
      "metadata": {
        "id": "VOdn1Tq5-Pnv"
      },
      "source": [
        "# Evan's Awesome A/B Tools - https://www.evanmiller.org/ab-testing/sample-size.html"
      ],
      "execution_count": 2,
      "outputs": []
    },
    {
      "cell_type": "code",
      "metadata": {
        "id": "jcMZlkV7_f0X"
      },
      "source": [
        "# https://www.evanmiller.org/ab-testing/sample-size.html#!10;80;5;1;0"
      ],
      "execution_count": 3,
      "outputs": []
    },
    {
      "cell_type": "code",
      "metadata": {
        "id": "bZx0EN27_vSI"
      },
      "source": [
        "# Результат - 14313"
      ],
      "execution_count": 4,
      "outputs": []
    },
    {
      "cell_type": "markdown",
      "source": [
        "### Вариант 2"
      ],
      "metadata": {
        "id": "NR4sPqvhsr_Q"
      }
    },
    {
      "cell_type": "code",
      "source": [
        "n = 10000\n",
        "res = []\n",
        "for _ in tqdm(range(n)):\n",
        "\n",
        "  p1 = np.random.binomial(1,0.10,14313)\n",
        "  p2 = np.random.binomial(1,0.11,14313)\n",
        "\n",
        "  cnts = [p1.sum(),p2.sum()]\n",
        "  nobs = [len(p1),len(p2)]\n",
        "  pval = proportions_ztest(cnts,nobs)[1]\n",
        "  res.append(pval <= 0.05)\n",
        "np.mean(res)"
      ],
      "metadata": {
        "colab": {
          "base_uri": "https://localhost:8080/",
          "height": 66,
          "referenced_widgets": [
            "a3b3ce977cb64bb98488af75f4fdf208",
            "62906be13cb448d698660c0b44e8ac62",
            "384c22b3b4db4ca493dd4d751c1292c1",
            "ad6c0ced82a543ae8490b9c900f14a79",
            "f3886dcb6e98410aa86fe9429626644d",
            "b78cf9d99a3b48f68c1d320589dace07",
            "8c3f073143894719acdf6412ff1e4563",
            "7b4c230d63e04608aab9d6845de7afb0",
            "81463803b7de4416af7d7e6a24665789",
            "bc0281336f884d998d98b724f8aced79",
            "e6bc3ff4e68d4fed9e150f892fe76f3e"
          ]
        },
        "id": "jgJZdwNrsrUB",
        "outputId": "75b79097-39b6-4121-f651-4c3df62539f0"
      },
      "execution_count": 5,
      "outputs": [
        {
          "output_type": "display_data",
          "data": {
            "text/plain": [
              "  0%|          | 0/10000 [00:00<?, ?it/s]"
            ],
            "application/vnd.jupyter.widget-view+json": {
              "version_major": 2,
              "version_minor": 0,
              "model_id": "a3b3ce977cb64bb98488af75f4fdf208"
            }
          },
          "metadata": {}
        },
        {
          "output_type": "execute_result",
          "data": {
            "text/plain": [
              "0.7898"
            ]
          },
          "metadata": {},
          "execution_count": 5
        }
      ]
    },
    {
      "cell_type": "markdown",
      "metadata": {
        "id": "nSwKeb0E-SHw"
      },
      "source": [
        "### Вариант 3"
      ]
    },
    {
      "cell_type": "code",
      "metadata": {
        "colab": {
          "base_uri": "https://localhost:8080/"
        },
        "id": "LbuFBtDT-WKo",
        "outputId": "82b16ccf-47e1-45cc-f07e-e0f4b6ac46d9"
      },
      "source": [
        "baseline_rate = 0.1\n",
        "practical_significance = 0.01\n",
        "confidence_level = 0.05 \n",
        "sensitivity = 0.8 \n",
        "\n",
        "effect_size = sms.proportion_effectsize(baseline_rate, baseline_rate + practical_significance)\n",
        "sample_size = sms.NormalIndPower().solve_power(effect_size = effect_size, power = sensitivity, \n",
        "                                               alpha = confidence_level, ratio=1)\n",
        "print(sample_size)"
      ],
      "execution_count": 6,
      "outputs": [
        {
          "output_type": "stream",
          "name": "stdout",
          "text": [
            "14744.104836925611\n"
          ]
        }
      ]
    },
    {
      "cell_type": "markdown",
      "metadata": {
        "id": "lIKcqxoG-0wA"
      },
      "source": [
        "### Вариант 4"
      ]
    },
    {
      "cell_type": "code",
      "metadata": {
        "id": "niyBiJXF-57w"
      },
      "source": [
        "def get_sample_size(p1,p2,alpha=0.05,power=0.8,r=1):\n",
        "    \n",
        "    p_bar = (p1 + r*p2)/(r+1)\n",
        "    q_bar = 1 - p_bar\n",
        "    s = np.abs(p1-p2)\n",
        "    \n",
        "    q1 = 1 - p1\n",
        "    q2 = 1 - p2\n",
        "    \n",
        "    z_alpha = norm.ppf(1 - alpha/2)\n",
        "    z_beta = norm.ppf(power)\n",
        "    \n",
        "    m = ((z_alpha * np.sqrt((r+1) * p_bar * q_bar) +\n",
        "        z_beta * np.sqrt(r*p1*q1 + p2*q2))**2/\n",
        "        (r*s**2))\n",
        "    \n",
        "    return m,  m*r"
      ],
      "execution_count": 7,
      "outputs": []
    },
    {
      "cell_type": "code",
      "metadata": {
        "colab": {
          "base_uri": "https://localhost:8080/"
        },
        "id": "OcBAF2VW-9to",
        "outputId": "138a1318-e5f6-41b4-d219-7466acff4f87"
      },
      "source": [
        "get_sample_size(0.10,0.11)"
      ],
      "execution_count": 8,
      "outputs": [
        {
          "output_type": "execute_result",
          "data": {
            "text/plain": [
              "(14750.790469044954, 14750.790469044954)"
            ]
          },
          "metadata": {},
          "execution_count": 8
        }
      ]
    },
    {
      "cell_type": "markdown",
      "source": [
        "### Вариант 5"
      ],
      "metadata": {
        "id": "kjqOGr8mwjW7"
      }
    },
    {
      "cell_type": "code",
      "source": [
        "# Разный размер выборок\n",
        "get_sample_size(0.10,0.11,r=2)"
      ],
      "metadata": {
        "colab": {
          "base_uri": "https://localhost:8080/"
        },
        "id": "Z2ar5B0bwpFT",
        "outputId": "5d0e4561-f6b8-400d-8c46-1c490cd9448c"
      },
      "execution_count": 9,
      "outputs": [
        {
          "output_type": "execute_result",
          "data": {
            "text/plain": [
              "(11124.279187859469, 22248.558375718938)"
            ]
          },
          "metadata": {},
          "execution_count": 9
        }
      ]
    },
    {
      "cell_type": "code",
      "source": [
        "effect_size = sms.proportion_effectsize(baseline_rate, baseline_rate + practical_significance)\n",
        "sample_size = sms.NormalIndPower().solve_power(effect_size = effect_size, power = sensitivity, \n",
        "                                               alpha = confidence_level, ratio=2)\n",
        "print(sample_size)"
      ],
      "metadata": {
        "colab": {
          "base_uri": "https://localhost:8080/"
        },
        "id": "u4x56b2Uwyvz",
        "outputId": "0fa8096e-f159-44e9-9fd1-e6f434a67f01"
      },
      "execution_count": 10,
      "outputs": [
        {
          "output_type": "stream",
          "name": "stdout",
          "text": [
            "11058.078627640636\n"
          ]
        }
      ]
    },
    {
      "cell_type": "markdown",
      "source": [
        "### Вариант 6"
      ],
      "metadata": {
        "id": "gmh-DACexjY2"
      }
    },
    {
      "cell_type": "code",
      "source": [
        "def calc_sample_size(alpha, power, p, pct_mde, var='Absolute'):\n",
        "    \"\"\" Based on https://www.evanmiller.org/ab-testing/sample-size.html\n",
        "\n",
        "    Args:\n",
        "        alpha (float): How often are you willing to accept a Type I error (false positive)?\n",
        "        power (float): How often do you want to correctly detect a true positive (1-beta)?\n",
        "        p (float): Base conversion rate\n",
        "        pct_mde (float): Minimum detectable effect, relative to base conversion rate.\n",
        "\n",
        "    \"\"\"\n",
        "    if var=='Absolute':\n",
        "        delta = pct_mde\n",
        "    else:\n",
        "        delta = p*pct_mde\n",
        "\n",
        "    t_alpha2 = norm.ppf(1.0-alpha/2)\n",
        "    t_beta = norm.ppf(power)\n",
        "\n",
        "    sd1 = np.sqrt(2 * p * (1.0 - p))\n",
        "    sd2 = np.sqrt(p * (1.0 - p) + (p + delta) * (1.0 - p - delta))\n",
        "\n",
        "    return (t_alpha2 * sd1 + t_beta * sd2) * (t_alpha2 * sd1 + t_beta * sd2) / (delta * delta)"
      ],
      "metadata": {
        "id": "ktLo9GRRxh6b"
      },
      "execution_count": 11,
      "outputs": []
    },
    {
      "cell_type": "code",
      "source": [
        "calc_sample_size(0.05,0.8,0.1,0.01)"
      ],
      "metadata": {
        "colab": {
          "base_uri": "https://localhost:8080/"
        },
        "id": "eWjs7GK7xr0y",
        "outputId": "a9cd5236-e91d-4eae-c886-75073039d56d"
      },
      "execution_count": 12,
      "outputs": [
        {
          "output_type": "execute_result",
          "data": {
            "text/plain": [
              "14312.856241916566"
            ]
          },
          "metadata": {},
          "execution_count": 12
        }
      ]
    },
    {
      "cell_type": "markdown",
      "source": [
        "### Вариант 7"
      ],
      "metadata": {
        "id": "j0RPMxsB5bST"
      }
    },
    {
      "cell_type": "markdown",
      "source": [
        "Публикация \"Стратификация. Как разбиение выборки повышает чувствительность A/B теста\", X5RetailGroup, Хабр. Авторы Николай Назаров, Александр Сахнов"
      ],
      "metadata": {
        "id": "gTJoc7Mc5veD"
      }
    },
    {
      "cell_type": "markdown",
      "source": [
        "Вероятности ошибок I и II рода положим равными 0.05 и 0.20 соответственно. Допустим, для пользователей, попадающих под условия эксперимента, на исторических данных мы получили оценку средней выручки (2500 рублей) и оценку её стандартного отклонения (800 рублей). После рассылки писем будем ожидать, что выручка увеличится минимум на 100 рублей."
      ],
      "metadata": {
        "id": "XC9zjRab6Ry7"
      }
    },
    {
      "cell_type": "code",
      "source": [
        "alpha = 0.05                    # вероятность ошибки I рода\n",
        "beta = 0.2                      # вероятность ошибки II рода\n",
        "mu_control = 2500               # средняя выручка с пользователя в контрольной группе\n",
        "delta = 0.04                    # размер эффекта (100 руб = 4 процента от 2500 руб )\n",
        "std = 800                       # стандартное отклонение\n",
        "\n",
        "mu_pilot = mu_control* (1 + delta) # средняя выручка с пользователя в экспериментальной группе\n",
        "effect = mu_pilot - mu_control\n",
        "t_alpha = stats.norm.ppf(1 - alpha / 2, loc=0, scale=1)\n",
        "t_beta = stats.norm.ppf(1 - beta, loc=0, scale=1)\n",
        "var = 2 * std ** 2\n",
        "sample_size = int((t_alpha + t_beta) ** 2 * var / (effect ** 2))\n",
        "print(f'sample_size = {sample_size}')"
      ],
      "metadata": {
        "id": "tzUjAHYG5nID",
        "colab": {
          "base_uri": "https://localhost:8080/"
        },
        "outputId": "115a0602-c6f8-4179-a7ec-f3fdf9a62edc"
      },
      "execution_count": 13,
      "outputs": [
        {
          "output_type": "stream",
          "name": "stdout",
          "text": [
            "sample_size = 1004\n"
          ]
        }
      ]
    },
    {
      "cell_type": "markdown",
      "source": [
        "### Вариант 8"
      ],
      "metadata": {
        "id": "Q05h-_AXTplN"
      }
    },
    {
      "cell_type": "code",
      "source": [
        "sigma = 15 # стандартное отклонение\n",
        "Z = 1.96 # квантиль нормального распределения.   \n",
        "Delta = 5  # погрешность\n",
        "\n",
        "# Расчет количества наблюдений для того, чтобы добиться точности 95%\n",
        "N = int(((sigma*Z)/Delta)**2)\n",
        "print(N)"
      ],
      "metadata": {
        "id": "vNM4-aJ2UBSy",
        "colab": {
          "base_uri": "https://localhost:8080/"
        },
        "outputId": "0c1844fd-0127-4d57-cfdd-3297a0ddfd08"
      },
      "execution_count": 14,
      "outputs": [
        {
          "output_type": "stream",
          "name": "stdout",
          "text": [
            "34\n"
          ]
        }
      ]
    }
  ]
}
