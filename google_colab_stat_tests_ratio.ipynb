{
  "nbformat": 4,
  "nbformat_minor": 0,
  "metadata": {
    "colab": {
      "provenance": []
    },
    "kernelspec": {
      "name": "python3",
      "display_name": "Python 3"
    },
    "language_info": {
      "name": "python"
    },
    "widgets": {
      "application/vnd.jupyter.widget-state+json": {
        "eb438378fc5d4c4b86310acb9b194d8f": {
          "model_module": "@jupyter-widgets/controls",
          "model_name": "HBoxModel",
          "model_module_version": "1.5.0",
          "state": {
            "_dom_classes": [],
            "_model_module": "@jupyter-widgets/controls",
            "_model_module_version": "1.5.0",
            "_model_name": "HBoxModel",
            "_view_count": null,
            "_view_module": "@jupyter-widgets/controls",
            "_view_module_version": "1.5.0",
            "_view_name": "HBoxView",
            "box_style": "",
            "children": [
              "IPY_MODEL_fa0243889dce475c8ca8dcb560a95e2b",
              "IPY_MODEL_ac5316bfd3944b6585ab5962b7371e4b",
              "IPY_MODEL_71fc101a8e6b44db9f1c421cbf4d1abc"
            ],
            "layout": "IPY_MODEL_67feb238a56047758f136d9275d03bf1"
          }
        },
        "fa0243889dce475c8ca8dcb560a95e2b": {
          "model_module": "@jupyter-widgets/controls",
          "model_name": "HTMLModel",
          "model_module_version": "1.5.0",
          "state": {
            "_dom_classes": [],
            "_model_module": "@jupyter-widgets/controls",
            "_model_module_version": "1.5.0",
            "_model_name": "HTMLModel",
            "_view_count": null,
            "_view_module": "@jupyter-widgets/controls",
            "_view_module_version": "1.5.0",
            "_view_name": "HTMLView",
            "description": "",
            "description_tooltip": null,
            "layout": "IPY_MODEL_58f70fae81ac402c8a342a037ede3291",
            "placeholder": "​",
            "style": "IPY_MODEL_7e41872d22f7487c90f50b388b4a9664",
            "value": "100%"
          }
        },
        "ac5316bfd3944b6585ab5962b7371e4b": {
          "model_module": "@jupyter-widgets/controls",
          "model_name": "FloatProgressModel",
          "model_module_version": "1.5.0",
          "state": {
            "_dom_classes": [],
            "_model_module": "@jupyter-widgets/controls",
            "_model_module_version": "1.5.0",
            "_model_name": "FloatProgressModel",
            "_view_count": null,
            "_view_module": "@jupyter-widgets/controls",
            "_view_module_version": "1.5.0",
            "_view_name": "ProgressView",
            "bar_style": "success",
            "description": "",
            "description_tooltip": null,
            "layout": "IPY_MODEL_e7057749e7484463a2959259c704b9fc",
            "max": 1000,
            "min": 0,
            "orientation": "horizontal",
            "style": "IPY_MODEL_237a192ccb1343889e8aa6c99bbf6c76",
            "value": 1000
          }
        },
        "71fc101a8e6b44db9f1c421cbf4d1abc": {
          "model_module": "@jupyter-widgets/controls",
          "model_name": "HTMLModel",
          "model_module_version": "1.5.0",
          "state": {
            "_dom_classes": [],
            "_model_module": "@jupyter-widgets/controls",
            "_model_module_version": "1.5.0",
            "_model_name": "HTMLModel",
            "_view_count": null,
            "_view_module": "@jupyter-widgets/controls",
            "_view_module_version": "1.5.0",
            "_view_name": "HTMLView",
            "description": "",
            "description_tooltip": null,
            "layout": "IPY_MODEL_1263e7d95f5745b48ab7cf34a30b1d96",
            "placeholder": "​",
            "style": "IPY_MODEL_d0a4f7530df64ad48ed9380dd876d8e5",
            "value": " 1000/1000 [00:01&lt;00:00, 553.36it/s]"
          }
        },
        "67feb238a56047758f136d9275d03bf1": {
          "model_module": "@jupyter-widgets/base",
          "model_name": "LayoutModel",
          "model_module_version": "1.2.0",
          "state": {
            "_model_module": "@jupyter-widgets/base",
            "_model_module_version": "1.2.0",
            "_model_name": "LayoutModel",
            "_view_count": null,
            "_view_module": "@jupyter-widgets/base",
            "_view_module_version": "1.2.0",
            "_view_name": "LayoutView",
            "align_content": null,
            "align_items": null,
            "align_self": null,
            "border": null,
            "bottom": null,
            "display": null,
            "flex": null,
            "flex_flow": null,
            "grid_area": null,
            "grid_auto_columns": null,
            "grid_auto_flow": null,
            "grid_auto_rows": null,
            "grid_column": null,
            "grid_gap": null,
            "grid_row": null,
            "grid_template_areas": null,
            "grid_template_columns": null,
            "grid_template_rows": null,
            "height": null,
            "justify_content": null,
            "justify_items": null,
            "left": null,
            "margin": null,
            "max_height": null,
            "max_width": null,
            "min_height": null,
            "min_width": null,
            "object_fit": null,
            "object_position": null,
            "order": null,
            "overflow": null,
            "overflow_x": null,
            "overflow_y": null,
            "padding": null,
            "right": null,
            "top": null,
            "visibility": null,
            "width": null
          }
        },
        "58f70fae81ac402c8a342a037ede3291": {
          "model_module": "@jupyter-widgets/base",
          "model_name": "LayoutModel",
          "model_module_version": "1.2.0",
          "state": {
            "_model_module": "@jupyter-widgets/base",
            "_model_module_version": "1.2.0",
            "_model_name": "LayoutModel",
            "_view_count": null,
            "_view_module": "@jupyter-widgets/base",
            "_view_module_version": "1.2.0",
            "_view_name": "LayoutView",
            "align_content": null,
            "align_items": null,
            "align_self": null,
            "border": null,
            "bottom": null,
            "display": null,
            "flex": null,
            "flex_flow": null,
            "grid_area": null,
            "grid_auto_columns": null,
            "grid_auto_flow": null,
            "grid_auto_rows": null,
            "grid_column": null,
            "grid_gap": null,
            "grid_row": null,
            "grid_template_areas": null,
            "grid_template_columns": null,
            "grid_template_rows": null,
            "height": null,
            "justify_content": null,
            "justify_items": null,
            "left": null,
            "margin": null,
            "max_height": null,
            "max_width": null,
            "min_height": null,
            "min_width": null,
            "object_fit": null,
            "object_position": null,
            "order": null,
            "overflow": null,
            "overflow_x": null,
            "overflow_y": null,
            "padding": null,
            "right": null,
            "top": null,
            "visibility": null,
            "width": null
          }
        },
        "7e41872d22f7487c90f50b388b4a9664": {
          "model_module": "@jupyter-widgets/controls",
          "model_name": "DescriptionStyleModel",
          "model_module_version": "1.5.0",
          "state": {
            "_model_module": "@jupyter-widgets/controls",
            "_model_module_version": "1.5.0",
            "_model_name": "DescriptionStyleModel",
            "_view_count": null,
            "_view_module": "@jupyter-widgets/base",
            "_view_module_version": "1.2.0",
            "_view_name": "StyleView",
            "description_width": ""
          }
        },
        "e7057749e7484463a2959259c704b9fc": {
          "model_module": "@jupyter-widgets/base",
          "model_name": "LayoutModel",
          "model_module_version": "1.2.0",
          "state": {
            "_model_module": "@jupyter-widgets/base",
            "_model_module_version": "1.2.0",
            "_model_name": "LayoutModel",
            "_view_count": null,
            "_view_module": "@jupyter-widgets/base",
            "_view_module_version": "1.2.0",
            "_view_name": "LayoutView",
            "align_content": null,
            "align_items": null,
            "align_self": null,
            "border": null,
            "bottom": null,
            "display": null,
            "flex": null,
            "flex_flow": null,
            "grid_area": null,
            "grid_auto_columns": null,
            "grid_auto_flow": null,
            "grid_auto_rows": null,
            "grid_column": null,
            "grid_gap": null,
            "grid_row": null,
            "grid_template_areas": null,
            "grid_template_columns": null,
            "grid_template_rows": null,
            "height": null,
            "justify_content": null,
            "justify_items": null,
            "left": null,
            "margin": null,
            "max_height": null,
            "max_width": null,
            "min_height": null,
            "min_width": null,
            "object_fit": null,
            "object_position": null,
            "order": null,
            "overflow": null,
            "overflow_x": null,
            "overflow_y": null,
            "padding": null,
            "right": null,
            "top": null,
            "visibility": null,
            "width": null
          }
        },
        "237a192ccb1343889e8aa6c99bbf6c76": {
          "model_module": "@jupyter-widgets/controls",
          "model_name": "ProgressStyleModel",
          "model_module_version": "1.5.0",
          "state": {
            "_model_module": "@jupyter-widgets/controls",
            "_model_module_version": "1.5.0",
            "_model_name": "ProgressStyleModel",
            "_view_count": null,
            "_view_module": "@jupyter-widgets/base",
            "_view_module_version": "1.2.0",
            "_view_name": "StyleView",
            "bar_color": null,
            "description_width": ""
          }
        },
        "1263e7d95f5745b48ab7cf34a30b1d96": {
          "model_module": "@jupyter-widgets/base",
          "model_name": "LayoutModel",
          "model_module_version": "1.2.0",
          "state": {
            "_model_module": "@jupyter-widgets/base",
            "_model_module_version": "1.2.0",
            "_model_name": "LayoutModel",
            "_view_count": null,
            "_view_module": "@jupyter-widgets/base",
            "_view_module_version": "1.2.0",
            "_view_name": "LayoutView",
            "align_content": null,
            "align_items": null,
            "align_self": null,
            "border": null,
            "bottom": null,
            "display": null,
            "flex": null,
            "flex_flow": null,
            "grid_area": null,
            "grid_auto_columns": null,
            "grid_auto_flow": null,
            "grid_auto_rows": null,
            "grid_column": null,
            "grid_gap": null,
            "grid_row": null,
            "grid_template_areas": null,
            "grid_template_columns": null,
            "grid_template_rows": null,
            "height": null,
            "justify_content": null,
            "justify_items": null,
            "left": null,
            "margin": null,
            "max_height": null,
            "max_width": null,
            "min_height": null,
            "min_width": null,
            "object_fit": null,
            "object_position": null,
            "order": null,
            "overflow": null,
            "overflow_x": null,
            "overflow_y": null,
            "padding": null,
            "right": null,
            "top": null,
            "visibility": null,
            "width": null
          }
        },
        "d0a4f7530df64ad48ed9380dd876d8e5": {
          "model_module": "@jupyter-widgets/controls",
          "model_name": "DescriptionStyleModel",
          "model_module_version": "1.5.0",
          "state": {
            "_model_module": "@jupyter-widgets/controls",
            "_model_module_version": "1.5.0",
            "_model_name": "DescriptionStyleModel",
            "_view_count": null,
            "_view_module": "@jupyter-widgets/base",
            "_view_module_version": "1.2.0",
            "_view_name": "StyleView",
            "description_width": ""
          }
        },
        "e94fb9706d764cdb9d628232a27ce95a": {
          "model_module": "@jupyter-widgets/controls",
          "model_name": "HBoxModel",
          "model_module_version": "1.5.0",
          "state": {
            "_dom_classes": [],
            "_model_module": "@jupyter-widgets/controls",
            "_model_module_version": "1.5.0",
            "_model_name": "HBoxModel",
            "_view_count": null,
            "_view_module": "@jupyter-widgets/controls",
            "_view_module_version": "1.5.0",
            "_view_name": "HBoxView",
            "box_style": "",
            "children": [
              "IPY_MODEL_9b2a5e2306c54dd1b26d1dabf591c362",
              "IPY_MODEL_8eec2ff30ddd42e1bd6a779110f6dde2",
              "IPY_MODEL_1bdef9389ed7422c91b8442f53496c25"
            ],
            "layout": "IPY_MODEL_12d91a7574234cc5911381ca001f6fa1"
          }
        },
        "9b2a5e2306c54dd1b26d1dabf591c362": {
          "model_module": "@jupyter-widgets/controls",
          "model_name": "HTMLModel",
          "model_module_version": "1.5.0",
          "state": {
            "_dom_classes": [],
            "_model_module": "@jupyter-widgets/controls",
            "_model_module_version": "1.5.0",
            "_model_name": "HTMLModel",
            "_view_count": null,
            "_view_module": "@jupyter-widgets/controls",
            "_view_module_version": "1.5.0",
            "_view_name": "HTMLView",
            "description": "",
            "description_tooltip": null,
            "layout": "IPY_MODEL_214e649f6710422590ca2e5344ac597f",
            "placeholder": "​",
            "style": "IPY_MODEL_7495be9943654d95b578422e5ccc583b",
            "value": "100%"
          }
        },
        "8eec2ff30ddd42e1bd6a779110f6dde2": {
          "model_module": "@jupyter-widgets/controls",
          "model_name": "FloatProgressModel",
          "model_module_version": "1.5.0",
          "state": {
            "_dom_classes": [],
            "_model_module": "@jupyter-widgets/controls",
            "_model_module_version": "1.5.0",
            "_model_name": "FloatProgressModel",
            "_view_count": null,
            "_view_module": "@jupyter-widgets/controls",
            "_view_module_version": "1.5.0",
            "_view_name": "ProgressView",
            "bar_style": "success",
            "description": "",
            "description_tooltip": null,
            "layout": "IPY_MODEL_b46a17666b2449c3b2557d14d5ae9650",
            "max": 1000,
            "min": 0,
            "orientation": "horizontal",
            "style": "IPY_MODEL_61dc7551c9174ff1996c48f6bf3fd47c",
            "value": 1000
          }
        },
        "1bdef9389ed7422c91b8442f53496c25": {
          "model_module": "@jupyter-widgets/controls",
          "model_name": "HTMLModel",
          "model_module_version": "1.5.0",
          "state": {
            "_dom_classes": [],
            "_model_module": "@jupyter-widgets/controls",
            "_model_module_version": "1.5.0",
            "_model_name": "HTMLModel",
            "_view_count": null,
            "_view_module": "@jupyter-widgets/controls",
            "_view_module_version": "1.5.0",
            "_view_name": "HTMLView",
            "description": "",
            "description_tooltip": null,
            "layout": "IPY_MODEL_0a5d21c140b34caca8f2a2ae2c7522d5",
            "placeholder": "​",
            "style": "IPY_MODEL_0d45a76de2d8452694f5cc9e31de263b",
            "value": " 1000/1000 [00:05&lt;00:00, 226.17it/s]"
          }
        },
        "12d91a7574234cc5911381ca001f6fa1": {
          "model_module": "@jupyter-widgets/base",
          "model_name": "LayoutModel",
          "model_module_version": "1.2.0",
          "state": {
            "_model_module": "@jupyter-widgets/base",
            "_model_module_version": "1.2.0",
            "_model_name": "LayoutModel",
            "_view_count": null,
            "_view_module": "@jupyter-widgets/base",
            "_view_module_version": "1.2.0",
            "_view_name": "LayoutView",
            "align_content": null,
            "align_items": null,
            "align_self": null,
            "border": null,
            "bottom": null,
            "display": null,
            "flex": null,
            "flex_flow": null,
            "grid_area": null,
            "grid_auto_columns": null,
            "grid_auto_flow": null,
            "grid_auto_rows": null,
            "grid_column": null,
            "grid_gap": null,
            "grid_row": null,
            "grid_template_areas": null,
            "grid_template_columns": null,
            "grid_template_rows": null,
            "height": null,
            "justify_content": null,
            "justify_items": null,
            "left": null,
            "margin": null,
            "max_height": null,
            "max_width": null,
            "min_height": null,
            "min_width": null,
            "object_fit": null,
            "object_position": null,
            "order": null,
            "overflow": null,
            "overflow_x": null,
            "overflow_y": null,
            "padding": null,
            "right": null,
            "top": null,
            "visibility": null,
            "width": null
          }
        },
        "214e649f6710422590ca2e5344ac597f": {
          "model_module": "@jupyter-widgets/base",
          "model_name": "LayoutModel",
          "model_module_version": "1.2.0",
          "state": {
            "_model_module": "@jupyter-widgets/base",
            "_model_module_version": "1.2.0",
            "_model_name": "LayoutModel",
            "_view_count": null,
            "_view_module": "@jupyter-widgets/base",
            "_view_module_version": "1.2.0",
            "_view_name": "LayoutView",
            "align_content": null,
            "align_items": null,
            "align_self": null,
            "border": null,
            "bottom": null,
            "display": null,
            "flex": null,
            "flex_flow": null,
            "grid_area": null,
            "grid_auto_columns": null,
            "grid_auto_flow": null,
            "grid_auto_rows": null,
            "grid_column": null,
            "grid_gap": null,
            "grid_row": null,
            "grid_template_areas": null,
            "grid_template_columns": null,
            "grid_template_rows": null,
            "height": null,
            "justify_content": null,
            "justify_items": null,
            "left": null,
            "margin": null,
            "max_height": null,
            "max_width": null,
            "min_height": null,
            "min_width": null,
            "object_fit": null,
            "object_position": null,
            "order": null,
            "overflow": null,
            "overflow_x": null,
            "overflow_y": null,
            "padding": null,
            "right": null,
            "top": null,
            "visibility": null,
            "width": null
          }
        },
        "7495be9943654d95b578422e5ccc583b": {
          "model_module": "@jupyter-widgets/controls",
          "model_name": "DescriptionStyleModel",
          "model_module_version": "1.5.0",
          "state": {
            "_model_module": "@jupyter-widgets/controls",
            "_model_module_version": "1.5.0",
            "_model_name": "DescriptionStyleModel",
            "_view_count": null,
            "_view_module": "@jupyter-widgets/base",
            "_view_module_version": "1.2.0",
            "_view_name": "StyleView",
            "description_width": ""
          }
        },
        "b46a17666b2449c3b2557d14d5ae9650": {
          "model_module": "@jupyter-widgets/base",
          "model_name": "LayoutModel",
          "model_module_version": "1.2.0",
          "state": {
            "_model_module": "@jupyter-widgets/base",
            "_model_module_version": "1.2.0",
            "_model_name": "LayoutModel",
            "_view_count": null,
            "_view_module": "@jupyter-widgets/base",
            "_view_module_version": "1.2.0",
            "_view_name": "LayoutView",
            "align_content": null,
            "align_items": null,
            "align_self": null,
            "border": null,
            "bottom": null,
            "display": null,
            "flex": null,
            "flex_flow": null,
            "grid_area": null,
            "grid_auto_columns": null,
            "grid_auto_flow": null,
            "grid_auto_rows": null,
            "grid_column": null,
            "grid_gap": null,
            "grid_row": null,
            "grid_template_areas": null,
            "grid_template_columns": null,
            "grid_template_rows": null,
            "height": null,
            "justify_content": null,
            "justify_items": null,
            "left": null,
            "margin": null,
            "max_height": null,
            "max_width": null,
            "min_height": null,
            "min_width": null,
            "object_fit": null,
            "object_position": null,
            "order": null,
            "overflow": null,
            "overflow_x": null,
            "overflow_y": null,
            "padding": null,
            "right": null,
            "top": null,
            "visibility": null,
            "width": null
          }
        },
        "61dc7551c9174ff1996c48f6bf3fd47c": {
          "model_module": "@jupyter-widgets/controls",
          "model_name": "ProgressStyleModel",
          "model_module_version": "1.5.0",
          "state": {
            "_model_module": "@jupyter-widgets/controls",
            "_model_module_version": "1.5.0",
            "_model_name": "ProgressStyleModel",
            "_view_count": null,
            "_view_module": "@jupyter-widgets/base",
            "_view_module_version": "1.2.0",
            "_view_name": "StyleView",
            "bar_color": null,
            "description_width": ""
          }
        },
        "0a5d21c140b34caca8f2a2ae2c7522d5": {
          "model_module": "@jupyter-widgets/base",
          "model_name": "LayoutModel",
          "model_module_version": "1.2.0",
          "state": {
            "_model_module": "@jupyter-widgets/base",
            "_model_module_version": "1.2.0",
            "_model_name": "LayoutModel",
            "_view_count": null,
            "_view_module": "@jupyter-widgets/base",
            "_view_module_version": "1.2.0",
            "_view_name": "LayoutView",
            "align_content": null,
            "align_items": null,
            "align_self": null,
            "border": null,
            "bottom": null,
            "display": null,
            "flex": null,
            "flex_flow": null,
            "grid_area": null,
            "grid_auto_columns": null,
            "grid_auto_flow": null,
            "grid_auto_rows": null,
            "grid_column": null,
            "grid_gap": null,
            "grid_row": null,
            "grid_template_areas": null,
            "grid_template_columns": null,
            "grid_template_rows": null,
            "height": null,
            "justify_content": null,
            "justify_items": null,
            "left": null,
            "margin": null,
            "max_height": null,
            "max_width": null,
            "min_height": null,
            "min_width": null,
            "object_fit": null,
            "object_position": null,
            "order": null,
            "overflow": null,
            "overflow_x": null,
            "overflow_y": null,
            "padding": null,
            "right": null,
            "top": null,
            "visibility": null,
            "width": null
          }
        },
        "0d45a76de2d8452694f5cc9e31de263b": {
          "model_module": "@jupyter-widgets/controls",
          "model_name": "DescriptionStyleModel",
          "model_module_version": "1.5.0",
          "state": {
            "_model_module": "@jupyter-widgets/controls",
            "_model_module_version": "1.5.0",
            "_model_name": "DescriptionStyleModel",
            "_view_count": null,
            "_view_module": "@jupyter-widgets/base",
            "_view_module_version": "1.2.0",
            "_view_name": "StyleView",
            "description_width": ""
          }
        },
        "58d591b360164714ad8e89c23a557723": {
          "model_module": "@jupyter-widgets/controls",
          "model_name": "HBoxModel",
          "model_module_version": "1.5.0",
          "state": {
            "_dom_classes": [],
            "_model_module": "@jupyter-widgets/controls",
            "_model_module_version": "1.5.0",
            "_model_name": "HBoxModel",
            "_view_count": null,
            "_view_module": "@jupyter-widgets/controls",
            "_view_module_version": "1.5.0",
            "_view_name": "HBoxView",
            "box_style": "",
            "children": [
              "IPY_MODEL_ab5c4d6b2a694e2885766bb0e17993a9",
              "IPY_MODEL_5f687fec5d854264bdac75f704067e5d",
              "IPY_MODEL_2036f6090a804cb29fd09a54cf0d879e"
            ],
            "layout": "IPY_MODEL_d164d2236edc448fa65a0694711dfdd6"
          }
        },
        "ab5c4d6b2a694e2885766bb0e17993a9": {
          "model_module": "@jupyter-widgets/controls",
          "model_name": "HTMLModel",
          "model_module_version": "1.5.0",
          "state": {
            "_dom_classes": [],
            "_model_module": "@jupyter-widgets/controls",
            "_model_module_version": "1.5.0",
            "_model_name": "HTMLModel",
            "_view_count": null,
            "_view_module": "@jupyter-widgets/controls",
            "_view_module_version": "1.5.0",
            "_view_name": "HTMLView",
            "description": "",
            "description_tooltip": null,
            "layout": "IPY_MODEL_bdf42ea93cb241648125bf54a0ae6148",
            "placeholder": "​",
            "style": "IPY_MODEL_00866f06191945f0aa9fa4ba2752a12d",
            "value": "100%"
          }
        },
        "5f687fec5d854264bdac75f704067e5d": {
          "model_module": "@jupyter-widgets/controls",
          "model_name": "FloatProgressModel",
          "model_module_version": "1.5.0",
          "state": {
            "_dom_classes": [],
            "_model_module": "@jupyter-widgets/controls",
            "_model_module_version": "1.5.0",
            "_model_name": "FloatProgressModel",
            "_view_count": null,
            "_view_module": "@jupyter-widgets/controls",
            "_view_module_version": "1.5.0",
            "_view_name": "ProgressView",
            "bar_style": "success",
            "description": "",
            "description_tooltip": null,
            "layout": "IPY_MODEL_262269c0dbdd46acb3e0e87c9b1e8d61",
            "max": 1000,
            "min": 0,
            "orientation": "horizontal",
            "style": "IPY_MODEL_a92e64d35d6c4fac8584ea031fb2eb25",
            "value": 1000
          }
        },
        "2036f6090a804cb29fd09a54cf0d879e": {
          "model_module": "@jupyter-widgets/controls",
          "model_name": "HTMLModel",
          "model_module_version": "1.5.0",
          "state": {
            "_dom_classes": [],
            "_model_module": "@jupyter-widgets/controls",
            "_model_module_version": "1.5.0",
            "_model_name": "HTMLModel",
            "_view_count": null,
            "_view_module": "@jupyter-widgets/controls",
            "_view_module_version": "1.5.0",
            "_view_name": "HTMLView",
            "description": "",
            "description_tooltip": null,
            "layout": "IPY_MODEL_303976bbfe5b453da4b2b242dc33612f",
            "placeholder": "​",
            "style": "IPY_MODEL_0a87ab54eae7457f9cbefa2fe2df4331",
            "value": " 1000/1000 [01:34&lt;00:00,  7.10it/s]"
          }
        },
        "d164d2236edc448fa65a0694711dfdd6": {
          "model_module": "@jupyter-widgets/base",
          "model_name": "LayoutModel",
          "model_module_version": "1.2.0",
          "state": {
            "_model_module": "@jupyter-widgets/base",
            "_model_module_version": "1.2.0",
            "_model_name": "LayoutModel",
            "_view_count": null,
            "_view_module": "@jupyter-widgets/base",
            "_view_module_version": "1.2.0",
            "_view_name": "LayoutView",
            "align_content": null,
            "align_items": null,
            "align_self": null,
            "border": null,
            "bottom": null,
            "display": null,
            "flex": null,
            "flex_flow": null,
            "grid_area": null,
            "grid_auto_columns": null,
            "grid_auto_flow": null,
            "grid_auto_rows": null,
            "grid_column": null,
            "grid_gap": null,
            "grid_row": null,
            "grid_template_areas": null,
            "grid_template_columns": null,
            "grid_template_rows": null,
            "height": null,
            "justify_content": null,
            "justify_items": null,
            "left": null,
            "margin": null,
            "max_height": null,
            "max_width": null,
            "min_height": null,
            "min_width": null,
            "object_fit": null,
            "object_position": null,
            "order": null,
            "overflow": null,
            "overflow_x": null,
            "overflow_y": null,
            "padding": null,
            "right": null,
            "top": null,
            "visibility": null,
            "width": null
          }
        },
        "bdf42ea93cb241648125bf54a0ae6148": {
          "model_module": "@jupyter-widgets/base",
          "model_name": "LayoutModel",
          "model_module_version": "1.2.0",
          "state": {
            "_model_module": "@jupyter-widgets/base",
            "_model_module_version": "1.2.0",
            "_model_name": "LayoutModel",
            "_view_count": null,
            "_view_module": "@jupyter-widgets/base",
            "_view_module_version": "1.2.0",
            "_view_name": "LayoutView",
            "align_content": null,
            "align_items": null,
            "align_self": null,
            "border": null,
            "bottom": null,
            "display": null,
            "flex": null,
            "flex_flow": null,
            "grid_area": null,
            "grid_auto_columns": null,
            "grid_auto_flow": null,
            "grid_auto_rows": null,
            "grid_column": null,
            "grid_gap": null,
            "grid_row": null,
            "grid_template_areas": null,
            "grid_template_columns": null,
            "grid_template_rows": null,
            "height": null,
            "justify_content": null,
            "justify_items": null,
            "left": null,
            "margin": null,
            "max_height": null,
            "max_width": null,
            "min_height": null,
            "min_width": null,
            "object_fit": null,
            "object_position": null,
            "order": null,
            "overflow": null,
            "overflow_x": null,
            "overflow_y": null,
            "padding": null,
            "right": null,
            "top": null,
            "visibility": null,
            "width": null
          }
        },
        "00866f06191945f0aa9fa4ba2752a12d": {
          "model_module": "@jupyter-widgets/controls",
          "model_name": "DescriptionStyleModel",
          "model_module_version": "1.5.0",
          "state": {
            "_model_module": "@jupyter-widgets/controls",
            "_model_module_version": "1.5.0",
            "_model_name": "DescriptionStyleModel",
            "_view_count": null,
            "_view_module": "@jupyter-widgets/base",
            "_view_module_version": "1.2.0",
            "_view_name": "StyleView",
            "description_width": ""
          }
        },
        "262269c0dbdd46acb3e0e87c9b1e8d61": {
          "model_module": "@jupyter-widgets/base",
          "model_name": "LayoutModel",
          "model_module_version": "1.2.0",
          "state": {
            "_model_module": "@jupyter-widgets/base",
            "_model_module_version": "1.2.0",
            "_model_name": "LayoutModel",
            "_view_count": null,
            "_view_module": "@jupyter-widgets/base",
            "_view_module_version": "1.2.0",
            "_view_name": "LayoutView",
            "align_content": null,
            "align_items": null,
            "align_self": null,
            "border": null,
            "bottom": null,
            "display": null,
            "flex": null,
            "flex_flow": null,
            "grid_area": null,
            "grid_auto_columns": null,
            "grid_auto_flow": null,
            "grid_auto_rows": null,
            "grid_column": null,
            "grid_gap": null,
            "grid_row": null,
            "grid_template_areas": null,
            "grid_template_columns": null,
            "grid_template_rows": null,
            "height": null,
            "justify_content": null,
            "justify_items": null,
            "left": null,
            "margin": null,
            "max_height": null,
            "max_width": null,
            "min_height": null,
            "min_width": null,
            "object_fit": null,
            "object_position": null,
            "order": null,
            "overflow": null,
            "overflow_x": null,
            "overflow_y": null,
            "padding": null,
            "right": null,
            "top": null,
            "visibility": null,
            "width": null
          }
        },
        "a92e64d35d6c4fac8584ea031fb2eb25": {
          "model_module": "@jupyter-widgets/controls",
          "model_name": "ProgressStyleModel",
          "model_module_version": "1.5.0",
          "state": {
            "_model_module": "@jupyter-widgets/controls",
            "_model_module_version": "1.5.0",
            "_model_name": "ProgressStyleModel",
            "_view_count": null,
            "_view_module": "@jupyter-widgets/base",
            "_view_module_version": "1.2.0",
            "_view_name": "StyleView",
            "bar_color": null,
            "description_width": ""
          }
        },
        "303976bbfe5b453da4b2b242dc33612f": {
          "model_module": "@jupyter-widgets/base",
          "model_name": "LayoutModel",
          "model_module_version": "1.2.0",
          "state": {
            "_model_module": "@jupyter-widgets/base",
            "_model_module_version": "1.2.0",
            "_model_name": "LayoutModel",
            "_view_count": null,
            "_view_module": "@jupyter-widgets/base",
            "_view_module_version": "1.2.0",
            "_view_name": "LayoutView",
            "align_content": null,
            "align_items": null,
            "align_self": null,
            "border": null,
            "bottom": null,
            "display": null,
            "flex": null,
            "flex_flow": null,
            "grid_area": null,
            "grid_auto_columns": null,
            "grid_auto_flow": null,
            "grid_auto_rows": null,
            "grid_column": null,
            "grid_gap": null,
            "grid_row": null,
            "grid_template_areas": null,
            "grid_template_columns": null,
            "grid_template_rows": null,
            "height": null,
            "justify_content": null,
            "justify_items": null,
            "left": null,
            "margin": null,
            "max_height": null,
            "max_width": null,
            "min_height": null,
            "min_width": null,
            "object_fit": null,
            "object_position": null,
            "order": null,
            "overflow": null,
            "overflow_x": null,
            "overflow_y": null,
            "padding": null,
            "right": null,
            "top": null,
            "visibility": null,
            "width": null
          }
        },
        "0a87ab54eae7457f9cbefa2fe2df4331": {
          "model_module": "@jupyter-widgets/controls",
          "model_name": "DescriptionStyleModel",
          "model_module_version": "1.5.0",
          "state": {
            "_model_module": "@jupyter-widgets/controls",
            "_model_module_version": "1.5.0",
            "_model_name": "DescriptionStyleModel",
            "_view_count": null,
            "_view_module": "@jupyter-widgets/base",
            "_view_module_version": "1.2.0",
            "_view_name": "StyleView",
            "description_width": ""
          }
        },
        "6b9924e979a249c4b9eeb5e82951c9d5": {
          "model_module": "@jupyter-widgets/controls",
          "model_name": "HBoxModel",
          "model_module_version": "1.5.0",
          "state": {
            "_dom_classes": [],
            "_model_module": "@jupyter-widgets/controls",
            "_model_module_version": "1.5.0",
            "_model_name": "HBoxModel",
            "_view_count": null,
            "_view_module": "@jupyter-widgets/controls",
            "_view_module_version": "1.5.0",
            "_view_name": "HBoxView",
            "box_style": "",
            "children": [
              "IPY_MODEL_029147c3ad864bab9b01daeec871e1b8",
              "IPY_MODEL_b530e7019ca249d19e4942255e74eab1",
              "IPY_MODEL_51028f0083d3432796f0239ab9b9097a"
            ],
            "layout": "IPY_MODEL_95b626e3beb243c6a4ddada7d5ed5cb6"
          }
        },
        "029147c3ad864bab9b01daeec871e1b8": {
          "model_module": "@jupyter-widgets/controls",
          "model_name": "HTMLModel",
          "model_module_version": "1.5.0",
          "state": {
            "_dom_classes": [],
            "_model_module": "@jupyter-widgets/controls",
            "_model_module_version": "1.5.0",
            "_model_name": "HTMLModel",
            "_view_count": null,
            "_view_module": "@jupyter-widgets/controls",
            "_view_module_version": "1.5.0",
            "_view_name": "HTMLView",
            "description": "",
            "description_tooltip": null,
            "layout": "IPY_MODEL_4585ca6ce2f9493d96aa299e1ad6bd0d",
            "placeholder": "​",
            "style": "IPY_MODEL_4c77314a02b34eb08dcd8d2c15bbc80b",
            "value": "100%"
          }
        },
        "b530e7019ca249d19e4942255e74eab1": {
          "model_module": "@jupyter-widgets/controls",
          "model_name": "FloatProgressModel",
          "model_module_version": "1.5.0",
          "state": {
            "_dom_classes": [],
            "_model_module": "@jupyter-widgets/controls",
            "_model_module_version": "1.5.0",
            "_model_name": "FloatProgressModel",
            "_view_count": null,
            "_view_module": "@jupyter-widgets/controls",
            "_view_module_version": "1.5.0",
            "_view_name": "ProgressView",
            "bar_style": "success",
            "description": "",
            "description_tooltip": null,
            "layout": "IPY_MODEL_90067eb884cf497fb85db90fbeb0de2f",
            "max": 1000,
            "min": 0,
            "orientation": "horizontal",
            "style": "IPY_MODEL_087549530f904d79aac28ac6cb8b551b",
            "value": 1000
          }
        },
        "51028f0083d3432796f0239ab9b9097a": {
          "model_module": "@jupyter-widgets/controls",
          "model_name": "HTMLModel",
          "model_module_version": "1.5.0",
          "state": {
            "_dom_classes": [],
            "_model_module": "@jupyter-widgets/controls",
            "_model_module_version": "1.5.0",
            "_model_name": "HTMLModel",
            "_view_count": null,
            "_view_module": "@jupyter-widgets/controls",
            "_view_module_version": "1.5.0",
            "_view_name": "HTMLView",
            "description": "",
            "description_tooltip": null,
            "layout": "IPY_MODEL_16235bad25e9401dbe70c51c89809637",
            "placeholder": "​",
            "style": "IPY_MODEL_ca892f73b94c436dae5c862e6f3a2c1e",
            "value": " 1000/1000 [00:45&lt;00:00, 23.60it/s]"
          }
        },
        "95b626e3beb243c6a4ddada7d5ed5cb6": {
          "model_module": "@jupyter-widgets/base",
          "model_name": "LayoutModel",
          "model_module_version": "1.2.0",
          "state": {
            "_model_module": "@jupyter-widgets/base",
            "_model_module_version": "1.2.0",
            "_model_name": "LayoutModel",
            "_view_count": null,
            "_view_module": "@jupyter-widgets/base",
            "_view_module_version": "1.2.0",
            "_view_name": "LayoutView",
            "align_content": null,
            "align_items": null,
            "align_self": null,
            "border": null,
            "bottom": null,
            "display": null,
            "flex": null,
            "flex_flow": null,
            "grid_area": null,
            "grid_auto_columns": null,
            "grid_auto_flow": null,
            "grid_auto_rows": null,
            "grid_column": null,
            "grid_gap": null,
            "grid_row": null,
            "grid_template_areas": null,
            "grid_template_columns": null,
            "grid_template_rows": null,
            "height": null,
            "justify_content": null,
            "justify_items": null,
            "left": null,
            "margin": null,
            "max_height": null,
            "max_width": null,
            "min_height": null,
            "min_width": null,
            "object_fit": null,
            "object_position": null,
            "order": null,
            "overflow": null,
            "overflow_x": null,
            "overflow_y": null,
            "padding": null,
            "right": null,
            "top": null,
            "visibility": null,
            "width": null
          }
        },
        "4585ca6ce2f9493d96aa299e1ad6bd0d": {
          "model_module": "@jupyter-widgets/base",
          "model_name": "LayoutModel",
          "model_module_version": "1.2.0",
          "state": {
            "_model_module": "@jupyter-widgets/base",
            "_model_module_version": "1.2.0",
            "_model_name": "LayoutModel",
            "_view_count": null,
            "_view_module": "@jupyter-widgets/base",
            "_view_module_version": "1.2.0",
            "_view_name": "LayoutView",
            "align_content": null,
            "align_items": null,
            "align_self": null,
            "border": null,
            "bottom": null,
            "display": null,
            "flex": null,
            "flex_flow": null,
            "grid_area": null,
            "grid_auto_columns": null,
            "grid_auto_flow": null,
            "grid_auto_rows": null,
            "grid_column": null,
            "grid_gap": null,
            "grid_row": null,
            "grid_template_areas": null,
            "grid_template_columns": null,
            "grid_template_rows": null,
            "height": null,
            "justify_content": null,
            "justify_items": null,
            "left": null,
            "margin": null,
            "max_height": null,
            "max_width": null,
            "min_height": null,
            "min_width": null,
            "object_fit": null,
            "object_position": null,
            "order": null,
            "overflow": null,
            "overflow_x": null,
            "overflow_y": null,
            "padding": null,
            "right": null,
            "top": null,
            "visibility": null,
            "width": null
          }
        },
        "4c77314a02b34eb08dcd8d2c15bbc80b": {
          "model_module": "@jupyter-widgets/controls",
          "model_name": "DescriptionStyleModel",
          "model_module_version": "1.5.0",
          "state": {
            "_model_module": "@jupyter-widgets/controls",
            "_model_module_version": "1.5.0",
            "_model_name": "DescriptionStyleModel",
            "_view_count": null,
            "_view_module": "@jupyter-widgets/base",
            "_view_module_version": "1.2.0",
            "_view_name": "StyleView",
            "description_width": ""
          }
        },
        "90067eb884cf497fb85db90fbeb0de2f": {
          "model_module": "@jupyter-widgets/base",
          "model_name": "LayoutModel",
          "model_module_version": "1.2.0",
          "state": {
            "_model_module": "@jupyter-widgets/base",
            "_model_module_version": "1.2.0",
            "_model_name": "LayoutModel",
            "_view_count": null,
            "_view_module": "@jupyter-widgets/base",
            "_view_module_version": "1.2.0",
            "_view_name": "LayoutView",
            "align_content": null,
            "align_items": null,
            "align_self": null,
            "border": null,
            "bottom": null,
            "display": null,
            "flex": null,
            "flex_flow": null,
            "grid_area": null,
            "grid_auto_columns": null,
            "grid_auto_flow": null,
            "grid_auto_rows": null,
            "grid_column": null,
            "grid_gap": null,
            "grid_row": null,
            "grid_template_areas": null,
            "grid_template_columns": null,
            "grid_template_rows": null,
            "height": null,
            "justify_content": null,
            "justify_items": null,
            "left": null,
            "margin": null,
            "max_height": null,
            "max_width": null,
            "min_height": null,
            "min_width": null,
            "object_fit": null,
            "object_position": null,
            "order": null,
            "overflow": null,
            "overflow_x": null,
            "overflow_y": null,
            "padding": null,
            "right": null,
            "top": null,
            "visibility": null,
            "width": null
          }
        },
        "087549530f904d79aac28ac6cb8b551b": {
          "model_module": "@jupyter-widgets/controls",
          "model_name": "ProgressStyleModel",
          "model_module_version": "1.5.0",
          "state": {
            "_model_module": "@jupyter-widgets/controls",
            "_model_module_version": "1.5.0",
            "_model_name": "ProgressStyleModel",
            "_view_count": null,
            "_view_module": "@jupyter-widgets/base",
            "_view_module_version": "1.2.0",
            "_view_name": "StyleView",
            "bar_color": null,
            "description_width": ""
          }
        },
        "16235bad25e9401dbe70c51c89809637": {
          "model_module": "@jupyter-widgets/base",
          "model_name": "LayoutModel",
          "model_module_version": "1.2.0",
          "state": {
            "_model_module": "@jupyter-widgets/base",
            "_model_module_version": "1.2.0",
            "_model_name": "LayoutModel",
            "_view_count": null,
            "_view_module": "@jupyter-widgets/base",
            "_view_module_version": "1.2.0",
            "_view_name": "LayoutView",
            "align_content": null,
            "align_items": null,
            "align_self": null,
            "border": null,
            "bottom": null,
            "display": null,
            "flex": null,
            "flex_flow": null,
            "grid_area": null,
            "grid_auto_columns": null,
            "grid_auto_flow": null,
            "grid_auto_rows": null,
            "grid_column": null,
            "grid_gap": null,
            "grid_row": null,
            "grid_template_areas": null,
            "grid_template_columns": null,
            "grid_template_rows": null,
            "height": null,
            "justify_content": null,
            "justify_items": null,
            "left": null,
            "margin": null,
            "max_height": null,
            "max_width": null,
            "min_height": null,
            "min_width": null,
            "object_fit": null,
            "object_position": null,
            "order": null,
            "overflow": null,
            "overflow_x": null,
            "overflow_y": null,
            "padding": null,
            "right": null,
            "top": null,
            "visibility": null,
            "width": null
          }
        },
        "ca892f73b94c436dae5c862e6f3a2c1e": {
          "model_module": "@jupyter-widgets/controls",
          "model_name": "DescriptionStyleModel",
          "model_module_version": "1.5.0",
          "state": {
            "_model_module": "@jupyter-widgets/controls",
            "_model_module_version": "1.5.0",
            "_model_name": "DescriptionStyleModel",
            "_view_count": null,
            "_view_module": "@jupyter-widgets/base",
            "_view_module_version": "1.2.0",
            "_view_name": "StyleView",
            "description_width": ""
          }
        }
      }
    }
  },
  "cells": [
    {
      "cell_type": "markdown",
      "source": [
        "# **А/Б тесты с метрикой отношения. Дельта-метод**"
      ],
      "metadata": {
        "id": "M0MVxOkEn3gH"
      }
    },
    {
      "cell_type": "markdown",
      "source": [
        "### *Код ноутбука взят из публикации X5 Tech (Хабр)*"
      ],
      "metadata": {
        "id": "wULN1lxeoABv"
      }
    },
    {
      "cell_type": "code",
      "execution_count": 1,
      "metadata": {
        "id": "0Fnsgzcgn1AI"
      },
      "outputs": [],
      "source": [
        "import numpy as np\n",
        "import matplotlib.pyplot as plt\n",
        "from scipy import stats\n",
        "from tqdm.notebook import tqdm"
      ]
    },
    {
      "cell_type": "code",
      "source": [
        "def plot_pvalue_distribution(dict_pvalues):\n",
        "    \"\"\"График распределения p-value.\"\"\"\n",
        "    X = np.linspace(0, 1, 1000)\n",
        "    for name, pvalues in dict_pvalues.items():\n",
        "        Y = [np.mean(pvalues < x) for x in X]\n",
        "        plt.plot(X, Y, label=name)\n",
        "\n",
        "    plt.plot([0, 1], [0, 1], '--k', alpha=0.8)\n",
        "    plt.title('Оценка распределения p-value', size=16)\n",
        "    plt.xlabel('p-value', size=12)\n",
        "    plt.legend(fontsize=12)\n",
        "    plt.grid()\n",
        "    plt.show()"
      ],
      "metadata": {
        "id": "Uvy8w-RHom9y"
      },
      "execution_count": 2,
      "outputs": []
    },
    {
      "cell_type": "markdown",
      "source": [
        "### **Метрики отношений и тест Стьюдента**"
      ],
      "metadata": {
        "id": "OfnQsOrKsfVg"
      }
    },
    {
      "cell_type": "code",
      "source": [
        "def generate_data(sample_size, effect):\n",
        "    \"\"\"Генерация данных со стоимостью покупок.\n",
        "       Возвращает два списка с данными контрольной и экспериментальной групп.\n",
        "       Элементы списков - множества со стоимостями покупок пользователей. \n",
        "    \"\"\"\n",
        "    result = []\n",
        "    for group_effect in [0, effect]:\n",
        "        n_purchases = np.random.randint(1, 5, sample_size)\n",
        "        mean_costs = np.random.uniform(1000, 2000, sample_size)\n",
        "        data = [\n",
        "            np.random.normal(mean + group_effect, 200, n)\n",
        "            for n, mean in zip(n_purchases, mean_costs)\n",
        "        ]\n",
        "        result.append(data)\n",
        "    return result"
      ],
      "metadata": {
        "id": "8V8qz2iIo7W0"
      },
      "execution_count": 3,
      "outputs": []
    },
    {
      "cell_type": "code",
      "source": [
        "alpha = 0.05           # допустимая вероятность ошибки I рода\n",
        "sample_size = 100      # размер групп"
      ],
      "metadata": {
        "id": "0u5kQ_xHpZcn"
      },
      "execution_count": 4,
      "outputs": []
    },
    {
      "cell_type": "code",
      "source": [
        "pvalues = []\n",
        "for _ in tqdm(range(1000)):\n",
        "    a, b = generate_data(sample_size, 0)\n",
        "    a_values = np.hstack(a)\n",
        "    b_values = np.hstack(b)\n",
        "    pvalue = stats.ttest_ind(a_values, b_values).pvalue\n",
        "    pvalues.append(pvalue)\n",
        "\n",
        "error_rate = np.mean(np.array(pvalues) < alpha)\n",
        "print(f'Доля ошибок первого рода: {error_rate:0.2f}')\n",
        "plot_pvalue_distribution({'A/A': pvalues})"
      ],
      "metadata": {
        "colab": {
          "base_uri": "https://localhost:8080/",
          "height": 527,
          "referenced_widgets": [
            "eb438378fc5d4c4b86310acb9b194d8f",
            "fa0243889dce475c8ca8dcb560a95e2b",
            "ac5316bfd3944b6585ab5962b7371e4b",
            "71fc101a8e6b44db9f1c421cbf4d1abc",
            "67feb238a56047758f136d9275d03bf1",
            "58f70fae81ac402c8a342a037ede3291",
            "7e41872d22f7487c90f50b388b4a9664",
            "e7057749e7484463a2959259c704b9fc",
            "237a192ccb1343889e8aa6c99bbf6c76",
            "1263e7d95f5745b48ab7cf34a30b1d96",
            "d0a4f7530df64ad48ed9380dd876d8e5"
          ]
        },
        "id": "T_kz4ymzpbo3",
        "outputId": "520d28f6-984f-4ac2-fa73-590fb58aa6c5"
      },
      "execution_count": 5,
      "outputs": [
        {
          "output_type": "display_data",
          "data": {
            "text/plain": [
              "  0%|          | 0/1000 [00:00<?, ?it/s]"
            ],
            "application/vnd.jupyter.widget-view+json": {
              "version_major": 2,
              "version_minor": 0,
              "model_id": "eb438378fc5d4c4b86310acb9b194d8f"
            }
          },
          "metadata": {}
        },
        {
          "output_type": "stream",
          "name": "stdout",
          "text": [
            "Доля ошибок первого рода: 0.19\n"
          ]
        },
        {
          "output_type": "display_data",
          "data": {
            "text/plain": [
              "<Figure size 640x480 with 1 Axes>"
            ],
            "image/png": "[encoded data removed]"
          },
          "metadata": {}
        }
      ]
    },
    {
      "cell_type": "markdown",
      "source": [
        "Тест Стьюдента в прошлом примере работал некорректно из-за зависимых данных. Покупки одного клиента зависимы, а покупки разных клиентов независимы. Избавимся от зависимых данных, объединив покупки по клиентам. Для каждого клиента посчитаем его средний чек и по этим данным проверим гипотезу о равенстве средних."
      ],
      "metadata": {
        "id": "MA5_j4blwvOZ"
      }
    },
    {
      "cell_type": "code",
      "source": [
        "pvalues = []\n",
        "for _ in tqdm(range(1000)):\n",
        "    a, b = generate_data(sample_size, 0)\n",
        "    a_means = [np.mean(x) for x in a]\n",
        "    b_means = [np.mean(x) for x in b]\n",
        "    pvalue = stats.ttest_ind(a_means, b_means).pvalue\n",
        "    pvalues.append(pvalue)\n",
        "\n",
        "plot_pvalue_distribution({'A/A': pvalues})"
      ],
      "metadata": {
        "colab": {
          "base_uri": "https://localhost:8080/",
          "height": 510,
          "referenced_widgets": [
            "e94fb9706d764cdb9d628232a27ce95a",
            "9b2a5e2306c54dd1b26d1dabf591c362",
            "8eec2ff30ddd42e1bd6a779110f6dde2",
            "1bdef9389ed7422c91b8442f53496c25",
            "12d91a7574234cc5911381ca001f6fa1",
            "214e649f6710422590ca2e5344ac597f",
            "7495be9943654d95b578422e5ccc583b",
            "b46a17666b2449c3b2557d14d5ae9650",
            "61dc7551c9174ff1996c48f6bf3fd47c",
            "0a5d21c140b34caca8f2a2ae2c7522d5",
            "0d45a76de2d8452694f5cc9e31de263b"
          ]
        },
        "id": "Kf1MKTI6rZqh",
        "outputId": "003511ff-7881-4ef0-a59c-2063e940ed78"
      },
      "execution_count": 6,
      "outputs": [
        {
          "output_type": "display_data",
          "data": {
            "text/plain": [
              "  0%|          | 0/1000 [00:00<?, ?it/s]"
            ],
            "application/vnd.jupyter.widget-view+json": {
              "version_major": 2,
              "version_minor": 0,
              "model_id": "e94fb9706d764cdb9d628232a27ce95a"
            }
          },
          "metadata": {}
        },
        {
          "output_type": "display_data",
          "data": {
            "text/plain": [
              "<Figure size 640x480 with 1 Axes>"
            ],
            "image/png": "[encoded data removed]"
          },
          "metadata": {}
        }
      ]
    },
    {
      "cell_type": "markdown",
      "source": [
        "Распределение p-value получилось равномерным. Тест Стьюдента работает корректно. Но мы перешли от проверки гипотезы о равенстве метрик отношения к проверке гипотезы о равенстве среднего средних. Можно ли результаты, полученные при проверке одной гипотезы, обобщать на другую гипотезу?\n",
        "\n",
        "Нет, между метрикой отношения и средним средних нет однозначной связи. Использовать среднее средних для проверки гипотезы о равенстве метрик отношения нельзя."
      ],
      "metadata": {
        "id": "T0zTCbN5x24J"
      }
    },
    {
      "cell_type": "markdown",
      "source": [
        "### **Бутстреп**"
      ],
      "metadata": {
        "id": "9uSrkQGoyq07"
      }
    },
    {
      "cell_type": "markdown",
      "source": [
        "Основная особенность применение бутстрепа для метрик отношения — данные необходимо семплировать по объектам, а не по наблюдениям. Если объект оказался в определённой группе, то и все его действия будут в этой группе."
      ],
      "metadata": {
        "id": "ogfxMHQMy9qY"
      }
    },
    {
      "cell_type": "code",
      "source": [
        "def get_percentile_ci(bootstrap_stats, alpha):\n",
        "    \"\"\"Перцентильный доверительный интервал.\"\"\"\n",
        "    left, right = np.quantile(bootstrap_stats, [alpha / 2, 1 - alpha / 2])\n",
        "    return left, right"
      ],
      "metadata": {
        "id": "QG_mZ5oSywjp"
      },
      "execution_count": 7,
      "outputs": []
    },
    {
      "cell_type": "code",
      "source": [
        "def check_bootsrtap(a, b, n_iter, alpha):\n",
        "    \"\"\"Оценка значимости отличий с помощью бутстрепа.\n",
        "       Если отличия значимые, то возвращает 1, иначе 0.\n",
        "    \"\"\"\n",
        "    # Стоимость и количество покупок клиентов\n",
        "    xy_a = np.array([[sum(values), len(values)] for values in a])\n",
        "    xy_b = np.array([[sum(values), len(values)] for values in b])\n",
        "    # Генерация случайных индексов для выбора подмножеств данных\n",
        "    len_a = len(a)\n",
        "    len_b = len(b)\n",
        "    indexes_a = np.random.choice(\n",
        "        np.arange(len_a), size=(n_iter, len_a), replace=True\n",
        "    )\n",
        "    indexes_b = np.random.choice(\n",
        "        np.arange(len_b), size=(n_iter, len_b), replace=True\n",
        "    )\n",
        "\n",
        "    bootstrap_stats = []\n",
        "    for idx_a, idx_b in zip(indexes_a, indexes_b):\n",
        "        bootstrap_xy_a = xy_a[idx_a]\n",
        "        bootstrap_xy_b = xy_b[idx_b]\n",
        "        # Разница метрик отношения\n",
        "        bootstrap_stat = (\n",
        "            bootstrap_xy_b[:, 0].sum() / bootstrap_xy_b[:, 1].sum()\n",
        "            - bootstrap_xy_a[:, 0].sum() / bootstrap_xy_a[:, 1].sum()\n",
        "        )\n",
        "        bootstrap_stats.append(bootstrap_stat)\n",
        "    # Доверительный интервал и оценка значимости отличий\n",
        "    ci = get_percentile_ci(bootstrap_stats, alpha)\n",
        "    has_effect = 1 - (ci[0] < 0 < ci[1])\n",
        "    return has_effect"
      ],
      "metadata": {
        "id": "l51kQe9PzJAR"
      },
      "execution_count": 8,
      "outputs": []
    },
    {
      "cell_type": "code",
      "source": [
        "alpha = 0.05               # допустимая вероятность ошибки I рода\n",
        "sample_size = 1000         # размер групп\n",
        "n_iter = 1000              # количество итераций бутстрепа"
      ],
      "metadata": {
        "id": "8o4fpGO71N6D"
      },
      "execution_count": 9,
      "outputs": []
    },
    {
      "cell_type": "code",
      "source": [
        "effects = []\n",
        "for _ in tqdm(range(1000)):\n",
        "    a, b = generate_data(sample_size, 0)\n",
        "    has_effect = check_bootsrtap(a, b, n_iter, alpha)\n",
        "    effects.append(has_effect)\n",
        "\n",
        "error_rate = np.mean(np.array(effects) == 1)\n",
        "print(f'Доля ошибок первого рода: {error_rate:0.3f}')"
      ],
      "metadata": {
        "colab": {
          "base_uri": "https://localhost:8080/",
          "height": 66,
          "referenced_widgets": [
            "58d591b360164714ad8e89c23a557723",
            "ab5c4d6b2a694e2885766bb0e17993a9",
            "5f687fec5d854264bdac75f704067e5d",
            "2036f6090a804cb29fd09a54cf0d879e",
            "d164d2236edc448fa65a0694711dfdd6",
            "bdf42ea93cb241648125bf54a0ae6148",
            "00866f06191945f0aa9fa4ba2752a12d",
            "262269c0dbdd46acb3e0e87c9b1e8d61",
            "a92e64d35d6c4fac8584ea031fb2eb25",
            "303976bbfe5b453da4b2b242dc33612f",
            "0a87ab54eae7457f9cbefa2fe2df4331"
          ]
        },
        "id": "yfQTdJt-1PAq",
        "outputId": "c9b3b7f0-e3b9-4895-8b70-6cfe0dc8ca1d"
      },
      "execution_count": 10,
      "outputs": [
        {
          "output_type": "display_data",
          "data": {
            "text/plain": [
              "  0%|          | 0/1000 [00:00<?, ?it/s]"
            ],
            "application/vnd.jupyter.widget-view+json": {
              "version_major": 2,
              "version_minor": 0,
              "model_id": "58d591b360164714ad8e89c23a557723"
            }
          },
          "metadata": {}
        },
        {
          "output_type": "stream",
          "name": "stdout",
          "text": [
            "Доля ошибок первого рода: 0.047\n"
          ]
        }
      ]
    },
    {
      "cell_type": "markdown",
      "source": [
        "Приведённая реализация бутстрепа не вычисляет p-value, поэтому построить распределение мы не сможем. Доля ошибок первого рода находится в районе заданного уровня значимости."
      ],
      "metadata": {
        "id": "7_HdFJxn1psK"
      }
    },
    {
      "cell_type": "markdown",
      "source": [
        "### **Дельта-метод**"
      ],
      "metadata": {
        "id": "uI5m5F6x15WJ"
      }
    },
    {
      "cell_type": "code",
      "source": [
        "def check_delta_method(a, b):\n",
        "    \"\"\"Проверка гипотезы с помощью дельта-метода.\n",
        "       Возвращает p-value.\n",
        "    \"\"\"\n",
        "    dict_ = {}\n",
        "    for data, group_name in [(a, 'a',), (b, 'b',)]:\n",
        "        n_user = len(data)\n",
        "        array_x = np.array([np.sum(row) for row in data])\n",
        "        array_y = np.array([len(row) for row in data])\n",
        "        mean_x, mean_y = np.mean(array_x), np.mean(array_y)\n",
        "        var_x, var_y = np.var(array_x), np.var(array_y)\n",
        "        cov_xy = np.cov(array_x, array_y)[0, 1]\n",
        "        # Точечная оценка метрики\n",
        "        pe_metric = np.sum(array_x) / np.sum(array_y)\n",
        "        # Оценка дисперсии метрики\n",
        "        var_metric = (\n",
        "            var_x / mean_y ** 2\n",
        "            - 2 * (mean_x / mean_y ** 3) * cov_xy\n",
        "            + (mean_x ** 2 / mean_y ** 4) * var_y\n",
        "        ) / n_user\n",
        "        dict_[f'pe_metric_{group_name}'] = pe_metric\n",
        "        dict_[f'var_metric_{group_name}'] = var_metric\n",
        "    var = dict_['var_metric_a'] + dict_['var_metric_b']\n",
        "    delta = dict_['pe_metric_b'] - dict_['pe_metric_a']\n",
        "    t = delta / np.sqrt(var)\n",
        "    pvalue = (1 - stats.norm.cdf(np.abs(t))) * 2\n",
        "    return pvalue"
      ],
      "metadata": {
        "id": "u69a_GK810ll"
      },
      "execution_count": 11,
      "outputs": []
    },
    {
      "cell_type": "code",
      "source": [
        "alpha = 0.05           # допустимая вероятность ошибки I рода\n",
        "sample_size = 1000     # размер групп\n",
        "effect = 50            # размер эффекта"
      ],
      "metadata": {
        "id": "rzAkLD9222FS"
      },
      "execution_count": 12,
      "outputs": []
    },
    {
      "cell_type": "code",
      "source": [
        "pvalues_aa = []\n",
        "pvalues_ab = []\n",
        "for _ in tqdm(range(1000)):\n",
        "    a, b = generate_data(sample_size, 0)\n",
        "    pvalues_aa.append(check_delta_method(a, b))\n",
        "    a, b = generate_data(sample_size, effect)\n",
        "    pvalues_ab.append(check_delta_method(a, b))\n",
        "\n",
        "plot_pvalue_distribution({'A/A': pvalues_aa, 'A/B': pvalues_ab})"
      ],
      "metadata": {
        "colab": {
          "base_uri": "https://localhost:8080/",
          "height": 510,
          "referenced_widgets": [
            "6b9924e979a249c4b9eeb5e82951c9d5",
            "029147c3ad864bab9b01daeec871e1b8",
            "b530e7019ca249d19e4942255e74eab1",
            "51028f0083d3432796f0239ab9b9097a",
            "95b626e3beb243c6a4ddada7d5ed5cb6",
            "4585ca6ce2f9493d96aa299e1ad6bd0d",
            "4c77314a02b34eb08dcd8d2c15bbc80b",
            "90067eb884cf497fb85db90fbeb0de2f",
            "087549530f904d79aac28ac6cb8b551b",
            "16235bad25e9401dbe70c51c89809637",
            "ca892f73b94c436dae5c862e6f3a2c1e"
          ]
        },
        "id": "1TX80zkl25dq",
        "outputId": "4a122a6d-ada5-4b3b-d95b-3b3b373e7cb6"
      },
      "execution_count": 13,
      "outputs": [
        {
          "output_type": "display_data",
          "data": {
            "text/plain": [
              "  0%|          | 0/1000 [00:00<?, ?it/s]"
            ],
            "application/vnd.jupyter.widget-view+json": {
              "version_major": 2,
              "version_minor": 0,
              "model_id": "6b9924e979a249c4b9eeb5e82951c9d5"
            }
          },
          "metadata": {}
        },
        {
          "output_type": "display_data",
          "data": {
            "text/plain": [
              "<Figure size 640x480 with 1 Axes>"
            ],
            "image/png": "[encoded data removed]"
          },
          "metadata": {}
        }
      ]
    },
    {
      "cell_type": "markdown",
      "source": [
        "В этот раз мы провели и А/А и А/Б эксперименты. Дельта-метод контролирует вероятность ошибки первого рода на уровне значимости, когда эффекта нет, и находит эффект, когда он есть. Критерий работает корректно."
      ],
      "metadata": {
        "id": "Qogn6wmT4ot7"
      }
    },
    {
      "cell_type": "markdown",
      "source": [
        "**Выводы**\n",
        "\n",
        "* Критерий Стьюдента, применённый в лоб к исходным данным, работает некорректно, так как данные зависимы.\n",
        "\n",
        "* Если заменить метрику отношения на среднее средних, то проблема зависимых данных исчезнет, но новая метрика может быть не сонаправлена с исходной. Если увеличилась одна, то другая могла как увеличиться, так и уменьшиться.\n",
        "\n",
        "* Оценить значимость изменения метрики отношения можно с помощью бутстрепа. Основной недостаток — требует много вычислительных ресурсов.\n",
        "\n",
        "* Дельта-метод — способ оценки А/Б тестов с метрикой отношения, который основан на вычислении дисперсии зависимых данных."
      ],
      "metadata": {
        "id": "5v-n38AR4phz"
      }
    }
  ]
}