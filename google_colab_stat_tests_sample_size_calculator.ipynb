{
  "nbformat": 4,
  "nbformat_minor": 0,
  "metadata": {
    "colab": {
      "name": "google_colab_stat_tests_sample_size_calculator.ipynb",
      "provenance": [],
      "collapsed_sections": []
    },
    "kernelspec": {
      "name": "python3",
      "display_name": "Python 3"
    },
    "language_info": {
      "name": "python"
    },
    "widgets": {
      "application/vnd.jupyter.widget-state+json": {
        "679cda08ecbc4c1c93faed142425aeb3": {
          "model_module": "@jupyter-widgets/controls",
          "model_name": "HBoxModel",
          "model_module_version": "1.5.0",
          "state": {
            "_dom_classes": [],
            "_model_module": "@jupyter-widgets/controls",
            "_model_module_version": "1.5.0",
            "_model_name": "HBoxModel",
            "_view_count": null,
            "_view_module": "@jupyter-widgets/controls",
            "_view_module_version": "1.5.0",
            "_view_name": "HBoxView",
            "box_style": "",
            "children": [
              "IPY_MODEL_65447f0e027d4680b0069a0a60970944",
              "IPY_MODEL_a7feab57403e4431844c044b7fb67442",
              "IPY_MODEL_819f8cd01b7147e08f597919523258ed"
            ],
            "layout": "IPY_MODEL_dd9d8c15d1b74f0b9bbae78a8d01f6e1"
          }
        },
        "65447f0e027d4680b0069a0a60970944": {
          "model_module": "@jupyter-widgets/controls",
          "model_name": "HTMLModel",
          "model_module_version": "1.5.0",
          "state": {
            "_dom_classes": [],
            "_model_module": "@jupyter-widgets/controls",
            "_model_module_version": "1.5.0",
            "_model_name": "HTMLModel",
            "_view_count": null,
            "_view_module": "@jupyter-widgets/controls",
            "_view_module_version": "1.5.0",
            "_view_name": "HTMLView",
            "description": "",
            "description_tooltip": null,
            "layout": "IPY_MODEL_0987859c2c0441cb98f37280d97395ce",
            "placeholder": "​",
            "style": "IPY_MODEL_37484f1e09954efcb3d0e108224bc96e",
            "value": "100%"
          }
        },
        "a7feab57403e4431844c044b7fb67442": {
          "model_module": "@jupyter-widgets/controls",
          "model_name": "FloatProgressModel",
          "model_module_version": "1.5.0",
          "state": {
            "_dom_classes": [],
            "_model_module": "@jupyter-widgets/controls",
            "_model_module_version": "1.5.0",
            "_model_name": "FloatProgressModel",
            "_view_count": null,
            "_view_module": "@jupyter-widgets/controls",
            "_view_module_version": "1.5.0",
            "_view_name": "ProgressView",
            "bar_style": "success",
            "description": "",
            "description_tooltip": null,
            "layout": "IPY_MODEL_5660d54a228347069e01e113a9706344",
            "max": 10000,
            "min": 0,
            "orientation": "horizontal",
            "style": "IPY_MODEL_fd2f62eb8d964f14bc5c5f4c202794ba",
            "value": 10000
          }
        },
        "819f8cd01b7147e08f597919523258ed": {
          "model_module": "@jupyter-widgets/controls",
          "model_name": "HTMLModel",
          "model_module_version": "1.5.0",
          "state": {
            "_dom_classes": [],
            "_model_module": "@jupyter-widgets/controls",
            "_model_module_version": "1.5.0",
            "_model_name": "HTMLModel",
            "_view_count": null,
            "_view_module": "@jupyter-widgets/controls",
            "_view_module_version": "1.5.0",
            "_view_name": "HTMLView",
            "description": "",
            "description_tooltip": null,
            "layout": "IPY_MODEL_284c029d1d334bfeb86f6fc25e46d398",
            "placeholder": "​",
            "style": "IPY_MODEL_ad9743a1c53b46728ab4c8f9592d2214",
            "value": " 10000/10000 [00:12&lt;00:00, 1280.96it/s]"
          }
        },
        "dd9d8c15d1b74f0b9bbae78a8d01f6e1": {
          "model_module": "@jupyter-widgets/base",
          "model_name": "LayoutModel",
          "model_module_version": "1.2.0",
          "state": {
            "_model_module": "@jupyter-widgets/base",
            "_model_module_version": "1.2.0",
            "_model_name": "LayoutModel",
            "_view_count": null,
            "_view_module": "@jupyter-widgets/base",
            "_view_module_version": "1.2.0",
            "_view_name": "LayoutView",
            "align_content": null,
            "align_items": null,
            "align_self": null,
            "border": null,
            "bottom": null,
            "display": null,
            "flex": null,
            "flex_flow": null,
            "grid_area": null,
            "grid_auto_columns": null,
            "grid_auto_flow": null,
            "grid_auto_rows": null,
            "grid_column": null,
            "grid_gap": null,
            "grid_row": null,
            "grid_template_areas": null,
            "grid_template_columns": null,
            "grid_template_rows": null,
            "height": null,
            "justify_content": null,
            "justify_items": null,
            "left": null,
            "margin": null,
            "max_height": null,
            "max_width": null,
            "min_height": null,
            "min_width": null,
            "object_fit": null,
            "object_position": null,
            "order": null,
            "overflow": null,
            "overflow_x": null,
            "overflow_y": null,
            "padding": null,
            "right": null,
            "top": null,
            "visibility": null,
            "width": null
          }
        },
        "0987859c2c0441cb98f37280d97395ce": {
          "model_module": "@jupyter-widgets/base",
          "model_name": "LayoutModel",
          "model_module_version": "1.2.0",
          "state": {
            "_model_module": "@jupyter-widgets/base",
            "_model_module_version": "1.2.0",
            "_model_name": "LayoutModel",
            "_view_count": null,
            "_view_module": "@jupyter-widgets/base",
            "_view_module_version": "1.2.0",
            "_view_name": "LayoutView",
            "align_content": null,
            "align_items": null,
            "align_self": null,
            "border": null,
            "bottom": null,
            "display": null,
            "flex": null,
            "flex_flow": null,
            "grid_area": null,
            "grid_auto_columns": null,
            "grid_auto_flow": null,
            "grid_auto_rows": null,
            "grid_column": null,
            "grid_gap": null,
            "grid_row": null,
            "grid_template_areas": null,
            "grid_template_columns": null,
            "grid_template_rows": null,
            "height": null,
            "justify_content": null,
            "justify_items": null,
            "left": null,
            "margin": null,
            "max_height": null,
            "max_width": null,
            "min_height": null,
            "min_width": null,
            "object_fit": null,
            "object_position": null,
            "order": null,
            "overflow": null,
            "overflow_x": null,
            "overflow_y": null,
            "padding": null,
            "right": null,
            "top": null,
            "visibility": null,
            "width": null
          }
        },
        "37484f1e09954efcb3d0e108224bc96e": {
          "model_module": "@jupyter-widgets/controls",
          "model_name": "DescriptionStyleModel",
          "model_module_version": "1.5.0",
          "state": {
            "_model_module": "@jupyter-widgets/controls",
            "_model_module_version": "1.5.0",
            "_model_name": "DescriptionStyleModel",
            "_view_count": null,
            "_view_module": "@jupyter-widgets/base",
            "_view_module_version": "1.2.0",
            "_view_name": "StyleView",
            "description_width": ""
          }
        },
        "5660d54a228347069e01e113a9706344": {
          "model_module": "@jupyter-widgets/base",
          "model_name": "LayoutModel",
          "model_module_version": "1.2.0",
          "state": {
            "_model_module": "@jupyter-widgets/base",
            "_model_module_version": "1.2.0",
            "_model_name": "LayoutModel",
            "_view_count": null,
            "_view_module": "@jupyter-widgets/base",
            "_view_module_version": "1.2.0",
            "_view_name": "LayoutView",
            "align_content": null,
            "align_items": null,
            "align_self": null,
            "border": null,
            "bottom": null,
            "display": null,
            "flex": null,
            "flex_flow": null,
            "grid_area": null,
            "grid_auto_columns": null,
            "grid_auto_flow": null,
            "grid_auto_rows": null,
            "grid_column": null,
            "grid_gap": null,
            "grid_row": null,
            "grid_template_areas": null,
            "grid_template_columns": null,
            "grid_template_rows": null,
            "height": null,
            "justify_content": null,
            "justify_items": null,
            "left": null,
            "margin": null,
            "max_height": null,
            "max_width": null,
            "min_height": null,
            "min_width": null,
            "object_fit": null,
            "object_position": null,
            "order": null,
            "overflow": null,
            "overflow_x": null,
            "overflow_y": null,
            "padding": null,
            "right": null,
            "top": null,
            "visibility": null,
            "width": null
          }
        },
        "fd2f62eb8d964f14bc5c5f4c202794ba": {
          "model_module": "@jupyter-widgets/controls",
          "model_name": "ProgressStyleModel",
          "model_module_version": "1.5.0",
          "state": {
            "_model_module": "@jupyter-widgets/controls",
            "_model_module_version": "1.5.0",
            "_model_name": "ProgressStyleModel",
            "_view_count": null,
            "_view_module": "@jupyter-widgets/base",
            "_view_module_version": "1.2.0",
            "_view_name": "StyleView",
            "bar_color": null,
            "description_width": ""
          }
        },
        "284c029d1d334bfeb86f6fc25e46d398": {
          "model_module": "@jupyter-widgets/base",
          "model_name": "LayoutModel",
          "model_module_version": "1.2.0",
          "state": {
            "_model_module": "@jupyter-widgets/base",
            "_model_module_version": "1.2.0",
            "_model_name": "LayoutModel",
            "_view_count": null,
            "_view_module": "@jupyter-widgets/base",
            "_view_module_version": "1.2.0",
            "_view_name": "LayoutView",
            "align_content": null,
            "align_items": null,
            "align_self": null,
            "border": null,
            "bottom": null,
            "display": null,
            "flex": null,
            "flex_flow": null,
            "grid_area": null,
            "grid_auto_columns": null,
            "grid_auto_flow": null,
            "grid_auto_rows": null,
            "grid_column": null,
            "grid_gap": null,
            "grid_row": null,
            "grid_template_areas": null,
            "grid_template_columns": null,
            "grid_template_rows": null,
            "height": null,
            "justify_content": null,
            "justify_items": null,
            "left": null,
            "margin": null,
            "max_height": null,
            "max_width": null,
            "min_height": null,
            "min_width": null,
            "object_fit": null,
            "object_position": null,
            "order": null,
            "overflow": null,
            "overflow_x": null,
            "overflow_y": null,
            "padding": null,
            "right": null,
            "top": null,
            "visibility": null,
            "width": null
          }
        },
        "ad9743a1c53b46728ab4c8f9592d2214": {
          "model_module": "@jupyter-widgets/controls",
          "model_name": "DescriptionStyleModel",
          "model_module_version": "1.5.0",
          "state": {
            "_model_module": "@jupyter-widgets/controls",
            "_model_module_version": "1.5.0",
            "_model_name": "DescriptionStyleModel",
            "_view_count": null,
            "_view_module": "@jupyter-widgets/base",
            "_view_module_version": "1.2.0",
            "_view_name": "StyleView",
            "description_width": ""
          }
        }
      }
    }
  },
  "cells": [
    {
      "cell_type": "code",
      "metadata": {
        "colab": {
          "base_uri": "https://localhost:8080/"
        },
        "id": "aNx0mCx499oM",
        "outputId": "84db74a7-383d-41c5-d308-1b9d1582414d"
      },
      "source": [
        "import math\n",
        "import numpy as np\n",
        "import scipy.stats as stats\n",
        "from scipy.stats import norm\n",
        "import statsmodels.stats.api as sms\n",
        "from statsmodels.stats.proportion import proportions_ztest\n",
        "from tqdm.notebook import tqdm"
      ],
      "execution_count": 1,
      "outputs": [
        {
          "output_type": "stream",
          "name": "stderr",
          "text": [
            "/usr/local/lib/python3.7/dist-packages/statsmodels/tools/_testing.py:19: FutureWarning: pandas.util.testing is deprecated. Use the functions in the public API at pandas.testing instead.\n",
            "  import pandas.util.testing as tm\n"
          ]
        }
      ]
    },
    {
      "cell_type": "markdown",
      "metadata": {
        "id": "n0yAlc2S-HYZ"
      },
      "source": [
        "# **Вариант 1**"
      ]
    },
    {
      "cell_type": "code",
      "metadata": {
        "id": "VOdn1Tq5-Pnv"
      },
      "source": [
        "# Evan's Awesome A/B Tools - https://www.evanmiller.org/ab-testing/sample-size.html"
      ],
      "execution_count": 2,
      "outputs": []
    },
    {
      "cell_type": "code",
      "metadata": {
        "id": "jcMZlkV7_f0X"
      },
      "source": [
        "# https://www.evanmiller.org/ab-testing/sample-size.html#!10;80;5;1;0"
      ],
      "execution_count": 3,
      "outputs": []
    },
    {
      "cell_type": "code",
      "metadata": {
        "id": "bZx0EN27_vSI"
      },
      "source": [
        "# Результат - 14313"
      ],
      "execution_count": 4,
      "outputs": []
    },
    {
      "cell_type": "markdown",
      "metadata": {
        "id": "nSwKeb0E-SHw"
      },
      "source": [
        "# **Вариант 2**"
      ]
    },
    {
      "cell_type": "code",
      "metadata": {
        "colab": {
          "base_uri": "https://localhost:8080/"
        },
        "id": "LbuFBtDT-WKo",
        "outputId": "b8f1522e-9794-4452-8f86-24f7fe8f6e7d"
      },
      "source": [
        "baseline_rate = 0.1\n",
        "practical_significance = 0.01\n",
        "confidence_level = 0.05 \n",
        "sensitivity = 0.8 \n",
        "\n",
        "effect_size = sms.proportion_effectsize(baseline_rate, baseline_rate + practical_significance)\n",
        "sample_size = sms.NormalIndPower().solve_power(effect_size = effect_size, power = sensitivity, \n",
        "                                               alpha = confidence_level, ratio=1)\n",
        "print(sample_size)"
      ],
      "execution_count": 5,
      "outputs": [
        {
          "output_type": "stream",
          "name": "stdout",
          "text": [
            "14744.104836925611\n"
          ]
        }
      ]
    },
    {
      "cell_type": "markdown",
      "metadata": {
        "id": "lIKcqxoG-0wA"
      },
      "source": [
        "# **Вариант 3**"
      ]
    },
    {
      "cell_type": "code",
      "metadata": {
        "id": "niyBiJXF-57w"
      },
      "source": [
        "def get_sample_size(p1,p2,alpha=0.05,power=0.8,r=1):\n",
        "    \n",
        "    p_bar = (p1 + r*p2)/(r+1)\n",
        "    q_bar = 1 - p_bar\n",
        "    s = np.abs(p1-p2)\n",
        "    \n",
        "    q1 = 1 - p1\n",
        "    q2 = 1 - p2\n",
        "    \n",
        "    z_alpha = norm.ppf(1 - alpha/2)\n",
        "    z_beta = norm.ppf(power)\n",
        "    \n",
        "    m = ((z_alpha * np.sqrt((r+1) * p_bar * q_bar) +\n",
        "        z_beta * np.sqrt(r*p1*q1 + p2*q2))**2/\n",
        "        (r*s**2))\n",
        "    \n",
        "    return m,  m*r"
      ],
      "execution_count": 6,
      "outputs": []
    },
    {
      "cell_type": "code",
      "metadata": {
        "colab": {
          "base_uri": "https://localhost:8080/"
        },
        "id": "OcBAF2VW-9to",
        "outputId": "2604fb10-9cea-4ad6-e708-d8c1d2fa9211"
      },
      "source": [
        "get_sample_size(0.10,0.11)"
      ],
      "execution_count": 7,
      "outputs": [
        {
          "output_type": "execute_result",
          "data": {
            "text/plain": [
              "(14750.790469044954, 14750.790469044954)"
            ]
          },
          "metadata": {},
          "execution_count": 7
        }
      ]
    },
    {
      "cell_type": "markdown",
      "metadata": {
        "id": "i5RpcEHoAJm3"
      },
      "source": [
        "# **Вариант 4**"
      ]
    },
    {
      "cell_type": "code",
      "metadata": {
        "colab": {
          "base_uri": "https://localhost:8080/",
          "height": 49,
          "referenced_widgets": [
            "679cda08ecbc4c1c93faed142425aeb3",
            "65447f0e027d4680b0069a0a60970944",
            "a7feab57403e4431844c044b7fb67442",
            "819f8cd01b7147e08f597919523258ed",
            "dd9d8c15d1b74f0b9bbae78a8d01f6e1",
            "0987859c2c0441cb98f37280d97395ce",
            "37484f1e09954efcb3d0e108224bc96e",
            "5660d54a228347069e01e113a9706344",
            "fd2f62eb8d964f14bc5c5f4c202794ba",
            "284c029d1d334bfeb86f6fc25e46d398",
            "ad9743a1c53b46728ab4c8f9592d2214"
          ]
        },
        "id": "RneSIH-2APc3",
        "outputId": "e9dd33d8-bea7-4c2e-ef30-edab3b2f6aa6"
      },
      "source": [
        "n = 10000\n",
        "res = []\n",
        "for _ in tqdm(range(n)):\n",
        "\n",
        "  p1 = np.random.binomial(1,0.10,14313)\n",
        "  p2 = np.random.binomial(1,0.11,14313)\n",
        "\n",
        "  cnts = [p1.sum(),p2.sum()]\n",
        "  nobs = [len(p1),len(p2)]\n",
        "  pval = proportions_ztest(cnts,nobs)[1]\n",
        "  res.append(pval <= 0.05)"
      ],
      "execution_count": 8,
      "outputs": [
        {
          "output_type": "display_data",
          "data": {
            "text/plain": [
              "  0%|          | 0/10000 [00:00<?, ?it/s]"
            ],
            "application/vnd.jupyter.widget-view+json": {
              "version_major": 2,
              "version_minor": 0,
              "model_id": "679cda08ecbc4c1c93faed142425aeb3"
            }
          },
          "metadata": {}
        }
      ]
    },
    {
      "cell_type": "code",
      "metadata": {
        "colab": {
          "base_uri": "https://localhost:8080/"
        },
        "id": "w4uh5yshAntm",
        "outputId": "f9b4ffbf-118a-490e-da53-60567fbc6e5e"
      },
      "source": [
        "np.mean(res)"
      ],
      "execution_count": 9,
      "outputs": [
        {
          "output_type": "execute_result",
          "data": {
            "text/plain": [
              "0.7948"
            ]
          },
          "metadata": {},
          "execution_count": 9
        }
      ]
    },
    {
      "cell_type": "markdown",
      "metadata": {
        "id": "Jlv4OTNXGqO2"
      },
      "source": [
        "# **Вариант 5**"
      ]
    },
    {
      "cell_type": "code",
      "metadata": {
        "id": "RIzdPEhDFaAw"
      },
      "source": [
        "def calc_sample_size(alpha, power, p, pct_mde, var='Absolute'):\n",
        "    \"\"\" Based on https://www.evanmiller.org/ab-testing/sample-size.html\n",
        "\n",
        "    Args:\n",
        "        alpha (float): How often are you willing to accept a Type I error (false positive)?\n",
        "        power (float): How often do you want to correctly detect a true positive (1-beta)?\n",
        "        p (float): Base conversion rate\n",
        "        pct_mde (float): Minimum detectable effect, relative to base conversion rate.\n",
        "\n",
        "    \"\"\"\n",
        "    if var=='Absolute':\n",
        "        delta = pct_mde\n",
        "    else:\n",
        "        delta = p*pct_mde\n",
        "\n",
        "    t_alpha2 = norm.ppf(1.0-alpha/2)\n",
        "    t_beta = norm.ppf(power)\n",
        "\n",
        "    sd1 = np.sqrt(2 * p * (1.0 - p))\n",
        "    sd2 = np.sqrt(p * (1.0 - p) + (p + delta) * (1.0 - p - delta))\n",
        "\n",
        "    return (t_alpha2 * sd1 + t_beta * sd2) * (t_alpha2 * sd1 + t_beta * sd2) / (delta * delta)"
      ],
      "execution_count": 10,
      "outputs": []
    },
    {
      "cell_type": "code",
      "metadata": {
        "colab": {
          "base_uri": "https://localhost:8080/"
        },
        "id": "w6U5LQYXFd31",
        "outputId": "eff55e22-0ab8-4b56-9f86-b5c27d0ed88d"
      },
      "source": [
        "calc_sample_size(0.05,0.8,0.1,0.01)"
      ],
      "execution_count": 11,
      "outputs": [
        {
          "output_type": "execute_result",
          "data": {
            "text/plain": [
              "14312.856241916566"
            ]
          },
          "metadata": {},
          "execution_count": 11
        }
      ]
    },
    {
      "cell_type": "markdown",
      "metadata": {
        "id": "GHVi7VZvHp22"
      },
      "source": [
        "# **Вариант 6**"
      ]
    },
    {
      "cell_type": "code",
      "metadata": {
        "colab": {
          "base_uri": "https://localhost:8080/"
        },
        "id": "eA0u8xVNHwkU",
        "outputId": "d55decbd-92fa-4209-e77c-77fd4179c569"
      },
      "source": [
        "# Разный размер выборок\n",
        "get_sample_size(0.20,0.25,r=2)"
      ],
      "execution_count": 12,
      "outputs": [
        {
          "output_type": "execute_result",
          "data": {
            "text/plain": [
              "(828.557745393677, 1657.115490787354)"
            ]
          },
          "metadata": {},
          "execution_count": 12
        }
      ]
    },
    {
      "cell_type": "code",
      "metadata": {
        "colab": {
          "base_uri": "https://localhost:8080/"
        },
        "id": "witBJAkRH3OM",
        "outputId": "a7188202-c258-4e21-88e3-ba5d7d06b468"
      },
      "source": [
        "es = sms.proportion_effectsize(0.20, 0.25)\n",
        "sms.NormalIndPower().solve_power(es, power=0.80, alpha=0.05, ratio=2)"
      ],
      "execution_count": 13,
      "outputs": [
        {
          "output_type": "execute_result",
          "data": {
            "text/plain": [
              "818.9221190753055"
            ]
          },
          "metadata": {},
          "execution_count": 13
        }
      ]
    },
    {
      "cell_type": "markdown",
      "source": [
        "# **Вариант 7**"
      ],
      "metadata": {
        "id": "j0RPMxsB5bST"
      }
    },
    {
      "cell_type": "markdown",
      "source": [
        "Публикация \"Стратификация. Как разбиение выборки повышает чувствительность A/B теста\", X5RetailGroup, Хабр. Авторы Николай Назаров, Александр Сахнов"
      ],
      "metadata": {
        "id": "gTJoc7Mc5veD"
      }
    },
    {
      "cell_type": "code",
      "source": [
        "alpha = 0.05                    # вероятность ошибки I рода\n",
        "beta = 0.2                      # вероятность ошибки II рода\n",
        "mu_control = 2500               # средняя выручка с пользователя в контрольной группе\n",
        "effect = 100                    # размер эффекта\n",
        "mu_pilot = mu_control + effect  # средняя выручка с пользователя в экспериментальной группе\n",
        "std = 800                       # стандартное отклонение"
      ],
      "metadata": {
        "id": "tzUjAHYG5nID"
      },
      "execution_count": 14,
      "outputs": []
    },
    {
      "cell_type": "code",
      "source": [
        "t_alpha = stats.norm.ppf(1 - alpha / 2, loc=0, scale=1)\n",
        "t_beta = stats.norm.ppf(1 - beta, loc=0, scale=1)\n",
        "var = 2 * std ** 2\n",
        "sample_size = int((t_alpha + t_beta) ** 2 * var / (effect ** 2))"
      ],
      "metadata": {
        "id": "FRxeR3gt5rg6"
      },
      "execution_count": 15,
      "outputs": []
    },
    {
      "cell_type": "code",
      "source": [
        "print(f'sample_size = {sample_size}')"
      ],
      "metadata": {
        "colab": {
          "base_uri": "https://localhost:8080/"
        },
        "id": "qne3N2Jr5hJS",
        "outputId": "08f86f00-6645-49f4-a3bb-da7cffe221a0"
      },
      "execution_count": 16,
      "outputs": [
        {
          "output_type": "stream",
          "name": "stdout",
          "text": [
            "sample_size = 1004\n"
          ]
        }
      ]
    },
    {
      "cell_type": "markdown",
      "source": [
        "# **Вариант 8**"
      ],
      "metadata": {
        "id": "Q05h-_AXTplN"
      }
    },
    {
      "cell_type": "code",
      "source": [
        "# Стандартное отклонение\n",
        "sigma = 15\n",
        "# Квантиль нормального распределения.   \n",
        "Z = 1.96\n",
        "# Погрешность\n",
        "Delta = 5       "
      ],
      "metadata": {
        "id": "vNM4-aJ2UBSy"
      },
      "execution_count": 17,
      "outputs": []
    },
    {
      "cell_type": "code",
      "source": [
        "# Расчет количества наблюдений для того, чтобы добиться точности 95%\n",
        "N = int(((sigma*Z)/Delta)**2)"
      ],
      "metadata": {
        "id": "m2zE8vuLTtw8"
      },
      "execution_count": 18,
      "outputs": []
    }
  ]
}
