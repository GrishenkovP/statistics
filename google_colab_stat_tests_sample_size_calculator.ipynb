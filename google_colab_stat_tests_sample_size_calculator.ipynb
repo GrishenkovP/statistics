{
  "nbformat": 4,
  "nbformat_minor": 0,
  "metadata": {
    "colab": {
      "name": "google_colab_ab_tests_sample_size_calculator.ipynb",
      "provenance": [],
      "collapsed_sections": []
    },
    "kernelspec": {
      "name": "python3",
      "display_name": "Python 3"
    },
    "language_info": {
      "name": "python"
    },
    "widgets": {
      "application/vnd.jupyter.widget-state+json": {
        "e79e49111be14d4e97cfd82d67774b61": {
          "model_module": "@jupyter-widgets/controls",
          "model_name": "HBoxModel",
          "model_module_version": "1.5.0",
          "state": {
            "_view_name": "HBoxView",
            "_dom_classes": [],
            "_model_name": "HBoxModel",
            "_view_module": "@jupyter-widgets/controls",
            "_model_module_version": "1.5.0",
            "_view_count": null,
            "_view_module_version": "1.5.0",
            "box_style": "",
            "layout": "IPY_MODEL_fa667d5278824235a7ed54e68ecb8ed9",
            "_model_module": "@jupyter-widgets/controls",
            "children": [
              "IPY_MODEL_88b36b11416b4f2c961eef48a2f451fd",
              "IPY_MODEL_b8259107063148c189c7ad25c8679ce2",
              "IPY_MODEL_7b2000a47da54805b7122791138de604"
            ]
          }
        },
        "fa667d5278824235a7ed54e68ecb8ed9": {
          "model_module": "@jupyter-widgets/base",
          "model_name": "LayoutModel",
          "model_module_version": "1.2.0",
          "state": {
            "_view_name": "LayoutView",
            "grid_template_rows": null,
            "right": null,
            "justify_content": null,
            "_view_module": "@jupyter-widgets/base",
            "overflow": null,
            "_model_module_version": "1.2.0",
            "_view_count": null,
            "flex_flow": null,
            "width": null,
            "min_width": null,
            "border": null,
            "align_items": null,
            "bottom": null,
            "_model_module": "@jupyter-widgets/base",
            "top": null,
            "grid_column": null,
            "overflow_y": null,
            "overflow_x": null,
            "grid_auto_flow": null,
            "grid_area": null,
            "grid_template_columns": null,
            "flex": null,
            "_model_name": "LayoutModel",
            "justify_items": null,
            "grid_row": null,
            "max_height": null,
            "align_content": null,
            "visibility": null,
            "align_self": null,
            "height": null,
            "min_height": null,
            "padding": null,
            "grid_auto_rows": null,
            "grid_gap": null,
            "max_width": null,
            "order": null,
            "_view_module_version": "1.2.0",
            "grid_template_areas": null,
            "object_position": null,
            "object_fit": null,
            "grid_auto_columns": null,
            "margin": null,
            "display": null,
            "left": null
          }
        },
        "88b36b11416b4f2c961eef48a2f451fd": {
          "model_module": "@jupyter-widgets/controls",
          "model_name": "HTMLModel",
          "model_module_version": "1.5.0",
          "state": {
            "_view_name": "HTMLView",
            "style": "IPY_MODEL_c28541e5fea941e1b65b0e48af626138",
            "_dom_classes": [],
            "description": "",
            "_model_name": "HTMLModel",
            "placeholder": "​",
            "_view_module": "@jupyter-widgets/controls",
            "_model_module_version": "1.5.0",
            "value": "100%",
            "_view_count": null,
            "_view_module_version": "1.5.0",
            "description_tooltip": null,
            "_model_module": "@jupyter-widgets/controls",
            "layout": "IPY_MODEL_19d6437dbf4e45e2ab906c947094144e"
          }
        },
        "b8259107063148c189c7ad25c8679ce2": {
          "model_module": "@jupyter-widgets/controls",
          "model_name": "FloatProgressModel",
          "model_module_version": "1.5.0",
          "state": {
            "_view_name": "ProgressView",
            "style": "IPY_MODEL_eceb4e95889449c8b8594617b9a6be1b",
            "_dom_classes": [],
            "description": "",
            "_model_name": "FloatProgressModel",
            "bar_style": "success",
            "max": 10000,
            "_view_module": "@jupyter-widgets/controls",
            "_model_module_version": "1.5.0",
            "value": 10000,
            "_view_count": null,
            "_view_module_version": "1.5.0",
            "orientation": "horizontal",
            "min": 0,
            "description_tooltip": null,
            "_model_module": "@jupyter-widgets/controls",
            "layout": "IPY_MODEL_8260df4d4fc645aa92f9dbb64565b90b"
          }
        },
        "7b2000a47da54805b7122791138de604": {
          "model_module": "@jupyter-widgets/controls",
          "model_name": "HTMLModel",
          "model_module_version": "1.5.0",
          "state": {
            "_view_name": "HTMLView",
            "style": "IPY_MODEL_c065c06b494745b9b88d2d50b9625a4b",
            "_dom_classes": [],
            "description": "",
            "_model_name": "HTMLModel",
            "placeholder": "​",
            "_view_module": "@jupyter-widgets/controls",
            "_model_module_version": "1.5.0",
            "value": " 10000/10000 [00:07&lt;00:00, 1328.19it/s]",
            "_view_count": null,
            "_view_module_version": "1.5.0",
            "description_tooltip": null,
            "_model_module": "@jupyter-widgets/controls",
            "layout": "IPY_MODEL_4413ec8c59f64604a92a333ae8a662ec"
          }
        },
        "c28541e5fea941e1b65b0e48af626138": {
          "model_module": "@jupyter-widgets/controls",
          "model_name": "DescriptionStyleModel",
          "model_module_version": "1.5.0",
          "state": {
            "_view_name": "StyleView",
            "_model_name": "DescriptionStyleModel",
            "description_width": "",
            "_view_module": "@jupyter-widgets/base",
            "_model_module_version": "1.5.0",
            "_view_count": null,
            "_view_module_version": "1.2.0",
            "_model_module": "@jupyter-widgets/controls"
          }
        },
        "19d6437dbf4e45e2ab906c947094144e": {
          "model_module": "@jupyter-widgets/base",
          "model_name": "LayoutModel",
          "model_module_version": "1.2.0",
          "state": {
            "_view_name": "LayoutView",
            "grid_template_rows": null,
            "right": null,
            "justify_content": null,
            "_view_module": "@jupyter-widgets/base",
            "overflow": null,
            "_model_module_version": "1.2.0",
            "_view_count": null,
            "flex_flow": null,
            "width": null,
            "min_width": null,
            "border": null,
            "align_items": null,
            "bottom": null,
            "_model_module": "@jupyter-widgets/base",
            "top": null,
            "grid_column": null,
            "overflow_y": null,
            "overflow_x": null,
            "grid_auto_flow": null,
            "grid_area": null,
            "grid_template_columns": null,
            "flex": null,
            "_model_name": "LayoutModel",
            "justify_items": null,
            "grid_row": null,
            "max_height": null,
            "align_content": null,
            "visibility": null,
            "align_self": null,
            "height": null,
            "min_height": null,
            "padding": null,
            "grid_auto_rows": null,
            "grid_gap": null,
            "max_width": null,
            "order": null,
            "_view_module_version": "1.2.0",
            "grid_template_areas": null,
            "object_position": null,
            "object_fit": null,
            "grid_auto_columns": null,
            "margin": null,
            "display": null,
            "left": null
          }
        },
        "eceb4e95889449c8b8594617b9a6be1b": {
          "model_module": "@jupyter-widgets/controls",
          "model_name": "ProgressStyleModel",
          "model_module_version": "1.5.0",
          "state": {
            "_view_name": "StyleView",
            "_model_name": "ProgressStyleModel",
            "description_width": "",
            "_view_module": "@jupyter-widgets/base",
            "_model_module_version": "1.5.0",
            "_view_count": null,
            "_view_module_version": "1.2.0",
            "bar_color": null,
            "_model_module": "@jupyter-widgets/controls"
          }
        },
        "8260df4d4fc645aa92f9dbb64565b90b": {
          "model_module": "@jupyter-widgets/base",
          "model_name": "LayoutModel",
          "model_module_version": "1.2.0",
          "state": {
            "_view_name": "LayoutView",
            "grid_template_rows": null,
            "right": null,
            "justify_content": null,
            "_view_module": "@jupyter-widgets/base",
            "overflow": null,
            "_model_module_version": "1.2.0",
            "_view_count": null,
            "flex_flow": null,
            "width": null,
            "min_width": null,
            "border": null,
            "align_items": null,
            "bottom": null,
            "_model_module": "@jupyter-widgets/base",
            "top": null,
            "grid_column": null,
            "overflow_y": null,
            "overflow_x": null,
            "grid_auto_flow": null,
            "grid_area": null,
            "grid_template_columns": null,
            "flex": null,
            "_model_name": "LayoutModel",
            "justify_items": null,
            "grid_row": null,
            "max_height": null,
            "align_content": null,
            "visibility": null,
            "align_self": null,
            "height": null,
            "min_height": null,
            "padding": null,
            "grid_auto_rows": null,
            "grid_gap": null,
            "max_width": null,
            "order": null,
            "_view_module_version": "1.2.0",
            "grid_template_areas": null,
            "object_position": null,
            "object_fit": null,
            "grid_auto_columns": null,
            "margin": null,
            "display": null,
            "left": null
          }
        },
        "c065c06b494745b9b88d2d50b9625a4b": {
          "model_module": "@jupyter-widgets/controls",
          "model_name": "DescriptionStyleModel",
          "model_module_version": "1.5.0",
          "state": {
            "_view_name": "StyleView",
            "_model_name": "DescriptionStyleModel",
            "description_width": "",
            "_view_module": "@jupyter-widgets/base",
            "_model_module_version": "1.5.0",
            "_view_count": null,
            "_view_module_version": "1.2.0",
            "_model_module": "@jupyter-widgets/controls"
          }
        },
        "4413ec8c59f64604a92a333ae8a662ec": {
          "model_module": "@jupyter-widgets/base",
          "model_name": "LayoutModel",
          "model_module_version": "1.2.0",
          "state": {
            "_view_name": "LayoutView",
            "grid_template_rows": null,
            "right": null,
            "justify_content": null,
            "_view_module": "@jupyter-widgets/base",
            "overflow": null,
            "_model_module_version": "1.2.0",
            "_view_count": null,
            "flex_flow": null,
            "width": null,
            "min_width": null,
            "border": null,
            "align_items": null,
            "bottom": null,
            "_model_module": "@jupyter-widgets/base",
            "top": null,
            "grid_column": null,
            "overflow_y": null,
            "overflow_x": null,
            "grid_auto_flow": null,
            "grid_area": null,
            "grid_template_columns": null,
            "flex": null,
            "_model_name": "LayoutModel",
            "justify_items": null,
            "grid_row": null,
            "max_height": null,
            "align_content": null,
            "visibility": null,
            "align_self": null,
            "height": null,
            "min_height": null,
            "padding": null,
            "grid_auto_rows": null,
            "grid_gap": null,
            "max_width": null,
            "order": null,
            "_view_module_version": "1.2.0",
            "grid_template_areas": null,
            "object_position": null,
            "object_fit": null,
            "grid_auto_columns": null,
            "margin": null,
            "display": null,
            "left": null
          }
        }
      }
    }
  },
  "cells": [
    {
      "cell_type": "code",
      "metadata": {
        "colab": {
          "base_uri": "https://localhost:8080/"
        },
        "id": "aNx0mCx499oM",
        "outputId": "bfc8f639-82f7-4913-d6e5-2732b72f30bd"
      },
      "source": [
        "import math\n",
        "import numpy as np\n",
        "import scipy.stats as stats\n",
        "from scipy.stats import norm\n",
        "import statsmodels.stats.api as sms\n",
        "from statsmodels.stats.proportion import proportions_ztest\n",
        "from tqdm.notebook import tqdm"
      ],
      "execution_count": 1,
      "outputs": [
        {
          "output_type": "stream",
          "name": "stderr",
          "text": [
            "/usr/local/lib/python3.7/dist-packages/statsmodels/tools/_testing.py:19: FutureWarning: pandas.util.testing is deprecated. Use the functions in the public API at pandas.testing instead.\n",
            "  import pandas.util.testing as tm\n"
          ]
        }
      ]
    },
    {
      "cell_type": "markdown",
      "metadata": {
        "id": "n0yAlc2S-HYZ"
      },
      "source": [
        "# **Вариант 1**"
      ]
    },
    {
      "cell_type": "code",
      "metadata": {
        "id": "VOdn1Tq5-Pnv"
      },
      "source": [
        "# Evan's Awesome A/B Tools - https://www.evanmiller.org/ab-testing/sample-size.html"
      ],
      "execution_count": 2,
      "outputs": []
    },
    {
      "cell_type": "code",
      "metadata": {
        "id": "jcMZlkV7_f0X"
      },
      "source": [
        "# https://www.evanmiller.org/ab-testing/sample-size.html#!10;80;5;1;0"
      ],
      "execution_count": 3,
      "outputs": []
    },
    {
      "cell_type": "code",
      "metadata": {
        "id": "bZx0EN27_vSI"
      },
      "source": [
        "# Результат - 14313"
      ],
      "execution_count": 4,
      "outputs": []
    },
    {
      "cell_type": "markdown",
      "metadata": {
        "id": "nSwKeb0E-SHw"
      },
      "source": [
        "# **Вариант 2**"
      ]
    },
    {
      "cell_type": "code",
      "metadata": {
        "colab": {
          "base_uri": "https://localhost:8080/"
        },
        "id": "LbuFBtDT-WKo",
        "outputId": "e06c430a-6a69-4751-9824-4e85ffa0d078"
      },
      "source": [
        "baseline_rate = 0.1\n",
        "practical_significance = 0.01\n",
        "confidence_level = 0.05 \n",
        "sensitivity = 0.8 \n",
        "\n",
        "effect_size = sms.proportion_effectsize(baseline_rate, baseline_rate + practical_significance)\n",
        "sample_size = sms.NormalIndPower().solve_power(effect_size = effect_size, power = sensitivity, \n",
        "                                               alpha = confidence_level, ratio=1)\n",
        "print(sample_size)"
      ],
      "execution_count": 5,
      "outputs": [
        {
          "output_type": "stream",
          "name": "stdout",
          "text": [
            "14744.104836925611\n"
          ]
        }
      ]
    },
    {
      "cell_type": "markdown",
      "metadata": {
        "id": "lIKcqxoG-0wA"
      },
      "source": [
        "# **Вариант 3**"
      ]
    },
    {
      "cell_type": "code",
      "metadata": {
        "id": "niyBiJXF-57w"
      },
      "source": [
        "def get_sample_size(p1,p2,alpha=0.05,power=0.8,r=1):\n",
        "    \n",
        "    p_bar = (p1 + r*p2)/(r+1)\n",
        "    q_bar = 1 - p_bar\n",
        "    s = np.abs(p1-p2)\n",
        "    \n",
        "    q1 = 1 - p1\n",
        "    q2 = 1 - p2\n",
        "    \n",
        "    z_alpha = norm.ppf(1 - alpha/2)\n",
        "    z_beta = norm.ppf(power)\n",
        "    \n",
        "    m = ((z_alpha * np.sqrt((r+1) * p_bar * q_bar) +\n",
        "        z_beta * np.sqrt(r*p1*q1 + p2*q2))**2/\n",
        "        (r*s**2))\n",
        "    \n",
        "    return m,  m*r"
      ],
      "execution_count": 6,
      "outputs": []
    },
    {
      "cell_type": "code",
      "metadata": {
        "colab": {
          "base_uri": "https://localhost:8080/"
        },
        "id": "OcBAF2VW-9to",
        "outputId": "2e4b2536-3a67-4dae-9692-7806e888f6d8"
      },
      "source": [
        "get_sample_size(0.10,0.11)"
      ],
      "execution_count": 7,
      "outputs": [
        {
          "output_type": "execute_result",
          "data": {
            "text/plain": [
              "(14750.790469044954, 14750.790469044954)"
            ]
          },
          "metadata": {},
          "execution_count": 7
        }
      ]
    },
    {
      "cell_type": "markdown",
      "metadata": {
        "id": "i5RpcEHoAJm3"
      },
      "source": [
        "# **Вариант 4**"
      ]
    },
    {
      "cell_type": "code",
      "metadata": {
        "colab": {
          "base_uri": "https://localhost:8080/",
          "height": 49,
          "referenced_widgets": [
            "e79e49111be14d4e97cfd82d67774b61",
            "fa667d5278824235a7ed54e68ecb8ed9",
            "88b36b11416b4f2c961eef48a2f451fd",
            "b8259107063148c189c7ad25c8679ce2",
            "7b2000a47da54805b7122791138de604",
            "c28541e5fea941e1b65b0e48af626138",
            "19d6437dbf4e45e2ab906c947094144e",
            "eceb4e95889449c8b8594617b9a6be1b",
            "8260df4d4fc645aa92f9dbb64565b90b",
            "c065c06b494745b9b88d2d50b9625a4b",
            "4413ec8c59f64604a92a333ae8a662ec"
          ]
        },
        "id": "RneSIH-2APc3",
        "outputId": "62280919-b5e7-4db5-fa96-82a1c89cf520"
      },
      "source": [
        "n = 10000\n",
        "res = []\n",
        "for _ in tqdm(range(n)):\n",
        "\n",
        "  p1 = np.random.binomial(1,0.10,14313)\n",
        "  p2 = np.random.binomial(1,0.11,14313)\n",
        "\n",
        "  cnts = [p1.sum(),p2.sum()]\n",
        "  nobs = [len(p1),len(p2)]\n",
        "  pval = proportions_ztest(cnts,nobs)[1]\n",
        "  res.append(pval <= 0.05)"
      ],
      "execution_count": 8,
      "outputs": [
        {
          "output_type": "display_data",
          "data": {
            "application/vnd.jupyter.widget-view+json": {
              "model_id": "e79e49111be14d4e97cfd82d67774b61",
              "version_minor": 0,
              "version_major": 2
            },
            "text/plain": [
              "  0%|          | 0/10000 [00:00<?, ?it/s]"
            ]
          },
          "metadata": {}
        }
      ]
    },
    {
      "cell_type": "code",
      "metadata": {
        "colab": {
          "base_uri": "https://localhost:8080/"
        },
        "id": "w4uh5yshAntm",
        "outputId": "1c2c4c38-aed3-47b6-cd91-121bc8a3a8e9"
      },
      "source": [
        "np.mean(res)"
      ],
      "execution_count": 9,
      "outputs": [
        {
          "output_type": "execute_result",
          "data": {
            "text/plain": [
              "0.7922"
            ]
          },
          "metadata": {},
          "execution_count": 9
        }
      ]
    },
    {
      "cell_type": "markdown",
      "metadata": {
        "id": "Jlv4OTNXGqO2"
      },
      "source": [
        "# **Вариант 5**"
      ]
    },
    {
      "cell_type": "code",
      "metadata": {
        "id": "RIzdPEhDFaAw"
      },
      "source": [
        "def calc_sample_size(alpha, power, p, pct_mde, var='Absolute'):\n",
        "    \"\"\" Based on https://www.evanmiller.org/ab-testing/sample-size.html\n",
        "\n",
        "    Args:\n",
        "        alpha (float): How often are you willing to accept a Type I error (false positive)?\n",
        "        power (float): How often do you want to correctly detect a true positive (1-beta)?\n",
        "        p (float): Base conversion rate\n",
        "        pct_mde (float): Minimum detectable effect, relative to base conversion rate.\n",
        "\n",
        "    \"\"\"\n",
        "    if var=='Absolute':\n",
        "        delta = pct_mde\n",
        "    else:\n",
        "        delta = p*pct_mde\n",
        "\n",
        "    t_alpha2 = norm.ppf(1.0-alpha/2)\n",
        "    t_beta = norm.ppf(power)\n",
        "\n",
        "    sd1 = np.sqrt(2 * p * (1.0 - p))\n",
        "    sd2 = np.sqrt(p * (1.0 - p) + (p + delta) * (1.0 - p - delta))\n",
        "\n",
        "    return (t_alpha2 * sd1 + t_beta * sd2) * (t_alpha2 * sd1 + t_beta * sd2) / (delta * delta)"
      ],
      "execution_count": 10,
      "outputs": []
    },
    {
      "cell_type": "code",
      "metadata": {
        "colab": {
          "base_uri": "https://localhost:8080/"
        },
        "id": "w6U5LQYXFd31",
        "outputId": "04368fac-6847-4440-9d2a-547af7214847"
      },
      "source": [
        "calc_sample_size(0.05,0.8,0.1,0.01)"
      ],
      "execution_count": 11,
      "outputs": [
        {
          "output_type": "execute_result",
          "data": {
            "text/plain": [
              "14312.856241916566"
            ]
          },
          "metadata": {},
          "execution_count": 11
        }
      ]
    },
    {
      "cell_type": "markdown",
      "metadata": {
        "id": "GHVi7VZvHp22"
      },
      "source": [
        "# **Вариант 6 (разный размер выборок)**"
      ]
    },
    {
      "cell_type": "code",
      "metadata": {
        "colab": {
          "base_uri": "https://localhost:8080/"
        },
        "id": "eA0u8xVNHwkU",
        "outputId": "122c5268-93d4-4f27-bfe5-38d13b3b4e3f"
      },
      "source": [
        "get_sample_size(0.20,0.25,r=2)"
      ],
      "execution_count": 12,
      "outputs": [
        {
          "output_type": "execute_result",
          "data": {
            "text/plain": [
              "(828.557745393677, 1657.115490787354)"
            ]
          },
          "metadata": {},
          "execution_count": 12
        }
      ]
    },
    {
      "cell_type": "code",
      "metadata": {
        "colab": {
          "base_uri": "https://localhost:8080/"
        },
        "id": "witBJAkRH3OM",
        "outputId": "2a7fc747-b1a3-4948-cba6-54fc6a1d5480"
      },
      "source": [
        "es = sms.proportion_effectsize(0.20, 0.25)\n",
        "sms.NormalIndPower().solve_power(es, power=0.80, alpha=0.05, ratio=2)"
      ],
      "execution_count": 13,
      "outputs": [
        {
          "output_type": "execute_result",
          "data": {
            "text/plain": [
              "818.9221190753055"
            ]
          },
          "metadata": {},
          "execution_count": 13
        }
      ]
    }
  ]
}
