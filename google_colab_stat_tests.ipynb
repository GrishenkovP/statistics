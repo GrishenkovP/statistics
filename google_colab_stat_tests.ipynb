{
  "nbformat": 4,
  "nbformat_minor": 0,
  "metadata": {
    "kernelspec": {
      "display_name": "Python 3",
      "language": "python",
      "name": "python3"
    },
    "language_info": {
      "codemirror_mode": {
        "name": "ipython",
        "version": 3
      },
      "file_extension": ".py",
      "mimetype": "text/x-python",
      "name": "python",
      "nbconvert_exporter": "python",
      "pygments_lexer": "ipython3",
      "version": "3.8.5"
    },
    "colab": {
      "name": "google_colab_stat_tests.ipynb",
      "provenance": [],
      "collapsed_sections": []
    }
  },
  "cells": [
    {
      "cell_type": "code",
      "source": [
        "%%capture\n",
        "%pip install --upgrade numpy\n",
        "%pip install --upgrade scipy"
      ],
      "metadata": {
        "id": "dhHxUpF0-c0O"
      },
      "execution_count": 1,
      "outputs": []
    },
    {
      "cell_type": "code",
      "metadata": {
        "id": "omSWYlRO1LtY",
        "colab": {
          "base_uri": "https://localhost:8080/"
        },
        "outputId": "2a1dbf5c-af63-42e6-c77d-3042286718e2"
      },
      "source": [
        "# Импорт библиотек\n",
        "import math\n",
        "import numpy as np\n",
        "import pandas as pd\n",
        "import scipy # Проверить версию библиотеки при импорте!\n",
        "import scipy.stats as stats\n",
        "from scipy.stats import wilcoxon, mannwhitneyu,f_oneway\n",
        "from scipy.stats import chi2_contingency\n",
        "from scipy.stats import norm\n",
        "from statsmodels.stats.weightstats import CompareMeans, DescrStatsW\n",
        "from statsmodels.stats.proportion import proportions_ztest\n",
        "from statsmodels.stats.weightstats import ztest\n",
        "import statsmodels.stats.api as sms\n",
        "from typing import List, Tuple, Dict, Set\n",
        "import matplotlib.pyplot as plt \n",
        "import seaborn as sns\n",
        "import pylab\n",
        "%matplotlib inline"
      ],
      "execution_count": 2,
      "outputs": [
        {
          "output_type": "stream",
          "name": "stderr",
          "text": [
            "/usr/local/lib/python3.7/dist-packages/statsmodels/tools/_testing.py:19: FutureWarning: pandas.util.testing is deprecated. Use the functions in the public API at pandas.testing instead.\n",
            "  import pandas.util.testing as tm\n"
          ]
        }
      ]
    },
    {
      "cell_type": "code",
      "metadata": {
        "id": "DCEC00LKTNdu"
      },
      "source": [
        "# A/B калькулятор https://www.evanmiller.org/ab-testing/chi-squared.html"
      ],
      "execution_count": 3,
      "outputs": []
    },
    {
      "cell_type": "code",
      "metadata": {
        "id": "Z32_aEYV0foE"
      },
      "source": [
        "# Создаем данные\n",
        "# x1 = np.random.normal(0, 1.5, 100)\n",
        "# y1 = np.random.normal(0, 1.5, 100)\n",
        "x1 = [64.2, 28.4, 85.3, 83.1, 13.4, 56.8, 44.2, 90, 86, 75]\n",
        "y1 = [45, 29.5, 32.3, 49.3, 18.3, 34.2, 43.9, 13.8, 27.4, 43.4]"
      ],
      "execution_count": 4,
      "outputs": []
    },
    {
      "cell_type": "markdown",
      "metadata": {
        "id": "5qvBJvFY09y2"
      },
      "source": [
        "# Тест, отличается ли среднее выборки от N"
      ]
    },
    {
      "cell_type": "code",
      "metadata": {
        "colab": {
          "base_uri": "https://localhost:8080/"
        },
        "id": "dbFutw3E1QBM",
        "outputId": "e8d3eaa1-bcb5-4596-cebf-98e7d0cc9add"
      },
      "source": [
        "N=10\n",
        "stats.ttest_1samp(x1, N)"
      ],
      "execution_count": 5,
      "outputs": [
        {
          "output_type": "execute_result",
          "data": {
            "text/plain": [
              "Ttest_1sampResult(statistic=6.265559754169641, pvalue=0.00014688203506718392)"
            ]
          },
          "metadata": {},
          "execution_count": 5
        }
      ]
    },
    {
      "cell_type": "markdown",
      "metadata": {
        "id": "bWwvdK8N1hcE"
      },
      "source": [
        "# Доверительный интервал для среднего"
      ]
    },
    {
      "cell_type": "code",
      "metadata": {
        "colab": {
          "base_uri": "https://localhost:8080/"
        },
        "id": "QiC3k0qm3hS8",
        "outputId": "54f3273f-bf58-408b-ac50-daa1f7e89dda"
      },
      "source": [
        "np.mean(x1)"
      ],
      "execution_count": 6,
      "outputs": [
        {
          "output_type": "execute_result",
          "data": {
            "text/plain": [
              "62.64"
            ]
          },
          "metadata": {},
          "execution_count": 6
        }
      ]
    },
    {
      "cell_type": "code",
      "metadata": {
        "id": "cdiDAVkw3HcU"
      },
      "source": [
        "def mean_confidence_interval(data, confidence=0.95):\n",
        "    a = 1.0 * np.array(data)\n",
        "    n = len(a)\n",
        "    m, se = np.mean(a), scipy.stats.sem(a)\n",
        "    h = se * scipy.stats.t.ppf((1 + confidence) / 2., n-1)\n",
        "    return m, m-h, m+h"
      ],
      "execution_count": 7,
      "outputs": []
    },
    {
      "cell_type": "code",
      "metadata": {
        "colab": {
          "base_uri": "https://localhost:8080/"
        },
        "id": "KV7vdGQP3Q4S",
        "outputId": "09e4e714-995f-4e7c-c87e-b4d004289d0f"
      },
      "source": [
        "mean_confidence_interval(x1)"
      ],
      "execution_count": 8,
      "outputs": [
        {
          "output_type": "execute_result",
          "data": {
            "text/plain": [
              "(62.64, 43.63452280102512, 81.64547719897487)"
            ]
          },
          "metadata": {},
          "execution_count": 8
        }
      ]
    },
    {
      "cell_type": "code",
      "metadata": {
        "id": "fFXdw1KB3_Mz"
      },
      "source": [
        "def mean_confidence_interval_(data, confidence=0.95):\n",
        "    return stats.t.interval(confidence, len(data)-1, loc=np.mean(data), scale=stats.sem(data))"
      ],
      "execution_count": 9,
      "outputs": []
    },
    {
      "cell_type": "code",
      "metadata": {
        "colab": {
          "base_uri": "https://localhost:8080/"
        },
        "id": "89-V88Nr4FaC",
        "outputId": "0a95d661-2ee1-4ab6-eb76-8027b9866c18"
      },
      "source": [
        "mean_confidence_interval_(x1)"
      ],
      "execution_count": 10,
      "outputs": [
        {
          "output_type": "execute_result",
          "data": {
            "text/plain": [
              "(43.63452280102512, 81.64547719897487)"
            ]
          },
          "metadata": {},
          "execution_count": 10
        }
      ]
    },
    {
      "cell_type": "markdown",
      "source": [
        "# Z тест"
      ],
      "metadata": {
        "id": "CIFwSyLZSvhO"
      }
    },
    {
      "cell_type": "code",
      "source": [
        "z,z_pval = ztest(x1, y1, value=0,alternative='two-sided')\n",
        "print(z,z_pval)"
      ],
      "metadata": {
        "colab": {
          "base_uri": "https://localhost:8080/"
        },
        "id": "aaxZB53GS40s",
        "outputId": "936ba66c-0c82-4398-8235-8b2b4270a996"
      },
      "execution_count": 11,
      "outputs": [
        {
          "output_type": "stream",
          "name": "stdout",
          "text": [
            "3.145198441422933 0.001659742067075731\n"
          ]
        }
      ]
    },
    {
      "cell_type": "markdown",
      "metadata": {
        "id": "b6ei4pRX10ES"
      },
      "source": [
        "# t-тест двух независимых выборок"
      ]
    },
    {
      "cell_type": "markdown",
      "metadata": {
        "id": "aqK22Ckn15LH"
      },
      "source": [
        "### Проверка на нормальность данных. Тест Шапиро-Уилка"
      ]
    },
    {
      "cell_type": "code",
      "metadata": {
        "colab": {
          "base_uri": "https://localhost:8080/"
        },
        "id": "wGXkQSvS1w5f",
        "outputId": "6ca2b7db-39ad-4f80-bd98-88a1c90690b2"
      },
      "source": [
        "# Тест Шапиро-Уилка\n",
        "stat, p = stats.shapiro(x1)\n",
        "print('Statistics=%.3f, p-value=%.3f' % (stat, p))\n",
        "alpha = 0.05\n",
        "if p > alpha:\n",
        "    print('Принять гипотезу о нормальности')\n",
        "else:\n",
        "    print('Отклонить гипотезу о нормальности')"
      ],
      "execution_count": 12,
      "outputs": [
        {
          "output_type": "stream",
          "name": "stdout",
          "text": [
            "Statistics=0.894, p-value=0.189\n",
            "Принять гипотезу о нормальности\n"
          ]
        }
      ]
    },
    {
      "cell_type": "code",
      "source": [
        "# Графический метод\n",
        "stats.probplot(x1, dist=\"norm\", plot=pylab)\n",
        "pylab.show()"
      ],
      "metadata": {
        "colab": {
          "base_uri": "https://localhost:8080/",
          "height": 295
        },
        "id": "GviAwdT3ETJs",
        "outputId": "2f9f04f4-e48e-4eee-aa4b-165e9cfa6273"
      },
      "execution_count": 13,
      "outputs": [
        {
          "output_type": "display_data",
          "data": {
            "text/plain": [
              "<Figure size 432x288 with 1 Axes>"
            ],
            "image/png": "[encoded data removed]"
          },
          "metadata": {
            "needs_background": "light"
          }
        }
      ]
    },
    {
      "cell_type": "markdown",
      "source": [
        "### Проверка равенства дисперсий. Критерий Бартлетта"
      ],
      "metadata": {
        "id": "UnPt9My7BXA9"
      }
    },
    {
      "cell_type": "markdown",
      "source": [
        "Цитата из Википедии: \"Критерий Бартлетта (англ. Bartlett's test) — статистический критерий, позволяющий проверять равенство дисперсий нескольких (двух и более) выборок. Нулевая гипотеза предполагает, что рассматриваемые выборки получены из генеральных совокупностей, обладающих одинаковыми дисперсиями.\n",
        "\n",
        "Критерий Бартлетта является параметрическим и основан на дополнительном предположении о нормальности выборок данных. Поэтому перед применением критерия Бартлетта рекомендуется выполнить проверку нормальности. Критерий Бартлетта очень чувствителен к нарушению данного предположения.\n",
        "\n",
        "Плюсы:\n",
        "\n",
        "объёмы выборок могут быть различными (это его преимущество перед критерием Кохрена), критерий Бартлетта выявляет отклонения, как в наибольшую, так и в наименьшую стороны; Минусы:\n",
        "\n",
        "сложность вычислений (критерий Кохрена требует меньше вычислительных затрат. Особо это актуально в случае вычислений «вручную»), объём каждой выборки должен быть больше трёх, критерий очень чувствителен к нарушению предположения о нормальности закона распределения исходных данных.\""
      ],
      "metadata": {
        "id": "5dBQNm4ZBg1s"
      }
    },
    {
      "cell_type": "code",
      "source": [
        "x1_ = np.random.normal(0, 1.5, 100)\n",
        "x2_ = np.random.normal(0, 1.5, 100)"
      ],
      "metadata": {
        "id": "v6awrY4JBr5E"
      },
      "execution_count": 14,
      "outputs": []
    },
    {
      "cell_type": "code",
      "source": [
        "# Расчет дисперсий\n",
        "var1 = np.var(x1_)\n",
        "var2 = np.var(x2_)\n",
        "print(var1, var2)"
      ],
      "metadata": {
        "colab": {
          "base_uri": "https://localhost:8080/"
        },
        "id": "DMJog0IPBsjG",
        "outputId": "e7c3efe4-9234-44b0-de46-015cf0013352"
      },
      "execution_count": 15,
      "outputs": [
        {
          "output_type": "stream",
          "name": "stdout",
          "text": [
            "2.290683247422461 2.264879243316873\n"
          ]
        }
      ]
    },
    {
      "cell_type": "code",
      "source": [
        "# Критерий Бартлетта\n",
        "stat, p = stats.bartlett(x1_,x2_)\n",
        "print('Statistics=%.3f, p-value=%.3f' % (stat, p))\n",
        "alpha = 0.05\n",
        "if p > alpha:\n",
        "    print('Принять гипотезу о равенстве дисперсий')\n",
        "else:\n",
        "    print('Отклонить гипотезу о равенстве дисперсий')"
      ],
      "metadata": {
        "colab": {
          "base_uri": "https://localhost:8080/"
        },
        "id": "2QDA7BIGBbL0",
        "outputId": "2dd34537-cca1-417d-e34d-f4d83c6b3b7f"
      },
      "execution_count": 16,
      "outputs": [
        {
          "output_type": "stream",
          "name": "stdout",
          "text": [
            "Statistics=0.003, p-value=0.955\n",
            "Принять гипотезу о равенстве дисперсий\n"
          ]
        }
      ]
    },
    {
      "cell_type": "markdown",
      "metadata": {
        "id": "2Aji_RI92Bl5"
      },
      "source": [
        "###  Проверка гипотезы. t-критерий Стьюдента"
      ]
    },
    {
      "cell_type": "markdown",
      "source": [
        "t-критерий Стьюдента – общее название для класса методов статистической проверки гипотез (статистических критериев), основанных на распределении Стьюдента. Наиболее частые случаи применения t-критерия связаны с проверкой равенства средних значений в двух выборках.\n",
        "Для применения t-критерия Стьюдента необходимо, чтобы исходные данные имели нормальное распределение. Также имеет значение равенство дисперсий (распределения) сравниваемых групп (гомоскедастичность). При неравных дисперсиях применяется t-критерий в модификации Уэлча (Welch's t).\n",
        "\n",
        "t-критерий «боится» выбросов, т.е. аномальных отклонений. Выбросы в данных сильно искажают распределение t-критерия, что, в свою очередь, может привести к ошибкам статистического вывода, поэтому от аномальных наблюдений следует избавиться. Часто из выборки удаляют все значения, выходящие за пределы ±2 стандартных отклонения от средней.\n",
        "\n",
        "При отсутствии нормального распределения сравниваемых выборок вместо t-критерия Стьюдента используются аналогичные методы непараметрической статистики, среди которых наиболее известными является U-критерий Манна — Уитни."
      ],
      "metadata": {
        "id": "M9LPlqkQEKo8"
      }
    },
    {
      "cell_type": "code",
      "metadata": {
        "colab": {
          "base_uri": "https://localhost:8080/"
        },
        "id": "ScyyLu_Q1__X",
        "outputId": "25210254-454c-470f-eefd-976f9f454602"
      },
      "source": [
        "# H0 - между выборками нет статистически значимых различий\n",
        "# H1 - между выборками есть статистически значимые различия\n",
        "stats.ttest_ind(x1, y1,alternative='two-sided')"
      ],
      "execution_count": 17,
      "outputs": [
        {
          "output_type": "execute_result",
          "data": {
            "text/plain": [
              "Ttest_indResult(statistic=3.145198441422933, pvalue=0.005596956346997708)"
            ]
          },
          "metadata": {},
          "execution_count": 17
        }
      ]
    },
    {
      "cell_type": "code",
      "metadata": {
        "colab": {
          "base_uri": "https://localhost:8080/",
          "height": 336
        },
        "id": "xQxRm0Lb2GuH",
        "outputId": "a2f48cd3-3513-4350-a22b-5d07935c85b7"
      },
      "source": [
        "plt.figure(figsize=(7, 5))\n",
        "df1 = pd.DataFrame({'x1':x1,'y2':y1})\n",
        "sns.histplot(data=df1, kde=True)\n",
        "plt.title('Сравнение двух независимых выборок')\n",
        "plt.legend(['x1', 'y1'])\n",
        "plt.grid()"
      ],
      "execution_count": 18,
      "outputs": [
        {
          "output_type": "display_data",
          "data": {
            "text/plain": [
              "<Figure size 504x360 with 1 Axes>"
            ],
            "image/png": "[encoded data removed]"
          },
          "metadata": {
            "needs_background": "light"
          }
        }
      ]
    },
    {
      "cell_type": "markdown",
      "metadata": {
        "id": "7-0FJYHr8oOL"
      },
      "source": [
        "### Доверительный интервал разности средних для двух независимых выборок"
      ]
    },
    {
      "cell_type": "code",
      "metadata": {
        "id": "qpmwGN7P8yO_"
      },
      "source": [
        "def mean_diff_confint_ind(sample1,sample2):\n",
        "    cm = CompareMeans(DescrStatsW(sample1), DescrStatsW(sample2))\n",
        "    return cm.tconfint_diff(usevar='unequal')"
      ],
      "execution_count": 19,
      "outputs": []
    },
    {
      "cell_type": "code",
      "metadata": {
        "colab": {
          "base_uri": "https://localhost:8080/"
        },
        "id": "_X2nzFOw84nb",
        "outputId": "9624a620-f75b-4404-ce0a-513cfc99c2b9"
      },
      "source": [
        "# Построим 95% доверительный интервал для разности средних. Данный интервал не содержит ноль - значит разницу можно признать отличной от нуля.\n",
        "mean_diff_confint_ind(x1,y1)"
      ],
      "execution_count": 20,
      "outputs": [
        {
          "output_type": "execute_result",
          "data": {
            "text/plain": [
              "(8.967258335059267, 48.89274166494074)"
            ]
          },
          "metadata": {},
          "execution_count": 20
        }
      ]
    },
    {
      "cell_type": "code",
      "source": [
        ""
      ],
      "metadata": {
        "id": "kVuYyKxTJn1f"
      },
      "execution_count": 20,
      "outputs": []
    },
    {
      "cell_type": "markdown",
      "metadata": {
        "id": "aET_Gj_42L6v"
      },
      "source": [
        "# t-тест двух зависимых выборок"
      ]
    },
    {
      "cell_type": "code",
      "metadata": {
        "id": "WipbmZqv2M4f"
      },
      "source": [
        "# Создаем данные\n",
        "x2 = np.random.normal(0, 1.5, 100)\n",
        "y2 = np.random.normal(1, 1.5, 100)"
      ],
      "execution_count": 21,
      "outputs": []
    },
    {
      "cell_type": "markdown",
      "metadata": {
        "id": "IyT1DZ0x2Rcx"
      },
      "source": [
        "### Проверка на нормальность данных"
      ]
    },
    {
      "cell_type": "code",
      "metadata": {
        "colab": {
          "base_uri": "https://localhost:8080/"
        },
        "id": "sWacPj5x2PEW",
        "outputId": "a5b15653-bfe3-4fab-daf5-254a8cfe391f"
      },
      "source": [
        "# Критерий Пирсона\n",
        "stat, p = stats.normaltest(x2)\n",
        "print('Statistics=%.3f, p-value=%.3f' % (stat, p))\n",
        "alpha = 0.05\n",
        "if p > alpha:\n",
        "    print('Принять гипотезу о нормальности')\n",
        "else:\n",
        "    print('Отклонить гипотезу о нормальности')"
      ],
      "execution_count": 22,
      "outputs": [
        {
          "output_type": "stream",
          "name": "stdout",
          "text": [
            "Statistics=1.243, p-value=0.537\n",
            "Принять гипотезу о нормальности\n"
          ]
        }
      ]
    },
    {
      "cell_type": "markdown",
      "metadata": {
        "id": "7JWVjbQo2WZO"
      },
      "source": [
        "### Проверка гипотезы"
      ]
    },
    {
      "cell_type": "code",
      "metadata": {
        "colab": {
          "base_uri": "https://localhost:8080/"
        },
        "id": "5nEDpr642X6g",
        "outputId": "6ff18087-66cf-471a-b023-42f53bf776b8"
      },
      "source": [
        "# H0 - между выборками нет статистически значимых различий\n",
        "# H1 - между выборками есть статистически значимые различия\n",
        "stats.ttest_rel(x2, y2,alternative='two-sided')"
      ],
      "execution_count": 23,
      "outputs": [
        {
          "output_type": "execute_result",
          "data": {
            "text/plain": [
              "Ttest_relResult(statistic=-5.5201525301225525, pvalue=2.725053907340977e-07)"
            ]
          },
          "metadata": {},
          "execution_count": 23
        }
      ]
    },
    {
      "cell_type": "code",
      "metadata": {
        "colab": {
          "base_uri": "https://localhost:8080/",
          "height": 336
        },
        "id": "03j5k4NT2Z23",
        "outputId": "0a3fe0bb-5338-4bb4-8d23-6fabb61c17f6"
      },
      "source": [
        "plt.figure(figsize=(7, 5))\n",
        "df2 = pd.DataFrame({'x2':x2,'y2':y2})\n",
        "sns.histplot(data=df2, kde=True)\n",
        "plt.title('Сравнение двух зависимых выборок')\n",
        "plt.legend(['x2', 'y2'])\n",
        "plt.grid()"
      ],
      "execution_count": 24,
      "outputs": [
        {
          "output_type": "display_data",
          "data": {
            "text/plain": [
              "<Figure size 504x360 with 1 Axes>"
            ],
            "image/png": "[encoded data removed]"
          },
          "metadata": {
            "needs_background": "light"
          }
        }
      ]
    },
    {
      "cell_type": "markdown",
      "source": [
        "# t-критерий Уэлча"
      ],
      "metadata": {
        "id": "uITGCCr1QqmN"
      }
    },
    {
      "cell_type": "markdown",
      "source": [
        "t-критерий Уэлча — тест, основанный на распределении Стьюдента и предназначенный для проверки статистической гипотезы о равенстве математических ожиданий случайных величин, имеющих необязательно равные известные дисперсии. Является модификацией t-критерия Стьюдента. Назван в честь британского статистика Бернарда Льюиса Уэлча."
      ],
      "metadata": {
        "id": "ChfuQQs3Qs92"
      }
    },
    {
      "cell_type": "code",
      "source": [
        "#equal_var:  указывает на предположение об одинаковой дисперсии между двумя массивами\n",
        "stats.ttest_ind(x1, y1,equal_var=False)"
      ],
      "metadata": {
        "colab": {
          "base_uri": "https://localhost:8080/"
        },
        "id": "Ah91UK8xQsY0",
        "outputId": "5c541f73-18d2-4311-a231-68682e62c9a9"
      },
      "execution_count": 25,
      "outputs": [
        {
          "output_type": "execute_result",
          "data": {
            "text/plain": [
              "Ttest_indResult(statistic=3.145198441422933, pvalue=0.008121457311362348)"
            ]
          },
          "metadata": {},
          "execution_count": 25
        }
      ]
    },
    {
      "cell_type": "markdown",
      "metadata": {
        "id": "qNTjPyPBEDbq"
      },
      "source": [
        "# Непараметрические критерии"
      ]
    },
    {
      "cell_type": "markdown",
      "metadata": {
        "id": "pOg0iBT71Ltj"
      },
      "source": [
        "### U-критерий Манна — Уитни"
      ]
    },
    {
      "cell_type": "code",
      "metadata": {
        "id": "d140G7k11Ltl"
      },
      "source": [
        "#  Статистический критерий, используемый для оценки различий между двумя независимыми выборками по уровню какого-либо признака, \n",
        "# измеренного количественно. Позволяет выявлять различия в значении параметра между малыми выборками."
      ],
      "execution_count": 26,
      "outputs": []
    },
    {
      "cell_type": "code",
      "metadata": {
        "id": "BEF66WIx1Ltm"
      },
      "source": [
        "np.random.seed(11)\n",
        "A = stats.norm.rvs(scale=30,loc=11,size=100)\n",
        "B = A + stats.norm.rvs(scale=54,loc=11,size=100)"
      ],
      "execution_count": 27,
      "outputs": []
    },
    {
      "cell_type": "code",
      "metadata": {
        "colab": {
          "base_uri": "https://localhost:8080/"
        },
        "id": "NSREGx1S1Ltn",
        "outputId": "31ccf091-e8b8-4e8d-b4af-9e07fcfd259c"
      },
      "source": [
        "# H0 - различий нет\n",
        "# H1 - различия есть\n",
        "stat, p = mannwhitneyu(A, B,alternative='two-sided')\n",
        "print('Statistics=%.3f, p=%.3f' % (stat, p))\n",
        "alpha = 0.05\n",
        "if p > alpha:\n",
        "    print('Различий в эффекте нет')\n",
        "else:\n",
        "    print('Различия в эффекте есть')"
      ],
      "execution_count": 28,
      "outputs": [
        {
          "output_type": "stream",
          "name": "stdout",
          "text": [
            "Statistics=4343.000, p=0.109\n",
            "Различий в эффекте нет\n"
          ]
        }
      ]
    },
    {
      "cell_type": "code",
      "metadata": {
        "colab": {
          "base_uri": "https://localhost:8080/",
          "height": 336
        },
        "id": "lmmGoJo61Lto",
        "outputId": "adcfa51c-d3f1-4b91-c0dc-f2de032bfb1e"
      },
      "source": [
        "plt.figure(figsize=(7, 5))\n",
        "df = pd.DataFrame({'A':A, 'B':B})\n",
        "sns.histplot(data=df, kde=True, bins=50)\n",
        "plt.title('Сравнение A и B')\n",
        "plt.legend(['A', 'B'])\n",
        "plt.grid()"
      ],
      "execution_count": 29,
      "outputs": [
        {
          "output_type": "display_data",
          "data": {
            "text/plain": [
              "<Figure size 504x360 with 1 Axes>"
            ],
            "image/png": "[encoded data removed]"
          },
          "metadata": {
            "needs_background": "light"
          }
        }
      ]
    },
    {
      "cell_type": "markdown",
      "metadata": {
        "id": "xGaGphr41Ltp"
      },
      "source": [
        "### Т-критерий Вилкоксона"
      ]
    },
    {
      "cell_type": "code",
      "metadata": {
        "id": "oA0qv2Qe1Ltp"
      },
      "source": [
        "# Также используются названия Т-критерий Уилкоксона, критерий Вилкоксона, критерий знаковых рангов Уилкоксона, критерий суммы рангов Уилкоксона.\n",
        "# Непараметрический статистический тест (критерий), используемый для проверки различий между двумя выборками парных или независимых измерений по уровню\n",
        "# какого-либо количественного признака, измеренного в непрерывной или в порядковой шкале. Впервые предложен Фрэнком Уилкоксоном. \n",
        "# Другие названия — W-критерий Вилкоксона, критерий знаковых рангов Вилкоксона, критерий Уилкоксона для связных выборок. \n",
        "# Тест Вилкоксона для независимых выборок также называется критерием Манна-Уитни."
      ],
      "execution_count": 30,
      "outputs": []
    },
    {
      "cell_type": "code",
      "metadata": {
        "id": "6PdkflDw1Ltq"
      },
      "source": [
        "np.random.seed(11)\n",
        "C = stats.norm.rvs(scale=30,loc=11,size=100)\n",
        "D = C + stats.norm.rvs(scale=54,loc=11,size=100)"
      ],
      "execution_count": 31,
      "outputs": []
    },
    {
      "cell_type": "code",
      "metadata": {
        "colab": {
          "base_uri": "https://localhost:8080/"
        },
        "id": "X9ZSron31Ltq",
        "outputId": "b43b8fe1-ef79-4f91-e66d-02df6cd1b25e"
      },
      "source": [
        "# H0 - различий нет\n",
        "# H1 - различия есть\n",
        "stat, p = wilcoxon(C,D,alternative='two-sided')\n",
        "print('Statistics=%.3f, p=%.3f' % (stat, p))\n",
        "alpha = 0.05\n",
        "if p > alpha:\n",
        "    print('Различий в эффекте нет')\n",
        "else:\n",
        "    print('Различия в эффекте есть')"
      ],
      "execution_count": 32,
      "outputs": [
        {
          "output_type": "stream",
          "name": "stdout",
          "text": [
            "Statistics=1930.000, p=0.041\n",
            "Различия в эффекте есть\n"
          ]
        }
      ]
    },
    {
      "cell_type": "code",
      "metadata": {
        "colab": {
          "base_uri": "https://localhost:8080/",
          "height": 336
        },
        "id": "XTZkvLKt1Ltr",
        "outputId": "a7870c6d-aedd-4a1e-e4db-75a0b405f88a"
      },
      "source": [
        "plt.figure(figsize=(7, 5))\n",
        "df = pd.DataFrame({'C':C, 'D':D})\n",
        "sns.histplot(data=df, kde=True, bins=50)\n",
        "plt.title('Сравнение C и D')\n",
        "plt.legend(['C', 'D'])\n",
        "plt.grid()"
      ],
      "execution_count": 33,
      "outputs": [
        {
          "output_type": "display_data",
          "data": {
            "text/plain": [
              "<Figure size 504x360 with 1 Axes>"
            ],
            "image/png": "[encoded data removed]"
          },
          "metadata": {
            "needs_background": "light"
          }
        }
      ]
    },
    {
      "cell_type": "markdown",
      "metadata": {
        "id": "GU1c9GuCFgMi"
      },
      "source": [
        "###  Бутстреп"
      ]
    },
    {
      "cell_type": "code",
      "metadata": {
        "id": "igTdhbByFhlC"
      },
      "source": [
        "group1 = np.array([1,2,3,4,5,6,7,8,9,10])\n",
        "group2 = np.array([10,11,12,13,14,15])"
      ],
      "execution_count": 34,
      "outputs": []
    },
    {
      "cell_type": "code",
      "metadata": {
        "id": "10dXPdKRFkJV"
      },
      "source": [
        "def get_bootstrap_samples(data, n_samples):\n",
        "    \"\"\"Бутстрап-выборка\"\"\"\n",
        "    indices = np.random.randint(0, len(data), (n_samples, len(data)))\n",
        "    samples = data[indices]\n",
        "    return samples"
      ],
      "execution_count": 35,
      "outputs": []
    },
    {
      "cell_type": "code",
      "metadata": {
        "id": "mtcwkR30FnE-"
      },
      "source": [
        "def stat_intervals(stat, alpha=0.05):\n",
        "    \"\"\"Доверительный интервал\"\"\"\n",
        "    boundaries = np.percentile(stat, [100 * alpha / 2., 100 * (1 - alpha / 2.)])\n",
        "    return boundaries"
      ],
      "execution_count": 36,
      "outputs": []
    },
    {
      "cell_type": "code",
      "metadata": {
        "id": "GXGNJDsQFrG2"
      },
      "source": [
        "group1_median = list(map(np.median, get_bootstrap_samples(group1, 1000)))\n",
        "group2_median  = list(map(np.median, get_bootstrap_samples(group2, 1000)))"
      ],
      "execution_count": 37,
      "outputs": []
    },
    {
      "cell_type": "code",
      "metadata": {
        "id": "Lf-5NzRnFtfp"
      },
      "source": [
        "delta_median = list(map(lambda x: x[1] - x[0], zip(group1_median, group2_median)))"
      ],
      "execution_count": 38,
      "outputs": []
    },
    {
      "cell_type": "code",
      "metadata": {
        "colab": {
          "base_uri": "https://localhost:8080/"
        },
        "id": "m3G11UYVFwmK",
        "outputId": "7dd54c30-5402-4fcd-bf41-d03c6c357d08"
      },
      "source": [
        "print (\"Макc значение для для группы1:\", np.max(group1),\"Мин значение для для группы1:\", np.min(group1))\n",
        "print (\"Макc значение для для группы2:\", np.max(group2),\"Мин значение для для группы2:\", np.min(group2))\n",
        "print (\"95% доверительный интервал для группы1:\", stat_intervals(group1_median, 0.05))\n",
        "print (\"95% доверительный интервал для группы2:\",  stat_intervals(group2_median, 0.05))\n",
        "print (\"95% доверительный интервал для разности медиан:\",  stat_intervals(delta_median, 0.05))"
      ],
      "execution_count": 39,
      "outputs": [
        {
          "output_type": "stream",
          "name": "stdout",
          "text": [
            "Макc значение для для группы1: 10 Мин значение для для группы1: 1\n",
            "Макc значение для для группы2: 15 Мин значение для для группы2: 10\n",
            "95% доверительный интервал для группы1: [3. 8.]\n",
            "95% доверительный интервал для группы2: [10.5 14.5]\n",
            "95% доверительный интервал для разности медиан: [ 3.5 10. ]\n"
          ]
        }
      ]
    },
    {
      "cell_type": "markdown",
      "metadata": {
        "id": "isgukdciGvzr"
      },
      "source": [
        "# Корреляция"
      ]
    },
    {
      "cell_type": "markdown",
      "metadata": {
        "id": "XVbLzIQkGC1h"
      },
      "source": [
        "### Коэффициент корреляции Пирсона"
      ]
    },
    {
      "cell_type": "code",
      "metadata": {
        "id": "ML0-8LjwFPM3"
      },
      "source": [
        "data = {'x1':[2,3,4,15,18],\n",
        "        'x2':[0,-21,0,-30,12],\n",
        "        'x3':[2,3,4,5,6],\n",
        "        'y1':[0.2,0.3,0.4,0.5,0.6],\n",
        "        'y2':[11.0,-30.2,12.0,-42.5,43.0]}"
      ],
      "execution_count": 40,
      "outputs": []
    },
    {
      "cell_type": "code",
      "metadata": {
        "colab": {
          "base_uri": "https://localhost:8080/",
          "height": 414
        },
        "id": "wtbmJGihGxJ2",
        "outputId": "a355f38d-97f9-4cc6-dcfb-3e93239ee994"
      },
      "source": [
        "df = pd.DataFrame(data)\n",
        "df.info()\n",
        "df.head()"
      ],
      "execution_count": 41,
      "outputs": [
        {
          "output_type": "stream",
          "name": "stdout",
          "text": [
            "<class 'pandas.core.frame.DataFrame'>\n",
            "RangeIndex: 5 entries, 0 to 4\n",
            "Data columns (total 5 columns):\n",
            " #   Column  Non-Null Count  Dtype  \n",
            "---  ------  --------------  -----  \n",
            " 0   x1      5 non-null      int64  \n",
            " 1   x2      5 non-null      int64  \n",
            " 2   x3      5 non-null      int64  \n",
            " 3   y1      5 non-null      float64\n",
            " 4   y2      5 non-null      float64\n",
            "dtypes: float64(2), int64(3)\n",
            "memory usage: 328.0 bytes\n"
          ]
        },
        {
          "output_type": "execute_result",
          "data": {
            "text/plain": [
              "   x1  x2  x3   y1    y2\n",
              "0   2   0   2  0.2  11.0\n",
              "1   3 -21   3  0.3 -30.2\n",
              "2   4   0   4  0.4  12.0\n",
              "3  15 -30   5  0.5 -42.5\n",
              "4  18  12   6  0.6  43.0"
            ],
            "text/html": [
              "\n",
              "  <div id=\"df-86e37c5d-7c16-42e6-8bda-387e94ace50f\">\n",
              "    <div class=\"colab-df-container\">\n",
              "      <div>\n",
              "<style scoped>\n",
              "    .dataframe tbody tr th:only-of-type {\n",
              "        vertical-align: middle;\n",
              "    }\n",
              "\n",
              "    .dataframe tbody tr th {\n",
              "        vertical-align: top;\n",
              "    }\n",
              "\n",
              "    .dataframe thead th {\n",
              "        text-align: right;\n",
              "    }\n",
              "</style>\n",
              "<table border=\"1\" class=\"dataframe\">\n",
              "  <thead>\n",
              "    <tr style=\"text-align: right;\">\n",
              "      <th></th>\n",
              "      <th>x1</th>\n",
              "      <th>x2</th>\n",
              "      <th>x3</th>\n",
              "      <th>y1</th>\n",
              "      <th>y2</th>\n",
              "    </tr>\n",
              "  </thead>\n",
              "  <tbody>\n",
              "    <tr>\n",
              "      <th>0</th>\n",
              "      <td>2</td>\n",
              "      <td>0</td>\n",
              "      <td>2</td>\n",
              "      <td>0.2</td>\n",
              "      <td>11.0</td>\n",
              "    </tr>\n",
              "    <tr>\n",
              "      <th>1</th>\n",
              "      <td>3</td>\n",
              "      <td>-21</td>\n",
              "      <td>3</td>\n",
              "      <td>0.3</td>\n",
              "      <td>-30.2</td>\n",
              "    </tr>\n",
              "    <tr>\n",
              "      <th>2</th>\n",
              "      <td>4</td>\n",
              "      <td>0</td>\n",
              "      <td>4</td>\n",
              "      <td>0.4</td>\n",
              "      <td>12.0</td>\n",
              "    </tr>\n",
              "    <tr>\n",
              "      <th>3</th>\n",
              "      <td>15</td>\n",
              "      <td>-30</td>\n",
              "      <td>5</td>\n",
              "      <td>0.5</td>\n",
              "      <td>-42.5</td>\n",
              "    </tr>\n",
              "    <tr>\n",
              "      <th>4</th>\n",
              "      <td>18</td>\n",
              "      <td>12</td>\n",
              "      <td>6</td>\n",
              "      <td>0.6</td>\n",
              "      <td>43.0</td>\n",
              "    </tr>\n",
              "  </tbody>\n",
              "</table>\n",
              "</div>\n",
              "      <button class=\"colab-df-convert\" onclick=\"convertToInteractive('df-86e37c5d-7c16-42e6-8bda-387e94ace50f')\"\n",
              "              title=\"Convert this dataframe to an interactive table.\"\n",
              "              style=\"display:none;\">\n",
              "        \n",
              "  <svg xmlns=\"http://www.w3.org/2000/svg\" height=\"24px\"viewBox=\"0 0 24 24\"\n",
              "       width=\"24px\">\n",
              "    <path d=\"M0 0h24v24H0V0z\" fill=\"none\"/>\n",
              "    <path d=\"M18.56 5.44l.94 2.06.94-2.06 2.06-.94-2.06-.94-.94-2.06-.94 2.06-2.06.94zm-11 1L8.5 8.5l.94-2.06 2.06-.94-2.06-.94L8.5 2.5l-.94 2.06-2.06.94zm10 10l.94 2.06.94-2.06 2.06-.94-2.06-.94-.94-2.06-.94 2.06-2.06.94z\"/><path d=\"M17.41 7.96l-1.37-1.37c-.4-.4-.92-.59-1.43-.59-.52 0-1.04.2-1.43.59L10.3 9.45l-7.72 7.72c-.78.78-.78 2.05 0 2.83L4 21.41c.39.39.9.59 1.41.59.51 0 1.02-.2 1.41-.59l7.78-7.78 2.81-2.81c.8-.78.8-2.07 0-2.86zM5.41 20L4 18.59l7.72-7.72 1.47 1.35L5.41 20z\"/>\n",
              "  </svg>\n",
              "      </button>\n",
              "      \n",
              "  <style>\n",
              "    .colab-df-container {\n",
              "      display:flex;\n",
              "      flex-wrap:wrap;\n",
              "      gap: 12px;\n",
              "    }\n",
              "\n",
              "    .colab-df-convert {\n",
              "      background-color: #E8F0FE;\n",
              "      border: none;\n",
              "      border-radius: 50%;\n",
              "      cursor: pointer;\n",
              "      display: none;\n",
              "      fill: #1967D2;\n",
              "      height: 32px;\n",
              "      padding: 0 0 0 0;\n",
              "      width: 32px;\n",
              "    }\n",
              "\n",
              "    .colab-df-convert:hover {\n",
              "      background-color: #E2EBFA;\n",
              "      box-shadow: 0px 1px 2px rgba(60, 64, 67, 0.3), 0px 1px 3px 1px rgba(60, 64, 67, 0.15);\n",
              "      fill: #174EA6;\n",
              "    }\n",
              "\n",
              "    [theme=dark] .colab-df-convert {\n",
              "      background-color: #3B4455;\n",
              "      fill: #D2E3FC;\n",
              "    }\n",
              "\n",
              "    [theme=dark] .colab-df-convert:hover {\n",
              "      background-color: #434B5C;\n",
              "      box-shadow: 0px 1px 3px 1px rgba(0, 0, 0, 0.15);\n",
              "      filter: drop-shadow(0px 1px 2px rgba(0, 0, 0, 0.3));\n",
              "      fill: #FFFFFF;\n",
              "    }\n",
              "  </style>\n",
              "\n",
              "      <script>\n",
              "        const buttonEl =\n",
              "          document.querySelector('#df-86e37c5d-7c16-42e6-8bda-387e94ace50f button.colab-df-convert');\n",
              "        buttonEl.style.display =\n",
              "          google.colab.kernel.accessAllowed ? 'block' : 'none';\n",
              "\n",
              "        async function convertToInteractive(key) {\n",
              "          const element = document.querySelector('#df-86e37c5d-7c16-42e6-8bda-387e94ace50f');\n",
              "          const dataTable =\n",
              "            await google.colab.kernel.invokeFunction('convertToInteractive',\n",
              "                                                     [key], {});\n",
              "          if (!dataTable) return;\n",
              "\n",
              "          const docLinkHtml = 'Like what you see? Visit the ' +\n",
              "            '<a target=\"_blank\" href=https://colab.research.google.com/notebooks/data_table.ipynb>data table notebook</a>'\n",
              "            + ' to learn more about interactive tables.';\n",
              "          element.innerHTML = '';\n",
              "          dataTable['output_type'] = 'display_data';\n",
              "          await google.colab.output.renderOutput(dataTable, element);\n",
              "          const docLink = document.createElement('div');\n",
              "          docLink.innerHTML = docLinkHtml;\n",
              "          element.appendChild(docLink);\n",
              "        }\n",
              "      </script>\n",
              "    </div>\n",
              "  </div>\n",
              "  "
            ]
          },
          "metadata": {},
          "execution_count": 41
        }
      ]
    },
    {
      "cell_type": "code",
      "metadata": {
        "colab": {
          "base_uri": "https://localhost:8080/",
          "height": 296
        },
        "id": "ZvrxEL0gH-4g",
        "outputId": "b216cc8b-34a0-4a9d-d17f-5338bac7fe76"
      },
      "source": [
        "df.plot(kind='scatter', x='x3', y='y1')"
      ],
      "execution_count": 42,
      "outputs": [
        {
          "output_type": "execute_result",
          "data": {
            "text/plain": [
              "<matplotlib.axes._subplots.AxesSubplot at 0x7f9e6eef36d0>"
            ]
          },
          "metadata": {},
          "execution_count": 42
        },
        {
          "output_type": "display_data",
          "data": {
            "text/plain": [
              "<Figure size 432x288 with 1 Axes>"
            ],
            "image/png": "[encoded data removed]"
          },
          "metadata": {
            "needs_background": "light"
          }
        }
      ]
    },
    {
      "cell_type": "code",
      "metadata": {
        "colab": {
          "base_uri": "https://localhost:8080/",
          "height": 296
        },
        "id": "qsD-yhA7IJ4S",
        "outputId": "4a8fb31b-5b30-4c6b-be62-44b4e8fbf153"
      },
      "source": [
        "df.plot(kind='scatter', x='x1', y='y2')"
      ],
      "execution_count": 43,
      "outputs": [
        {
          "output_type": "execute_result",
          "data": {
            "text/plain": [
              "<matplotlib.axes._subplots.AxesSubplot at 0x7f9e6efea150>"
            ]
          },
          "metadata": {},
          "execution_count": 43
        },
        {
          "output_type": "display_data",
          "data": {
            "text/plain": [
              "<Figure size 432x288 with 1 Axes>"
            ],
            "image/png": "[encoded data removed]"
          },
          "metadata": {
            "needs_background": "light"
          }
        }
      ]
    },
    {
      "cell_type": "code",
      "metadata": {
        "colab": {
          "base_uri": "https://localhost:8080/",
          "height": 296
        },
        "id": "W4jxzYyeILyc",
        "outputId": "990a4824-e775-4b3b-97f8-9cce8498e9b3"
      },
      "source": [
        "df.plot(kind='scatter', x='x2', y='y2')"
      ],
      "execution_count": 44,
      "outputs": [
        {
          "output_type": "execute_result",
          "data": {
            "text/plain": [
              "<matplotlib.axes._subplots.AxesSubplot at 0x7f9e6f04c990>"
            ]
          },
          "metadata": {},
          "execution_count": 44
        },
        {
          "output_type": "display_data",
          "data": {
            "text/plain": [
              "<Figure size 432x288 with 1 Axes>"
            ],
            "image/png": "[encoded data removed]"
          },
          "metadata": {
            "needs_background": "light"
          }
        }
      ]
    },
    {
      "cell_type": "code",
      "metadata": {
        "colab": {
          "base_uri": "https://localhost:8080/",
          "height": 112
        },
        "id": "iXbIA48FIRKd",
        "outputId": "93ed4a87-5580-4832-afd5-8b79a66ed78a"
      },
      "source": [
        "# Коэффициент корреляции Пирсона (r-Пирсона) применяется для исследования взаимосвязи двух переменных, измеренных в метрических шкалах на одной и той же выборке. \n",
        "# Он позволяет определить, насколько пропорциональная изменчивость двух переменных.\n",
        "df[['x2', 'y2']].corr()"
      ],
      "execution_count": 45,
      "outputs": [
        {
          "output_type": "execute_result",
          "data": {
            "text/plain": [
              "          x2        y2\n",
              "x2  1.000000  0.994319\n",
              "y2  0.994319  1.000000"
            ],
            "text/html": [
              "\n",
              "  <div id=\"df-20a7a624-844f-4dcd-a515-31fed554346f\">\n",
              "    <div class=\"colab-df-container\">\n",
              "      <div>\n",
              "<style scoped>\n",
              "    .dataframe tbody tr th:only-of-type {\n",
              "        vertical-align: middle;\n",
              "    }\n",
              "\n",
              "    .dataframe tbody tr th {\n",
              "        vertical-align: top;\n",
              "    }\n",
              "\n",
              "    .dataframe thead th {\n",
              "        text-align: right;\n",
              "    }\n",
              "</style>\n",
              "<table border=\"1\" class=\"dataframe\">\n",
              "  <thead>\n",
              "    <tr style=\"text-align: right;\">\n",
              "      <th></th>\n",
              "      <th>x2</th>\n",
              "      <th>y2</th>\n",
              "    </tr>\n",
              "  </thead>\n",
              "  <tbody>\n",
              "    <tr>\n",
              "      <th>x2</th>\n",
              "      <td>1.000000</td>\n",
              "      <td>0.994319</td>\n",
              "    </tr>\n",
              "    <tr>\n",
              "      <th>y2</th>\n",
              "      <td>0.994319</td>\n",
              "      <td>1.000000</td>\n",
              "    </tr>\n",
              "  </tbody>\n",
              "</table>\n",
              "</div>\n",
              "      <button class=\"colab-df-convert\" onclick=\"convertToInteractive('df-20a7a624-844f-4dcd-a515-31fed554346f')\"\n",
              "              title=\"Convert this dataframe to an interactive table.\"\n",
              "              style=\"display:none;\">\n",
              "        \n",
              "  <svg xmlns=\"http://www.w3.org/2000/svg\" height=\"24px\"viewBox=\"0 0 24 24\"\n",
              "       width=\"24px\">\n",
              "    <path d=\"M0 0h24v24H0V0z\" fill=\"none\"/>\n",
              "    <path d=\"M18.56 5.44l.94 2.06.94-2.06 2.06-.94-2.06-.94-.94-2.06-.94 2.06-2.06.94zm-11 1L8.5 8.5l.94-2.06 2.06-.94-2.06-.94L8.5 2.5l-.94 2.06-2.06.94zm10 10l.94 2.06.94-2.06 2.06-.94-2.06-.94-.94-2.06-.94 2.06-2.06.94z\"/><path d=\"M17.41 7.96l-1.37-1.37c-.4-.4-.92-.59-1.43-.59-.52 0-1.04.2-1.43.59L10.3 9.45l-7.72 7.72c-.78.78-.78 2.05 0 2.83L4 21.41c.39.39.9.59 1.41.59.51 0 1.02-.2 1.41-.59l7.78-7.78 2.81-2.81c.8-.78.8-2.07 0-2.86zM5.41 20L4 18.59l7.72-7.72 1.47 1.35L5.41 20z\"/>\n",
              "  </svg>\n",
              "      </button>\n",
              "      \n",
              "  <style>\n",
              "    .colab-df-container {\n",
              "      display:flex;\n",
              "      flex-wrap:wrap;\n",
              "      gap: 12px;\n",
              "    }\n",
              "\n",
              "    .colab-df-convert {\n",
              "      background-color: #E8F0FE;\n",
              "      border: none;\n",
              "      border-radius: 50%;\n",
              "      cursor: pointer;\n",
              "      display: none;\n",
              "      fill: #1967D2;\n",
              "      height: 32px;\n",
              "      padding: 0 0 0 0;\n",
              "      width: 32px;\n",
              "    }\n",
              "\n",
              "    .colab-df-convert:hover {\n",
              "      background-color: #E2EBFA;\n",
              "      box-shadow: 0px 1px 2px rgba(60, 64, 67, 0.3), 0px 1px 3px 1px rgba(60, 64, 67, 0.15);\n",
              "      fill: #174EA6;\n",
              "    }\n",
              "\n",
              "    [theme=dark] .colab-df-convert {\n",
              "      background-color: #3B4455;\n",
              "      fill: #D2E3FC;\n",
              "    }\n",
              "\n",
              "    [theme=dark] .colab-df-convert:hover {\n",
              "      background-color: #434B5C;\n",
              "      box-shadow: 0px 1px 3px 1px rgba(0, 0, 0, 0.15);\n",
              "      filter: drop-shadow(0px 1px 2px rgba(0, 0, 0, 0.3));\n",
              "      fill: #FFFFFF;\n",
              "    }\n",
              "  </style>\n",
              "\n",
              "      <script>\n",
              "        const buttonEl =\n",
              "          document.querySelector('#df-20a7a624-844f-4dcd-a515-31fed554346f button.colab-df-convert');\n",
              "        buttonEl.style.display =\n",
              "          google.colab.kernel.accessAllowed ? 'block' : 'none';\n",
              "\n",
              "        async function convertToInteractive(key) {\n",
              "          const element = document.querySelector('#df-20a7a624-844f-4dcd-a515-31fed554346f');\n",
              "          const dataTable =\n",
              "            await google.colab.kernel.invokeFunction('convertToInteractive',\n",
              "                                                     [key], {});\n",
              "          if (!dataTable) return;\n",
              "\n",
              "          const docLinkHtml = 'Like what you see? Visit the ' +\n",
              "            '<a target=\"_blank\" href=https://colab.research.google.com/notebooks/data_table.ipynb>data table notebook</a>'\n",
              "            + ' to learn more about interactive tables.';\n",
              "          element.innerHTML = '';\n",
              "          dataTable['output_type'] = 'display_data';\n",
              "          await google.colab.output.renderOutput(dataTable, element);\n",
              "          const docLink = document.createElement('div');\n",
              "          docLink.innerHTML = docLinkHtml;\n",
              "          element.appendChild(docLink);\n",
              "        }\n",
              "      </script>\n",
              "    </div>\n",
              "  </div>\n",
              "  "
            ]
          },
          "metadata": {},
          "execution_count": 45
        }
      ]
    },
    {
      "cell_type": "markdown",
      "metadata": {
        "id": "cc5tjBkSIcUk"
      },
      "source": [
        "### Коэффициент ранговой корреляции Спирмена"
      ]
    },
    {
      "cell_type": "code",
      "metadata": {
        "colab": {
          "base_uri": "https://localhost:8080/",
          "height": 112
        },
        "id": "5Z--zIUcIdik",
        "outputId": "a909bdc0-8313-4634-aa6f-2ae47f167ff4"
      },
      "source": [
        "# Непараметрический метод, который используется с целью статистического изучения связи между явлениями. \n",
        "# В этом случае определяется фактическая степень параллелизма между двумя количественными рядами изучаемых признаков и дается оценка тесноты установленной связи с помощью количественно выраженного коэффициента.\n",
        "df[['x2', 'y2']].corr(method='spearman')"
      ],
      "execution_count": 46,
      "outputs": [
        {
          "output_type": "execute_result",
          "data": {
            "text/plain": [
              "          x2        y2\n",
              "x2  1.000000  0.974679\n",
              "y2  0.974679  1.000000"
            ],
            "text/html": [
              "\n",
              "  <div id=\"df-1869498d-e12a-4066-b9cb-706c135527db\">\n",
              "    <div class=\"colab-df-container\">\n",
              "      <div>\n",
              "<style scoped>\n",
              "    .dataframe tbody tr th:only-of-type {\n",
              "        vertical-align: middle;\n",
              "    }\n",
              "\n",
              "    .dataframe tbody tr th {\n",
              "        vertical-align: top;\n",
              "    }\n",
              "\n",
              "    .dataframe thead th {\n",
              "        text-align: right;\n",
              "    }\n",
              "</style>\n",
              "<table border=\"1\" class=\"dataframe\">\n",
              "  <thead>\n",
              "    <tr style=\"text-align: right;\">\n",
              "      <th></th>\n",
              "      <th>x2</th>\n",
              "      <th>y2</th>\n",
              "    </tr>\n",
              "  </thead>\n",
              "  <tbody>\n",
              "    <tr>\n",
              "      <th>x2</th>\n",
              "      <td>1.000000</td>\n",
              "      <td>0.974679</td>\n",
              "    </tr>\n",
              "    <tr>\n",
              "      <th>y2</th>\n",
              "      <td>0.974679</td>\n",
              "      <td>1.000000</td>\n",
              "    </tr>\n",
              "  </tbody>\n",
              "</table>\n",
              "</div>\n",
              "      <button class=\"colab-df-convert\" onclick=\"convertToInteractive('df-1869498d-e12a-4066-b9cb-706c135527db')\"\n",
              "              title=\"Convert this dataframe to an interactive table.\"\n",
              "              style=\"display:none;\">\n",
              "        \n",
              "  <svg xmlns=\"http://www.w3.org/2000/svg\" height=\"24px\"viewBox=\"0 0 24 24\"\n",
              "       width=\"24px\">\n",
              "    <path d=\"M0 0h24v24H0V0z\" fill=\"none\"/>\n",
              "    <path d=\"M18.56 5.44l.94 2.06.94-2.06 2.06-.94-2.06-.94-.94-2.06-.94 2.06-2.06.94zm-11 1L8.5 8.5l.94-2.06 2.06-.94-2.06-.94L8.5 2.5l-.94 2.06-2.06.94zm10 10l.94 2.06.94-2.06 2.06-.94-2.06-.94-.94-2.06-.94 2.06-2.06.94z\"/><path d=\"M17.41 7.96l-1.37-1.37c-.4-.4-.92-.59-1.43-.59-.52 0-1.04.2-1.43.59L10.3 9.45l-7.72 7.72c-.78.78-.78 2.05 0 2.83L4 21.41c.39.39.9.59 1.41.59.51 0 1.02-.2 1.41-.59l7.78-7.78 2.81-2.81c.8-.78.8-2.07 0-2.86zM5.41 20L4 18.59l7.72-7.72 1.47 1.35L5.41 20z\"/>\n",
              "  </svg>\n",
              "      </button>\n",
              "      \n",
              "  <style>\n",
              "    .colab-df-container {\n",
              "      display:flex;\n",
              "      flex-wrap:wrap;\n",
              "      gap: 12px;\n",
              "    }\n",
              "\n",
              "    .colab-df-convert {\n",
              "      background-color: #E8F0FE;\n",
              "      border: none;\n",
              "      border-radius: 50%;\n",
              "      cursor: pointer;\n",
              "      display: none;\n",
              "      fill: #1967D2;\n",
              "      height: 32px;\n",
              "      padding: 0 0 0 0;\n",
              "      width: 32px;\n",
              "    }\n",
              "\n",
              "    .colab-df-convert:hover {\n",
              "      background-color: #E2EBFA;\n",
              "      box-shadow: 0px 1px 2px rgba(60, 64, 67, 0.3), 0px 1px 3px 1px rgba(60, 64, 67, 0.15);\n",
              "      fill: #174EA6;\n",
              "    }\n",
              "\n",
              "    [theme=dark] .colab-df-convert {\n",
              "      background-color: #3B4455;\n",
              "      fill: #D2E3FC;\n",
              "    }\n",
              "\n",
              "    [theme=dark] .colab-df-convert:hover {\n",
              "      background-color: #434B5C;\n",
              "      box-shadow: 0px 1px 3px 1px rgba(0, 0, 0, 0.15);\n",
              "      filter: drop-shadow(0px 1px 2px rgba(0, 0, 0, 0.3));\n",
              "      fill: #FFFFFF;\n",
              "    }\n",
              "  </style>\n",
              "\n",
              "      <script>\n",
              "        const buttonEl =\n",
              "          document.querySelector('#df-1869498d-e12a-4066-b9cb-706c135527db button.colab-df-convert');\n",
              "        buttonEl.style.display =\n",
              "          google.colab.kernel.accessAllowed ? 'block' : 'none';\n",
              "\n",
              "        async function convertToInteractive(key) {\n",
              "          const element = document.querySelector('#df-1869498d-e12a-4066-b9cb-706c135527db');\n",
              "          const dataTable =\n",
              "            await google.colab.kernel.invokeFunction('convertToInteractive',\n",
              "                                                     [key], {});\n",
              "          if (!dataTable) return;\n",
              "\n",
              "          const docLinkHtml = 'Like what you see? Visit the ' +\n",
              "            '<a target=\"_blank\" href=https://colab.research.google.com/notebooks/data_table.ipynb>data table notebook</a>'\n",
              "            + ' to learn more about interactive tables.';\n",
              "          element.innerHTML = '';\n",
              "          dataTable['output_type'] = 'display_data';\n",
              "          await google.colab.output.renderOutput(dataTable, element);\n",
              "          const docLink = document.createElement('div');\n",
              "          docLink.innerHTML = docLinkHtml;\n",
              "          element.appendChild(docLink);\n",
              "        }\n",
              "      </script>\n",
              "    </div>\n",
              "  </div>\n",
              "  "
            ]
          },
          "metadata": {},
          "execution_count": 46
        }
      ]
    },
    {
      "cell_type": "markdown",
      "metadata": {
        "id": "uz_pBHiB1Ltw"
      },
      "source": [
        "#Дисперсионный анализ"
      ]
    },
    {
      "cell_type": "markdown",
      "metadata": {
        "id": "XXuotNZKD2Lj"
      },
      "source": [
        "### ANOVA"
      ]
    },
    {
      "cell_type": "markdown",
      "metadata": {
        "id": "RNDH1do7D0MD"
      },
      "source": [
        ""
      ]
    },
    {
      "cell_type": "code",
      "metadata": {
        "id": "HKoR0Yig1Ltw"
      },
      "source": [
        "H = [1, 2, 3, 4, 2, 4, 2, 4, 5, 2, 3, 4, 2, 1, 3, 4, 3, 2, 5, 1]\n",
        "I= [1, 2, 4, 6, 5, 6, 7, 5, 4, 5, 6, 7, 4, 3, 5, 5, 6, 5, 4, 3, 5]\n",
        "J = [2, 1, 1, 3, 2, 4, 2, 4, 5, 4, 3, 2, 3, 2, 3, 1, 3, 4, 5, 1, 4]"
      ],
      "execution_count": 47,
      "outputs": []
    },
    {
      "cell_type": "code",
      "metadata": {
        "colab": {
          "base_uri": "https://localhost:8080/"
        },
        "id": "X6KTnhAG1Ltx",
        "outputId": "9e7a48d4-32df-47f8-d7f5-c6325ad00b3d"
      },
      "source": [
        "# H0 - различий нет\n",
        "# H1 - различия есть\n",
        "F, p = f_oneway(H, I,J)\n",
        "print('F=%.3f, p=%.5f' % (F, p))\n",
        "alpha = 0.05\n",
        "if p > alpha:\n",
        "    print('Различий в эффекте нет')\n",
        "else:\n",
        "    print('Различия в эффекте есть')"
      ],
      "execution_count": 48,
      "outputs": [
        {
          "output_type": "stream",
          "name": "stdout",
          "text": [
            "F=12.526, p=0.00003\n",
            "Различия в эффекте есть\n"
          ]
        }
      ]
    },
    {
      "cell_type": "code",
      "metadata": {
        "colab": {
          "base_uri": "https://localhost:8080/",
          "height": 336
        },
        "id": "qd4iMuT91Ltx",
        "outputId": "bac57384-030d-401b-b7d7-9cb7f5dcb5e6"
      },
      "source": [
        "plt.figure(figsize=(7, 5))\n",
        "sns.histplot(H, kde=True, color='green')\n",
        "sns.histplot(I, kde=True, color='yellow')\n",
        "sns.histplot(J, kde=True, color='red')\n",
        "plt.title('Сравнение H, I и J')\n",
        "plt.legend(['H', 'I', 'J'])\n",
        "plt.grid()"
      ],
      "execution_count": 49,
      "outputs": [
        {
          "output_type": "display_data",
          "data": {
            "text/plain": [
              "<Figure size 504x360 with 1 Axes>"
            ],
            "image/png": "[encoded data removed]"
          },
          "metadata": {
            "needs_background": "light"
          }
        }
      ]
    },
    {
      "cell_type": "markdown",
      "metadata": {
        "id": "QIaIR--ZNW5y"
      },
      "source": [
        "# Пропорции"
      ]
    },
    {
      "cell_type": "markdown",
      "metadata": {
        "id": "nnPY3-AHRw7R"
      },
      "source": [
        "### Тест разности двух независимых долей. Вариант 1"
      ]
    },
    {
      "cell_type": "code",
      "metadata": {
        "id": "dQ8ImwBPRweU"
      },
      "source": [
        "# Реклама \"А\" получает 3252 откликов на 3730 просмотров, реклама \"В\" 3872 на 3968\n",
        "clicks = [290, 430] #отклики в каждой группе\n",
        "views  = [300, 450] #просмотры в каждой группе"
      ],
      "execution_count": 50,
      "outputs": []
    },
    {
      "cell_type": "code",
      "metadata": {
        "id": "6gDIBy51R3NJ"
      },
      "source": [
        "# Расчет конверсии\n",
        "p1 = clicks[0]/views[0]\n",
        "p2 = clicks[1]/views[1]"
      ],
      "execution_count": 51,
      "outputs": []
    },
    {
      "cell_type": "code",
      "metadata": {
        "id": "5mV_ueZLR5qJ"
      },
      "source": [
        "def confidence_interval(conversion:float, trials:int) -> List[float]:\n",
        "  '''Функция для нахождения доверительного интервала'''\n",
        "  sigma = math.sqrt(conversion *(1-conversion )/ trials)\n",
        "  mu = conversion\n",
        "  probability = 0.95\n",
        "  interval = stats.norm.interval(probability, loc=mu, scale=sigma)\n",
        "  interval_round = [round(_*100, 1) for _ in interval]\n",
        "  return interval_round"
      ],
      "execution_count": 52,
      "outputs": []
    },
    {
      "cell_type": "code",
      "metadata": {
        "id": "QXsNUMP6SNk0"
      },
      "source": [
        "# Расчет z метрики. Вариант 1\n",
        "p_combined = (clicks[0] + clicks[1]) / (views[0] + views[1])\n",
        "difference = p1 - p2\n",
        "z_scores = difference /math.sqrt(p_combined * (1 - p_combined) * (1/views[0] + 1/views[1]))"
      ],
      "execution_count": 53,
      "outputs": []
    },
    {
      "cell_type": "code",
      "metadata": {
        "colab": {
          "base_uri": "https://localhost:8080/"
        },
        "id": "t0YvaCXG-jEv",
        "outputId": "f1ba452f-e76d-478d-effa-40fbabd17b74"
      },
      "source": [
        "print(f\"Значение z равно {z_scores}\")"
      ],
      "execution_count": 54,
      "outputs": [
        {
          "output_type": "stream",
          "name": "stdout",
          "text": [
            "Значение z равно 0.7607257743127277\n"
          ]
        }
      ]
    },
    {
      "cell_type": "code",
      "metadata": {
        "id": "MSUx1LBEg-_l"
      },
      "source": [
        "# Расчет z метрики. Вариант 2\n",
        "def proportions_diff_z_stat_ind(clicks1, views1, clicks2, views2, alpha = 0.05):\n",
        "  p1 = clicks1/views1\n",
        "  p2 = clicks2/views2\n",
        "  p = float(p1*views1 + p2*views2) / (views1 + views2)\n",
        "  return (p1 - p2) / np.sqrt(p * (1 - p) * (1 / views1 + 1 / views2))"
      ],
      "execution_count": 55,
      "outputs": []
    },
    {
      "cell_type": "code",
      "metadata": {
        "colab": {
          "base_uri": "https://localhost:8080/"
        },
        "id": "do08DshxkXoV",
        "outputId": "578f7e3a-8b98-4a6f-bbe9-562bf2f6f982"
      },
      "source": [
        "print(f\"Значение z равно {proportions_diff_z_stat_ind(290,300,430,450)}\")"
      ],
      "execution_count": 56,
      "outputs": [
        {
          "output_type": "stream",
          "name": "stdout",
          "text": [
            "Значение z равно 0.7607257743127277\n"
          ]
        }
      ]
    },
    {
      "cell_type": "code",
      "metadata": {
        "colab": {
          "base_uri": "https://localhost:8080/"
        },
        "id": "W8xhU1iASUsh",
        "outputId": "a1d5202a-cc67-4c1b-e443-1713059e4caa"
      },
      "source": [
        "print(f\"Конверсия вариант А равна {round(p1*100,1)}% \\\n",
        "        Доверительный интервал {confidence_interval(p1, views[0])[0]}% - {confidence_interval(p1, views[0])[1]}%\")\n",
        "print(f\"Конверсия вариант В равна {round(p2*100,1)}% \\\n",
        "        Доверительный интервал {confidence_interval(p2, views[1])[0]}% - {confidence_interval(p2, views[1])[1]}%\")"
      ],
      "execution_count": 57,
      "outputs": [
        {
          "output_type": "stream",
          "name": "stdout",
          "text": [
            "Конверсия вариант А равна 96.7%         Доверительный интервал 94.6% - 98.7%\n",
            "Конверсия вариант В равна 95.6%         Доверительный интервал 93.7% - 97.5%\n"
          ]
        }
      ]
    },
    {
      "cell_type": "code",
      "metadata": {
        "colab": {
          "base_uri": "https://localhost:8080/"
        },
        "id": "zyWWVvIGSZ_R",
        "outputId": "feafaaf4-e916-49be-e34b-ecb538e54f8e"
      },
      "source": [
        "# Рассчитываем p-value. Вариант 1\n",
        "p_value = (1 - scipy.stats.norm.cdf(abs(z_scores))) * 2\n",
        "print('p-значение: {:f}'.format(p_value))"
      ],
      "execution_count": 58,
      "outputs": [
        {
          "output_type": "stream",
          "name": "stdout",
          "text": [
            "p-значение: 0.446821\n"
          ]
        }
      ]
    },
    {
      "cell_type": "code",
      "metadata": {
        "id": "49SaF9S0-8Ti"
      },
      "source": [
        "# Рассчитываем p-value. Вариант 2\n",
        "def p_value_val(z_stat, alternative = 'two-sided'):\n",
        "    if alternative not in ('two-sided', 'less', 'greater'):\n",
        "        raise ValueError(\"alternative not recognized\\n\"\n",
        "                         \"should be 'two-sided', 'less' or 'greater'\")   \n",
        "    if alternative == 'two-sided':\n",
        "        return 2 * (1 - norm.cdf(np.abs(z_stat)))   \n",
        "    if alternative == 'less':\n",
        "        return norm.cdf(z_stat)\n",
        "    if alternative == 'greater':\n",
        "        return 1 - norm.cdf(z_stat)"
      ],
      "execution_count": 59,
      "outputs": []
    },
    {
      "cell_type": "code",
      "metadata": {
        "colab": {
          "base_uri": "https://localhost:8080/"
        },
        "id": "Gr6GdoXT_nLm",
        "outputId": "3985d7c4-ae3a-467d-c175-5a5ef6452713"
      },
      "source": [
        "print('p-значение: {:f}'.format(p_value_val(z_scores)))"
      ],
      "execution_count": 60,
      "outputs": [
        {
          "output_type": "stream",
          "name": "stdout",
          "text": [
            "p-значение: 0.446821\n"
          ]
        }
      ]
    },
    {
      "cell_type": "code",
      "metadata": {
        "colab": {
          "base_uri": "https://localhost:8080/"
        },
        "id": "EVQSlIErSh6C",
        "outputId": "69cd352f-b646-4af8-ba73-cb894b1b414d"
      },
      "source": [
        "alpha = .05\n",
        "if (p_value < alpha):\n",
        "    print(\"Отвергаем нулевую гипотезу: между долями есть значимая разница\")\n",
        "else:\n",
        "    print(\"Не получилось отвергнуть нулевую гипотезу, нет оснований считать доли разными\")"
      ],
      "execution_count": 61,
      "outputs": [
        {
          "output_type": "stream",
          "name": "stdout",
          "text": [
            "Не получилось отвергнуть нулевую гипотезу, нет оснований считать доли разными\n"
          ]
        }
      ]
    },
    {
      "cell_type": "markdown",
      "metadata": {
        "id": "C2qym_0NG3SH"
      },
      "source": [
        "### Тест разности двух независимых долей. Вариант 2"
      ]
    },
    {
      "cell_type": "code",
      "metadata": {
        "colab": {
          "base_uri": "https://localhost:8080/"
        },
        "id": "HsmgXFoEG6En",
        "outputId": "56a6e8a1-d679-43b9-cf00-c330420b50b7"
      },
      "source": [
        "count = np.array([290, 430])\n",
        "nobs = np.array([300, 450])\n",
        "stat, pval = proportions_ztest(count, nobs, alternative = 'two-sided')\n",
        "print('{0:0.6}'.format(pval))"
      ],
      "execution_count": 62,
      "outputs": [
        {
          "output_type": "stream",
          "name": "stdout",
          "text": [
            "0.446821\n"
          ]
        }
      ]
    },
    {
      "cell_type": "markdown",
      "metadata": {
        "id": "56TSpOAVWMO6"
      },
      "source": [
        "### Коэффициента корреляции Мэтьюса"
      ]
    },
    {
      "cell_type": "code",
      "metadata": {
        "id": "13K1GfICWL7y"
      },
      "source": [
        "# Среди респондентов General Social Survey 2014 года хотя бы раз в месяц проводят вечер в баре 203 женщины и 239 мужчин;\n",
        "# реже, чем раз в месяц, это делают 718 женщин и 515 мужчин.\n",
        "# Посчитайте значение коэффициента корреляции Мэтьюса между полом и частотой похода в бары."
      ],
      "execution_count": 63,
      "outputs": []
    },
    {
      "cell_type": "code",
      "metadata": {
        "id": "znqe57Y7WWlx"
      },
      "source": [
        "def Matthews_correlation(a, b, c, d):\n",
        "    return (a*d-b*c)/np.sqrt((a+b)*(a+c)*(b+d)*(c+d))"
      ],
      "execution_count": 64,
      "outputs": []
    },
    {
      "cell_type": "code",
      "metadata": {
        "colab": {
          "base_uri": "https://localhost:8080/"
        },
        "id": "qjx1H_EOWZ7g",
        "outputId": "6b90c9ac-f9d4-4a90-88e7-95f25b0023b0"
      },
      "source": [
        "men_visit_monthly = 239\n",
        "women_visit_monthly = 203\n",
        "men_visit_rarely = 515\n",
        "women_visit_rarely = 718\n",
        "print (\"Коэффициента корреляции Мэтьюса: %.3f\" % np.round(Matthews_correlation(men_visit_monthly, men_visit_rarely, \n",
        "                                                                       women_visit_monthly, women_visit_rarely), 3))"
      ],
      "execution_count": 65,
      "outputs": [
        {
          "output_type": "stream",
          "name": "stdout",
          "text": [
            "Коэффициента корреляции Мэтьюса: 0.109\n"
          ]
        }
      ]
    },
    {
      "cell_type": "markdown",
      "metadata": {
        "id": "mBjVpocGXhAq"
      },
      "source": [
        "### Доверительный интервал для разности двух незавимых долей"
      ]
    },
    {
      "cell_type": "code",
      "metadata": {
        "id": "gup4WilEXxbw"
      },
      "source": [
        "# В предыдущей задаче давайте попробуем ответить на немного другой вопрос: отличаются ли доля мужчин и доля женщин, относительно часто проводящих вечера в баре?\n",
        "# Постройте 95% доверительный интервал для разности долей, вычитая долю женщин из доли мужчин.\n",
        "# Чему равна его нижняя граница? Округлите до четырёх знаков после десятичной точки."
      ],
      "execution_count": 66,
      "outputs": []
    },
    {
      "cell_type": "code",
      "metadata": {
        "id": "JgaJ9IEIXilo"
      },
      "source": [
        "def proportions_confint_diff_ind(p1, count1, p2, count2, alpha = 0.05):    \n",
        "    z = norm.ppf(1 - alpha / 2.)\n",
        "    \n",
        "    left_boundary = (p1 - p2) - z * np.sqrt(p1 * (1. - p1)/ count1 + p2 * (1 - p2)/ count2)\n",
        "    right_boundary = (p1 - p2) + z * np.sqrt(p1 * (1. - p1)/ count1 + p2 * (1 - p2)/ count2)\n",
        "    \n",
        "    return (left_boundary, right_boundary)"
      ],
      "execution_count": 67,
      "outputs": []
    },
    {
      "cell_type": "code",
      "metadata": {
        "colab": {
          "base_uri": "https://localhost:8080/"
        },
        "id": "Wo5po2C-X4vo",
        "outputId": "42b57350-0741-4452-fba5-0c563f84da7e"
      },
      "source": [
        "all_men = men_visit_monthly + men_visit_rarely\n",
        "all_women = women_visit_monthly + women_visit_rarely\n",
        "men_proportion = float(men_visit_monthly)/float(all_men)\n",
        "women_proportion = float(women_visit_monthly)/float(all_women)\n",
        "conf_interval_diff = proportions_confint_diff_ind(men_proportion, all_men, women_proportion, all_women)\n",
        "print (\"Доверительный интервал: [%.4f, %.4f]\" % (np.round(conf_interval_diff[0],4),np.round(conf_interval_diff[1],4)))"
      ],
      "execution_count": 68,
      "outputs": [
        {
          "output_type": "stream",
          "name": "stdout",
          "text": [
            "Доверительный интервал: [0.0539, 0.1392]\n"
          ]
        }
      ]
    },
    {
      "cell_type": "markdown",
      "metadata": {
        "id": "vzWrHxUwWugS"
      },
      "source": [
        "### Тест Хи-квадрат"
      ]
    },
    {
      "cell_type": "code",
      "metadata": {
        "id": "gWzj1KbOWwTx"
      },
      "source": [
        "# В предыдущей задаче проверьте, значимо ли коэффициент корреляции Мэтьюса отличается от нуля.\n",
        "# Посчитайте достигаемый уровень значимости; используйте функцию scipy.stats.chi2_contingency."
      ],
      "execution_count": 69,
      "outputs": []
    },
    {
      "cell_type": "code",
      "metadata": {
        "colab": {
          "base_uri": "https://localhost:8080/"
        },
        "id": "daN2-03tWzP5",
        "outputId": "2473d0e4-2dfc-41d1-bca0-5f75651cfba7"
      },
      "source": [
        "# chi2 : Статистика теста\n",
        "# p :  p-value теста\n",
        "# dof : Степени свободы\n",
        "# expected : Ожидаемые частоты, основанные на предельных суммах таблицы\n",
        "chi2, p, do, expected = chi2_contingency([[men_visit_monthly, men_visit_rarely], [women_visit_monthly, women_visit_rarely]])\n",
        "print (\"Хи-квадрат: %f\" % chi2)\n",
        "print (\"p-value: %f\" % p)"
      ],
      "execution_count": 70,
      "outputs": [
        {
          "output_type": "stream",
          "name": "stdout",
          "text": [
            "Хи-квадрат: 19.407531\n",
            "p-value: 0.000011\n"
          ]
        }
      ]
    },
    {
      "cell_type": "markdown",
      "metadata": {
        "id": "ge_-5FfW2zav"
      },
      "source": [
        "### Тест Фишера"
      ]
    },
    {
      "cell_type": "code",
      "metadata": {
        "colab": {
          "base_uri": "https://localhost:8080/"
        },
        "id": "ORuyzfgr21_P",
        "outputId": "9e36d345-b186-4cb8-8f63-90a9c3c7fe26"
      },
      "source": [
        "df3 = pd.DataFrame([[10,15],[39,34]], index=['Рост','Снижение'], columns=['Прогноз','Факт'])\n",
        "print(df3)"
      ],
      "execution_count": 71,
      "outputs": [
        {
          "output_type": "stream",
          "name": "stdout",
          "text": [
            "          Прогноз  Факт\n",
            "Рост           10    15\n",
            "Снижение       39    34\n"
          ]
        }
      ]
    },
    {
      "cell_type": "code",
      "metadata": {
        "colab": {
          "base_uri": "https://localhost:8080/"
        },
        "id": "21pPOImM23u3",
        "outputId": "7d873b0a-d840-4c67-cedf-9949368ddd75"
      },
      "source": [
        "# H0 - эффект случайный\n",
        "# H1 - эффект не случайный\n",
        "oddsratio, pvalue = stats.stats.fisher_exact(df3)\n",
        "print(pvalue)"
      ],
      "execution_count": 72,
      "outputs": [
        {
          "output_type": "stream",
          "name": "stdout",
          "text": [
            "0.35417955365927367\n"
          ]
        }
      ]
    },
    {
      "cell_type": "markdown",
      "metadata": {
        "id": "CNrdeEtY5F2o"
      },
      "source": [
        "#Прочее"
      ]
    },
    {
      "cell_type": "markdown",
      "metadata": {
        "id": "_FMkTtURElRx"
      },
      "source": [
        "### Z-оценка"
      ]
    },
    {
      "cell_type": "code",
      "metadata": {
        "id": "yRSJ2P5D5JeG",
        "colab": {
          "base_uri": "https://localhost:8080/"
        },
        "outputId": "7148cc08-91b2-4603-f010-b6f2f30f1028"
      },
      "source": [
        "list_number = [7,8,8,9,10]\n",
        "# Рассчитываем среднее\n",
        "mean = np.mean(list_number)\n",
        "print(mean)\n",
        "# Рассчитываем дисперсию\n",
        "var = np.var(list_number,ddof=1)\n",
        "print(var)\n",
        "# Рассчитываем стандартное отклонение\n",
        "std = round(np.std(list_number,ddof=1),2)\n",
        "print(std)\n",
        "# Рассчитаем z-оценку для 7.5\n",
        "z = (7-mean)/std\n",
        "print(z)"
      ],
      "execution_count": 73,
      "outputs": [
        {
          "output_type": "stream",
          "name": "stdout",
          "text": [
            "8.4\n",
            "1.2999999999999998\n",
            "1.14\n",
            "-1.228070175438597\n"
          ]
        }
      ]
    }
  ]
}
