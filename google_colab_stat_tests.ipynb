{
  "nbformat": 4,
  "nbformat_minor": 0,
  "metadata": {
    "kernelspec": {
      "display_name": "Python 3",
      "language": "python",
      "name": "python3"
    },
    "language_info": {
      "codemirror_mode": {
        "name": "ipython",
        "version": 3
      },
      "file_extension": ".py",
      "mimetype": "text/x-python",
      "name": "python",
      "nbconvert_exporter": "python",
      "pygments_lexer": "ipython3",
      "version": "3.8.5"
    },
    "colab": {
      "provenance": [],
      "collapsed_sections": []
    },
    "widgets": {
      "application/vnd.jupyter.widget-state+json": {
        "c156f89e2e764059a8b06bc02b51b5e1": {
          "model_module": "@jupyter-widgets/controls",
          "model_name": "HBoxModel",
          "model_module_version": "1.5.0",
          "state": {
            "_dom_classes": [],
            "_model_module": "@jupyter-widgets/controls",
            "_model_module_version": "1.5.0",
            "_model_name": "HBoxModel",
            "_view_count": null,
            "_view_module": "@jupyter-widgets/controls",
            "_view_module_version": "1.5.0",
            "_view_name": "HBoxView",
            "box_style": "",
            "children": [
              "IPY_MODEL_1b7db29628264484af67cd05e902779d",
              "IPY_MODEL_9c493b3c346c4f8a8029ea2d83df46b6",
              "IPY_MODEL_340e087d53b84616b140910575d9632c"
            ],
            "layout": "IPY_MODEL_258222b8d5ab4e04af098bf3e2eb7b12"
          }
        },
        "1b7db29628264484af67cd05e902779d": {
          "model_module": "@jupyter-widgets/controls",
          "model_name": "HTMLModel",
          "model_module_version": "1.5.0",
          "state": {
            "_dom_classes": [],
            "_model_module": "@jupyter-widgets/controls",
            "_model_module_version": "1.5.0",
            "_model_name": "HTMLModel",
            "_view_count": null,
            "_view_module": "@jupyter-widgets/controls",
            "_view_module_version": "1.5.0",
            "_view_name": "HTMLView",
            "description": "",
            "description_tooltip": null,
            "layout": "IPY_MODEL_3200a30974654639b53af2d4301f8c32",
            "placeholder": "​",
            "style": "IPY_MODEL_7cec4d496dd3492ba1083e4aecd67c28",
            "value": "100%"
          }
        },
        "9c493b3c346c4f8a8029ea2d83df46b6": {
          "model_module": "@jupyter-widgets/controls",
          "model_name": "FloatProgressModel",
          "model_module_version": "1.5.0",
          "state": {
            "_dom_classes": [],
            "_model_module": "@jupyter-widgets/controls",
            "_model_module_version": "1.5.0",
            "_model_name": "FloatProgressModel",
            "_view_count": null,
            "_view_module": "@jupyter-widgets/controls",
            "_view_module_version": "1.5.0",
            "_view_name": "ProgressView",
            "bar_style": "success",
            "description": "",
            "description_tooltip": null,
            "layout": "IPY_MODEL_41871202ba244fa69d780f6972483779",
            "max": 1000,
            "min": 0,
            "orientation": "horizontal",
            "style": "IPY_MODEL_2bf0c2386a1d48c5ad088760fd2ac24f",
            "value": 1000
          }
        },
        "340e087d53b84616b140910575d9632c": {
          "model_module": "@jupyter-widgets/controls",
          "model_name": "HTMLModel",
          "model_module_version": "1.5.0",
          "state": {
            "_dom_classes": [],
            "_model_module": "@jupyter-widgets/controls",
            "_model_module_version": "1.5.0",
            "_model_name": "HTMLModel",
            "_view_count": null,
            "_view_module": "@jupyter-widgets/controls",
            "_view_module_version": "1.5.0",
            "_view_name": "HTMLView",
            "description": "",
            "description_tooltip": null,
            "layout": "IPY_MODEL_8944cd5ccd5c43f2b42b96cfc1552369",
            "placeholder": "​",
            "style": "IPY_MODEL_56e58242da3a45c4b24b796bf88398fd",
            "value": " 1000/1000 [00:00&lt;00:00, 1628.41it/s]"
          }
        },
        "258222b8d5ab4e04af098bf3e2eb7b12": {
          "model_module": "@jupyter-widgets/base",
          "model_name": "LayoutModel",
          "model_module_version": "1.2.0",
          "state": {
            "_model_module": "@jupyter-widgets/base",
            "_model_module_version": "1.2.0",
            "_model_name": "LayoutModel",
            "_view_count": null,
            "_view_module": "@jupyter-widgets/base",
            "_view_module_version": "1.2.0",
            "_view_name": "LayoutView",
            "align_content": null,
            "align_items": null,
            "align_self": null,
            "border": null,
            "bottom": null,
            "display": null,
            "flex": null,
            "flex_flow": null,
            "grid_area": null,
            "grid_auto_columns": null,
            "grid_auto_flow": null,
            "grid_auto_rows": null,
            "grid_column": null,
            "grid_gap": null,
            "grid_row": null,
            "grid_template_areas": null,
            "grid_template_columns": null,
            "grid_template_rows": null,
            "height": null,
            "justify_content": null,
            "justify_items": null,
            "left": null,
            "margin": null,
            "max_height": null,
            "max_width": null,
            "min_height": null,
            "min_width": null,
            "object_fit": null,
            "object_position": null,
            "order": null,
            "overflow": null,
            "overflow_x": null,
            "overflow_y": null,
            "padding": null,
            "right": null,
            "top": null,
            "visibility": null,
            "width": null
          }
        },
        "3200a30974654639b53af2d4301f8c32": {
          "model_module": "@jupyter-widgets/base",
          "model_name": "LayoutModel",
          "model_module_version": "1.2.0",
          "state": {
            "_model_module": "@jupyter-widgets/base",
            "_model_module_version": "1.2.0",
            "_model_name": "LayoutModel",
            "_view_count": null,
            "_view_module": "@jupyter-widgets/base",
            "_view_module_version": "1.2.0",
            "_view_name": "LayoutView",
            "align_content": null,
            "align_items": null,
            "align_self": null,
            "border": null,
            "bottom": null,
            "display": null,
            "flex": null,
            "flex_flow": null,
            "grid_area": null,
            "grid_auto_columns": null,
            "grid_auto_flow": null,
            "grid_auto_rows": null,
            "grid_column": null,
            "grid_gap": null,
            "grid_row": null,
            "grid_template_areas": null,
            "grid_template_columns": null,
            "grid_template_rows": null,
            "height": null,
            "justify_content": null,
            "justify_items": null,
            "left": null,
            "margin": null,
            "max_height": null,
            "max_width": null,
            "min_height": null,
            "min_width": null,
            "object_fit": null,
            "object_position": null,
            "order": null,
            "overflow": null,
            "overflow_x": null,
            "overflow_y": null,
            "padding": null,
            "right": null,
            "top": null,
            "visibility": null,
            "width": null
          }
        },
        "7cec4d496dd3492ba1083e4aecd67c28": {
          "model_module": "@jupyter-widgets/controls",
          "model_name": "DescriptionStyleModel",
          "model_module_version": "1.5.0",
          "state": {
            "_model_module": "@jupyter-widgets/controls",
            "_model_module_version": "1.5.0",
            "_model_name": "DescriptionStyleModel",
            "_view_count": null,
            "_view_module": "@jupyter-widgets/base",
            "_view_module_version": "1.2.0",
            "_view_name": "StyleView",
            "description_width": ""
          }
        },
        "41871202ba244fa69d780f6972483779": {
          "model_module": "@jupyter-widgets/base",
          "model_name": "LayoutModel",
          "model_module_version": "1.2.0",
          "state": {
            "_model_module": "@jupyter-widgets/base",
            "_model_module_version": "1.2.0",
            "_model_name": "LayoutModel",
            "_view_count": null,
            "_view_module": "@jupyter-widgets/base",
            "_view_module_version": "1.2.0",
            "_view_name": "LayoutView",
            "align_content": null,
            "align_items": null,
            "align_self": null,
            "border": null,
            "bottom": null,
            "display": null,
            "flex": null,
            "flex_flow": null,
            "grid_area": null,
            "grid_auto_columns": null,
            "grid_auto_flow": null,
            "grid_auto_rows": null,
            "grid_column": null,
            "grid_gap": null,
            "grid_row": null,
            "grid_template_areas": null,
            "grid_template_columns": null,
            "grid_template_rows": null,
            "height": null,
            "justify_content": null,
            "justify_items": null,
            "left": null,
            "margin": null,
            "max_height": null,
            "max_width": null,
            "min_height": null,
            "min_width": null,
            "object_fit": null,
            "object_position": null,
            "order": null,
            "overflow": null,
            "overflow_x": null,
            "overflow_y": null,
            "padding": null,
            "right": null,
            "top": null,
            "visibility": null,
            "width": null
          }
        },
        "2bf0c2386a1d48c5ad088760fd2ac24f": {
          "model_module": "@jupyter-widgets/controls",
          "model_name": "ProgressStyleModel",
          "model_module_version": "1.5.0",
          "state": {
            "_model_module": "@jupyter-widgets/controls",
            "_model_module_version": "1.5.0",
            "_model_name": "ProgressStyleModel",
            "_view_count": null,
            "_view_module": "@jupyter-widgets/base",
            "_view_module_version": "1.2.0",
            "_view_name": "StyleView",
            "bar_color": null,
            "description_width": ""
          }
        },
        "8944cd5ccd5c43f2b42b96cfc1552369": {
          "model_module": "@jupyter-widgets/base",
          "model_name": "LayoutModel",
          "model_module_version": "1.2.0",
          "state": {
            "_model_module": "@jupyter-widgets/base",
            "_model_module_version": "1.2.0",
            "_model_name": "LayoutModel",
            "_view_count": null,
            "_view_module": "@jupyter-widgets/base",
            "_view_module_version": "1.2.0",
            "_view_name": "LayoutView",
            "align_content": null,
            "align_items": null,
            "align_self": null,
            "border": null,
            "bottom": null,
            "display": null,
            "flex": null,
            "flex_flow": null,
            "grid_area": null,
            "grid_auto_columns": null,
            "grid_auto_flow": null,
            "grid_auto_rows": null,
            "grid_column": null,
            "grid_gap": null,
            "grid_row": null,
            "grid_template_areas": null,
            "grid_template_columns": null,
            "grid_template_rows": null,
            "height": null,
            "justify_content": null,
            "justify_items": null,
            "left": null,
            "margin": null,
            "max_height": null,
            "max_width": null,
            "min_height": null,
            "min_width": null,
            "object_fit": null,
            "object_position": null,
            "order": null,
            "overflow": null,
            "overflow_x": null,
            "overflow_y": null,
            "padding": null,
            "right": null,
            "top": null,
            "visibility": null,
            "width": null
          }
        },
        "56e58242da3a45c4b24b796bf88398fd": {
          "model_module": "@jupyter-widgets/controls",
          "model_name": "DescriptionStyleModel",
          "model_module_version": "1.5.0",
          "state": {
            "_model_module": "@jupyter-widgets/controls",
            "_model_module_version": "1.5.0",
            "_model_name": "DescriptionStyleModel",
            "_view_count": null,
            "_view_module": "@jupyter-widgets/base",
            "_view_module_version": "1.2.0",
            "_view_name": "StyleView",
            "description_width": ""
          }
        },
        "f5fbace57ad04538b7d4d4917b511e82": {
          "model_module": "@jupyter-widgets/controls",
          "model_name": "HBoxModel",
          "model_module_version": "1.5.0",
          "state": {
            "_dom_classes": [],
            "_model_module": "@jupyter-widgets/controls",
            "_model_module_version": "1.5.0",
            "_model_name": "HBoxModel",
            "_view_count": null,
            "_view_module": "@jupyter-widgets/controls",
            "_view_module_version": "1.5.0",
            "_view_name": "HBoxView",
            "box_style": "",
            "children": [
              "IPY_MODEL_2f3d3503b9ca47d0b2befd2ba8d27c45",
              "IPY_MODEL_c03cad3d27b849b6a0b43ffc472dbeaa",
              "IPY_MODEL_9c35e4b64f4f412d8d4efd2a2694b8bd"
            ],
            "layout": "IPY_MODEL_cd9ae2a3950742a2a6479be52f11a9c3"
          }
        },
        "2f3d3503b9ca47d0b2befd2ba8d27c45": {
          "model_module": "@jupyter-widgets/controls",
          "model_name": "HTMLModel",
          "model_module_version": "1.5.0",
          "state": {
            "_dom_classes": [],
            "_model_module": "@jupyter-widgets/controls",
            "_model_module_version": "1.5.0",
            "_model_name": "HTMLModel",
            "_view_count": null,
            "_view_module": "@jupyter-widgets/controls",
            "_view_module_version": "1.5.0",
            "_view_name": "HTMLView",
            "description": "",
            "description_tooltip": null,
            "layout": "IPY_MODEL_92e0a955025845ccb8dd8494290dc038",
            "placeholder": "​",
            "style": "IPY_MODEL_1cd9e54ab083409d92f13b6ab47b8334",
            "value": "100%"
          }
        },
        "c03cad3d27b849b6a0b43ffc472dbeaa": {
          "model_module": "@jupyter-widgets/controls",
          "model_name": "FloatProgressModel",
          "model_module_version": "1.5.0",
          "state": {
            "_dom_classes": [],
            "_model_module": "@jupyter-widgets/controls",
            "_model_module_version": "1.5.0",
            "_model_name": "FloatProgressModel",
            "_view_count": null,
            "_view_module": "@jupyter-widgets/controls",
            "_view_module_version": "1.5.0",
            "_view_name": "ProgressView",
            "bar_style": "success",
            "description": "",
            "description_tooltip": null,
            "layout": "IPY_MODEL_968deb5e0b934814aa35a1aab975e192",
            "max": 1000,
            "min": 0,
            "orientation": "horizontal",
            "style": "IPY_MODEL_df7cbc55c23b405e827e1cf4a42d55c8",
            "value": 1000
          }
        },
        "9c35e4b64f4f412d8d4efd2a2694b8bd": {
          "model_module": "@jupyter-widgets/controls",
          "model_name": "HTMLModel",
          "model_module_version": "1.5.0",
          "state": {
            "_dom_classes": [],
            "_model_module": "@jupyter-widgets/controls",
            "_model_module_version": "1.5.0",
            "_model_name": "HTMLModel",
            "_view_count": null,
            "_view_module": "@jupyter-widgets/controls",
            "_view_module_version": "1.5.0",
            "_view_name": "HTMLView",
            "description": "",
            "description_tooltip": null,
            "layout": "IPY_MODEL_f261d2b512bb460c8cec01b09680039f",
            "placeholder": "​",
            "style": "IPY_MODEL_afc4cdb6d815457494214bfb3077b127",
            "value": " 1000/1000 [00:00&lt;00:00, 1540.81it/s]"
          }
        },
        "cd9ae2a3950742a2a6479be52f11a9c3": {
          "model_module": "@jupyter-widgets/base",
          "model_name": "LayoutModel",
          "model_module_version": "1.2.0",
          "state": {
            "_model_module": "@jupyter-widgets/base",
            "_model_module_version": "1.2.0",
            "_model_name": "LayoutModel",
            "_view_count": null,
            "_view_module": "@jupyter-widgets/base",
            "_view_module_version": "1.2.0",
            "_view_name": "LayoutView",
            "align_content": null,
            "align_items": null,
            "align_self": null,
            "border": null,
            "bottom": null,
            "display": null,
            "flex": null,
            "flex_flow": null,
            "grid_area": null,
            "grid_auto_columns": null,
            "grid_auto_flow": null,
            "grid_auto_rows": null,
            "grid_column": null,
            "grid_gap": null,
            "grid_row": null,
            "grid_template_areas": null,
            "grid_template_columns": null,
            "grid_template_rows": null,
            "height": null,
            "justify_content": null,
            "justify_items": null,
            "left": null,
            "margin": null,
            "max_height": null,
            "max_width": null,
            "min_height": null,
            "min_width": null,
            "object_fit": null,
            "object_position": null,
            "order": null,
            "overflow": null,
            "overflow_x": null,
            "overflow_y": null,
            "padding": null,
            "right": null,
            "top": null,
            "visibility": null,
            "width": null
          }
        },
        "92e0a955025845ccb8dd8494290dc038": {
          "model_module": "@jupyter-widgets/base",
          "model_name": "LayoutModel",
          "model_module_version": "1.2.0",
          "state": {
            "_model_module": "@jupyter-widgets/base",
            "_model_module_version": "1.2.0",
            "_model_name": "LayoutModel",
            "_view_count": null,
            "_view_module": "@jupyter-widgets/base",
            "_view_module_version": "1.2.0",
            "_view_name": "LayoutView",
            "align_content": null,
            "align_items": null,
            "align_self": null,
            "border": null,
            "bottom": null,
            "display": null,
            "flex": null,
            "flex_flow": null,
            "grid_area": null,
            "grid_auto_columns": null,
            "grid_auto_flow": null,
            "grid_auto_rows": null,
            "grid_column": null,
            "grid_gap": null,
            "grid_row": null,
            "grid_template_areas": null,
            "grid_template_columns": null,
            "grid_template_rows": null,
            "height": null,
            "justify_content": null,
            "justify_items": null,
            "left": null,
            "margin": null,
            "max_height": null,
            "max_width": null,
            "min_height": null,
            "min_width": null,
            "object_fit": null,
            "object_position": null,
            "order": null,
            "overflow": null,
            "overflow_x": null,
            "overflow_y": null,
            "padding": null,
            "right": null,
            "top": null,
            "visibility": null,
            "width": null
          }
        },
        "1cd9e54ab083409d92f13b6ab47b8334": {
          "model_module": "@jupyter-widgets/controls",
          "model_name": "DescriptionStyleModel",
          "model_module_version": "1.5.0",
          "state": {
            "_model_module": "@jupyter-widgets/controls",
            "_model_module_version": "1.5.0",
            "_model_name": "DescriptionStyleModel",
            "_view_count": null,
            "_view_module": "@jupyter-widgets/base",
            "_view_module_version": "1.2.0",
            "_view_name": "StyleView",
            "description_width": ""
          }
        },
        "968deb5e0b934814aa35a1aab975e192": {
          "model_module": "@jupyter-widgets/base",
          "model_name": "LayoutModel",
          "model_module_version": "1.2.0",
          "state": {
            "_model_module": "@jupyter-widgets/base",
            "_model_module_version": "1.2.0",
            "_model_name": "LayoutModel",
            "_view_count": null,
            "_view_module": "@jupyter-widgets/base",
            "_view_module_version": "1.2.0",
            "_view_name": "LayoutView",
            "align_content": null,
            "align_items": null,
            "align_self": null,
            "border": null,
            "bottom": null,
            "display": null,
            "flex": null,
            "flex_flow": null,
            "grid_area": null,
            "grid_auto_columns": null,
            "grid_auto_flow": null,
            "grid_auto_rows": null,
            "grid_column": null,
            "grid_gap": null,
            "grid_row": null,
            "grid_template_areas": null,
            "grid_template_columns": null,
            "grid_template_rows": null,
            "height": null,
            "justify_content": null,
            "justify_items": null,
            "left": null,
            "margin": null,
            "max_height": null,
            "max_width": null,
            "min_height": null,
            "min_width": null,
            "object_fit": null,
            "object_position": null,
            "order": null,
            "overflow": null,
            "overflow_x": null,
            "overflow_y": null,
            "padding": null,
            "right": null,
            "top": null,
            "visibility": null,
            "width": null
          }
        },
        "df7cbc55c23b405e827e1cf4a42d55c8": {
          "model_module": "@jupyter-widgets/controls",
          "model_name": "ProgressStyleModel",
          "model_module_version": "1.5.0",
          "state": {
            "_model_module": "@jupyter-widgets/controls",
            "_model_module_version": "1.5.0",
            "_model_name": "ProgressStyleModel",
            "_view_count": null,
            "_view_module": "@jupyter-widgets/base",
            "_view_module_version": "1.2.0",
            "_view_name": "StyleView",
            "bar_color": null,
            "description_width": ""
          }
        },
        "f261d2b512bb460c8cec01b09680039f": {
          "model_module": "@jupyter-widgets/base",
          "model_name": "LayoutModel",
          "model_module_version": "1.2.0",
          "state": {
            "_model_module": "@jupyter-widgets/base",
            "_model_module_version": "1.2.0",
            "_model_name": "LayoutModel",
            "_view_count": null,
            "_view_module": "@jupyter-widgets/base",
            "_view_module_version": "1.2.0",
            "_view_name": "LayoutView",
            "align_content": null,
            "align_items": null,
            "align_self": null,
            "border": null,
            "bottom": null,
            "display": null,
            "flex": null,
            "flex_flow": null,
            "grid_area": null,
            "grid_auto_columns": null,
            "grid_auto_flow": null,
            "grid_auto_rows": null,
            "grid_column": null,
            "grid_gap": null,
            "grid_row": null,
            "grid_template_areas": null,
            "grid_template_columns": null,
            "grid_template_rows": null,
            "height": null,
            "justify_content": null,
            "justify_items": null,
            "left": null,
            "margin": null,
            "max_height": null,
            "max_width": null,
            "min_height": null,
            "min_width": null,
            "object_fit": null,
            "object_position": null,
            "order": null,
            "overflow": null,
            "overflow_x": null,
            "overflow_y": null,
            "padding": null,
            "right": null,
            "top": null,
            "visibility": null,
            "width": null
          }
        },
        "afc4cdb6d815457494214bfb3077b127": {
          "model_module": "@jupyter-widgets/controls",
          "model_name": "DescriptionStyleModel",
          "model_module_version": "1.5.0",
          "state": {
            "_model_module": "@jupyter-widgets/controls",
            "_model_module_version": "1.5.0",
            "_model_name": "DescriptionStyleModel",
            "_view_count": null,
            "_view_module": "@jupyter-widgets/base",
            "_view_module_version": "1.2.0",
            "_view_name": "StyleView",
            "description_width": ""
          }
        }
      }
    }
  },
  "cells": [
    {
      "cell_type": "code",
      "source": [
        "%%capture\n",
        "%pip install --upgrade numpy\n",
        "%pip install --upgrade scipy"
      ],
      "metadata": {
        "id": "dhHxUpF0-c0O"
      },
      "execution_count": null,
      "outputs": []
    },
    {
      "cell_type": "code",
      "source": [
        "from platform import python_version\n",
        "print(python_version())"
      ],
      "metadata": {
        "colab": {
          "base_uri": "https://localhost:8080/"
        },
        "id": "tREGhot_pFJ_",
        "outputId": "26cb2ec5-43de-4099-dee5-bca9f679e1f4"
      },
      "execution_count": null,
      "outputs": [
        {
          "output_type": "stream",
          "name": "stdout",
          "text": [
            "3.7.14\n"
          ]
        }
      ]
    },
    {
      "cell_type": "code",
      "source": [
        "# Обновиться до версии 1.8.1 не получиться, так как Google Colab работает на Python 3.7, а нужно 3.8\n",
        "import scipy\n",
        "print(scipy.__version__)"
      ],
      "metadata": {
        "colab": {
          "base_uri": "https://localhost:8080/"
        },
        "id": "1BicGiVMgYCi",
        "outputId": "a7f33eb6-23ce-4de8-cd23-f5b36d10730c"
      },
      "execution_count": null,
      "outputs": [
        {
          "output_type": "stream",
          "name": "stdout",
          "text": [
            "1.7.3\n"
          ]
        }
      ]
    },
    {
      "cell_type": "code",
      "metadata": {
        "id": "omSWYlRO1LtY"
      },
      "source": [
        "# Импорт библиотек\n",
        "import math\n",
        "import numpy as np\n",
        "import pandas as pd\n",
        "from typing import List, Tuple, Dict, Set\n",
        "from tqdm.notebook import tqdm\n",
        "\n",
        "import scipy.stats as stats\n",
        "from scipy.stats import wilcoxon, mannwhitneyu,f_oneway\n",
        "from scipy.stats import chi2_contingency\n",
        "from scipy.stats import norm\n",
        "# from scipy.stats import permutation_test\n",
        "\n",
        "import statsmodels.stats.proportion as proportion\n",
        "import statsmodels.stats.power as power\n",
        "import statsmodels.stats.api as sms\n",
        "from statsmodels.stats.weightstats import CompareMeans, DescrStatsW\n",
        "from statsmodels.stats.proportion import proportions_ztest\n",
        "from statsmodels.stats.weightstats import ztest\n",
        "\n",
        "import matplotlib.pyplot as plt \n",
        "import seaborn as sns\n",
        "import pylab\n",
        "%matplotlib inline"
      ],
      "execution_count": null,
      "outputs": []
    },
    {
      "cell_type": "markdown",
      "source": [
        "# Распределение Бернулли. Биномиальное распределение"
      ],
      "metadata": {
        "id": "hmlLl7Cpp8bQ"
      }
    },
    {
      "cell_type": "markdown",
      "source": [
        "Производитель утверждает, что не более 10% оборудования имеют дефекты. 15 станков проверены, 3 имели дефекты. Проверьте утверждение производителя.\n",
        "\n",
        "Нулевая гипотеза не может быть отвергнута на уровне значимости 5%, поскольку возвращаемое значение p больше критического значения 5%."
      ],
      "metadata": {
        "id": "vAz__zi-t0k8"
      }
    },
    {
      "cell_type": "code",
      "source": [
        "stats.binom_test(3, n=15, p=0.1, alternative='greater')"
      ],
      "metadata": {
        "colab": {
          "base_uri": "https://localhost:8080/"
        },
        "id": "3DQ-ALK_t0F7",
        "outputId": "9e555f1b-e9ab-4039-eed4-dbb3b502d445"
      },
      "execution_count": null,
      "outputs": [
        {
          "output_type": "execute_result",
          "data": {
            "text/plain": [
              "0.18406106910639106"
            ]
          },
          "metadata": {},
          "execution_count": 5
        }
      ]
    },
    {
      "cell_type": "markdown",
      "source": [
        "Предположим, мы проверяем умеет ли сотрудник магазина овощей и фруктов визуально определять свежий авокадо или нет. Проведем эксперимент 1000 раз. Предположим, что ответ консультанта как результат подбрасывания правильной монеты, то есть вероятность того или иного ответа равна 0.5"
      ],
      "metadata": {
        "id": "S9wNX8uivVBE"
      }
    },
    {
      "cell_type": "code",
      "source": [
        "# Консультант 550 ответил правильно и 450 нет\n",
        "result = np.concatenate((np.ones(550), np.zeros(450)))"
      ],
      "metadata": {
        "id": "5qm5Zry6vcKr"
      },
      "execution_count": null,
      "outputs": []
    },
    {
      "cell_type": "code",
      "source": [
        "p_0 = 0.5\n",
        "mean = result.mean()\n",
        "z_stat = (mean - p_0)/np.sqrt(p_0 * (1 - p_0)/len(result))\n",
        "print(z_stat)"
      ],
      "metadata": {
        "colab": {
          "base_uri": "https://localhost:8080/"
        },
        "id": "LCTeKY7oviY6",
        "outputId": "a24347af-1458-4b03-b4ac-cbd03230513b"
      },
      "execution_count": null,
      "outputs": [
        {
          "output_type": "stream",
          "name": "stdout",
          "text": [
            "3.162277660168382\n"
          ]
        }
      ]
    },
    {
      "cell_type": "code",
      "source": [
        "# Доверительный интервал\n",
        "# Таким образом, в данном примере продавец решает поставленную задачу с большой вероятностью лучше бросания монетки.\n",
        "mean - 1.96 * np.sqrt(mean * (1 - mean)/len(result)), mean + 1.96 * np.sqrt(mean * (1 - mean)/len(result))"
      ],
      "metadata": {
        "colab": {
          "base_uri": "https://localhost:8080/"
        },
        "id": "4Ty704htvrIz",
        "outputId": "e6bd1c5f-c8e1-4cfb-d8ce-dda39f87c8b1"
      },
      "execution_count": null,
      "outputs": [
        {
          "output_type": "execute_result",
          "data": {
            "text/plain": [
              "(0.5191650198637976, 0.5808349801362025)"
            ]
          },
          "metadata": {},
          "execution_count": 8
        }
      ]
    },
    {
      "cell_type": "markdown",
      "metadata": {
        "id": "5qvBJvFY09y2"
      },
      "source": [
        "# Тест, отличается ли среднее выборки от N. Вариант 1"
      ]
    },
    {
      "cell_type": "code",
      "source": [
        "# Создаем данные\n",
        "np.random.seed(32)\n",
        "sample_size = 100\n",
        "x1 = np.random.normal(2, 1, sample_size)\n",
        "y1 = np.random.normal(1.2, 1, sample_size)"
      ],
      "metadata": {
        "id": "l2IRnLYIuw7k"
      },
      "execution_count": null,
      "outputs": []
    },
    {
      "cell_type": "code",
      "source": [
        "N=0.5\n",
        "alpha = 0.05\n",
        "n = len(x1)\n",
        "x_mean = np.mean(x1)\n",
        "print(x_mean)\n",
        "\n",
        "x_std = np.std(x1,ddof=1)\n",
        "t_stat = (x_mean-N)*np.sqrt(n)/x_std\n",
        "print(t_stat)\n",
        "\n",
        "p_value = 1 - stats.t.cdf(abs(t_stat), n-1)\n",
        "print(p_value)"
      ],
      "metadata": {
        "colab": {
          "base_uri": "https://localhost:8080/"
        },
        "id": "08aL4VGKl4yA",
        "outputId": "7e91ad00-d671-4ef4-f90c-50f861ad376b"
      },
      "execution_count": null,
      "outputs": [
        {
          "output_type": "stream",
          "name": "stdout",
          "text": [
            "2.0636859557846416\n",
            "15.12619077210806\n",
            "0.0\n"
          ]
        }
      ]
    },
    {
      "cell_type": "markdown",
      "source": [
        "# Тест, отличается ли среднее выборки от N. Вариант 2"
      ],
      "metadata": {
        "id": "iG0KMBP1OQaO"
      }
    },
    {
      "cell_type": "code",
      "metadata": {
        "colab": {
          "base_uri": "https://localhost:8080/"
        },
        "id": "dbFutw3E1QBM",
        "outputId": "21fa0ac0-d8d1-4de5-ddf6-9fa21d5c2c34"
      },
      "source": [
        "# alternative{‘two-sided’, ‘less’, ‘greater’}, optional\n",
        "# ‘two-sided’: среднее базового распределения выборки отличается от заданного среднего значения генеральной совокупности\n",
        "# ‘less’: среднее значение базового распределения выборки меньше заданного среднего значения генеральной совокупности\n",
        "# ‘greater’: среднее значение базового распределения выборки больше, чем заданное среднее значение генеральной совокупности\n",
        "\n",
        "stats.ttest_1samp(x1, popmean=N, alternative='greater')"
      ],
      "execution_count": null,
      "outputs": [
        {
          "output_type": "execute_result",
          "data": {
            "text/plain": [
              "Ttest_1sampResult(statistic=15.126190772108059, pvalue=8.69804060794524e-28)"
            ]
          },
          "metadata": {},
          "execution_count": 11
        }
      ]
    },
    {
      "cell_type": "markdown",
      "metadata": {
        "id": "bWwvdK8N1hcE"
      },
      "source": [
        "# Доверительный интервал"
      ]
    },
    {
      "cell_type": "markdown",
      "source": [
        "### Доверительный интервал для одной выборки. Вариант 1"
      ],
      "metadata": {
        "id": "zUiO9tADTWGK"
      }
    },
    {
      "cell_type": "code",
      "metadata": {
        "colab": {
          "base_uri": "https://localhost:8080/"
        },
        "id": "QiC3k0qm3hS8",
        "outputId": "915fed90-19ad-48fb-df08-10e52879004a"
      },
      "source": [
        "np.mean(x1)"
      ],
      "execution_count": null,
      "outputs": [
        {
          "output_type": "execute_result",
          "data": {
            "text/plain": [
              "2.0636859557846416"
            ]
          },
          "metadata": {},
          "execution_count": 12
        }
      ]
    },
    {
      "cell_type": "code",
      "metadata": {
        "id": "cdiDAVkw3HcU"
      },
      "source": [
        "def mean_confidence_interval(data, confidence=0.95):\n",
        "    a = 1.0 * np.array(data)\n",
        "    n = len(a)\n",
        "    m, se = np.mean(a), scipy.stats.sem(a)\n",
        "    h = se * scipy.stats.t.ppf((1 + confidence) / 2., n-1)\n",
        "    return m, m-h, m+h"
      ],
      "execution_count": null,
      "outputs": []
    },
    {
      "cell_type": "code",
      "metadata": {
        "colab": {
          "base_uri": "https://localhost:8080/"
        },
        "id": "KV7vdGQP3Q4S",
        "outputId": "638ae604-3203-419c-fba4-ba366c19c10d"
      },
      "source": [
        "print(mean_confidence_interval(x1))\n",
        "print(mean_confidence_interval(y1))"
      ],
      "execution_count": null,
      "outputs": [
        {
          "output_type": "stream",
          "name": "stdout",
          "text": [
            "(2.0636859557846416, 1.858565431585968, 2.268806479983315)\n",
            "(1.3421714392803372, 1.147247739158617, 1.5370951394020573)\n"
          ]
        }
      ]
    },
    {
      "cell_type": "markdown",
      "source": [
        "### Доверительный интервал для одной выборки. Вариант 2"
      ],
      "metadata": {
        "id": "FWa8fdQFOfeL"
      }
    },
    {
      "cell_type": "code",
      "metadata": {
        "id": "fFXdw1KB3_Mz"
      },
      "source": [
        "def mean_confidence_interval_(data, confidence=0.95):\n",
        "    return stats.t.interval(confidence, len(data)-1, loc=np.mean(data), scale=stats.sem(data))"
      ],
      "execution_count": null,
      "outputs": []
    },
    {
      "cell_type": "code",
      "metadata": {
        "colab": {
          "base_uri": "https://localhost:8080/"
        },
        "id": "89-V88Nr4FaC",
        "outputId": "9a8f0282-7b53-4409-9ce9-ff1b62caee7d"
      },
      "source": [
        "print(mean_confidence_interval_(x1))\n",
        "print(mean_confidence_interval_(y1))"
      ],
      "execution_count": null,
      "outputs": [
        {
          "output_type": "stream",
          "name": "stdout",
          "text": [
            "(1.858565431585968, 2.268806479983315)\n",
            "(1.147247739158617, 1.5370951394020573)\n"
          ]
        }
      ]
    },
    {
      "cell_type": "markdown",
      "metadata": {
        "id": "7-0FJYHr8oOL"
      },
      "source": [
        "### Доверительный интервал разности средних для двух независимых выборок"
      ]
    },
    {
      "cell_type": "code",
      "metadata": {
        "id": "qpmwGN7P8yO_"
      },
      "source": [
        "def mean_diff_confint_ind(sample1,sample2):\n",
        "    cm = CompareMeans(DescrStatsW(sample1), DescrStatsW(sample2))\n",
        "    return cm.tconfint_diff(alternative='two-sided',usevar='pooled')"
      ],
      "execution_count": null,
      "outputs": []
    },
    {
      "cell_type": "code",
      "metadata": {
        "colab": {
          "base_uri": "https://localhost:8080/"
        },
        "id": "_X2nzFOw84nb",
        "outputId": "d80a9851-54cd-44ae-b3b1-7aaa22c3486c"
      },
      "source": [
        "# Построим 95% доверительный интервал для разности средних. Данный интервал не содержит ноль - значит разницу можно признать отличной от нуля.\n",
        "mean_diff_confint_ind(x1,y1)"
      ],
      "execution_count": null,
      "outputs": [
        {
          "output_type": "execute_result",
          "data": {
            "text/plain": [
              "(0.44028840234931266, 1.002740630659296)"
            ]
          },
          "metadata": {},
          "execution_count": 18
        }
      ]
    },
    {
      "cell_type": "markdown",
      "metadata": {
        "id": "_FMkTtURElRx"
      },
      "source": [
        "# Z оценка"
      ]
    },
    {
      "cell_type": "code",
      "metadata": {
        "id": "yRSJ2P5D5JeG",
        "colab": {
          "base_uri": "https://localhost:8080/"
        },
        "outputId": "6cca54fb-4162-45eb-deaf-ff681656c085"
      },
      "source": [
        "list_number = [7,8,8,9,10]\n",
        "# Рассчитываем среднее\n",
        "mean = np.mean(list_number)\n",
        "print(mean)\n",
        "# Рассчитываем дисперсию\n",
        "var = np.var(list_number,ddof=1)\n",
        "print(var)\n",
        "# Рассчитываем стандартное отклонение\n",
        "std = round(np.std(list_number,ddof=1),2)\n",
        "print(std)\n",
        "# Рассчитаем z-оценку для 7.5\n",
        "z = (7.5-mean)/std\n",
        "print(z)"
      ],
      "execution_count": null,
      "outputs": [
        {
          "output_type": "stream",
          "name": "stdout",
          "text": [
            "8.4\n",
            "1.2999999999999998\n",
            "1.14\n",
            "-0.7894736842105267\n"
          ]
        }
      ]
    },
    {
      "cell_type": "markdown",
      "source": [
        "# Z тест. Вариант 1"
      ],
      "metadata": {
        "id": "CIFwSyLZSvhO"
      }
    },
    {
      "cell_type": "code",
      "source": [
        "z,z_pval = ztest(x1, y1, value=0,alternative='two-sided')\n",
        "print(z,z_pval)"
      ],
      "metadata": {
        "colab": {
          "base_uri": "https://localhost:8080/"
        },
        "id": "aaxZB53GS40s",
        "outputId": "3b6e8631-2a30-4213-b61f-4cdae14fd35f"
      },
      "execution_count": null,
      "outputs": [
        {
          "output_type": "stream",
          "name": "stdout",
          "text": [
            "5.0594136370749485 4.205476969392101e-07\n"
          ]
        }
      ]
    },
    {
      "cell_type": "markdown",
      "source": [
        "# Z тест. Вариант 2"
      ],
      "metadata": {
        "id": "ZBMP7JDsPErj"
      }
    },
    {
      "cell_type": "code",
      "source": [
        "def z_test(test: pd.Series, control: pd.Series, confidence=0.95, h0=0):\n",
        "    if not isinstance(test, pd.Series):\n",
        "      test = pd.Series(test)\n",
        "    if not isinstance(control, pd.Series):\n",
        "      control = pd.Series(control)\n",
        "\n",
        "    mu1, mu2 = test.mean(), control.mean()\n",
        "    se1, se2 = test.std() / np.sqrt(len(test)), control.std() / np.sqrt(len(control))\n",
        "    diff = mu1 - mu2\n",
        "    se_diff = np.sqrt(test.var()/len(test) + control.var()/len(control))\n",
        "    \n",
        "    z_stats = (diff-h0)/se_diff\n",
        "    p_value = (1 - stats.norm.cdf(np.abs(z)))*2\n",
        "    \n",
        "    def critial(se,n,param=1): \n",
        "      return se * scipy.stats.t.ppf((1 + confidence) / 2., n-param)\n",
        "    \n",
        "    print(f\"Test {confidence*100}% CI: {mu1} +- {critial(se1, len(test))}\")\n",
        "    print(f\"Control {confidence*100}% CI: {mu2} +- {critial(se2, len(control))}\")\n",
        "    print(f\"Test-Control {confidence*100}% CI: {diff} +- {critial(se_diff,len(test)+len(control),2)}\")\n",
        "    print(f\"Z Statistic {z_stats}\")\n",
        "    print(f\"P-Value {p_value}\")"
      ],
      "metadata": {
        "id": "k50oKuRQIaDA"
      },
      "execution_count": null,
      "outputs": []
    },
    {
      "cell_type": "code",
      "source": [
        "z_test(x1,y1)"
      ],
      "metadata": {
        "colab": {
          "base_uri": "https://localhost:8080/"
        },
        "id": "uRl357MosKz7",
        "outputId": "60e2dd43-08ee-4a7b-d463-3193fd9a424c"
      },
      "execution_count": null,
      "outputs": [
        {
          "output_type": "stream",
          "name": "stdout",
          "text": [
            "Test 95.0% CI: 2.0636859557846416 +- 0.2051205241986735\n",
            "Control 95.0% CI: 1.3421714392803372 +- 0.19492370012172006\n",
            "Test-Control 95.0% CI: 0.7215145165043044 +- 0.2812261141549917\n",
            "Z Statistic 5.059413637074947\n",
            "P-Value 4.2054769688881777e-07\n"
          ]
        }
      ]
    },
    {
      "cell_type": "markdown",
      "metadata": {
        "id": "b6ei4pRX10ES"
      },
      "source": [
        "# t-тест двух независимых выборок"
      ]
    },
    {
      "cell_type": "markdown",
      "metadata": {
        "id": "aqK22Ckn15LH"
      },
      "source": [
        "### Проверка на нормальность данных. Тест Шапиро-Уилка"
      ]
    },
    {
      "cell_type": "code",
      "metadata": {
        "colab": {
          "base_uri": "https://localhost:8080/"
        },
        "id": "wGXkQSvS1w5f",
        "outputId": "09d06a39-d5f4-4b2d-e3ee-243511f59a43"
      },
      "source": [
        "# Тест Шапиро-Уилка\n",
        "stat, p = stats.shapiro(x1)\n",
        "print('Statistics=%.3f, p-value=%.3f' % (stat, p))\n",
        "alpha = 0.05\n",
        "if p > alpha:\n",
        "    print('Принять гипотезу о нормальности')\n",
        "else:\n",
        "    print('Отклонить гипотезу о нормальности')"
      ],
      "execution_count": null,
      "outputs": [
        {
          "output_type": "stream",
          "name": "stdout",
          "text": [
            "Statistics=0.987, p-value=0.467\n",
            "Принять гипотезу о нормальности\n"
          ]
        }
      ]
    },
    {
      "cell_type": "code",
      "source": [
        "# Графический метод\n",
        "stats.probplot(x1, dist=\"norm\", plot=pylab)\n",
        "pylab.show()"
      ],
      "metadata": {
        "colab": {
          "base_uri": "https://localhost:8080/",
          "height": 295
        },
        "id": "GviAwdT3ETJs",
        "outputId": "727d4f9a-287d-4be0-8e95-f07e73f3958f"
      },
      "execution_count": null,
      "outputs": [
        {
          "output_type": "display_data",
          "data": {
            "text/plain": [
              "<Figure size 432x288 with 1 Axes>"
            ],
            "image/png": "[encoded data removed]"
          },
          "metadata": {
            "needs_background": "light"
          }
        }
      ]
    },
    {
      "cell_type": "markdown",
      "source": [
        "### Проверка равенства дисперсий. Критерий Бартлетта"
      ],
      "metadata": {
        "id": "UnPt9My7BXA9"
      }
    },
    {
      "cell_type": "markdown",
      "source": [
        "Цитата из Википедии: \"Критерий Бартлетта (англ. Bartlett's test) — статистический критерий, позволяющий проверять равенство дисперсий нескольких (двух и более) выборок. Нулевая гипотеза предполагает, что рассматриваемые выборки получены из генеральных совокупностей, обладающих одинаковыми дисперсиями.\n",
        "\n",
        "Критерий Бартлетта является параметрическим и основан на дополнительном предположении о нормальности выборок данных. Поэтому перед применением критерия Бартлетта рекомендуется выполнить проверку нормальности. Критерий Бартлетта очень чувствителен к нарушению данного предположения.\n",
        "\n",
        "Плюсы:\n",
        "\n",
        "объёмы выборок могут быть различными (это его преимущество перед критерием Кохрена), критерий Бартлетта выявляет отклонения, как в наибольшую, так и в наименьшую стороны; Минусы:\n",
        "\n",
        "сложность вычислений (критерий Кохрена требует меньше вычислительных затрат. Особо это актуально в случае вычислений «вручную»), объём каждой выборки должен быть больше трёх, критерий очень чувствителен к нарушению предположения о нормальности закона распределения исходных данных.\""
      ],
      "metadata": {
        "id": "5dBQNm4ZBg1s"
      }
    },
    {
      "cell_type": "code",
      "source": [
        "# Расчет дисперсий\n",
        "var1 = np.var(x1)\n",
        "var2 = np.var(y1)\n",
        "print(var1, var2)"
      ],
      "metadata": {
        "colab": {
          "base_uri": "https://localhost:8080/"
        },
        "id": "DMJog0IPBsjG",
        "outputId": "9d89a7d2-eca3-47b4-b3ae-69ac5cb3e41b"
      },
      "execution_count": null,
      "outputs": [
        {
          "output_type": "stream",
          "name": "stdout",
          "text": [
            "1.0579743019655394 0.9554020679106168\n"
          ]
        }
      ]
    },
    {
      "cell_type": "code",
      "source": [
        "# Критерий Бартлетта\n",
        "stat, p = stats.bartlett(x1,y1)\n",
        "print('Statistics=%.3f, p-value=%.3f' % (stat, p))\n",
        "alpha = 0.05\n",
        "if p > alpha:\n",
        "    print('Принять гипотезу о равенстве дисперсий')\n",
        "else:\n",
        "    print('Отклонить гипотезу о равенстве дисперсий')"
      ],
      "metadata": {
        "colab": {
          "base_uri": "https://localhost:8080/"
        },
        "id": "2QDA7BIGBbL0",
        "outputId": "fc1b265b-38cc-4371-828e-1730db8d8dfb"
      },
      "execution_count": null,
      "outputs": [
        {
          "output_type": "stream",
          "name": "stdout",
          "text": [
            "Statistics=0.256, p-value=0.613\n",
            "Принять гипотезу о равенстве дисперсий\n"
          ]
        }
      ]
    },
    {
      "cell_type": "markdown",
      "metadata": {
        "id": "2Aji_RI92Bl5"
      },
      "source": [
        "### t-критерий Стьюдента. Вариант 1"
      ]
    },
    {
      "cell_type": "markdown",
      "source": [
        "t-критерий Стьюдента – общее название для класса методов статистической проверки гипотез (статистических критериев), основанных на распределении Стьюдента. Наиболее частые случаи применения t-критерия связаны с проверкой равенства средних значений в двух выборках.\n",
        "Для применения t-критерия Стьюдента необходимо, чтобы исходные данные имели нормальное распределение. Также имеет значение равенство дисперсий (распределения) сравниваемых групп (гомоскедастичность). При неравных дисперсиях применяется t-критерий в модификации Уэлча (Welch's t).\n",
        "\n",
        "t-критерий «боится» выбросов, т.е. аномальных отклонений. Выбросы в данных сильно искажают распределение t-критерия, что, в свою очередь, может привести к ошибкам статистического вывода, поэтому от аномальных наблюдений следует избавиться. Часто из выборки удаляют все значения, выходящие за пределы ±2 стандартных отклонения от средней.\n",
        "\n",
        "При отсутствии нормального распределения сравниваемых выборок вместо t-критерия Стьюдента используются аналогичные методы непараметрической статистики, среди которых наиболее известными является U-критерий Манна — Уитни."
      ],
      "metadata": {
        "id": "M9LPlqkQEKo8"
      }
    },
    {
      "cell_type": "code",
      "metadata": {
        "colab": {
          "base_uri": "https://localhost:8080/"
        },
        "id": "ScyyLu_Q1__X",
        "outputId": "3aa95375-dafd-48d1-c6b2-bcb44c54b588"
      },
      "source": [
        "# H0 - между выборками нет статистически значимых различий\n",
        "# H1 - между выборками есть статистически значимые различия\n",
        "stats.ttest_ind(x1, y1,alternative='two-sided')"
      ],
      "execution_count": null,
      "outputs": [
        {
          "output_type": "execute_result",
          "data": {
            "text/plain": [
              "Ttest_indResult(statistic=5.059413637074947, pvalue=9.568772905265583e-07)"
            ]
          },
          "metadata": {},
          "execution_count": 27
        }
      ]
    },
    {
      "cell_type": "markdown",
      "source": [
        "### t-критерий Стьюдента. Вариант 2"
      ],
      "metadata": {
        "id": "K1b7QLlaHkhT"
      }
    },
    {
      "cell_type": "code",
      "source": [
        "def ttest_ind_ (a,b):\n",
        "   mean_diff = np.mean(a)-np.mean(b)\n",
        "   n1 = len(a)\n",
        "   n2 = len(b)\n",
        "   sd_a = np.sqrt(np.var(a,ddof=1))\n",
        "   sd_b = np.sqrt(np.var(b,ddof=1))\n",
        "   sem=np.sqrt(sd_a**2/n1+sd_b**2/n2)\n",
        "   t=mean_diff/sem\n",
        "   df=(n1+n2)-2 \n",
        "   pvalue=(1-stats.t.cdf(abs(t),df))*2\n",
        "   return t, pvalue"
      ],
      "metadata": {
        "id": "shH_T_331BLE"
      },
      "execution_count": null,
      "outputs": []
    },
    {
      "cell_type": "code",
      "source": [
        "print(ttest_ind_(x1,y1))"
      ],
      "metadata": {
        "colab": {
          "base_uri": "https://localhost:8080/"
        },
        "id": "27T3oNot2BkU",
        "outputId": "f9a402ef-c6be-4b05-c7e9-09924618b0ef"
      },
      "execution_count": null,
      "outputs": [
        {
          "output_type": "stream",
          "name": "stdout",
          "text": [
            "(5.0594136370749485, 9.56877290514413e-07)\n"
          ]
        }
      ]
    },
    {
      "cell_type": "markdown",
      "source": [
        "### t-критерий Стьюдента. Вариант 3"
      ],
      "metadata": {
        "id": "ZcbUzqdfHpcM"
      }
    },
    {
      "cell_type": "code",
      "source": [
        "def get_student_parameter(data_one: np.array, data_two: np.array) -> float:\n",
        "    len_one, len_two = len(data_one), len(data_one)\n",
        "    mean_one, mean_two = np.mean(data_one), np.mean(data_two)\n",
        "    std_one, std_two = np.std(data_one), np.std(data_two)\n",
        "    k = (\n",
        "        ((std_one ** 2) / len_one + (std_two ** 2) / len_two) ** 2\n",
        "        / (\n",
        "            (std_one ** 4) / ((len_one ** 2) * (len_one - 1))\n",
        "            + (std_two ** 4) / ((len_two ** 2) * (len_two - 1))\n",
        "        )\n",
        "    )\n",
        "    return k\n",
        "\n",
        "def get_ttest_statistic(data_one: np.array, data_two: np.array) -> float:\n",
        "    len_one = len(data_one)\n",
        "    len_two = len(data_two)\n",
        "    mean_one = np.mean(data_one)\n",
        "    mean_two = np.mean(data_two)\n",
        "    std_one = np.std(data_one, ddof=1)\n",
        "    std_two = np.std(data_two, ddof=1)\n",
        "    t = (mean_one - mean_two) / np.sqrt((std_two**2 / len_two) + (std_one**2 / len_one))\n",
        "    return t"
      ],
      "metadata": {
        "id": "rJQXijJ7FNb-"
      },
      "execution_count": null,
      "outputs": []
    },
    {
      "cell_type": "code",
      "source": [
        "k = get_student_parameter(x1, y1)\n",
        "print(f'student_parameter = {k}')\n",
        "\n",
        "alpha = 0.05\n",
        "critical_region_bounds = stats.t.ppf([alpha/2, 1 - alpha/2], df=k)\n",
        "print(f'critical_region_bounds = {critical_region_bounds}')\n",
        "\n",
        "ttest_statistic = get_ttest_statistic(x1, y1)\n",
        "print(f'ttest_statistic = {ttest_statistic}')\n",
        "\n",
        "pvalue = stats.t.cdf(-np.abs(ttest_statistic), df=k)*2\n",
        "print(f'pvalue = {pvalue}')"
      ],
      "metadata": {
        "colab": {
          "base_uri": "https://localhost:8080/"
        },
        "id": "xrDfCZ16FX0L",
        "outputId": "66f943fc-6640-4a12-85dc-234f29a77012"
      },
      "execution_count": null,
      "outputs": [
        {
          "output_type": "stream",
          "name": "stdout",
          "text": [
            "student_parameter = 197.48743474492235\n",
            "critical_region_bounds = [-1.97204895  1.97204895]\n",
            "ttest_statistic = 5.0594136370749485\n",
            "pvalue = 9.587642914865446e-07\n"
          ]
        }
      ]
    },
    {
      "cell_type": "code",
      "metadata": {
        "colab": {
          "base_uri": "https://localhost:8080/",
          "height": 336
        },
        "id": "xQxRm0Lb2GuH",
        "outputId": "f14e8d96-c613-44e8-f2fb-f715ce51742f"
      },
      "source": [
        "plt.figure(figsize=(7, 5))\n",
        "df1 = pd.DataFrame({'x1':x1,'y1':y1})\n",
        "sns.histplot(data=df1, kde=True)\n",
        "plt.title('Сравнение двух независимых выборок')\n",
        "plt.legend(['x1', 'y1'])\n",
        "plt.grid()"
      ],
      "execution_count": null,
      "outputs": [
        {
          "output_type": "display_data",
          "data": {
            "text/plain": [
              "<Figure size 504x360 with 1 Axes>"
            ],
            "image/png": "[encoded data removed]"
          },
          "metadata": {
            "needs_background": "light"
          }
        }
      ]
    },
    {
      "cell_type": "markdown",
      "metadata": {
        "id": "aET_Gj_42L6v"
      },
      "source": [
        "# t-тест двух зависимых выборок"
      ]
    },
    {
      "cell_type": "code",
      "metadata": {
        "id": "WipbmZqv2M4f"
      },
      "source": [
        "# Создаем данные\n",
        "np.random.seed(32)\n",
        "sample_size = 100\n",
        "x2 = np.random.normal(0, 1.5, sample_size)\n",
        "y2 = np.random.normal(1, 1.5, sample_size)"
      ],
      "execution_count": null,
      "outputs": []
    },
    {
      "cell_type": "markdown",
      "metadata": {
        "id": "IyT1DZ0x2Rcx"
      },
      "source": [
        "### Проверка на нормальность данных"
      ]
    },
    {
      "cell_type": "code",
      "metadata": {
        "colab": {
          "base_uri": "https://localhost:8080/"
        },
        "id": "sWacPj5x2PEW",
        "outputId": "c34107ae-b168-484d-e5ec-7efa809fc966"
      },
      "source": [
        "# Критерий Пирсона\n",
        "stat, p = stats.normaltest(x2)\n",
        "print('Statistics=%.3f, p-value=%.3f' % (stat, p))\n",
        "alpha = 0.05\n",
        "if p > alpha:\n",
        "    print('Принять гипотезу о нормальности')\n",
        "else:\n",
        "    print('Отклонить гипотезу о нормальности')"
      ],
      "execution_count": null,
      "outputs": [
        {
          "output_type": "stream",
          "name": "stdout",
          "text": [
            "Statistics=0.957, p-value=0.620\n",
            "Принять гипотезу о нормальности\n"
          ]
        }
      ]
    },
    {
      "cell_type": "markdown",
      "metadata": {
        "id": "7JWVjbQo2WZO"
      },
      "source": [
        "### Проверка гипотезы"
      ]
    },
    {
      "cell_type": "code",
      "metadata": {
        "colab": {
          "base_uri": "https://localhost:8080/"
        },
        "id": "5nEDpr642X6g",
        "outputId": "cd047dd4-6745-46c2-c251-8b97695cb91e"
      },
      "source": [
        "# H0 - между выборками нет статистически значимых различий\n",
        "# H1 - между выборками есть статистически значимые различия\n",
        "stats.ttest_rel(x2, y2,alternative='two-sided')"
      ],
      "execution_count": null,
      "outputs": [
        {
          "output_type": "execute_result",
          "data": {
            "text/plain": [
              "Ttest_relResult(statistic=-5.474743306658619, pvalue=3.318792307456098e-07)"
            ]
          },
          "metadata": {},
          "execution_count": 35
        }
      ]
    },
    {
      "cell_type": "code",
      "metadata": {
        "colab": {
          "base_uri": "https://localhost:8080/",
          "height": 336
        },
        "id": "03j5k4NT2Z23",
        "outputId": "23b7494a-a0ee-4a1f-d037-6c27544ae7ea"
      },
      "source": [
        "plt.figure(figsize=(7, 5))\n",
        "df2 = pd.DataFrame({'x2':x2,'y2':y2})\n",
        "sns.histplot(data=df2, kde=True)\n",
        "plt.title('Сравнение двух зависимых выборок')\n",
        "plt.legend(['x2', 'y2'])\n",
        "plt.grid()"
      ],
      "execution_count": null,
      "outputs": [
        {
          "output_type": "display_data",
          "data": {
            "text/plain": [
              "<Figure size 504x360 with 1 Axes>"
            ],
            "image/png": "[encoded data removed]"
          },
          "metadata": {
            "needs_background": "light"
          }
        }
      ]
    },
    {
      "cell_type": "markdown",
      "source": [
        "# t-критерий Уэлча"
      ],
      "metadata": {
        "id": "uITGCCr1QqmN"
      }
    },
    {
      "cell_type": "markdown",
      "source": [
        "t-критерий Уэлча — тест, основанный на распределении Стьюдента и предназначенный для проверки статистической гипотезы о равенстве математических ожиданий случайных величин, имеющих необязательно равные известные дисперсии. Является модификацией t-критерия Стьюдента. Назван в честь британского статистика Бернарда Льюиса Уэлча."
      ],
      "metadata": {
        "id": "ChfuQQs3Qs92"
      }
    },
    {
      "cell_type": "code",
      "source": [
        "#equal_var:  указывает на предположение об одинаковой дисперсии между двумя массивами\n",
        "stats.ttest_ind(x2, y2,equal_var=False)"
      ],
      "metadata": {
        "colab": {
          "base_uri": "https://localhost:8080/"
        },
        "id": "Ah91UK8xQsY0",
        "outputId": "de86d1dc-c0d4-4a53-a727-d91480265799"
      },
      "execution_count": null,
      "outputs": [
        {
          "output_type": "execute_result",
          "data": {
            "text/plain": [
              "Ttest_indResult(statistic=-5.225165764498768, pvalue=4.403627468189663e-07)"
            ]
          },
          "metadata": {},
          "execution_count": 37
        }
      ]
    },
    {
      "cell_type": "markdown",
      "metadata": {
        "id": "qNTjPyPBEDbq"
      },
      "source": [
        "# Непараметрические критерии"
      ]
    },
    {
      "cell_type": "markdown",
      "metadata": {
        "id": "pOg0iBT71Ltj"
      },
      "source": [
        "### U-критерий Манна — Уитни"
      ]
    },
    {
      "cell_type": "code",
      "metadata": {
        "id": "d140G7k11Ltl"
      },
      "source": [
        "#  Статистический критерий, используемый для оценки различий между двумя независимыми выборками по уровню какого-либо признака, \n",
        "# измеренного количественно. Позволяет выявлять различия в значении параметра между малыми выборками."
      ],
      "execution_count": null,
      "outputs": []
    },
    {
      "cell_type": "code",
      "metadata": {
        "id": "BEF66WIx1Ltm"
      },
      "source": [
        "np.random.seed(32)\n",
        "A = stats.norm.rvs(scale=30,loc=11,size=100)\n",
        "B = A + stats.norm.rvs(scale=54,loc=11,size=100)"
      ],
      "execution_count": null,
      "outputs": []
    },
    {
      "cell_type": "code",
      "metadata": {
        "colab": {
          "base_uri": "https://localhost:8080/"
        },
        "id": "NSREGx1S1Ltn",
        "outputId": "8ae9827f-461f-4ffc-eace-f64b3e448214"
      },
      "source": [
        "# H0 - различий нет\n",
        "# H1 - различия есть\n",
        "stat, p = mannwhitneyu(A, B,alternative='two-sided')\n",
        "print('Statistics=%.3f, p=%.3f' % (stat, p))\n",
        "alpha = 0.05\n",
        "if p > alpha:\n",
        "    print('Различий в эффекте нет')\n",
        "else:\n",
        "    print('Различия в эффекте есть')"
      ],
      "execution_count": null,
      "outputs": [
        {
          "output_type": "stream",
          "name": "stdout",
          "text": [
            "Statistics=4019.000, p=0.017\n",
            "Различия в эффекте есть\n"
          ]
        }
      ]
    },
    {
      "cell_type": "code",
      "metadata": {
        "colab": {
          "base_uri": "https://localhost:8080/",
          "height": 336
        },
        "id": "lmmGoJo61Lto",
        "outputId": "642fca29-f4c6-4f64-f034-25227957d113"
      },
      "source": [
        "plt.figure(figsize=(7, 5))\n",
        "df = pd.DataFrame({'A':A, 'B':B})\n",
        "sns.histplot(data=df, kde=True, bins=50)\n",
        "plt.title('Сравнение A и B')\n",
        "plt.legend(['A', 'B'])\n",
        "plt.grid()"
      ],
      "execution_count": null,
      "outputs": [
        {
          "output_type": "display_data",
          "data": {
            "text/plain": [
              "<Figure size 504x360 with 1 Axes>"
            ],
            "image/png": "[encoded data removed]"
          },
          "metadata": {
            "needs_background": "light"
          }
        }
      ]
    },
    {
      "cell_type": "markdown",
      "metadata": {
        "id": "xGaGphr41Ltp"
      },
      "source": [
        "### Т-критерий Вилкоксона"
      ]
    },
    {
      "cell_type": "code",
      "metadata": {
        "id": "oA0qv2Qe1Ltp"
      },
      "source": [
        "# Также используются названия Т-критерий Уилкоксона, критерий Вилкоксона, критерий знаковых рангов Уилкоксона, критерий суммы рангов Уилкоксона.\n",
        "# Непараметрический статистический тест (критерий), используемый для проверки различий между двумя выборками парных или независимых измерений по уровню\n",
        "# какого-либо количественного признака, измеренного в непрерывной или в порядковой шкале. Впервые предложен Фрэнком Уилкоксоном. \n",
        "# Другие названия — W-критерий Вилкоксона, критерий знаковых рангов Вилкоксона, критерий Уилкоксона для связных выборок. \n",
        "# Тест Вилкоксона для независимых выборок также называется критерием Манна-Уитни."
      ],
      "execution_count": null,
      "outputs": []
    },
    {
      "cell_type": "code",
      "metadata": {
        "id": "6PdkflDw1Ltq"
      },
      "source": [
        "np.random.seed(32)\n",
        "C = stats.norm.rvs(scale=30,loc=11,size=100)\n",
        "D = C + stats.norm.rvs(scale=54,loc=11,size=100)"
      ],
      "execution_count": null,
      "outputs": []
    },
    {
      "cell_type": "code",
      "metadata": {
        "colab": {
          "base_uri": "https://localhost:8080/"
        },
        "id": "X9ZSron31Ltq",
        "outputId": "6d4af8c7-7134-4666-f1a5-de3c70319a09"
      },
      "source": [
        "# H0 - различий нет\n",
        "# H1 - различия есть\n",
        "stat, p = wilcoxon(C,D,alternative='two-sided')\n",
        "print('Statistics=%.3f, p=%.3f' % (stat, p))\n",
        "alpha = 0.05\n",
        "if p > alpha:\n",
        "    print('Различий в эффекте нет')\n",
        "else:\n",
        "    print('Различия в эффекте есть')"
      ],
      "execution_count": null,
      "outputs": [
        {
          "output_type": "stream",
          "name": "stdout",
          "text": [
            "Statistics=1584.000, p=0.001\n",
            "Различия в эффекте есть\n"
          ]
        }
      ]
    },
    {
      "cell_type": "code",
      "metadata": {
        "colab": {
          "base_uri": "https://localhost:8080/",
          "height": 336
        },
        "id": "XTZkvLKt1Ltr",
        "outputId": "b4b2be69-1ae4-4a0c-8431-5d55d9835b72"
      },
      "source": [
        "plt.figure(figsize=(7, 5))\n",
        "df = pd.DataFrame({'C':C, 'D':D})\n",
        "sns.histplot(data=df, kde=True, bins=50)\n",
        "plt.title('Сравнение C и D')\n",
        "plt.legend(['C', 'D'])\n",
        "plt.grid()"
      ],
      "execution_count": null,
      "outputs": [
        {
          "output_type": "display_data",
          "data": {
            "text/plain": [
              "<Figure size 504x360 with 1 Axes>"
            ],
            "image/png": "[encoded data removed]"
          },
          "metadata": {
            "needs_background": "light"
          }
        }
      ]
    },
    {
      "cell_type": "markdown",
      "metadata": {
        "id": "GU1c9GuCFgMi"
      },
      "source": [
        "###  Бутстреп. Вариант 1"
      ]
    },
    {
      "cell_type": "code",
      "source": [
        "# Генерация данных для примера\n",
        "mu_group1, sigma_group1 = 10, 0.5\n",
        "group1 = np.random.normal(mu_group1, sigma_group1, 1000)"
      ],
      "metadata": {
        "id": "SG_ns-F3TfgD"
      },
      "execution_count": null,
      "outputs": []
    },
    {
      "cell_type": "code",
      "source": [
        "abs(mu_group1 - np.mean(group1))"
      ],
      "metadata": {
        "colab": {
          "base_uri": "https://localhost:8080/"
        },
        "id": "WHkusmKBT8yT",
        "outputId": "f659bd46-80d0-452c-93ed-8de43307cdf3"
      },
      "execution_count": null,
      "outputs": [
        {
          "output_type": "execute_result",
          "data": {
            "text/plain": [
              "0.0029852968490615694"
            ]
          },
          "metadata": {},
          "execution_count": 47
        }
      ]
    },
    {
      "cell_type": "code",
      "source": [
        "abs(sigma_group1 - np.std(group1, ddof=1))"
      ],
      "metadata": {
        "colab": {
          "base_uri": "https://localhost:8080/"
        },
        "id": "UkNbaxJ9UJXZ",
        "outputId": "91851804-a0e6-4d89-d9c5-f8a1e387a350"
      },
      "execution_count": null,
      "outputs": [
        {
          "output_type": "execute_result",
          "data": {
            "text/plain": [
              "0.01260947463209866"
            ]
          },
          "metadata": {},
          "execution_count": 48
        }
      ]
    },
    {
      "cell_type": "code",
      "source": [
        "plt.figure(figsize=(7, 3))\n",
        "sns.histplot(group1, kde=True, color='yellow')\n",
        "plt.title('Группа 1')\n",
        "plt.show()"
      ],
      "metadata": {
        "colab": {
          "base_uri": "https://localhost:8080/",
          "height": 227
        },
        "id": "01i-Te82Un-l",
        "outputId": "b0faf6ce-f1a6-40be-9330-0bb5f9bdb8a3"
      },
      "execution_count": null,
      "outputs": [
        {
          "output_type": "display_data",
          "data": {
            "text/plain": [
              "<Figure size 504x216 with 1 Axes>"
            ],
            "image/png": "[encoded data removed]"
          },
          "metadata": {
            "needs_background": "light"
          }
        }
      ]
    },
    {
      "cell_type": "code",
      "source": [
        "mu_group2, sigma_group2 = 11, 1.5\n",
        "group2 = np.random.normal(mu_group2, sigma_group2, 1000)"
      ],
      "metadata": {
        "id": "2xxm95D6UyuS"
      },
      "execution_count": null,
      "outputs": []
    },
    {
      "cell_type": "code",
      "source": [
        "plt.figure(figsize=(7, 3))\n",
        "sns.histplot(group2, kde=True, color='red')\n",
        "plt.title('Группа 2')\n",
        "plt.show()"
      ],
      "metadata": {
        "colab": {
          "base_uri": "https://localhost:8080/",
          "height": 227
        },
        "id": "q6SWIbfuVFHJ",
        "outputId": "a0a0eed3-5afc-4042-8839-68efe654e5c2"
      },
      "execution_count": null,
      "outputs": [
        {
          "output_type": "display_data",
          "data": {
            "text/plain": [
              "<Figure size 504x216 with 1 Axes>"
            ],
            "image/png": "[encoded data removed]"
          },
          "metadata": {
            "needs_background": "light"
          }
        }
      ]
    },
    {
      "cell_type": "code",
      "metadata": {
        "id": "10dXPdKRFkJV"
      },
      "source": [
        "def get_bootstrap_samples(data, n_samples):\n",
        "    \"\"\"Бутстрап-выборка\"\"\"\n",
        "    indices = np.random.randint(0, len(data), (n_samples, len(data)))\n",
        "    samples = data[indices]\n",
        "    return samples"
      ],
      "execution_count": null,
      "outputs": []
    },
    {
      "cell_type": "code",
      "metadata": {
        "id": "mtcwkR30FnE-"
      },
      "source": [
        "def stat_intervals(stat, alpha=0.05):\n",
        "    \"\"\"Доверительный интервал\"\"\"\n",
        "    boundaries = np.percentile(stat, [100 * alpha / 2., 100 * (1 - alpha / 2.)])\n",
        "    return boundaries"
      ],
      "execution_count": null,
      "outputs": []
    },
    {
      "cell_type": "code",
      "metadata": {
        "id": "GXGNJDsQFrG2"
      },
      "source": [
        "group1_median = list(map(np.median, get_bootstrap_samples(group1, 1000)))\n",
        "group2_median  = list(map(np.median, get_bootstrap_samples(group2, 1000)))"
      ],
      "execution_count": null,
      "outputs": []
    },
    {
      "cell_type": "code",
      "metadata": {
        "id": "Lf-5NzRnFtfp"
      },
      "source": [
        "delta_median = list(map(lambda x: x[1] - x[0], zip(group1_median, group2_median)))"
      ],
      "execution_count": null,
      "outputs": []
    },
    {
      "cell_type": "code",
      "metadata": {
        "colab": {
          "base_uri": "https://localhost:8080/"
        },
        "id": "m3G11UYVFwmK",
        "outputId": "b1258c9f-86d5-4085-9243-0e8e61eab3f0"
      },
      "source": [
        "print (\"Макc значение для для группы1:\", np.max(group1),\"Мин значение для для группы1:\", np.min(group1))\n",
        "print (\"Макc значение для для группы2:\", np.max(group2),\"Мин значение для для группы2:\", np.min(group2))\n",
        "print (\"95% доверительный интервал для группы1:\", stat_intervals(group1_median, 0.05))\n",
        "print (\"95% доверительный интервал для группы2:\",  stat_intervals(group2_median, 0.05))\n",
        "print (\"95% доверительный интервал для разности медиан:\",  stat_intervals(delta_median, 0.05))"
      ],
      "execution_count": null,
      "outputs": [
        {
          "output_type": "stream",
          "name": "stdout",
          "text": [
            "Макc значение для для группы1: 11.448279724409767 Мин значение для для группы1: 8.43997995986114\n",
            "Макc значение для для группы2: 15.660356771944738 Мин значение для для группы2: 6.054076728461184\n",
            "95% доверительный интервал для группы1: [ 9.96911312 10.05337023]\n",
            "95% доверительный интервал для группы2: [10.86915161 11.09087408]\n",
            "95% доверительный интервал для разности медиан: [0.84920276 1.08251396]\n"
          ]
        }
      ]
    },
    {
      "cell_type": "markdown",
      "source": [
        "### Бутстреп. Вариант 2 (KARPOV.COURSES)"
      ],
      "metadata": {
        "id": "PJAClzfNSzS7"
      }
    },
    {
      "cell_type": "code",
      "source": [
        "def get_bootstrap(\n",
        "                  data_column_1,                       \n",
        "                  data_column_2,                       \n",
        "                  boot_it = 1000,                      \n",
        "                  statistic = np.mean,                 \n",
        "                  bootstrap_conf_level = 0.95          \n",
        "):\n",
        "    boot_len = max([len(data_column_1), len(data_column_2)])\n",
        "    boot_data = []\n",
        "    for i in tqdm(range(boot_it)):      \n",
        "        samples_1 = data_column_1.sample(\n",
        "            boot_len, \n",
        "            replace = True              \n",
        "        ).values\n",
        "        \n",
        "        samples_2 = data_column_2.sample(\n",
        "            boot_len, \n",
        "            replace = True\n",
        "        ).values\n",
        "        \n",
        "        boot_data.append(statistic(samples_1-samples_2)) \n",
        "        \n",
        "    pd_boot_data = pd.DataFrame(boot_data)\n",
        "        \n",
        "    left_quant = (1 - bootstrap_conf_level)/2\n",
        "    right_quant = 1 - (1 - bootstrap_conf_level) / 2\n",
        "    ci = pd_boot_data.quantile([left_quant, right_quant])\n",
        "        \n",
        "    p_1 = norm.cdf(\n",
        "        x = 0, \n",
        "        loc = np.mean(boot_data), \n",
        "        scale = np.std(boot_data)\n",
        "    )\n",
        "    p_2 = norm.cdf(\n",
        "        x = 0, \n",
        "        loc = -np.mean(boot_data), \n",
        "        scale = np.std(boot_data)\n",
        "    )\n",
        "    p_value = min(p_1, p_2) * 2\n",
        "        \n",
        "    # Визуализация\n",
        "    plt.hist(pd_boot_data[0], bins = 50)\n",
        "    \n",
        "    plt.style.use('ggplot')\n",
        "    plt.vlines(ci,ymin=0,ymax=50,linestyle='--')\n",
        "    plt.xlabel('boot_data')\n",
        "    plt.ylabel('frequency')\n",
        "    plt.title(\"Histogram of boot_data\")\n",
        "    plt.show()\n",
        "       \n",
        "    return {\"boot_data\": boot_data, \n",
        "            \"ci\": ci, \n",
        "            \"p_value\": p_value}"
      ],
      "metadata": {
        "id": "BywaIXm0XpMR"
      },
      "execution_count": null,
      "outputs": []
    },
    {
      "cell_type": "code",
      "source": [
        "df_bootstrap = pd.DataFrame(data={'group1':group1, 'group2':group2})"
      ],
      "metadata": {
        "id": "tisSJvzpZx6Y"
      },
      "execution_count": null,
      "outputs": []
    },
    {
      "cell_type": "code",
      "source": [
        "# Бутстрап (np.mean)\n",
        "# Чувствителен к выбросам данных\n",
        "booted_data_mean = get_bootstrap(df_bootstrap['group1'], df_bootstrap['group2'], statistic = np.mean)"
      ],
      "metadata": {
        "colab": {
          "base_uri": "https://localhost:8080/",
          "height": 329,
          "referenced_widgets": [
            "c156f89e2e764059a8b06bc02b51b5e1",
            "1b7db29628264484af67cd05e902779d",
            "9c493b3c346c4f8a8029ea2d83df46b6",
            "340e087d53b84616b140910575d9632c",
            "258222b8d5ab4e04af098bf3e2eb7b12",
            "3200a30974654639b53af2d4301f8c32",
            "7cec4d496dd3492ba1083e4aecd67c28",
            "41871202ba244fa69d780f6972483779",
            "2bf0c2386a1d48c5ad088760fd2ac24f",
            "8944cd5ccd5c43f2b42b96cfc1552369",
            "56e58242da3a45c4b24b796bf88398fd"
          ]
        },
        "id": "YKJnptC3Xye4",
        "outputId": "6006e8be-37dc-44dd-830d-5128535ee762"
      },
      "execution_count": null,
      "outputs": [
        {
          "output_type": "display_data",
          "data": {
            "text/plain": [
              "  0%|          | 0/1000 [00:00<?, ?it/s]"
            ],
            "application/vnd.jupyter.widget-view+json": {
              "version_major": 2,
              "version_minor": 0,
              "model_id": "c156f89e2e764059a8b06bc02b51b5e1"
            }
          },
          "metadata": {}
        },
        {
          "output_type": "display_data",
          "data": {
            "text/plain": [
              "<Figure size 432x288 with 1 Axes>"
            ],
            "image/png": "[encoded data removed]"
          },
          "metadata": {
            "needs_background": "light"
          }
        }
      ]
    },
    {
      "cell_type": "code",
      "source": [
        "# p-value (с np.mean), p-value\n",
        "booted_data_mean['p_value']"
      ],
      "metadata": {
        "colab": {
          "base_uri": "https://localhost:8080/"
        },
        "id": "KCbzqMhJbQkH",
        "outputId": "b5fb7f94-9a24-4005-cea8-eabd44927288"
      },
      "execution_count": null,
      "outputs": [
        {
          "output_type": "execute_result",
          "data": {
            "text/plain": [
              "1.4301002636618954e-72"
            ]
          },
          "metadata": {},
          "execution_count": 60
        }
      ]
    },
    {
      "cell_type": "code",
      "source": [
        "# Бутстрап (с np.median)\n",
        "# Менее чувствителен к выбросам данных\n",
        "booted_data_median = get_bootstrap(df_bootstrap['group1'], df_bootstrap['group2'], statistic = np.median)"
      ],
      "metadata": {
        "colab": {
          "base_uri": "https://localhost:8080/",
          "height": 331,
          "referenced_widgets": [
            "f5fbace57ad04538b7d4d4917b511e82",
            "2f3d3503b9ca47d0b2befd2ba8d27c45",
            "c03cad3d27b849b6a0b43ffc472dbeaa",
            "9c35e4b64f4f412d8d4efd2a2694b8bd",
            "cd9ae2a3950742a2a6479be52f11a9c3",
            "92e0a955025845ccb8dd8494290dc038",
            "1cd9e54ab083409d92f13b6ab47b8334",
            "968deb5e0b934814aa35a1aab975e192",
            "df7cbc55c23b405e827e1cf4a42d55c8",
            "f261d2b512bb460c8cec01b09680039f",
            "afc4cdb6d815457494214bfb3077b127"
          ]
        },
        "id": "NFfPzeurbF5v",
        "outputId": "9eeff120-16da-46e9-f3a2-a28d2adae0ff"
      },
      "execution_count": null,
      "outputs": [
        {
          "output_type": "display_data",
          "data": {
            "text/plain": [
              "  0%|          | 0/1000 [00:00<?, ?it/s]"
            ],
            "application/vnd.jupyter.widget-view+json": {
              "version_major": 2,
              "version_minor": 0,
              "model_id": "f5fbace57ad04538b7d4d4917b511e82"
            }
          },
          "metadata": {}
        },
        {
          "output_type": "display_data",
          "data": {
            "text/plain": [
              "<Figure size 432x288 with 1 Axes>"
            ],
            "image/png": "[encoded data removed]"
          },
          "metadata": {}
        }
      ]
    },
    {
      "cell_type": "code",
      "source": [
        "# p-value (с np.median), \n",
        "booted_data_median['p_value']"
      ],
      "metadata": {
        "colab": {
          "base_uri": "https://localhost:8080/"
        },
        "id": "DrMj-G5PfLSV",
        "outputId": "44d4f693-806d-4a18-cff4-53d71b44e796"
      },
      "execution_count": null,
      "outputs": [
        {
          "output_type": "execute_result",
          "data": {
            "text/plain": [
              "1.0834088046543285e-49"
            ]
          },
          "metadata": {},
          "execution_count": 62
        }
      ]
    },
    {
      "cell_type": "markdown",
      "source": [
        "### Перестановочный тест"
      ],
      "metadata": {
        "id": "WOfhFq_de9or"
      }
    },
    {
      "cell_type": "code",
      "source": [
        "data1 = np.random.normal(0, 10, size=100)\n",
        "data2 = np.random.normal(0, 1, size=100)"
      ],
      "metadata": {
        "id": "G7Z09uTXfdnn"
      },
      "execution_count": null,
      "outputs": []
    },
    {
      "cell_type": "code",
      "source": [
        "def permutation_test(data_fst, data_snd, iters=1000, plot=True):\n",
        "    data = np.array(list(data_fst) + list(data_snd))\n",
        "    size = len(data)\n",
        "    values = []\n",
        "    fst_ratio = len(data_fst) * 1. / size\n",
        "    for _ in range(iters):\n",
        "        mask = (np.random.random(size=size) < fst_ratio)\n",
        "        values.append(data[mask].mean() - data[~mask].mean())\n",
        "        \n",
        "    if plot:\n",
        "        plt.hist(values, bins=30)\n",
        "        plt.show()\n",
        "        \n",
        "    return (np.abs(values) > np.abs(data_fst.mean() - data_snd.mean())).mean()"
      ],
      "metadata": {
        "id": "KI63jQtsfhOD"
      },
      "execution_count": null,
      "outputs": []
    },
    {
      "cell_type": "code",
      "source": [
        "print(stats.ttest_ind(data1, data2, alternative='two-sided').pvalue)"
      ],
      "metadata": {
        "colab": {
          "base_uri": "https://localhost:8080/"
        },
        "id": "OyrQ1Fb6mZcU",
        "outputId": "98fe1ec5-b796-48ba-83d6-fbdc50ab1af3"
      },
      "execution_count": null,
      "outputs": [
        {
          "output_type": "stream",
          "name": "stdout",
          "text": [
            "0.056361078121954775\n"
          ]
        }
      ]
    },
    {
      "cell_type": "code",
      "source": [
        "print(permutation_test(data1, data2, iters=10000))"
      ],
      "metadata": {
        "colab": {
          "base_uri": "https://localhost:8080/",
          "height": 284
        },
        "id": "t0dyT_RjmOZn",
        "outputId": "763e2648-8b7b-4a96-9bda-6e565559d156"
      },
      "execution_count": null,
      "outputs": [
        {
          "output_type": "display_data",
          "data": {
            "text/plain": [
              "<Figure size 432x288 with 1 Axes>"
            ],
            "image/png": "[encoded data removed]"
          },
          "metadata": {}
        },
        {
          "output_type": "stream",
          "name": "stdout",
          "text": [
            "0.056\n"
          ]
        }
      ]
    },
    {
      "cell_type": "markdown",
      "metadata": {
        "id": "isgukdciGvzr"
      },
      "source": [
        "# Корреляция"
      ]
    },
    {
      "cell_type": "markdown",
      "metadata": {
        "id": "XVbLzIQkGC1h"
      },
      "source": [
        "### Коэффициент корреляции Пирсона"
      ]
    },
    {
      "cell_type": "code",
      "metadata": {
        "id": "ML0-8LjwFPM3"
      },
      "source": [
        "data = {'x1':[2,3,4,15,18],\n",
        "        'x2':[0,-21,0,-30,12],\n",
        "        'x3':[2,3,4,5,6],\n",
        "        'y1':[0.2,0.3,0.4,0.5,0.6],\n",
        "        'y2':[11.0,-30.2,12.0,-42.5,43.0]}"
      ],
      "execution_count": null,
      "outputs": []
    },
    {
      "cell_type": "code",
      "metadata": {
        "colab": {
          "base_uri": "https://localhost:8080/",
          "height": 414
        },
        "id": "wtbmJGihGxJ2",
        "outputId": "cbc007c0-a08a-4a01-e98c-f4737713b601"
      },
      "source": [
        "df = pd.DataFrame(data)\n",
        "df.info()\n",
        "df.head()"
      ],
      "execution_count": null,
      "outputs": [
        {
          "output_type": "stream",
          "name": "stdout",
          "text": [
            "<class 'pandas.core.frame.DataFrame'>\n",
            "RangeIndex: 5 entries, 0 to 4\n",
            "Data columns (total 5 columns):\n",
            " #   Column  Non-Null Count  Dtype  \n",
            "---  ------  --------------  -----  \n",
            " 0   x1      5 non-null      int64  \n",
            " 1   x2      5 non-null      int64  \n",
            " 2   x3      5 non-null      int64  \n",
            " 3   y1      5 non-null      float64\n",
            " 4   y2      5 non-null      float64\n",
            "dtypes: float64(2), int64(3)\n",
            "memory usage: 328.0 bytes\n"
          ]
        },
        {
          "output_type": "execute_result",
          "data": {
            "text/plain": [
              "   x1  x2  x3   y1    y2\n",
              "0   2   0   2  0.2  11.0\n",
              "1   3 -21   3  0.3 -30.2\n",
              "2   4   0   4  0.4  12.0\n",
              "3  15 -30   5  0.5 -42.5\n",
              "4  18  12   6  0.6  43.0"
            ],
            "text/html": [
              "\n",
              "  <div id=\"df-d08fc352-1172-43ee-93d5-02de085a0489\">\n",
              "    <div class=\"colab-df-container\">\n",
              "      <div>\n",
              "<style scoped>\n",
              "    .dataframe tbody tr th:only-of-type {\n",
              "        vertical-align: middle;\n",
              "    }\n",
              "\n",
              "    .dataframe tbody tr th {\n",
              "        vertical-align: top;\n",
              "    }\n",
              "\n",
              "    .dataframe thead th {\n",
              "        text-align: right;\n",
              "    }\n",
              "</style>\n",
              "<table border=\"1\" class=\"dataframe\">\n",
              "  <thead>\n",
              "    <tr style=\"text-align: right;\">\n",
              "      <th></th>\n",
              "      <th>x1</th>\n",
              "      <th>x2</th>\n",
              "      <th>x3</th>\n",
              "      <th>y1</th>\n",
              "      <th>y2</th>\n",
              "    </tr>\n",
              "  </thead>\n",
              "  <tbody>\n",
              "    <tr>\n",
              "      <th>0</th>\n",
              "      <td>2</td>\n",
              "      <td>0</td>\n",
              "      <td>2</td>\n",
              "      <td>0.2</td>\n",
              "      <td>11.0</td>\n",
              "    </tr>\n",
              "    <tr>\n",
              "      <th>1</th>\n",
              "      <td>3</td>\n",
              "      <td>-21</td>\n",
              "      <td>3</td>\n",
              "      <td>0.3</td>\n",
              "      <td>-30.2</td>\n",
              "    </tr>\n",
              "    <tr>\n",
              "      <th>2</th>\n",
              "      <td>4</td>\n",
              "      <td>0</td>\n",
              "      <td>4</td>\n",
              "      <td>0.4</td>\n",
              "      <td>12.0</td>\n",
              "    </tr>\n",
              "    <tr>\n",
              "      <th>3</th>\n",
              "      <td>15</td>\n",
              "      <td>-30</td>\n",
              "      <td>5</td>\n",
              "      <td>0.5</td>\n",
              "      <td>-42.5</td>\n",
              "    </tr>\n",
              "    <tr>\n",
              "      <th>4</th>\n",
              "      <td>18</td>\n",
              "      <td>12</td>\n",
              "      <td>6</td>\n",
              "      <td>0.6</td>\n",
              "      <td>43.0</td>\n",
              "    </tr>\n",
              "  </tbody>\n",
              "</table>\n",
              "</div>\n",
              "      <button class=\"colab-df-convert\" onclick=\"convertToInteractive('df-d08fc352-1172-43ee-93d5-02de085a0489')\"\n",
              "              title=\"Convert this dataframe to an interactive table.\"\n",
              "              style=\"display:none;\">\n",
              "        \n",
              "  <svg xmlns=\"http://www.w3.org/2000/svg\" height=\"24px\"viewBox=\"0 0 24 24\"\n",
              "       width=\"24px\">\n",
              "    <path d=\"M0 0h24v24H0V0z\" fill=\"none\"/>\n",
              "    <path d=\"M18.56 5.44l.94 2.06.94-2.06 2.06-.94-2.06-.94-.94-2.06-.94 2.06-2.06.94zm-11 1L8.5 8.5l.94-2.06 2.06-.94-2.06-.94L8.5 2.5l-.94 2.06-2.06.94zm10 10l.94 2.06.94-2.06 2.06-.94-2.06-.94-.94-2.06-.94 2.06-2.06.94z\"/><path d=\"M17.41 7.96l-1.37-1.37c-.4-.4-.92-.59-1.43-.59-.52 0-1.04.2-1.43.59L10.3 9.45l-7.72 7.72c-.78.78-.78 2.05 0 2.83L4 21.41c.39.39.9.59 1.41.59.51 0 1.02-.2 1.41-.59l7.78-7.78 2.81-2.81c.8-.78.8-2.07 0-2.86zM5.41 20L4 18.59l7.72-7.72 1.47 1.35L5.41 20z\"/>\n",
              "  </svg>\n",
              "      </button>\n",
              "      \n",
              "  <style>\n",
              "    .colab-df-container {\n",
              "      display:flex;\n",
              "      flex-wrap:wrap;\n",
              "      gap: 12px;\n",
              "    }\n",
              "\n",
              "    .colab-df-convert {\n",
              "      background-color: #E8F0FE;\n",
              "      border: none;\n",
              "      border-radius: 50%;\n",
              "      cursor: pointer;\n",
              "      display: none;\n",
              "      fill: #1967D2;\n",
              "      height: 32px;\n",
              "      padding: 0 0 0 0;\n",
              "      width: 32px;\n",
              "    }\n",
              "\n",
              "    .colab-df-convert:hover {\n",
              "      background-color: #E2EBFA;\n",
              "      box-shadow: 0px 1px 2px rgba(60, 64, 67, 0.3), 0px 1px 3px 1px rgba(60, 64, 67, 0.15);\n",
              "      fill: #174EA6;\n",
              "    }\n",
              "\n",
              "    [theme=dark] .colab-df-convert {\n",
              "      background-color: #3B4455;\n",
              "      fill: #D2E3FC;\n",
              "    }\n",
              "\n",
              "    [theme=dark] .colab-df-convert:hover {\n",
              "      background-color: #434B5C;\n",
              "      box-shadow: 0px 1px 3px 1px rgba(0, 0, 0, 0.15);\n",
              "      filter: drop-shadow(0px 1px 2px rgba(0, 0, 0, 0.3));\n",
              "      fill: #FFFFFF;\n",
              "    }\n",
              "  </style>\n",
              "\n",
              "      <script>\n",
              "        const buttonEl =\n",
              "          document.querySelector('#df-d08fc352-1172-43ee-93d5-02de085a0489 button.colab-df-convert');\n",
              "        buttonEl.style.display =\n",
              "          google.colab.kernel.accessAllowed ? 'block' : 'none';\n",
              "\n",
              "        async function convertToInteractive(key) {\n",
              "          const element = document.querySelector('#df-d08fc352-1172-43ee-93d5-02de085a0489');\n",
              "          const dataTable =\n",
              "            await google.colab.kernel.invokeFunction('convertToInteractive',\n",
              "                                                     [key], {});\n",
              "          if (!dataTable) return;\n",
              "\n",
              "          const docLinkHtml = 'Like what you see? Visit the ' +\n",
              "            '<a target=\"_blank\" href=https://colab.research.google.com/notebooks/data_table.ipynb>data table notebook</a>'\n",
              "            + ' to learn more about interactive tables.';\n",
              "          element.innerHTML = '';\n",
              "          dataTable['output_type'] = 'display_data';\n",
              "          await google.colab.output.renderOutput(dataTable, element);\n",
              "          const docLink = document.createElement('div');\n",
              "          docLink.innerHTML = docLinkHtml;\n",
              "          element.appendChild(docLink);\n",
              "        }\n",
              "      </script>\n",
              "    </div>\n",
              "  </div>\n",
              "  "
            ]
          },
          "metadata": {},
          "execution_count": 68
        }
      ]
    },
    {
      "cell_type": "code",
      "metadata": {
        "colab": {
          "base_uri": "https://localhost:8080/",
          "height": 299
        },
        "id": "ZvrxEL0gH-4g",
        "outputId": "062e0889-8bb9-45f7-fcce-e044226442a5"
      },
      "source": [
        "df.plot(kind='scatter', x='x3', y='y1')"
      ],
      "execution_count": null,
      "outputs": [
        {
          "output_type": "execute_result",
          "data": {
            "text/plain": [
              "<matplotlib.axes._subplots.AxesSubplot at 0x7ff3aa169ad0>"
            ]
          },
          "metadata": {},
          "execution_count": 69
        },
        {
          "output_type": "display_data",
          "data": {
            "text/plain": [
              "<Figure size 432x288 with 1 Axes>"
            ],
            "image/png": "[encoded data removed]"
          },
          "metadata": {}
        }
      ]
    },
    {
      "cell_type": "code",
      "metadata": {
        "colab": {
          "base_uri": "https://localhost:8080/",
          "height": 299
        },
        "id": "qsD-yhA7IJ4S",
        "outputId": "da28fce5-38cb-475c-fb0b-b12956f5be97"
      },
      "source": [
        "df.plot(kind='scatter', x='x1', y='y2')"
      ],
      "execution_count": null,
      "outputs": [
        {
          "output_type": "execute_result",
          "data": {
            "text/plain": [
              "<matplotlib.axes._subplots.AxesSubplot at 0x7ff3aa3366d0>"
            ]
          },
          "metadata": {},
          "execution_count": 70
        },
        {
          "output_type": "display_data",
          "data": {
            "text/plain": [
              "<Figure size 432x288 with 1 Axes>"
            ],
            "image/png": "[encoded data removed]"
          },
          "metadata": {}
        }
      ]
    },
    {
      "cell_type": "code",
      "metadata": {
        "colab": {
          "base_uri": "https://localhost:8080/",
          "height": 299
        },
        "id": "W4jxzYyeILyc",
        "outputId": "04b4541c-34e7-4ec1-ec5c-d5e1a23d44b4"
      },
      "source": [
        "df.plot(kind='scatter', x='x2', y='y2')"
      ],
      "execution_count": null,
      "outputs": [
        {
          "output_type": "execute_result",
          "data": {
            "text/plain": [
              "<matplotlib.axes._subplots.AxesSubplot at 0x7ff3aa3c1cd0>"
            ]
          },
          "metadata": {},
          "execution_count": 71
        },
        {
          "output_type": "display_data",
          "data": {
            "text/plain": [
              "<Figure size 432x288 with 1 Axes>"
            ],
            "image/png": "[encoded data removed]"
          },
          "metadata": {}
        }
      ]
    },
    {
      "cell_type": "code",
      "metadata": {
        "colab": {
          "base_uri": "https://localhost:8080/",
          "height": 112
        },
        "id": "iXbIA48FIRKd",
        "outputId": "ff4a69b3-a70b-4a47-e8e1-3fd3efa5ffde"
      },
      "source": [
        "# Коэффициент корреляции Пирсона (r-Пирсона) применяется для исследования взаимосвязи двух переменных, измеренных в метрических шкалах на одной и той же выборке. \n",
        "# Он позволяет определить, насколько пропорциональная изменчивость двух переменных.\n",
        "df[['x2', 'y2']].corr()"
      ],
      "execution_count": null,
      "outputs": [
        {
          "output_type": "execute_result",
          "data": {
            "text/plain": [
              "          x2        y2\n",
              "x2  1.000000  0.994319\n",
              "y2  0.994319  1.000000"
            ],
            "text/html": [
              "\n",
              "  <div id=\"df-7622fc63-31b7-46ee-93ed-aef5c925e712\">\n",
              "    <div class=\"colab-df-container\">\n",
              "      <div>\n",
              "<style scoped>\n",
              "    .dataframe tbody tr th:only-of-type {\n",
              "        vertical-align: middle;\n",
              "    }\n",
              "\n",
              "    .dataframe tbody tr th {\n",
              "        vertical-align: top;\n",
              "    }\n",
              "\n",
              "    .dataframe thead th {\n",
              "        text-align: right;\n",
              "    }\n",
              "</style>\n",
              "<table border=\"1\" class=\"dataframe\">\n",
              "  <thead>\n",
              "    <tr style=\"text-align: right;\">\n",
              "      <th></th>\n",
              "      <th>x2</th>\n",
              "      <th>y2</th>\n",
              "    </tr>\n",
              "  </thead>\n",
              "  <tbody>\n",
              "    <tr>\n",
              "      <th>x2</th>\n",
              "      <td>1.000000</td>\n",
              "      <td>0.994319</td>\n",
              "    </tr>\n",
              "    <tr>\n",
              "      <th>y2</th>\n",
              "      <td>0.994319</td>\n",
              "      <td>1.000000</td>\n",
              "    </tr>\n",
              "  </tbody>\n",
              "</table>\n",
              "</div>\n",
              "      <button class=\"colab-df-convert\" onclick=\"convertToInteractive('df-7622fc63-31b7-46ee-93ed-aef5c925e712')\"\n",
              "              title=\"Convert this dataframe to an interactive table.\"\n",
              "              style=\"display:none;\">\n",
              "        \n",
              "  <svg xmlns=\"http://www.w3.org/2000/svg\" height=\"24px\"viewBox=\"0 0 24 24\"\n",
              "       width=\"24px\">\n",
              "    <path d=\"M0 0h24v24H0V0z\" fill=\"none\"/>\n",
              "    <path d=\"M18.56 5.44l.94 2.06.94-2.06 2.06-.94-2.06-.94-.94-2.06-.94 2.06-2.06.94zm-11 1L8.5 8.5l.94-2.06 2.06-.94-2.06-.94L8.5 2.5l-.94 2.06-2.06.94zm10 10l.94 2.06.94-2.06 2.06-.94-2.06-.94-.94-2.06-.94 2.06-2.06.94z\"/><path d=\"M17.41 7.96l-1.37-1.37c-.4-.4-.92-.59-1.43-.59-.52 0-1.04.2-1.43.59L10.3 9.45l-7.72 7.72c-.78.78-.78 2.05 0 2.83L4 21.41c.39.39.9.59 1.41.59.51 0 1.02-.2 1.41-.59l7.78-7.78 2.81-2.81c.8-.78.8-2.07 0-2.86zM5.41 20L4 18.59l7.72-7.72 1.47 1.35L5.41 20z\"/>\n",
              "  </svg>\n",
              "      </button>\n",
              "      \n",
              "  <style>\n",
              "    .colab-df-container {\n",
              "      display:flex;\n",
              "      flex-wrap:wrap;\n",
              "      gap: 12px;\n",
              "    }\n",
              "\n",
              "    .colab-df-convert {\n",
              "      background-color: #E8F0FE;\n",
              "      border: none;\n",
              "      border-radius: 50%;\n",
              "      cursor: pointer;\n",
              "      display: none;\n",
              "      fill: #1967D2;\n",
              "      height: 32px;\n",
              "      padding: 0 0 0 0;\n",
              "      width: 32px;\n",
              "    }\n",
              "\n",
              "    .colab-df-convert:hover {\n",
              "      background-color: #E2EBFA;\n",
              "      box-shadow: 0px 1px 2px rgba(60, 64, 67, 0.3), 0px 1px 3px 1px rgba(60, 64, 67, 0.15);\n",
              "      fill: #174EA6;\n",
              "    }\n",
              "\n",
              "    [theme=dark] .colab-df-convert {\n",
              "      background-color: #3B4455;\n",
              "      fill: #D2E3FC;\n",
              "    }\n",
              "\n",
              "    [theme=dark] .colab-df-convert:hover {\n",
              "      background-color: #434B5C;\n",
              "      box-shadow: 0px 1px 3px 1px rgba(0, 0, 0, 0.15);\n",
              "      filter: drop-shadow(0px 1px 2px rgba(0, 0, 0, 0.3));\n",
              "      fill: #FFFFFF;\n",
              "    }\n",
              "  </style>\n",
              "\n",
              "      <script>\n",
              "        const buttonEl =\n",
              "          document.querySelector('#df-7622fc63-31b7-46ee-93ed-aef5c925e712 button.colab-df-convert');\n",
              "        buttonEl.style.display =\n",
              "          google.colab.kernel.accessAllowed ? 'block' : 'none';\n",
              "\n",
              "        async function convertToInteractive(key) {\n",
              "          const element = document.querySelector('#df-7622fc63-31b7-46ee-93ed-aef5c925e712');\n",
              "          const dataTable =\n",
              "            await google.colab.kernel.invokeFunction('convertToInteractive',\n",
              "                                                     [key], {});\n",
              "          if (!dataTable) return;\n",
              "\n",
              "          const docLinkHtml = 'Like what you see? Visit the ' +\n",
              "            '<a target=\"_blank\" href=https://colab.research.google.com/notebooks/data_table.ipynb>data table notebook</a>'\n",
              "            + ' to learn more about interactive tables.';\n",
              "          element.innerHTML = '';\n",
              "          dataTable['output_type'] = 'display_data';\n",
              "          await google.colab.output.renderOutput(dataTable, element);\n",
              "          const docLink = document.createElement('div');\n",
              "          docLink.innerHTML = docLinkHtml;\n",
              "          element.appendChild(docLink);\n",
              "        }\n",
              "      </script>\n",
              "    </div>\n",
              "  </div>\n",
              "  "
            ]
          },
          "metadata": {},
          "execution_count": 72
        }
      ]
    },
    {
      "cell_type": "markdown",
      "metadata": {
        "id": "cc5tjBkSIcUk"
      },
      "source": [
        "### Коэффициент ранговой корреляции Спирмена"
      ]
    },
    {
      "cell_type": "code",
      "metadata": {
        "colab": {
          "base_uri": "https://localhost:8080/",
          "height": 112
        },
        "id": "5Z--zIUcIdik",
        "outputId": "a996f700-23a9-466a-a5bc-3922856e33fc"
      },
      "source": [
        "# Непараметрический метод, который используется с целью статистического изучения связи между явлениями. \n",
        "# В этом случае определяется фактическая степень параллелизма между двумя количественными рядами изучаемых признаков и дается оценка тесноты установленной связи с помощью количественно выраженного коэффициента.\n",
        "df[['x2', 'y2']].corr(method='spearman')"
      ],
      "execution_count": null,
      "outputs": [
        {
          "output_type": "execute_result",
          "data": {
            "text/plain": [
              "          x2        y2\n",
              "x2  1.000000  0.974679\n",
              "y2  0.974679  1.000000"
            ],
            "text/html": [
              "\n",
              "  <div id=\"df-ff601ca0-6474-456a-8e26-03341b775e3a\">\n",
              "    <div class=\"colab-df-container\">\n",
              "      <div>\n",
              "<style scoped>\n",
              "    .dataframe tbody tr th:only-of-type {\n",
              "        vertical-align: middle;\n",
              "    }\n",
              "\n",
              "    .dataframe tbody tr th {\n",
              "        vertical-align: top;\n",
              "    }\n",
              "\n",
              "    .dataframe thead th {\n",
              "        text-align: right;\n",
              "    }\n",
              "</style>\n",
              "<table border=\"1\" class=\"dataframe\">\n",
              "  <thead>\n",
              "    <tr style=\"text-align: right;\">\n",
              "      <th></th>\n",
              "      <th>x2</th>\n",
              "      <th>y2</th>\n",
              "    </tr>\n",
              "  </thead>\n",
              "  <tbody>\n",
              "    <tr>\n",
              "      <th>x2</th>\n",
              "      <td>1.000000</td>\n",
              "      <td>0.974679</td>\n",
              "    </tr>\n",
              "    <tr>\n",
              "      <th>y2</th>\n",
              "      <td>0.974679</td>\n",
              "      <td>1.000000</td>\n",
              "    </tr>\n",
              "  </tbody>\n",
              "</table>\n",
              "</div>\n",
              "      <button class=\"colab-df-convert\" onclick=\"convertToInteractive('df-ff601ca0-6474-456a-8e26-03341b775e3a')\"\n",
              "              title=\"Convert this dataframe to an interactive table.\"\n",
              "              style=\"display:none;\">\n",
              "        \n",
              "  <svg xmlns=\"http://www.w3.org/2000/svg\" height=\"24px\"viewBox=\"0 0 24 24\"\n",
              "       width=\"24px\">\n",
              "    <path d=\"M0 0h24v24H0V0z\" fill=\"none\"/>\n",
              "    <path d=\"M18.56 5.44l.94 2.06.94-2.06 2.06-.94-2.06-.94-.94-2.06-.94 2.06-2.06.94zm-11 1L8.5 8.5l.94-2.06 2.06-.94-2.06-.94L8.5 2.5l-.94 2.06-2.06.94zm10 10l.94 2.06.94-2.06 2.06-.94-2.06-.94-.94-2.06-.94 2.06-2.06.94z\"/><path d=\"M17.41 7.96l-1.37-1.37c-.4-.4-.92-.59-1.43-.59-.52 0-1.04.2-1.43.59L10.3 9.45l-7.72 7.72c-.78.78-.78 2.05 0 2.83L4 21.41c.39.39.9.59 1.41.59.51 0 1.02-.2 1.41-.59l7.78-7.78 2.81-2.81c.8-.78.8-2.07 0-2.86zM5.41 20L4 18.59l7.72-7.72 1.47 1.35L5.41 20z\"/>\n",
              "  </svg>\n",
              "      </button>\n",
              "      \n",
              "  <style>\n",
              "    .colab-df-container {\n",
              "      display:flex;\n",
              "      flex-wrap:wrap;\n",
              "      gap: 12px;\n",
              "    }\n",
              "\n",
              "    .colab-df-convert {\n",
              "      background-color: #E8F0FE;\n",
              "      border: none;\n",
              "      border-radius: 50%;\n",
              "      cursor: pointer;\n",
              "      display: none;\n",
              "      fill: #1967D2;\n",
              "      height: 32px;\n",
              "      padding: 0 0 0 0;\n",
              "      width: 32px;\n",
              "    }\n",
              "\n",
              "    .colab-df-convert:hover {\n",
              "      background-color: #E2EBFA;\n",
              "      box-shadow: 0px 1px 2px rgba(60, 64, 67, 0.3), 0px 1px 3px 1px rgba(60, 64, 67, 0.15);\n",
              "      fill: #174EA6;\n",
              "    }\n",
              "\n",
              "    [theme=dark] .colab-df-convert {\n",
              "      background-color: #3B4455;\n",
              "      fill: #D2E3FC;\n",
              "    }\n",
              "\n",
              "    [theme=dark] .colab-df-convert:hover {\n",
              "      background-color: #434B5C;\n",
              "      box-shadow: 0px 1px 3px 1px rgba(0, 0, 0, 0.15);\n",
              "      filter: drop-shadow(0px 1px 2px rgba(0, 0, 0, 0.3));\n",
              "      fill: #FFFFFF;\n",
              "    }\n",
              "  </style>\n",
              "\n",
              "      <script>\n",
              "        const buttonEl =\n",
              "          document.querySelector('#df-ff601ca0-6474-456a-8e26-03341b775e3a button.colab-df-convert');\n",
              "        buttonEl.style.display =\n",
              "          google.colab.kernel.accessAllowed ? 'block' : 'none';\n",
              "\n",
              "        async function convertToInteractive(key) {\n",
              "          const element = document.querySelector('#df-ff601ca0-6474-456a-8e26-03341b775e3a');\n",
              "          const dataTable =\n",
              "            await google.colab.kernel.invokeFunction('convertToInteractive',\n",
              "                                                     [key], {});\n",
              "          if (!dataTable) return;\n",
              "\n",
              "          const docLinkHtml = 'Like what you see? Visit the ' +\n",
              "            '<a target=\"_blank\" href=https://colab.research.google.com/notebooks/data_table.ipynb>data table notebook</a>'\n",
              "            + ' to learn more about interactive tables.';\n",
              "          element.innerHTML = '';\n",
              "          dataTable['output_type'] = 'display_data';\n",
              "          await google.colab.output.renderOutput(dataTable, element);\n",
              "          const docLink = document.createElement('div');\n",
              "          docLink.innerHTML = docLinkHtml;\n",
              "          element.appendChild(docLink);\n",
              "        }\n",
              "      </script>\n",
              "    </div>\n",
              "  </div>\n",
              "  "
            ]
          },
          "metadata": {},
          "execution_count": 73
        }
      ]
    },
    {
      "cell_type": "markdown",
      "metadata": {
        "id": "uz_pBHiB1Ltw"
      },
      "source": [
        "#Дисперсионный анализ"
      ]
    },
    {
      "cell_type": "markdown",
      "metadata": {
        "id": "XXuotNZKD2Lj"
      },
      "source": [
        "### ANOVA"
      ]
    },
    {
      "cell_type": "code",
      "metadata": {
        "id": "HKoR0Yig1Ltw"
      },
      "source": [
        "H = [1, 2, 3, 4, 2, 4, 2, 4, 5, 2, 3, 4, 2, 1, 3, 4, 3, 2, 5, 1]\n",
        "I= [1, 2, 4, 6, 5, 6, 7, 5, 4, 5, 6, 7, 4, 3, 5, 5, 6, 5, 4, 3, 5]\n",
        "J = [2, 1, 1, 3, 2, 4, 2, 4, 5, 4, 3, 2, 3, 2, 3, 1, 3, 4, 5, 1, 4]"
      ],
      "execution_count": null,
      "outputs": []
    },
    {
      "cell_type": "code",
      "metadata": {
        "colab": {
          "base_uri": "https://localhost:8080/"
        },
        "id": "X6KTnhAG1Ltx",
        "outputId": "887959ed-cc1e-4a7b-a3ff-17138536fb96"
      },
      "source": [
        "# H0 - различий нет\n",
        "# H1 - различия есть\n",
        "F, p = f_oneway(H, I, J)\n",
        "print('F=%.3f, p=%.5f' % (F, p))\n",
        "alpha = 0.05\n",
        "if p > alpha:\n",
        "    print('Различий в эффекте нет')\n",
        "else:\n",
        "    print('Различия в эффекте есть')"
      ],
      "execution_count": null,
      "outputs": [
        {
          "output_type": "stream",
          "name": "stdout",
          "text": [
            "F=12.526, p=0.00003\n",
            "Различия в эффекте есть\n"
          ]
        }
      ]
    },
    {
      "cell_type": "code",
      "metadata": {
        "colab": {
          "base_uri": "https://localhost:8080/",
          "height": 337
        },
        "id": "qd4iMuT91Ltx",
        "outputId": "1276a0c3-aacb-4112-f513-09c636ba322e"
      },
      "source": [
        "plt.figure(figsize=(7, 5))\n",
        "sns.histplot(H, kde=True, color='green')\n",
        "sns.histplot(I, kde=True, color='yellow')\n",
        "sns.histplot(J, kde=True, color='red')\n",
        "plt.title('Сравнение H, I и J')\n",
        "plt.legend(['H', 'I', 'J'])\n",
        "plt.grid()"
      ],
      "execution_count": null,
      "outputs": [
        {
          "output_type": "display_data",
          "data": {
            "text/plain": [
              "<Figure size 504x360 with 1 Axes>"
            ],
            "image/png": "[encoded data removed]"
          },
          "metadata": {}
        }
      ]
    },
    {
      "cell_type": "markdown",
      "metadata": {
        "id": "QIaIR--ZNW5y"
      },
      "source": [
        "# Пропорции"
      ]
    },
    {
      "cell_type": "markdown",
      "metadata": {
        "id": "nnPY3-AHRw7R"
      },
      "source": [
        "### Тест разности двух независимых долей. Вариант 1"
      ]
    },
    {
      "cell_type": "code",
      "metadata": {
        "id": "dQ8ImwBPRweU"
      },
      "source": [
        "# Реклама \"А\" получает 3722 откликов на 3830 просмотров, реклама \"В\" 3872 на 3968\n",
        "clicks = [3722, 3872] #отклики в каждой группе\n",
        "views  = [3830, 3968] #просмотры в каждой группе"
      ],
      "execution_count": null,
      "outputs": []
    },
    {
      "cell_type": "code",
      "metadata": {
        "id": "6gDIBy51R3NJ"
      },
      "source": [
        "# Расчет конверсии\n",
        "p1 = clicks[0]/views[0]\n",
        "p2 = clicks[1]/views[1]"
      ],
      "execution_count": null,
      "outputs": []
    },
    {
      "cell_type": "code",
      "metadata": {
        "id": "5mV_ueZLR5qJ"
      },
      "source": [
        "def confidence_interval(conversion:float, trials:int) -> List[float]:\n",
        "  '''Функция для нахождения доверительного интервала'''\n",
        "  sigma = math.sqrt(conversion *(1-conversion )/ trials)\n",
        "  mu = conversion\n",
        "  probability = 0.95\n",
        "  interval = stats.norm.interval(probability, loc=mu, scale=sigma)\n",
        "  interval_round = [round(_*100, 1) for _ in interval]\n",
        "  return interval_round"
      ],
      "execution_count": null,
      "outputs": []
    },
    {
      "cell_type": "code",
      "metadata": {
        "id": "QXsNUMP6SNk0"
      },
      "source": [
        "# Расчет z метрики. Вариант 1\n",
        "p_combined = (clicks[0] + clicks[1]) / (views[0] + views[1])\n",
        "difference = p1 - p2\n",
        "z_scores = difference /math.sqrt(p_combined * (1 - p_combined) * (1/views[0] + 1/views[1]))"
      ],
      "execution_count": null,
      "outputs": []
    },
    {
      "cell_type": "code",
      "metadata": {
        "colab": {
          "base_uri": "https://localhost:8080/"
        },
        "id": "t0YvaCXG-jEv",
        "outputId": "36234c01-e3ee-44c4-de81-123aecbc9017"
      },
      "source": [
        "print(f\"Значение z равно {z_scores}\")"
      ],
      "execution_count": null,
      "outputs": [
        {
          "output_type": "stream",
          "name": "stdout",
          "text": [
            "Значение z равно -1.1076855939322139\n"
          ]
        }
      ]
    },
    {
      "cell_type": "code",
      "metadata": {
        "id": "MSUx1LBEg-_l"
      },
      "source": [
        "# Расчет z метрики. Вариант 2\n",
        "def proportions_diff_z_stat_ind(clicks1, views1, clicks2, views2, alpha = 0.05):\n",
        "  p1 = clicks1/views1\n",
        "  p2 = clicks2/views2\n",
        "  p = float(p1*views1 + p2*views2) / (views1 + views2)\n",
        "  return (p1 - p2) / np.sqrt(p * (1 - p) * (1 / views1 + 1 / views2))"
      ],
      "execution_count": null,
      "outputs": []
    },
    {
      "cell_type": "code",
      "metadata": {
        "colab": {
          "base_uri": "https://localhost:8080/"
        },
        "id": "do08DshxkXoV",
        "outputId": "cf0100af-18b9-4146-aa90-5e13d08d8f01"
      },
      "source": [
        "print(f\"Значение z равно {proportions_diff_z_stat_ind(clicks[0],views[0],clicks[1],views[1])}\")"
      ],
      "execution_count": null,
      "outputs": [
        {
          "output_type": "stream",
          "name": "stdout",
          "text": [
            "Значение z равно -1.1076855939322139\n"
          ]
        }
      ]
    },
    {
      "cell_type": "code",
      "metadata": {
        "colab": {
          "base_uri": "https://localhost:8080/"
        },
        "id": "W8xhU1iASUsh",
        "outputId": "0a177ccf-d309-4bea-abd2-474bc3d6398c"
      },
      "source": [
        "print(f\"Конверсия вариант А равна {round(p1*100,1)}% \\\n",
        "        Доверительный интервал {confidence_interval(p1, views[0])[0]}% - {confidence_interval(p1, views[0])[1]}%\")\n",
        "print(f\"Конверсия вариант В равна {round(p2*100,1)}% \\\n",
        "        Доверительный интервал {confidence_interval(p2, views[1])[0]}% - {confidence_interval(p2, views[1])[1]}%\")"
      ],
      "execution_count": null,
      "outputs": [
        {
          "output_type": "stream",
          "name": "stdout",
          "text": [
            "Конверсия вариант А равна 97.2%         Доверительный интервал 96.7% - 97.7%\n",
            "Конверсия вариант В равна 97.6%         Доверительный интервал 97.1% - 98.1%\n"
          ]
        }
      ]
    },
    {
      "cell_type": "code",
      "metadata": {
        "colab": {
          "base_uri": "https://localhost:8080/"
        },
        "id": "zyWWVvIGSZ_R",
        "outputId": "8465a5cc-4bb0-41df-b299-17f0ab4a679c"
      },
      "source": [
        "# Рассчитываем p-value. Вариант 1\n",
        "p_value = (1 - scipy.stats.norm.cdf(abs(z_scores))) * 2\n",
        "print('p-значение: {:f}'.format(p_value))"
      ],
      "execution_count": null,
      "outputs": [
        {
          "output_type": "stream",
          "name": "stdout",
          "text": [
            "p-значение: 0.267998\n"
          ]
        }
      ]
    },
    {
      "cell_type": "code",
      "metadata": {
        "id": "49SaF9S0-8Ti"
      },
      "source": [
        "# Рассчитываем p-value. Вариант 2\n",
        "def p_value_val(z_stat, alternative = 'two-sided'):\n",
        "    if alternative not in ('two-sided', 'less', 'greater'):\n",
        "        raise ValueError(\"alternative not recognized\\n\"\n",
        "                         \"should be 'two-sided', 'less' or 'greater'\")   \n",
        "    if alternative == 'two-sided':\n",
        "        return 2 * (1 - norm.cdf(np.abs(z_stat)))   \n",
        "    if alternative == 'less':\n",
        "        return norm.cdf(z_stat)\n",
        "    if alternative == 'greater':\n",
        "        return 1 - norm.cdf(z_stat)"
      ],
      "execution_count": null,
      "outputs": []
    },
    {
      "cell_type": "code",
      "metadata": {
        "colab": {
          "base_uri": "https://localhost:8080/"
        },
        "id": "Gr6GdoXT_nLm",
        "outputId": "1228a061-ef83-411f-f7fd-1310e6fa1861"
      },
      "source": [
        "print('p-значение: {:f}'.format(p_value_val(z_scores)))"
      ],
      "execution_count": null,
      "outputs": [
        {
          "output_type": "stream",
          "name": "stdout",
          "text": [
            "p-значение: 0.267998\n"
          ]
        }
      ]
    },
    {
      "cell_type": "code",
      "metadata": {
        "colab": {
          "base_uri": "https://localhost:8080/"
        },
        "id": "EVQSlIErSh6C",
        "outputId": "4e05005d-96d6-4ad6-a69b-74dda11efef8"
      },
      "source": [
        "alpha = .05\n",
        "if (p_value < alpha):\n",
        "    print(\"Отвергаем нулевую гипотезу: между долями есть значимая разница\")\n",
        "else:\n",
        "    print(\"Не получилось отвергнуть нулевую гипотезу, нет оснований считать доли разными\")"
      ],
      "execution_count": null,
      "outputs": [
        {
          "output_type": "stream",
          "name": "stdout",
          "text": [
            "Не получилось отвергнуть нулевую гипотезу, нет оснований считать доли разными\n"
          ]
        }
      ]
    },
    {
      "cell_type": "markdown",
      "metadata": {
        "id": "C2qym_0NG3SH"
      },
      "source": [
        "### Тест разности двух независимых долей. Вариант 2"
      ]
    },
    {
      "cell_type": "code",
      "metadata": {
        "colab": {
          "base_uri": "https://localhost:8080/"
        },
        "id": "HsmgXFoEG6En",
        "outputId": "61adb98a-5cfb-4192-b09e-f925b609e68f"
      },
      "source": [
        "count = clicks\n",
        "nobs = views\n",
        "stat, pval = proportions_ztest(count, nobs, alternative = 'two-sided')\n",
        "print (\"p-value: %f\" % pval)"
      ],
      "execution_count": null,
      "outputs": [
        {
          "output_type": "stream",
          "name": "stdout",
          "text": [
            "p-value: 0.267998\n"
          ]
        }
      ]
    },
    {
      "cell_type": "markdown",
      "source": [
        "### Тест Хи-квадрат. Вариант 3"
      ],
      "metadata": {
        "id": "MSaAIt7_Bzwd"
      }
    },
    {
      "cell_type": "code",
      "source": [
        "chi2, p, table = proportion.proportions_chisquare(count = count, nobs = nobs)\n",
        "print (\"Хи-квадрат: %f\" % chi2)\n",
        "print (\"p-value: %f\" % p)"
      ],
      "metadata": {
        "colab": {
          "base_uri": "https://localhost:8080/"
        },
        "id": "YBmc6HKcByev",
        "outputId": "f114cddf-401e-4231-aae2-e1b2eecc7878"
      },
      "execution_count": null,
      "outputs": [
        {
          "output_type": "stream",
          "name": "stdout",
          "text": [
            "Хи-квадрат: 1.226967\n",
            "p-value: 0.267998\n"
          ]
        }
      ]
    },
    {
      "cell_type": "markdown",
      "metadata": {
        "id": "ge_-5FfW2zav"
      },
      "source": [
        "### Тест Фишера"
      ]
    },
    {
      "cell_type": "code",
      "metadata": {
        "colab": {
          "base_uri": "https://localhost:8080/"
        },
        "id": "ORuyzfgr21_P",
        "outputId": "37edec6d-efe8-409c-892e-0ee132bd125e"
      },
      "source": [
        "df3 = pd.DataFrame([[10,15],[39,34]], index=['Рост','Снижение'], columns=['Прогноз','Факт'])\n",
        "print(df3)"
      ],
      "execution_count": null,
      "outputs": [
        {
          "output_type": "stream",
          "name": "stdout",
          "text": [
            "          Прогноз  Факт\n",
            "Рост           10    15\n",
            "Снижение       39    34\n"
          ]
        }
      ]
    },
    {
      "cell_type": "code",
      "metadata": {
        "colab": {
          "base_uri": "https://localhost:8080/"
        },
        "id": "21pPOImM23u3",
        "outputId": "ea3d5ab5-5a63-40cf-c670-cd03d1fe8bcd"
      },
      "source": [
        "# H0 - эффект случайный\n",
        "# H1 - эффект не случайный\n",
        "oddsratio, pvalue = stats.stats.fisher_exact(df3)\n",
        "print(pvalue)"
      ],
      "execution_count": null,
      "outputs": [
        {
          "output_type": "stream",
          "name": "stdout",
          "text": [
            "0.35417955365927367\n"
          ]
        }
      ]
    }
  ]
}
