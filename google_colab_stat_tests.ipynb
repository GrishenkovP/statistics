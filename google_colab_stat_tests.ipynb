{
  "nbformat": 4,
  "nbformat_minor": 0,
  "metadata": {
    "kernelspec": {
      "display_name": "Python 3",
      "language": "python",
      "name": "python3"
    },
    "language_info": {
      "codemirror_mode": {
        "name": "ipython",
        "version": 3
      },
      "file_extension": ".py",
      "mimetype": "text/x-python",
      "name": "python",
      "nbconvert_exporter": "python",
      "pygments_lexer": "ipython3",
      "version": "3.8.5"
    },
    "colab": {
      "name": "google_colab_stat_tests.ipynb",
      "provenance": [],
      "collapsed_sections": []
    },
    "widgets": {
      "application/vnd.jupyter.widget-state+json": {
        "6b1a155f824141e68b40951bc57f2ef3": {
          "model_module": "@jupyter-widgets/controls",
          "model_name": "HBoxModel",
          "model_module_version": "1.5.0",
          "state": {
            "_dom_classes": [],
            "_model_module": "@jupyter-widgets/controls",
            "_model_module_version": "1.5.0",
            "_model_name": "HBoxModel",
            "_view_count": null,
            "_view_module": "@jupyter-widgets/controls",
            "_view_module_version": "1.5.0",
            "_view_name": "HBoxView",
            "box_style": "",
            "children": [
              "IPY_MODEL_3f6a02c884ff45d19632567bb1234fbd",
              "IPY_MODEL_2551492c83d5441eb833a5024ab9db04",
              "IPY_MODEL_b1fdd2c7445145ce9bc9027300ffdf24"
            ],
            "layout": "IPY_MODEL_8fbb89c3f2d74e1d964ff4e7d5c02997"
          }
        },
        "3f6a02c884ff45d19632567bb1234fbd": {
          "model_module": "@jupyter-widgets/controls",
          "model_name": "HTMLModel",
          "model_module_version": "1.5.0",
          "state": {
            "_dom_classes": [],
            "_model_module": "@jupyter-widgets/controls",
            "_model_module_version": "1.5.0",
            "_model_name": "HTMLModel",
            "_view_count": null,
            "_view_module": "@jupyter-widgets/controls",
            "_view_module_version": "1.5.0",
            "_view_name": "HTMLView",
            "description": "",
            "description_tooltip": null,
            "layout": "IPY_MODEL_88cdfaa507fb44a1bfa774751b0dfb69",
            "placeholder": "​",
            "style": "IPY_MODEL_21137a11880a4805bb9635bc46b2de68",
            "value": "100%"
          }
        },
        "2551492c83d5441eb833a5024ab9db04": {
          "model_module": "@jupyter-widgets/controls",
          "model_name": "FloatProgressModel",
          "model_module_version": "1.5.0",
          "state": {
            "_dom_classes": [],
            "_model_module": "@jupyter-widgets/controls",
            "_model_module_version": "1.5.0",
            "_model_name": "FloatProgressModel",
            "_view_count": null,
            "_view_module": "@jupyter-widgets/controls",
            "_view_module_version": "1.5.0",
            "_view_name": "ProgressView",
            "bar_style": "success",
            "description": "",
            "description_tooltip": null,
            "layout": "IPY_MODEL_a02da9e3692d48409cefa0671c718fb2",
            "max": 1000,
            "min": 0,
            "orientation": "horizontal",
            "style": "IPY_MODEL_be695a9791fe428c85f637190845b28a",
            "value": 1000
          }
        },
        "b1fdd2c7445145ce9bc9027300ffdf24": {
          "model_module": "@jupyter-widgets/controls",
          "model_name": "HTMLModel",
          "model_module_version": "1.5.0",
          "state": {
            "_dom_classes": [],
            "_model_module": "@jupyter-widgets/controls",
            "_model_module_version": "1.5.0",
            "_model_name": "HTMLModel",
            "_view_count": null,
            "_view_module": "@jupyter-widgets/controls",
            "_view_module_version": "1.5.0",
            "_view_name": "HTMLView",
            "description": "",
            "description_tooltip": null,
            "layout": "IPY_MODEL_f026740dc90a4dd0991a7258bdec1af2",
            "placeholder": "​",
            "style": "IPY_MODEL_e25d95db4f33447fba9ed8382a122439",
            "value": " 1000/1000 [00:00&lt;00:00, 2597.04it/s]"
          }
        },
        "8fbb89c3f2d74e1d964ff4e7d5c02997": {
          "model_module": "@jupyter-widgets/base",
          "model_name": "LayoutModel",
          "model_module_version": "1.2.0",
          "state": {
            "_model_module": "@jupyter-widgets/base",
            "_model_module_version": "1.2.0",
            "_model_name": "LayoutModel",
            "_view_count": null,
            "_view_module": "@jupyter-widgets/base",
            "_view_module_version": "1.2.0",
            "_view_name": "LayoutView",
            "align_content": null,
            "align_items": null,
            "align_self": null,
            "border": null,
            "bottom": null,
            "display": null,
            "flex": null,
            "flex_flow": null,
            "grid_area": null,
            "grid_auto_columns": null,
            "grid_auto_flow": null,
            "grid_auto_rows": null,
            "grid_column": null,
            "grid_gap": null,
            "grid_row": null,
            "grid_template_areas": null,
            "grid_template_columns": null,
            "grid_template_rows": null,
            "height": null,
            "justify_content": null,
            "justify_items": null,
            "left": null,
            "margin": null,
            "max_height": null,
            "max_width": null,
            "min_height": null,
            "min_width": null,
            "object_fit": null,
            "object_position": null,
            "order": null,
            "overflow": null,
            "overflow_x": null,
            "overflow_y": null,
            "padding": null,
            "right": null,
            "top": null,
            "visibility": null,
            "width": null
          }
        },
        "88cdfaa507fb44a1bfa774751b0dfb69": {
          "model_module": "@jupyter-widgets/base",
          "model_name": "LayoutModel",
          "model_module_version": "1.2.0",
          "state": {
            "_model_module": "@jupyter-widgets/base",
            "_model_module_version": "1.2.0",
            "_model_name": "LayoutModel",
            "_view_count": null,
            "_view_module": "@jupyter-widgets/base",
            "_view_module_version": "1.2.0",
            "_view_name": "LayoutView",
            "align_content": null,
            "align_items": null,
            "align_self": null,
            "border": null,
            "bottom": null,
            "display": null,
            "flex": null,
            "flex_flow": null,
            "grid_area": null,
            "grid_auto_columns": null,
            "grid_auto_flow": null,
            "grid_auto_rows": null,
            "grid_column": null,
            "grid_gap": null,
            "grid_row": null,
            "grid_template_areas": null,
            "grid_template_columns": null,
            "grid_template_rows": null,
            "height": null,
            "justify_content": null,
            "justify_items": null,
            "left": null,
            "margin": null,
            "max_height": null,
            "max_width": null,
            "min_height": null,
            "min_width": null,
            "object_fit": null,
            "object_position": null,
            "order": null,
            "overflow": null,
            "overflow_x": null,
            "overflow_y": null,
            "padding": null,
            "right": null,
            "top": null,
            "visibility": null,
            "width": null
          }
        },
        "21137a11880a4805bb9635bc46b2de68": {
          "model_module": "@jupyter-widgets/controls",
          "model_name": "DescriptionStyleModel",
          "model_module_version": "1.5.0",
          "state": {
            "_model_module": "@jupyter-widgets/controls",
            "_model_module_version": "1.5.0",
            "_model_name": "DescriptionStyleModel",
            "_view_count": null,
            "_view_module": "@jupyter-widgets/base",
            "_view_module_version": "1.2.0",
            "_view_name": "StyleView",
            "description_width": ""
          }
        },
        "a02da9e3692d48409cefa0671c718fb2": {
          "model_module": "@jupyter-widgets/base",
          "model_name": "LayoutModel",
          "model_module_version": "1.2.0",
          "state": {
            "_model_module": "@jupyter-widgets/base",
            "_model_module_version": "1.2.0",
            "_model_name": "LayoutModel",
            "_view_count": null,
            "_view_module": "@jupyter-widgets/base",
            "_view_module_version": "1.2.0",
            "_view_name": "LayoutView",
            "align_content": null,
            "align_items": null,
            "align_self": null,
            "border": null,
            "bottom": null,
            "display": null,
            "flex": null,
            "flex_flow": null,
            "grid_area": null,
            "grid_auto_columns": null,
            "grid_auto_flow": null,
            "grid_auto_rows": null,
            "grid_column": null,
            "grid_gap": null,
            "grid_row": null,
            "grid_template_areas": null,
            "grid_template_columns": null,
            "grid_template_rows": null,
            "height": null,
            "justify_content": null,
            "justify_items": null,
            "left": null,
            "margin": null,
            "max_height": null,
            "max_width": null,
            "min_height": null,
            "min_width": null,
            "object_fit": null,
            "object_position": null,
            "order": null,
            "overflow": null,
            "overflow_x": null,
            "overflow_y": null,
            "padding": null,
            "right": null,
            "top": null,
            "visibility": null,
            "width": null
          }
        },
        "be695a9791fe428c85f637190845b28a": {
          "model_module": "@jupyter-widgets/controls",
          "model_name": "ProgressStyleModel",
          "model_module_version": "1.5.0",
          "state": {
            "_model_module": "@jupyter-widgets/controls",
            "_model_module_version": "1.5.0",
            "_model_name": "ProgressStyleModel",
            "_view_count": null,
            "_view_module": "@jupyter-widgets/base",
            "_view_module_version": "1.2.0",
            "_view_name": "StyleView",
            "bar_color": null,
            "description_width": ""
          }
        },
        "f026740dc90a4dd0991a7258bdec1af2": {
          "model_module": "@jupyter-widgets/base",
          "model_name": "LayoutModel",
          "model_module_version": "1.2.0",
          "state": {
            "_model_module": "@jupyter-widgets/base",
            "_model_module_version": "1.2.0",
            "_model_name": "LayoutModel",
            "_view_count": null,
            "_view_module": "@jupyter-widgets/base",
            "_view_module_version": "1.2.0",
            "_view_name": "LayoutView",
            "align_content": null,
            "align_items": null,
            "align_self": null,
            "border": null,
            "bottom": null,
            "display": null,
            "flex": null,
            "flex_flow": null,
            "grid_area": null,
            "grid_auto_columns": null,
            "grid_auto_flow": null,
            "grid_auto_rows": null,
            "grid_column": null,
            "grid_gap": null,
            "grid_row": null,
            "grid_template_areas": null,
            "grid_template_columns": null,
            "grid_template_rows": null,
            "height": null,
            "justify_content": null,
            "justify_items": null,
            "left": null,
            "margin": null,
            "max_height": null,
            "max_width": null,
            "min_height": null,
            "min_width": null,
            "object_fit": null,
            "object_position": null,
            "order": null,
            "overflow": null,
            "overflow_x": null,
            "overflow_y": null,
            "padding": null,
            "right": null,
            "top": null,
            "visibility": null,
            "width": null
          }
        },
        "e25d95db4f33447fba9ed8382a122439": {
          "model_module": "@jupyter-widgets/controls",
          "model_name": "DescriptionStyleModel",
          "model_module_version": "1.5.0",
          "state": {
            "_model_module": "@jupyter-widgets/controls",
            "_model_module_version": "1.5.0",
            "_model_name": "DescriptionStyleModel",
            "_view_count": null,
            "_view_module": "@jupyter-widgets/base",
            "_view_module_version": "1.2.0",
            "_view_name": "StyleView",
            "description_width": ""
          }
        },
        "e715c0dc0a67412fb01e42e74598d866": {
          "model_module": "@jupyter-widgets/controls",
          "model_name": "HBoxModel",
          "model_module_version": "1.5.0",
          "state": {
            "_dom_classes": [],
            "_model_module": "@jupyter-widgets/controls",
            "_model_module_version": "1.5.0",
            "_model_name": "HBoxModel",
            "_view_count": null,
            "_view_module": "@jupyter-widgets/controls",
            "_view_module_version": "1.5.0",
            "_view_name": "HBoxView",
            "box_style": "",
            "children": [
              "IPY_MODEL_68b399f66c4a47f0bdbb21d93c65cfc1",
              "IPY_MODEL_7925e5ff89e543b799e97fb4aa6b4f3b",
              "IPY_MODEL_55a6c84457be44608620c5ec56c27020"
            ],
            "layout": "IPY_MODEL_95c6b5875e5c45c2bfc5e495a71253e2"
          }
        },
        "68b399f66c4a47f0bdbb21d93c65cfc1": {
          "model_module": "@jupyter-widgets/controls",
          "model_name": "HTMLModel",
          "model_module_version": "1.5.0",
          "state": {
            "_dom_classes": [],
            "_model_module": "@jupyter-widgets/controls",
            "_model_module_version": "1.5.0",
            "_model_name": "HTMLModel",
            "_view_count": null,
            "_view_module": "@jupyter-widgets/controls",
            "_view_module_version": "1.5.0",
            "_view_name": "HTMLView",
            "description": "",
            "description_tooltip": null,
            "layout": "IPY_MODEL_433b502555b945e3982b282048467abb",
            "placeholder": "​",
            "style": "IPY_MODEL_398be361988c4939b805bd873eddf206",
            "value": "100%"
          }
        },
        "7925e5ff89e543b799e97fb4aa6b4f3b": {
          "model_module": "@jupyter-widgets/controls",
          "model_name": "FloatProgressModel",
          "model_module_version": "1.5.0",
          "state": {
            "_dom_classes": [],
            "_model_module": "@jupyter-widgets/controls",
            "_model_module_version": "1.5.0",
            "_model_name": "FloatProgressModel",
            "_view_count": null,
            "_view_module": "@jupyter-widgets/controls",
            "_view_module_version": "1.5.0",
            "_view_name": "ProgressView",
            "bar_style": "success",
            "description": "",
            "description_tooltip": null,
            "layout": "IPY_MODEL_6ce75b1dc0f54cb982570d74165f677c",
            "max": 1000,
            "min": 0,
            "orientation": "horizontal",
            "style": "IPY_MODEL_127f58d2a69c401ab5ca66164c0c3159",
            "value": 1000
          }
        },
        "55a6c84457be44608620c5ec56c27020": {
          "model_module": "@jupyter-widgets/controls",
          "model_name": "HTMLModel",
          "model_module_version": "1.5.0",
          "state": {
            "_dom_classes": [],
            "_model_module": "@jupyter-widgets/controls",
            "_model_module_version": "1.5.0",
            "_model_name": "HTMLModel",
            "_view_count": null,
            "_view_module": "@jupyter-widgets/controls",
            "_view_module_version": "1.5.0",
            "_view_name": "HTMLView",
            "description": "",
            "description_tooltip": null,
            "layout": "IPY_MODEL_d106860e43ae400db4abdbd83e4d8116",
            "placeholder": "​",
            "style": "IPY_MODEL_5312ca9fcc9a45bc8bb1e015ce5ac439",
            "value": " 1000/1000 [00:00&lt;00:00, 1976.67it/s]"
          }
        },
        "95c6b5875e5c45c2bfc5e495a71253e2": {
          "model_module": "@jupyter-widgets/base",
          "model_name": "LayoutModel",
          "model_module_version": "1.2.0",
          "state": {
            "_model_module": "@jupyter-widgets/base",
            "_model_module_version": "1.2.0",
            "_model_name": "LayoutModel",
            "_view_count": null,
            "_view_module": "@jupyter-widgets/base",
            "_view_module_version": "1.2.0",
            "_view_name": "LayoutView",
            "align_content": null,
            "align_items": null,
            "align_self": null,
            "border": null,
            "bottom": null,
            "display": null,
            "flex": null,
            "flex_flow": null,
            "grid_area": null,
            "grid_auto_columns": null,
            "grid_auto_flow": null,
            "grid_auto_rows": null,
            "grid_column": null,
            "grid_gap": null,
            "grid_row": null,
            "grid_template_areas": null,
            "grid_template_columns": null,
            "grid_template_rows": null,
            "height": null,
            "justify_content": null,
            "justify_items": null,
            "left": null,
            "margin": null,
            "max_height": null,
            "max_width": null,
            "min_height": null,
            "min_width": null,
            "object_fit": null,
            "object_position": null,
            "order": null,
            "overflow": null,
            "overflow_x": null,
            "overflow_y": null,
            "padding": null,
            "right": null,
            "top": null,
            "visibility": null,
            "width": null
          }
        },
        "433b502555b945e3982b282048467abb": {
          "model_module": "@jupyter-widgets/base",
          "model_name": "LayoutModel",
          "model_module_version": "1.2.0",
          "state": {
            "_model_module": "@jupyter-widgets/base",
            "_model_module_version": "1.2.0",
            "_model_name": "LayoutModel",
            "_view_count": null,
            "_view_module": "@jupyter-widgets/base",
            "_view_module_version": "1.2.0",
            "_view_name": "LayoutView",
            "align_content": null,
            "align_items": null,
            "align_self": null,
            "border": null,
            "bottom": null,
            "display": null,
            "flex": null,
            "flex_flow": null,
            "grid_area": null,
            "grid_auto_columns": null,
            "grid_auto_flow": null,
            "grid_auto_rows": null,
            "grid_column": null,
            "grid_gap": null,
            "grid_row": null,
            "grid_template_areas": null,
            "grid_template_columns": null,
            "grid_template_rows": null,
            "height": null,
            "justify_content": null,
            "justify_items": null,
            "left": null,
            "margin": null,
            "max_height": null,
            "max_width": null,
            "min_height": null,
            "min_width": null,
            "object_fit": null,
            "object_position": null,
            "order": null,
            "overflow": null,
            "overflow_x": null,
            "overflow_y": null,
            "padding": null,
            "right": null,
            "top": null,
            "visibility": null,
            "width": null
          }
        },
        "398be361988c4939b805bd873eddf206": {
          "model_module": "@jupyter-widgets/controls",
          "model_name": "DescriptionStyleModel",
          "model_module_version": "1.5.0",
          "state": {
            "_model_module": "@jupyter-widgets/controls",
            "_model_module_version": "1.5.0",
            "_model_name": "DescriptionStyleModel",
            "_view_count": null,
            "_view_module": "@jupyter-widgets/base",
            "_view_module_version": "1.2.0",
            "_view_name": "StyleView",
            "description_width": ""
          }
        },
        "6ce75b1dc0f54cb982570d74165f677c": {
          "model_module": "@jupyter-widgets/base",
          "model_name": "LayoutModel",
          "model_module_version": "1.2.0",
          "state": {
            "_model_module": "@jupyter-widgets/base",
            "_model_module_version": "1.2.0",
            "_model_name": "LayoutModel",
            "_view_count": null,
            "_view_module": "@jupyter-widgets/base",
            "_view_module_version": "1.2.0",
            "_view_name": "LayoutView",
            "align_content": null,
            "align_items": null,
            "align_self": null,
            "border": null,
            "bottom": null,
            "display": null,
            "flex": null,
            "flex_flow": null,
            "grid_area": null,
            "grid_auto_columns": null,
            "grid_auto_flow": null,
            "grid_auto_rows": null,
            "grid_column": null,
            "grid_gap": null,
            "grid_row": null,
            "grid_template_areas": null,
            "grid_template_columns": null,
            "grid_template_rows": null,
            "height": null,
            "justify_content": null,
            "justify_items": null,
            "left": null,
            "margin": null,
            "max_height": null,
            "max_width": null,
            "min_height": null,
            "min_width": null,
            "object_fit": null,
            "object_position": null,
            "order": null,
            "overflow": null,
            "overflow_x": null,
            "overflow_y": null,
            "padding": null,
            "right": null,
            "top": null,
            "visibility": null,
            "width": null
          }
        },
        "127f58d2a69c401ab5ca66164c0c3159": {
          "model_module": "@jupyter-widgets/controls",
          "model_name": "ProgressStyleModel",
          "model_module_version": "1.5.0",
          "state": {
            "_model_module": "@jupyter-widgets/controls",
            "_model_module_version": "1.5.0",
            "_model_name": "ProgressStyleModel",
            "_view_count": null,
            "_view_module": "@jupyter-widgets/base",
            "_view_module_version": "1.2.0",
            "_view_name": "StyleView",
            "bar_color": null,
            "description_width": ""
          }
        },
        "d106860e43ae400db4abdbd83e4d8116": {
          "model_module": "@jupyter-widgets/base",
          "model_name": "LayoutModel",
          "model_module_version": "1.2.0",
          "state": {
            "_model_module": "@jupyter-widgets/base",
            "_model_module_version": "1.2.0",
            "_model_name": "LayoutModel",
            "_view_count": null,
            "_view_module": "@jupyter-widgets/base",
            "_view_module_version": "1.2.0",
            "_view_name": "LayoutView",
            "align_content": null,
            "align_items": null,
            "align_self": null,
            "border": null,
            "bottom": null,
            "display": null,
            "flex": null,
            "flex_flow": null,
            "grid_area": null,
            "grid_auto_columns": null,
            "grid_auto_flow": null,
            "grid_auto_rows": null,
            "grid_column": null,
            "grid_gap": null,
            "grid_row": null,
            "grid_template_areas": null,
            "grid_template_columns": null,
            "grid_template_rows": null,
            "height": null,
            "justify_content": null,
            "justify_items": null,
            "left": null,
            "margin": null,
            "max_height": null,
            "max_width": null,
            "min_height": null,
            "min_width": null,
            "object_fit": null,
            "object_position": null,
            "order": null,
            "overflow": null,
            "overflow_x": null,
            "overflow_y": null,
            "padding": null,
            "right": null,
            "top": null,
            "visibility": null,
            "width": null
          }
        },
        "5312ca9fcc9a45bc8bb1e015ce5ac439": {
          "model_module": "@jupyter-widgets/controls",
          "model_name": "DescriptionStyleModel",
          "model_module_version": "1.5.0",
          "state": {
            "_model_module": "@jupyter-widgets/controls",
            "_model_module_version": "1.5.0",
            "_model_name": "DescriptionStyleModel",
            "_view_count": null,
            "_view_module": "@jupyter-widgets/base",
            "_view_module_version": "1.2.0",
            "_view_name": "StyleView",
            "description_width": ""
          }
        }
      }
    }
  },
  "cells": [
    {
      "cell_type": "code",
      "source": [
        "%%capture\n",
        "%pip install --upgrade numpy\n",
        "%pip install --upgrade scipy"
      ],
      "metadata": {
        "id": "dhHxUpF0-c0O"
      },
      "execution_count": 1,
      "outputs": []
    },
    {
      "cell_type": "code",
      "source": [
        "from platform import python_version\n",
        "print(python_version())"
      ],
      "metadata": {
        "colab": {
          "base_uri": "https://localhost:8080/"
        },
        "id": "tREGhot_pFJ_",
        "outputId": "9901e72c-a7ec-4c95-86de-42cc03a14a33"
      },
      "execution_count": 2,
      "outputs": [
        {
          "output_type": "stream",
          "name": "stdout",
          "text": [
            "3.7.13\n"
          ]
        }
      ]
    },
    {
      "cell_type": "code",
      "source": [
        "# Обновиться до версии 1.8.1 не получиться, так как Google Colab работает на Python 3.7, а нужно 3.8\n",
        "import scipy\n",
        "print(scipy.__version__)"
      ],
      "metadata": {
        "colab": {
          "base_uri": "https://localhost:8080/"
        },
        "id": "1BicGiVMgYCi",
        "outputId": "e18b5a4a-729a-4978-ea53-8f431e8fe005"
      },
      "execution_count": 3,
      "outputs": [
        {
          "output_type": "stream",
          "name": "stdout",
          "text": [
            "1.7.3\n"
          ]
        }
      ]
    },
    {
      "cell_type": "code",
      "metadata": {
        "id": "omSWYlRO1LtY",
        "colab": {
          "base_uri": "https://localhost:8080/"
        },
        "outputId": "21e4bbad-5531-42ae-e5ad-9f73c26c78a2"
      },
      "source": [
        "# Импорт библиотек\n",
        "import math\n",
        "import numpy as np\n",
        "import pandas as pd\n",
        "from typing import List, Tuple, Dict, Set\n",
        "from tqdm.notebook import tqdm\n",
        "\n",
        "import scipy.stats as stats\n",
        "from scipy.stats import wilcoxon, mannwhitneyu,f_oneway\n",
        "from scipy.stats import chi2_contingency\n",
        "from scipy.stats import norm\n",
        "# from scipy.stats import permutation_test\n",
        "\n",
        "import statsmodels.stats.proportion as proportion\n",
        "import statsmodels.stats.power as power\n",
        "import statsmodels.stats.api as sms\n",
        "from statsmodels.stats.weightstats import CompareMeans, DescrStatsW\n",
        "from statsmodels.stats.proportion import proportions_ztest\n",
        "from statsmodels.stats.weightstats import ztest\n",
        "\n",
        "import matplotlib.pyplot as plt \n",
        "import seaborn as sns\n",
        "import pylab\n",
        "%matplotlib inline"
      ],
      "execution_count": 4,
      "outputs": [
        {
          "output_type": "stream",
          "name": "stderr",
          "text": [
            "/usr/local/lib/python3.7/dist-packages/statsmodels/tools/_testing.py:19: FutureWarning: pandas.util.testing is deprecated. Use the functions in the public API at pandas.testing instead.\n",
            "  import pandas.util.testing as tm\n"
          ]
        }
      ]
    },
    {
      "cell_type": "markdown",
      "source": [
        "# Распределение Бернулли. Биномиальное распределение"
      ],
      "metadata": {
        "id": "hmlLl7Cpp8bQ"
      }
    },
    {
      "cell_type": "markdown",
      "source": [
        "Производитель утверждает, что не более 10% оборудования имеют дефекты. 15 станков проверены, 3 имели дефекты. Проверьте утверждение производителя.\n",
        "\n",
        "Нулевая гипотеза не может быть отвергнута на уровне значимости 5%, поскольку возвращаемое значение p больше критического значения 5%."
      ],
      "metadata": {
        "id": "vAz__zi-t0k8"
      }
    },
    {
      "cell_type": "code",
      "source": [
        "stats.binom_test(3, n=15, p=0.1, alternative='greater')"
      ],
      "metadata": {
        "colab": {
          "base_uri": "https://localhost:8080/"
        },
        "id": "3DQ-ALK_t0F7",
        "outputId": "c5a20417-6c8a-4bad-cf25-a8522bf7fb7a"
      },
      "execution_count": 5,
      "outputs": [
        {
          "output_type": "execute_result",
          "data": {
            "text/plain": [
              "0.18406106910639106"
            ]
          },
          "metadata": {},
          "execution_count": 5
        }
      ]
    },
    {
      "cell_type": "markdown",
      "source": [
        "Предположим, мы проверяем умеет ли сотрудник магазина овощей и фруктов визуально определять свежий авокадо или нет. Проведем эксперимент 1000 раз. Предположим, что ответ консультанта как результат подбрасывания правильной монеты, то есть вероятность того или иного ответа равна 0.5"
      ],
      "metadata": {
        "id": "S9wNX8uivVBE"
      }
    },
    {
      "cell_type": "code",
      "source": [
        "# Консультант 550 ответил правильно и 450 нет\n",
        "result = np.concatenate((np.ones(550), np.zeros(450)))"
      ],
      "metadata": {
        "id": "5qm5Zry6vcKr"
      },
      "execution_count": 6,
      "outputs": []
    },
    {
      "cell_type": "code",
      "source": [
        "p_0 = 0.5\n",
        "mean = result.mean()\n",
        "z_stat = (mean - p_0)/np.sqrt(p_0 * (1 - p_0)/len(result))\n",
        "print(z_stat)"
      ],
      "metadata": {
        "colab": {
          "base_uri": "https://localhost:8080/"
        },
        "id": "LCTeKY7oviY6",
        "outputId": "6fc77672-a3e7-44f8-a5fd-9cddceb1645d"
      },
      "execution_count": 7,
      "outputs": [
        {
          "output_type": "stream",
          "name": "stdout",
          "text": [
            "3.162277660168382\n"
          ]
        }
      ]
    },
    {
      "cell_type": "code",
      "source": [
        "# Доверительный интервал\n",
        "# Таким образом, в данном примере продавец решает поставленную задачу с большой вероятностью лучше бросания монетки.\n",
        "mean - 1.96 * np.sqrt(mean * (1 - mean)/len(result)), mean + 1.96 * np.sqrt(mean * (1 - mean)/len(result))"
      ],
      "metadata": {
        "colab": {
          "base_uri": "https://localhost:8080/"
        },
        "id": "4Ty704htvrIz",
        "outputId": "55c74f3a-3c0f-4129-a66f-9b567f76faa1"
      },
      "execution_count": 8,
      "outputs": [
        {
          "output_type": "execute_result",
          "data": {
            "text/plain": [
              "(0.5191650198637976, 0.5808349801362025)"
            ]
          },
          "metadata": {},
          "execution_count": 8
        }
      ]
    },
    {
      "cell_type": "markdown",
      "metadata": {
        "id": "5qvBJvFY09y2"
      },
      "source": [
        "# Тест, отличается ли среднее выборки от N"
      ]
    },
    {
      "cell_type": "code",
      "source": [
        "# Создаем данные\n",
        "x1 = [64.2, 28.4, 85.3, 83.1, 13.4, 56.8, 44.2, 90, 86, 75]\n",
        "y1 = [45, 29.5, 32.3, 49.3, 18.3, 34.2, 43.9, 13.8, 27.4, 43.4]"
      ],
      "metadata": {
        "id": "l2IRnLYIuw7k"
      },
      "execution_count": 9,
      "outputs": []
    },
    {
      "cell_type": "code",
      "metadata": {
        "colab": {
          "base_uri": "https://localhost:8080/"
        },
        "id": "dbFutw3E1QBM",
        "outputId": "45f32a65-bb8b-4421-faf4-db8dccb891fa"
      },
      "source": [
        "N=10\n",
        "stats.ttest_1samp(x1, N)"
      ],
      "execution_count": 10,
      "outputs": [
        {
          "output_type": "execute_result",
          "data": {
            "text/plain": [
              "Ttest_1sampResult(statistic=6.265559754169641, pvalue=0.00014688203506718392)"
            ]
          },
          "metadata": {},
          "execution_count": 10
        }
      ]
    },
    {
      "cell_type": "markdown",
      "metadata": {
        "id": "bWwvdK8N1hcE"
      },
      "source": [
        "# Доверительный интервал"
      ]
    },
    {
      "cell_type": "markdown",
      "source": [
        "### Доверительный интервал для одной выборки"
      ],
      "metadata": {
        "id": "zUiO9tADTWGK"
      }
    },
    {
      "cell_type": "code",
      "metadata": {
        "colab": {
          "base_uri": "https://localhost:8080/"
        },
        "id": "QiC3k0qm3hS8",
        "outputId": "0ef40cce-4e25-4a9a-f8c2-10793d739dab"
      },
      "source": [
        "np.mean(x1)"
      ],
      "execution_count": 11,
      "outputs": [
        {
          "output_type": "execute_result",
          "data": {
            "text/plain": [
              "62.64"
            ]
          },
          "metadata": {},
          "execution_count": 11
        }
      ]
    },
    {
      "cell_type": "code",
      "metadata": {
        "id": "cdiDAVkw3HcU"
      },
      "source": [
        "def mean_confidence_interval(data, confidence=0.95):\n",
        "    a = 1.0 * np.array(data)\n",
        "    n = len(a)\n",
        "    m, se = np.mean(a), scipy.stats.sem(a)\n",
        "    h = se * scipy.stats.t.ppf((1 + confidence) / 2., n-1)\n",
        "    return m, m-h, m+h"
      ],
      "execution_count": 12,
      "outputs": []
    },
    {
      "cell_type": "code",
      "metadata": {
        "colab": {
          "base_uri": "https://localhost:8080/"
        },
        "id": "KV7vdGQP3Q4S",
        "outputId": "16ab6a63-cf6d-4243-ac51-b1c8695b41df"
      },
      "source": [
        "print(mean_confidence_interval(x1))\n",
        "print(mean_confidence_interval(y1))"
      ],
      "execution_count": 13,
      "outputs": [
        {
          "output_type": "stream",
          "name": "stdout",
          "text": [
            "(62.64, 43.63452280102512, 81.64547719897487)\n",
            "(33.709999999999994, 25.239440514271045, 42.18055948572894)\n"
          ]
        }
      ]
    },
    {
      "cell_type": "code",
      "metadata": {
        "id": "fFXdw1KB3_Mz"
      },
      "source": [
        "def mean_confidence_interval_(data, confidence=0.95):\n",
        "    return stats.t.interval(confidence, len(data)-1, loc=np.mean(data), scale=stats.sem(data))"
      ],
      "execution_count": 14,
      "outputs": []
    },
    {
      "cell_type": "code",
      "metadata": {
        "colab": {
          "base_uri": "https://localhost:8080/"
        },
        "id": "89-V88Nr4FaC",
        "outputId": "042e41be-f431-487d-ffb6-d1e530d22bb2"
      },
      "source": [
        "print(mean_confidence_interval_(x1))\n",
        "print(mean_confidence_interval_(y1))"
      ],
      "execution_count": 15,
      "outputs": [
        {
          "output_type": "stream",
          "name": "stdout",
          "text": [
            "(43.63452280102512, 81.64547719897487)\n",
            "(25.239440514271045, 42.18055948572894)\n"
          ]
        }
      ]
    },
    {
      "cell_type": "markdown",
      "metadata": {
        "id": "7-0FJYHr8oOL"
      },
      "source": [
        "### Доверительный интервал разности средних для двух независимых выборок"
      ]
    },
    {
      "cell_type": "code",
      "metadata": {
        "id": "qpmwGN7P8yO_"
      },
      "source": [
        "def mean_diff_confint_ind(sample1,sample2):\n",
        "    cm = CompareMeans(DescrStatsW(sample1), DescrStatsW(sample2))\n",
        "    return cm.tconfint_diff(alternative='two-sided',usevar='pooled')"
      ],
      "execution_count": 16,
      "outputs": []
    },
    {
      "cell_type": "code",
      "metadata": {
        "colab": {
          "base_uri": "https://localhost:8080/"
        },
        "id": "_X2nzFOw84nb",
        "outputId": "04b9c645-6308-4231-d5d5-2e798450aeae"
      },
      "source": [
        "# Построим 95% доверительный интервал для разности средних. Данный интервал не содержит ноль - значит разницу можно признать отличной от нуля.\n",
        "mean_diff_confint_ind(x1,y1)"
      ],
      "execution_count": 17,
      "outputs": [
        {
          "output_type": "execute_result",
          "data": {
            "text/plain": [
              "(9.605408640774549, 48.254591359225465)"
            ]
          },
          "metadata": {},
          "execution_count": 17
        }
      ]
    },
    {
      "cell_type": "markdown",
      "metadata": {
        "id": "_FMkTtURElRx"
      },
      "source": [
        "# Z оценка"
      ]
    },
    {
      "cell_type": "code",
      "metadata": {
        "id": "yRSJ2P5D5JeG",
        "colab": {
          "base_uri": "https://localhost:8080/"
        },
        "outputId": "f0346815-2752-4958-85ba-6599af0b41a6"
      },
      "source": [
        "list_number = [7,8,8,9,10]\n",
        "# Рассчитываем среднее\n",
        "mean = np.mean(list_number)\n",
        "print(mean)\n",
        "# Рассчитываем дисперсию\n",
        "var = np.var(list_number,ddof=1)\n",
        "print(var)\n",
        "# Рассчитываем стандартное отклонение\n",
        "std = round(np.std(list_number,ddof=1),2)\n",
        "print(std)\n",
        "# Рассчитаем z-оценку для 7.5\n",
        "z = (7.5-mean)/std\n",
        "print(z)"
      ],
      "execution_count": 18,
      "outputs": [
        {
          "output_type": "stream",
          "name": "stdout",
          "text": [
            "8.4\n",
            "1.2999999999999998\n",
            "1.14\n",
            "-0.7894736842105267\n"
          ]
        }
      ]
    },
    {
      "cell_type": "markdown",
      "source": [
        "# Z тест"
      ],
      "metadata": {
        "id": "CIFwSyLZSvhO"
      }
    },
    {
      "cell_type": "code",
      "source": [
        "z,z_pval = ztest(x1, y1, value=0,alternative='two-sided')\n",
        "print(z,z_pval)"
      ],
      "metadata": {
        "colab": {
          "base_uri": "https://localhost:8080/"
        },
        "id": "aaxZB53GS40s",
        "outputId": "783c9252-e9be-420a-fd0b-834d17ec52bc"
      },
      "execution_count": 19,
      "outputs": [
        {
          "output_type": "stream",
          "name": "stdout",
          "text": [
            "3.145198441422933 0.001659742067075731\n"
          ]
        }
      ]
    },
    {
      "cell_type": "code",
      "source": [
        "def z_test(test: pd.Series, control: pd.Series, confidence=0.95, h0=0):\n",
        "    if not isinstance(test, pd.Series):\n",
        "      test = pd.Series(test)\n",
        "    if not isinstance(control, pd.Series):\n",
        "      control = pd.Series(control)\n",
        "\n",
        "    mu1, mu2 = test.mean(), control.mean()\n",
        "    se1, se2 = test.std() / np.sqrt(len(test)), control.std() / np.sqrt(len(control))\n",
        "    diff = mu1 - mu2\n",
        "    se_diff = np.sqrt(test.var()/len(test) + control.var()/len(control))\n",
        "    \n",
        "    z_stats = (diff-h0)/se_diff\n",
        "    p_value = 1 - (stats.norm.cdf(z) - stats.norm.cdf(-z))\n",
        "    \n",
        "    def critial(se,n): return se * scipy.stats.t.ppf((1 + confidence) / 2., n-1)\n",
        "    \n",
        "    print(f\"Test {confidence*100}% CI: {mu1} +- {critial(se1, len(test))}\")\n",
        "    print(f\"Control {confidence*100}% CI: {mu2} +- {critial(se2, len(control))}\")\n",
        "    print(f\"Test-Control {confidence*100}% CI: {diff} +- {critial(se_diff,len(test)+len(control))}\")\n",
        "    print(f\"Z Statistic {z_stats}\")\n",
        "    print(f\"P-Value {p_value}\")"
      ],
      "metadata": {
        "id": "k50oKuRQIaDA"
      },
      "execution_count": 20,
      "outputs": []
    },
    {
      "cell_type": "code",
      "source": [
        "z_test(x1,y1)"
      ],
      "metadata": {
        "colab": {
          "base_uri": "https://localhost:8080/"
        },
        "id": "kRjPLO5bIbNn",
        "outputId": "f81e15ef-4fd9-4f99-8114-b1572352e804"
      },
      "execution_count": 21,
      "outputs": [
        {
          "output_type": "stream",
          "name": "stdout",
          "text": [
            "Test 95.0% CI: 62.64 +- 19.00547719897488\n",
            "Control 95.0% CI: 33.709999999999994 +- 8.470559485728947\n",
            "Test-Control 95.0% CI: 28.930000000000007 +- 19.251944518526734\n",
            "Z Statistic 3.145198441422933\n",
            "P-Value 0.0016597420670756424\n"
          ]
        }
      ]
    },
    {
      "cell_type": "markdown",
      "metadata": {
        "id": "b6ei4pRX10ES"
      },
      "source": [
        "# t-тест двух независимых выборок"
      ]
    },
    {
      "cell_type": "markdown",
      "metadata": {
        "id": "aqK22Ckn15LH"
      },
      "source": [
        "### Проверка на нормальность данных. Тест Шапиро-Уилка"
      ]
    },
    {
      "cell_type": "code",
      "metadata": {
        "colab": {
          "base_uri": "https://localhost:8080/"
        },
        "id": "wGXkQSvS1w5f",
        "outputId": "2b1140c9-31ab-42bd-b338-a6c4ce7c976f"
      },
      "source": [
        "# Тест Шапиро-Уилка\n",
        "stat, p = stats.shapiro(x1)\n",
        "print('Statistics=%.3f, p-value=%.3f' % (stat, p))\n",
        "alpha = 0.05\n",
        "if p > alpha:\n",
        "    print('Принять гипотезу о нормальности')\n",
        "else:\n",
        "    print('Отклонить гипотезу о нормальности')"
      ],
      "execution_count": 22,
      "outputs": [
        {
          "output_type": "stream",
          "name": "stdout",
          "text": [
            "Statistics=0.894, p-value=0.189\n",
            "Принять гипотезу о нормальности\n"
          ]
        }
      ]
    },
    {
      "cell_type": "code",
      "source": [
        "# Графический метод\n",
        "stats.probplot(x1, dist=\"norm\", plot=pylab)\n",
        "pylab.show()"
      ],
      "metadata": {
        "colab": {
          "base_uri": "https://localhost:8080/",
          "height": 295
        },
        "id": "GviAwdT3ETJs",
        "outputId": "8c65e690-a4fe-41d7-96e5-88902631e901"
      },
      "execution_count": 23,
      "outputs": [
        {
          "output_type": "display_data",
          "data": {
            "text/plain": [
              "<Figure size 432x288 with 1 Axes>"
            ],
            "image/png": "[encoded data removed]"
          },
          "metadata": {
            "needs_background": "light"
          }
        }
      ]
    },
    {
      "cell_type": "markdown",
      "source": [
        "### Проверка равенства дисперсий. Критерий Бартлетта"
      ],
      "metadata": {
        "id": "UnPt9My7BXA9"
      }
    },
    {
      "cell_type": "markdown",
      "source": [
        "Цитата из Википедии: \"Критерий Бартлетта (англ. Bartlett's test) — статистический критерий, позволяющий проверять равенство дисперсий нескольких (двух и более) выборок. Нулевая гипотеза предполагает, что рассматриваемые выборки получены из генеральных совокупностей, обладающих одинаковыми дисперсиями.\n",
        "\n",
        "Критерий Бартлетта является параметрическим и основан на дополнительном предположении о нормальности выборок данных. Поэтому перед применением критерия Бартлетта рекомендуется выполнить проверку нормальности. Критерий Бартлетта очень чувствителен к нарушению данного предположения.\n",
        "\n",
        "Плюсы:\n",
        "\n",
        "объёмы выборок могут быть различными (это его преимущество перед критерием Кохрена), критерий Бартлетта выявляет отклонения, как в наибольшую, так и в наименьшую стороны; Минусы:\n",
        "\n",
        "сложность вычислений (критерий Кохрена требует меньше вычислительных затрат. Особо это актуально в случае вычислений «вручную»), объём каждой выборки должен быть больше трёх, критерий очень чувствителен к нарушению предположения о нормальности закона распределения исходных данных.\""
      ],
      "metadata": {
        "id": "5dBQNm4ZBg1s"
      }
    },
    {
      "cell_type": "code",
      "source": [
        "x1_ = np.random.normal(0, 1.5, 100)\n",
        "x2_ = np.random.normal(0, 1.5, 100)"
      ],
      "metadata": {
        "id": "v6awrY4JBr5E"
      },
      "execution_count": 24,
      "outputs": []
    },
    {
      "cell_type": "code",
      "source": [
        "# Расчет дисперсий\n",
        "var1 = np.var(x1_)\n",
        "var2 = np.var(x2_)\n",
        "print(var1, var2)"
      ],
      "metadata": {
        "colab": {
          "base_uri": "https://localhost:8080/"
        },
        "id": "DMJog0IPBsjG",
        "outputId": "08ef928a-dc6b-4f45-cb20-f0ab9cc9a234"
      },
      "execution_count": 25,
      "outputs": [
        {
          "output_type": "stream",
          "name": "stdout",
          "text": [
            "2.282626216799826 2.6016052181840537\n"
          ]
        }
      ]
    },
    {
      "cell_type": "code",
      "source": [
        "# Критерий Бартлетта\n",
        "stat, p = stats.bartlett(x1_,x2_)\n",
        "print('Statistics=%.3f, p-value=%.3f' % (stat, p))\n",
        "alpha = 0.05\n",
        "if p > alpha:\n",
        "    print('Принять гипотезу о равенстве дисперсий')\n",
        "else:\n",
        "    print('Отклонить гипотезу о равенстве дисперсий')"
      ],
      "metadata": {
        "colab": {
          "base_uri": "https://localhost:8080/"
        },
        "id": "2QDA7BIGBbL0",
        "outputId": "d3c70682-a393-4443-f335-d53243ac5ef5"
      },
      "execution_count": 26,
      "outputs": [
        {
          "output_type": "stream",
          "name": "stdout",
          "text": [
            "Statistics=0.421, p-value=0.516\n",
            "Принять гипотезу о равенстве дисперсий\n"
          ]
        }
      ]
    },
    {
      "cell_type": "markdown",
      "metadata": {
        "id": "2Aji_RI92Bl5"
      },
      "source": [
        "###  Проверка гипотезы. t-критерий Стьюдента"
      ]
    },
    {
      "cell_type": "markdown",
      "source": [
        "t-критерий Стьюдента – общее название для класса методов статистической проверки гипотез (статистических критериев), основанных на распределении Стьюдента. Наиболее частые случаи применения t-критерия связаны с проверкой равенства средних значений в двух выборках.\n",
        "Для применения t-критерия Стьюдента необходимо, чтобы исходные данные имели нормальное распределение. Также имеет значение равенство дисперсий (распределения) сравниваемых групп (гомоскедастичность). При неравных дисперсиях применяется t-критерий в модификации Уэлча (Welch's t).\n",
        "\n",
        "t-критерий «боится» выбросов, т.е. аномальных отклонений. Выбросы в данных сильно искажают распределение t-критерия, что, в свою очередь, может привести к ошибкам статистического вывода, поэтому от аномальных наблюдений следует избавиться. Часто из выборки удаляют все значения, выходящие за пределы ±2 стандартных отклонения от средней.\n",
        "\n",
        "При отсутствии нормального распределения сравниваемых выборок вместо t-критерия Стьюдента используются аналогичные методы непараметрической статистики, среди которых наиболее известными является U-критерий Манна — Уитни."
      ],
      "metadata": {
        "id": "M9LPlqkQEKo8"
      }
    },
    {
      "cell_type": "code",
      "metadata": {
        "colab": {
          "base_uri": "https://localhost:8080/"
        },
        "id": "ScyyLu_Q1__X",
        "outputId": "7e080b65-abd1-43e5-f0fc-59a54eeb0b26"
      },
      "source": [
        "# H0 - между выборками нет статистически значимых различий\n",
        "# H1 - между выборками есть статистически значимые различия\n",
        "stats.ttest_ind(x1, y1,alternative='two-sided')"
      ],
      "execution_count": 27,
      "outputs": [
        {
          "output_type": "execute_result",
          "data": {
            "text/plain": [
              "Ttest_indResult(statistic=3.145198441422933, pvalue=0.005596956346997708)"
            ]
          },
          "metadata": {},
          "execution_count": 27
        }
      ]
    },
    {
      "cell_type": "code",
      "metadata": {
        "colab": {
          "base_uri": "https://localhost:8080/",
          "height": 336
        },
        "id": "xQxRm0Lb2GuH",
        "outputId": "6f2a7e69-2e3e-4172-bb02-e4f01e9cb2b3"
      },
      "source": [
        "plt.figure(figsize=(7, 5))\n",
        "df1 = pd.DataFrame({'x1':x1,'y2':y1})\n",
        "sns.histplot(data=df1, kde=True)\n",
        "plt.title('Сравнение двух независимых выборок')\n",
        "plt.legend(['x1', 'y1'])\n",
        "plt.grid()"
      ],
      "execution_count": 28,
      "outputs": [
        {
          "output_type": "display_data",
          "data": {
            "text/plain": [
              "<Figure size 504x360 with 1 Axes>"
            ],
            "image/png": "[encoded data removed]"
          },
          "metadata": {
            "needs_background": "light"
          }
        }
      ]
    },
    {
      "cell_type": "markdown",
      "metadata": {
        "id": "aET_Gj_42L6v"
      },
      "source": [
        "# t-тест двух зависимых выборок"
      ]
    },
    {
      "cell_type": "code",
      "metadata": {
        "id": "WipbmZqv2M4f"
      },
      "source": [
        "# Создаем данные\n",
        "x2 = np.random.normal(0, 1.5, 100)\n",
        "y2 = np.random.normal(1, 1.5, 100)"
      ],
      "execution_count": 29,
      "outputs": []
    },
    {
      "cell_type": "markdown",
      "metadata": {
        "id": "IyT1DZ0x2Rcx"
      },
      "source": [
        "### Проверка на нормальность данных"
      ]
    },
    {
      "cell_type": "code",
      "metadata": {
        "colab": {
          "base_uri": "https://localhost:8080/"
        },
        "id": "sWacPj5x2PEW",
        "outputId": "995e2d52-8b02-4a92-a67a-8fc0e2b80cfd"
      },
      "source": [
        "# Критерий Пирсона\n",
        "stat, p = stats.normaltest(x2)\n",
        "print('Statistics=%.3f, p-value=%.3f' % (stat, p))\n",
        "alpha = 0.05\n",
        "if p > alpha:\n",
        "    print('Принять гипотезу о нормальности')\n",
        "else:\n",
        "    print('Отклонить гипотезу о нормальности')"
      ],
      "execution_count": 30,
      "outputs": [
        {
          "output_type": "stream",
          "name": "stdout",
          "text": [
            "Statistics=0.378, p-value=0.828\n",
            "Принять гипотезу о нормальности\n"
          ]
        }
      ]
    },
    {
      "cell_type": "markdown",
      "metadata": {
        "id": "7JWVjbQo2WZO"
      },
      "source": [
        "### Проверка гипотезы"
      ]
    },
    {
      "cell_type": "code",
      "metadata": {
        "colab": {
          "base_uri": "https://localhost:8080/"
        },
        "id": "5nEDpr642X6g",
        "outputId": "b26a3817-8ebf-423f-810a-ecdb20223641"
      },
      "source": [
        "# H0 - между выборками нет статистически значимых различий\n",
        "# H1 - между выборками есть статистически значимые различия\n",
        "stats.ttest_rel(x2, y2,alternative='two-sided')"
      ],
      "execution_count": 31,
      "outputs": [
        {
          "output_type": "execute_result",
          "data": {
            "text/plain": [
              "Ttest_relResult(statistic=-5.812108139318027, pvalue=7.537465195773137e-08)"
            ]
          },
          "metadata": {},
          "execution_count": 31
        }
      ]
    },
    {
      "cell_type": "code",
      "metadata": {
        "colab": {
          "base_uri": "https://localhost:8080/",
          "height": 336
        },
        "id": "03j5k4NT2Z23",
        "outputId": "ef6ff818-4cf2-4c47-b534-58a19e4e5271"
      },
      "source": [
        "plt.figure(figsize=(7, 5))\n",
        "df2 = pd.DataFrame({'x2':x2,'y2':y2})\n",
        "sns.histplot(data=df2, kde=True)\n",
        "plt.title('Сравнение двух зависимых выборок')\n",
        "plt.legend(['x2', 'y2'])\n",
        "plt.grid()"
      ],
      "execution_count": 32,
      "outputs": [
        {
          "output_type": "display_data",
          "data": {
            "text/plain": [
              "<Figure size 504x360 with 1 Axes>"
            ],
            "image/png": "[encoded data removed]"
          },
          "metadata": {
            "needs_background": "light"
          }
        }
      ]
    },
    {
      "cell_type": "markdown",
      "source": [
        "# t-критерий Уэлча"
      ],
      "metadata": {
        "id": "uITGCCr1QqmN"
      }
    },
    {
      "cell_type": "markdown",
      "source": [
        "t-критерий Уэлча — тест, основанный на распределении Стьюдента и предназначенный для проверки статистической гипотезы о равенстве математических ожиданий случайных величин, имеющих необязательно равные известные дисперсии. Является модификацией t-критерия Стьюдента. Назван в честь британского статистика Бернарда Льюиса Уэлча."
      ],
      "metadata": {
        "id": "ChfuQQs3Qs92"
      }
    },
    {
      "cell_type": "code",
      "source": [
        "#equal_var:  указывает на предположение об одинаковой дисперсии между двумя массивами\n",
        "stats.ttest_ind(x1, y1,equal_var=False)"
      ],
      "metadata": {
        "colab": {
          "base_uri": "https://localhost:8080/"
        },
        "id": "Ah91UK8xQsY0",
        "outputId": "4bb28c3c-62b0-433a-8762-6c4e9d85dc85"
      },
      "execution_count": 33,
      "outputs": [
        {
          "output_type": "execute_result",
          "data": {
            "text/plain": [
              "Ttest_indResult(statistic=3.145198441422933, pvalue=0.008121457311362348)"
            ]
          },
          "metadata": {},
          "execution_count": 33
        }
      ]
    },
    {
      "cell_type": "markdown",
      "metadata": {
        "id": "qNTjPyPBEDbq"
      },
      "source": [
        "# Непараметрические критерии"
      ]
    },
    {
      "cell_type": "markdown",
      "metadata": {
        "id": "pOg0iBT71Ltj"
      },
      "source": [
        "### U-критерий Манна — Уитни"
      ]
    },
    {
      "cell_type": "code",
      "metadata": {
        "id": "d140G7k11Ltl"
      },
      "source": [
        "#  Статистический критерий, используемый для оценки различий между двумя независимыми выборками по уровню какого-либо признака, \n",
        "# измеренного количественно. Позволяет выявлять различия в значении параметра между малыми выборками."
      ],
      "execution_count": 34,
      "outputs": []
    },
    {
      "cell_type": "code",
      "metadata": {
        "id": "BEF66WIx1Ltm"
      },
      "source": [
        "np.random.seed(11)\n",
        "A = stats.norm.rvs(scale=30,loc=11,size=100)\n",
        "B = A + stats.norm.rvs(scale=54,loc=11,size=100)"
      ],
      "execution_count": 35,
      "outputs": []
    },
    {
      "cell_type": "code",
      "metadata": {
        "colab": {
          "base_uri": "https://localhost:8080/"
        },
        "id": "NSREGx1S1Ltn",
        "outputId": "d4f24f20-00b1-4d4e-cccd-0ff395016dc7"
      },
      "source": [
        "# H0 - различий нет\n",
        "# H1 - различия есть\n",
        "stat, p = mannwhitneyu(A, B,alternative='two-sided')\n",
        "print('Statistics=%.3f, p=%.3f' % (stat, p))\n",
        "alpha = 0.05\n",
        "if p > alpha:\n",
        "    print('Различий в эффекте нет')\n",
        "else:\n",
        "    print('Различия в эффекте есть')"
      ],
      "execution_count": 36,
      "outputs": [
        {
          "output_type": "stream",
          "name": "stdout",
          "text": [
            "Statistics=4343.000, p=0.109\n",
            "Различий в эффекте нет\n"
          ]
        }
      ]
    },
    {
      "cell_type": "code",
      "metadata": {
        "colab": {
          "base_uri": "https://localhost:8080/",
          "height": 336
        },
        "id": "lmmGoJo61Lto",
        "outputId": "9ca4b131-c6bd-4453-c8ff-a23a144d63b4"
      },
      "source": [
        "plt.figure(figsize=(7, 5))\n",
        "df = pd.DataFrame({'A':A, 'B':B})\n",
        "sns.histplot(data=df, kde=True, bins=50)\n",
        "plt.title('Сравнение A и B')\n",
        "plt.legend(['A', 'B'])\n",
        "plt.grid()"
      ],
      "execution_count": 37,
      "outputs": [
        {
          "output_type": "display_data",
          "data": {
            "text/plain": [
              "<Figure size 504x360 with 1 Axes>"
            ],
            "image/png": "[encoded data removed]"
          },
          "metadata": {
            "needs_background": "light"
          }
        }
      ]
    },
    {
      "cell_type": "markdown",
      "metadata": {
        "id": "xGaGphr41Ltp"
      },
      "source": [
        "### Т-критерий Вилкоксона"
      ]
    },
    {
      "cell_type": "code",
      "metadata": {
        "id": "oA0qv2Qe1Ltp"
      },
      "source": [
        "# Также используются названия Т-критерий Уилкоксона, критерий Вилкоксона, критерий знаковых рангов Уилкоксона, критерий суммы рангов Уилкоксона.\n",
        "# Непараметрический статистический тест (критерий), используемый для проверки различий между двумя выборками парных или независимых измерений по уровню\n",
        "# какого-либо количественного признака, измеренного в непрерывной или в порядковой шкале. Впервые предложен Фрэнком Уилкоксоном. \n",
        "# Другие названия — W-критерий Вилкоксона, критерий знаковых рангов Вилкоксона, критерий Уилкоксона для связных выборок. \n",
        "# Тест Вилкоксона для независимых выборок также называется критерием Манна-Уитни."
      ],
      "execution_count": 38,
      "outputs": []
    },
    {
      "cell_type": "code",
      "metadata": {
        "id": "6PdkflDw1Ltq"
      },
      "source": [
        "np.random.seed(11)\n",
        "C = stats.norm.rvs(scale=30,loc=11,size=100)\n",
        "D = C + stats.norm.rvs(scale=54,loc=11,size=100)"
      ],
      "execution_count": 39,
      "outputs": []
    },
    {
      "cell_type": "code",
      "metadata": {
        "colab": {
          "base_uri": "https://localhost:8080/"
        },
        "id": "X9ZSron31Ltq",
        "outputId": "9d50c39a-131f-4652-90db-d033fdfe4355"
      },
      "source": [
        "# H0 - различий нет\n",
        "# H1 - различия есть\n",
        "stat, p = wilcoxon(C,D,alternative='two-sided')\n",
        "print('Statistics=%.3f, p=%.3f' % (stat, p))\n",
        "alpha = 0.05\n",
        "if p > alpha:\n",
        "    print('Различий в эффекте нет')\n",
        "else:\n",
        "    print('Различия в эффекте есть')"
      ],
      "execution_count": 40,
      "outputs": [
        {
          "output_type": "stream",
          "name": "stdout",
          "text": [
            "Statistics=1930.000, p=0.041\n",
            "Различия в эффекте есть\n"
          ]
        }
      ]
    },
    {
      "cell_type": "code",
      "metadata": {
        "colab": {
          "base_uri": "https://localhost:8080/",
          "height": 336
        },
        "id": "XTZkvLKt1Ltr",
        "outputId": "856bd254-465a-4aae-beb3-5184350ade94"
      },
      "source": [
        "plt.figure(figsize=(7, 5))\n",
        "df = pd.DataFrame({'C':C, 'D':D})\n",
        "sns.histplot(data=df, kde=True, bins=50)\n",
        "plt.title('Сравнение C и D')\n",
        "plt.legend(['C', 'D'])\n",
        "plt.grid()"
      ],
      "execution_count": 41,
      "outputs": [
        {
          "output_type": "display_data",
          "data": {
            "text/plain": [
              "<Figure size 504x360 with 1 Axes>"
            ],
            "image/png": "[encoded data removed]"
          },
          "metadata": {
            "needs_background": "light"
          }
        }
      ]
    },
    {
      "cell_type": "markdown",
      "metadata": {
        "id": "GU1c9GuCFgMi"
      },
      "source": [
        "###  Бутстреп. Вариант 1"
      ]
    },
    {
      "cell_type": "code",
      "source": [
        "# Генерация данных для примера\n",
        "mu_group1, sigma_group1 = 10, 0.5\n",
        "group1 = np.random.normal(mu_group1, sigma_group1, 1000)"
      ],
      "metadata": {
        "id": "SG_ns-F3TfgD"
      },
      "execution_count": 42,
      "outputs": []
    },
    {
      "cell_type": "code",
      "source": [
        "abs(mu_group1 - np.mean(group1))"
      ],
      "metadata": {
        "colab": {
          "base_uri": "https://localhost:8080/"
        },
        "id": "WHkusmKBT8yT",
        "outputId": "b8e571e4-a6e9-4a60-e2ed-7c85a6be6de7"
      },
      "execution_count": 43,
      "outputs": [
        {
          "output_type": "execute_result",
          "data": {
            "text/plain": [
              "0.0038026324918032373"
            ]
          },
          "metadata": {},
          "execution_count": 43
        }
      ]
    },
    {
      "cell_type": "code",
      "source": [
        "abs(sigma_group1 - np.std(group1, ddof=1))"
      ],
      "metadata": {
        "colab": {
          "base_uri": "https://localhost:8080/"
        },
        "id": "UkNbaxJ9UJXZ",
        "outputId": "614b0338-ff0a-4d05-f812-6c6271eb9ff3"
      },
      "execution_count": 44,
      "outputs": [
        {
          "output_type": "execute_result",
          "data": {
            "text/plain": [
              "0.006552551245068594"
            ]
          },
          "metadata": {},
          "execution_count": 44
        }
      ]
    },
    {
      "cell_type": "code",
      "source": [
        "plt.figure(figsize=(7, 3))\n",
        "sns.histplot(group1, kde=True, color='yellow')\n",
        "plt.title('Группа 1')\n",
        "plt.show()"
      ],
      "metadata": {
        "colab": {
          "base_uri": "https://localhost:8080/",
          "height": 227
        },
        "id": "01i-Te82Un-l",
        "outputId": "77ef2ee9-c754-4811-8c8a-f9ff145a33fb"
      },
      "execution_count": 45,
      "outputs": [
        {
          "output_type": "display_data",
          "data": {
            "text/plain": [
              "<Figure size 504x216 with 1 Axes>"
            ],
            "image/png": "[encoded data removed]"
          },
          "metadata": {
            "needs_background": "light"
          }
        }
      ]
    },
    {
      "cell_type": "code",
      "source": [
        "mu_group2, sigma_group2 = 11, 1.5\n",
        "group2 = np.random.normal(mu_group2, sigma_group2, 1000)"
      ],
      "metadata": {
        "id": "2xxm95D6UyuS"
      },
      "execution_count": 46,
      "outputs": []
    },
    {
      "cell_type": "code",
      "source": [
        "plt.figure(figsize=(7, 3))\n",
        "sns.histplot(group2, kde=True, color='red')\n",
        "plt.title('Группа 2')\n",
        "plt.show()"
      ],
      "metadata": {
        "colab": {
          "base_uri": "https://localhost:8080/",
          "height": 227
        },
        "id": "q6SWIbfuVFHJ",
        "outputId": "b5863500-3b65-4379-85b4-9d271cf4b2ba"
      },
      "execution_count": 47,
      "outputs": [
        {
          "output_type": "display_data",
          "data": {
            "text/plain": [
              "<Figure size 504x216 with 1 Axes>"
            ],
            "image/png": "[encoded data removed]"
          },
          "metadata": {
            "needs_background": "light"
          }
        }
      ]
    },
    {
      "cell_type": "code",
      "metadata": {
        "id": "10dXPdKRFkJV"
      },
      "source": [
        "def get_bootstrap_samples(data, n_samples):\n",
        "    \"\"\"Бутстрап-выборка\"\"\"\n",
        "    indices = np.random.randint(0, len(data), (n_samples, len(data)))\n",
        "    samples = data[indices]\n",
        "    return samples"
      ],
      "execution_count": 48,
      "outputs": []
    },
    {
      "cell_type": "code",
      "metadata": {
        "id": "mtcwkR30FnE-"
      },
      "source": [
        "def stat_intervals(stat, alpha=0.05):\n",
        "    \"\"\"Доверительный интервал\"\"\"\n",
        "    boundaries = np.percentile(stat, [100 * alpha / 2., 100 * (1 - alpha / 2.)])\n",
        "    return boundaries"
      ],
      "execution_count": 49,
      "outputs": []
    },
    {
      "cell_type": "code",
      "metadata": {
        "id": "GXGNJDsQFrG2"
      },
      "source": [
        "group1_median = list(map(np.median, get_bootstrap_samples(group1, 1000)))\n",
        "group2_median  = list(map(np.median, get_bootstrap_samples(group2, 1000)))"
      ],
      "execution_count": 50,
      "outputs": []
    },
    {
      "cell_type": "code",
      "metadata": {
        "id": "Lf-5NzRnFtfp"
      },
      "source": [
        "delta_median = list(map(lambda x: x[1] - x[0], zip(group1_median, group2_median)))"
      ],
      "execution_count": 51,
      "outputs": []
    },
    {
      "cell_type": "code",
      "metadata": {
        "colab": {
          "base_uri": "https://localhost:8080/"
        },
        "id": "m3G11UYVFwmK",
        "outputId": "9b351fae-bcfe-4f82-8559-c1a9733d5e6e"
      },
      "source": [
        "print (\"Макc значение для для группы1:\", np.max(group1),\"Мин значение для для группы1:\", np.min(group1))\n",
        "print (\"Макc значение для для группы2:\", np.max(group2),\"Мин значение для для группы2:\", np.min(group2))\n",
        "print (\"95% доверительный интервал для группы1:\", stat_intervals(group1_median, 0.05))\n",
        "print (\"95% доверительный интервал для группы2:\",  stat_intervals(group2_median, 0.05))\n",
        "print (\"95% доверительный интервал для разности медиан:\",  stat_intervals(delta_median, 0.05))"
      ],
      "execution_count": 52,
      "outputs": [
        {
          "output_type": "stream",
          "name": "stdout",
          "text": [
            "Макc значение для для группы1: 11.657341175782976 Мин значение для для группы1: 8.269858613810245\n",
            "Макc значение для для группы2: 14.950993207906738 Мин значение для для группы2: 5.769085624116061\n",
            "95% доверительный интервал для группы1: [ 9.94826854 10.03933557]\n",
            "95% доверительный интервал для группы2: [10.92730778 11.22665461]\n",
            "95% доверительный интервал для разности медиан: [0.92622794 1.24254135]\n"
          ]
        }
      ]
    },
    {
      "cell_type": "markdown",
      "source": [
        "### Бутстреп. Вариант 2 (karpov_courses)"
      ],
      "metadata": {
        "id": "PJAClzfNSzS7"
      }
    },
    {
      "cell_type": "code",
      "source": [
        "def get_bootstrap(\n",
        "                  data_column_1,                       \n",
        "                  data_column_2,                       \n",
        "                  boot_it = 1000,                      \n",
        "                  statistic = np.mean,                 \n",
        "                  bootstrap_conf_level = 0.95          \n",
        "):\n",
        "    boot_len = max([len(data_column_1), len(data_column_2)])\n",
        "    boot_data = []\n",
        "    for i in tqdm(range(boot_it)):      \n",
        "        samples_1 = data_column_1.sample(\n",
        "            boot_len, \n",
        "            replace = True              \n",
        "        ).values\n",
        "        \n",
        "        samples_2 = data_column_2.sample(\n",
        "            boot_len, \n",
        "            replace = True\n",
        "        ).values\n",
        "        \n",
        "        boot_data.append(statistic(samples_1-samples_2)) \n",
        "        \n",
        "    pd_boot_data = pd.DataFrame(boot_data)\n",
        "        \n",
        "    left_quant = (1 - bootstrap_conf_level)/2\n",
        "    right_quant = 1 - (1 - bootstrap_conf_level) / 2\n",
        "    ci = pd_boot_data.quantile([left_quant, right_quant])\n",
        "        \n",
        "    p_1 = norm.cdf(\n",
        "        x = 0, \n",
        "        loc = np.mean(boot_data), \n",
        "        scale = np.std(boot_data)\n",
        "    )\n",
        "    p_2 = norm.cdf(\n",
        "        x = 0, \n",
        "        loc = -np.mean(boot_data), \n",
        "        scale = np.std(boot_data)\n",
        "    )\n",
        "    p_value = min(p_1, p_2) * 2\n",
        "        \n",
        "    # Визуализация\n",
        "    plt.hist(pd_boot_data[0], bins = 50)\n",
        "    \n",
        "    plt.style.use('ggplot')\n",
        "    plt.vlines(ci,ymin=0,ymax=50,linestyle='--')\n",
        "    plt.xlabel('boot_data')\n",
        "    plt.ylabel('frequency')\n",
        "    plt.title(\"Histogram of boot_data\")\n",
        "    plt.show()\n",
        "       \n",
        "    return {\"boot_data\": boot_data, \n",
        "            \"ci\": ci, \n",
        "            \"p_value\": p_value}"
      ],
      "metadata": {
        "id": "BywaIXm0XpMR"
      },
      "execution_count": 53,
      "outputs": []
    },
    {
      "cell_type": "code",
      "source": [
        "df_bootstrap = pd.DataFrame(data={'group1':group1, 'group2':group2})"
      ],
      "metadata": {
        "id": "tisSJvzpZx6Y"
      },
      "execution_count": 54,
      "outputs": []
    },
    {
      "cell_type": "code",
      "source": [
        "# Бутстрап (np.mean)\n",
        "# Чувствителен к выбросам данных\n",
        "booted_data_mean = get_bootstrap(df_bootstrap['group1'], df_bootstrap['group2'], statistic = np.mean)"
      ],
      "metadata": {
        "colab": {
          "base_uri": "https://localhost:8080/",
          "height": 329,
          "referenced_widgets": [
            "6b1a155f824141e68b40951bc57f2ef3",
            "3f6a02c884ff45d19632567bb1234fbd",
            "2551492c83d5441eb833a5024ab9db04",
            "b1fdd2c7445145ce9bc9027300ffdf24",
            "8fbb89c3f2d74e1d964ff4e7d5c02997",
            "88cdfaa507fb44a1bfa774751b0dfb69",
            "21137a11880a4805bb9635bc46b2de68",
            "a02da9e3692d48409cefa0671c718fb2",
            "be695a9791fe428c85f637190845b28a",
            "f026740dc90a4dd0991a7258bdec1af2",
            "e25d95db4f33447fba9ed8382a122439"
          ]
        },
        "id": "YKJnptC3Xye4",
        "outputId": "40d219c6-7a7d-47a8-a5a2-a50d125c5bc1"
      },
      "execution_count": 55,
      "outputs": [
        {
          "output_type": "display_data",
          "data": {
            "text/plain": [
              "  0%|          | 0/1000 [00:00<?, ?it/s]"
            ],
            "application/vnd.jupyter.widget-view+json": {
              "version_major": 2,
              "version_minor": 0,
              "model_id": "6b1a155f824141e68b40951bc57f2ef3"
            }
          },
          "metadata": {}
        },
        {
          "output_type": "display_data",
          "data": {
            "text/plain": [
              "<Figure size 432x288 with 1 Axes>"
            ],
            "image/png": "[encoded data removed]"
          },
          "metadata": {
            "needs_background": "light"
          }
        }
      ]
    },
    {
      "cell_type": "code",
      "source": [
        "# p-value (с np.mean), p-value\n",
        "booted_data_mean['p_value']"
      ],
      "metadata": {
        "colab": {
          "base_uri": "https://localhost:8080/"
        },
        "id": "KCbzqMhJbQkH",
        "outputId": "6ffc884b-17f1-4a96-b36f-f7a53d718348"
      },
      "execution_count": 56,
      "outputs": [
        {
          "output_type": "execute_result",
          "data": {
            "text/plain": [
              "6.655397549370097e-90"
            ]
          },
          "metadata": {},
          "execution_count": 56
        }
      ]
    },
    {
      "cell_type": "code",
      "source": [
        "# Бутстрап (с np.median)\n",
        "# Менее чувствителен к выбросам данных\n",
        "booted_data_median = get_bootstrap(df_bootstrap['group1'], df_bootstrap['group2'], statistic = np.median)"
      ],
      "metadata": {
        "colab": {
          "base_uri": "https://localhost:8080/",
          "height": 331,
          "referenced_widgets": [
            "e715c0dc0a67412fb01e42e74598d866",
            "68b399f66c4a47f0bdbb21d93c65cfc1",
            "7925e5ff89e543b799e97fb4aa6b4f3b",
            "55a6c84457be44608620c5ec56c27020",
            "95c6b5875e5c45c2bfc5e495a71253e2",
            "433b502555b945e3982b282048467abb",
            "398be361988c4939b805bd873eddf206",
            "6ce75b1dc0f54cb982570d74165f677c",
            "127f58d2a69c401ab5ca66164c0c3159",
            "d106860e43ae400db4abdbd83e4d8116",
            "5312ca9fcc9a45bc8bb1e015ce5ac439"
          ]
        },
        "id": "NFfPzeurbF5v",
        "outputId": "237374d0-19ae-4bb5-a40b-a008eea4925e"
      },
      "execution_count": 57,
      "outputs": [
        {
          "output_type": "display_data",
          "data": {
            "text/plain": [
              "  0%|          | 0/1000 [00:00<?, ?it/s]"
            ],
            "application/vnd.jupyter.widget-view+json": {
              "version_major": 2,
              "version_minor": 0,
              "model_id": "e715c0dc0a67412fb01e42e74598d866"
            }
          },
          "metadata": {}
        },
        {
          "output_type": "display_data",
          "data": {
            "text/plain": [
              "<Figure size 432x288 with 1 Axes>"
            ],
            "image/png": "[encoded data removed]"
          },
          "metadata": {}
        }
      ]
    },
    {
      "cell_type": "code",
      "source": [
        "# p-value (с np.median), \n",
        "booted_data_median['p_value']"
      ],
      "metadata": {
        "colab": {
          "base_uri": "https://localhost:8080/"
        },
        "id": "DrMj-G5PfLSV",
        "outputId": "eeebbdc9-02f0-4149-b283-1b6a52030edc"
      },
      "execution_count": 58,
      "outputs": [
        {
          "output_type": "execute_result",
          "data": {
            "text/plain": [
              "2.559413723333186e-55"
            ]
          },
          "metadata": {},
          "execution_count": 58
        }
      ]
    },
    {
      "cell_type": "markdown",
      "source": [
        "### Перестановочный тест"
      ],
      "metadata": {
        "id": "WOfhFq_de9or"
      }
    },
    {
      "cell_type": "code",
      "source": [
        "data1 = np.random.normal(0, 10, size=100)\n",
        "data2 = np.random.normal(0, 1, size=100)"
      ],
      "metadata": {
        "id": "G7Z09uTXfdnn"
      },
      "execution_count": 59,
      "outputs": []
    },
    {
      "cell_type": "code",
      "source": [
        "def permutation_test(data_fst, data_snd, iters=1000, plot=True):\n",
        "    data = np.array(list(data_fst) + list(data_snd))\n",
        "    size = len(data)\n",
        "    values = []\n",
        "    fst_ratio = len(data_fst) * 1. / size\n",
        "    for _ in range(iters):\n",
        "        mask = (np.random.random(size=size) < fst_ratio)\n",
        "        values.append(data[mask].mean() - data[~mask].mean())\n",
        "        \n",
        "    if plot:\n",
        "        plt.hist(values, bins=30)\n",
        "        plt.show()\n",
        "        \n",
        "    return (np.abs(values) > np.abs(data_fst.mean() - data_snd.mean())).mean()"
      ],
      "metadata": {
        "id": "KI63jQtsfhOD"
      },
      "execution_count": 60,
      "outputs": []
    },
    {
      "cell_type": "code",
      "source": [
        "print(stats.ttest_ind(data1, data2, alternative='two-sided').pvalue)"
      ],
      "metadata": {
        "colab": {
          "base_uri": "https://localhost:8080/"
        },
        "id": "OyrQ1Fb6mZcU",
        "outputId": "3ed53f58-1972-4bd8-8dbd-c07bd7cf7b9a"
      },
      "execution_count": 61,
      "outputs": [
        {
          "output_type": "stream",
          "name": "stdout",
          "text": [
            "0.926805414945115\n"
          ]
        }
      ]
    },
    {
      "cell_type": "code",
      "source": [
        "print(permutation_test(data1, data2, iters=10000))"
      ],
      "metadata": {
        "colab": {
          "base_uri": "https://localhost:8080/",
          "height": 282
        },
        "id": "t0dyT_RjmOZn",
        "outputId": "717ead7a-0b4f-460d-c722-a3269b06a20b"
      },
      "execution_count": 62,
      "outputs": [
        {
          "output_type": "display_data",
          "data": {
            "text/plain": [
              "<Figure size 432x288 with 1 Axes>"
            ],
            "image/png": "[encoded data removed]"
          },
          "metadata": {}
        },
        {
          "output_type": "stream",
          "name": "stdout",
          "text": [
            "0.9221\n"
          ]
        }
      ]
    },
    {
      "cell_type": "markdown",
      "metadata": {
        "id": "isgukdciGvzr"
      },
      "source": [
        "# Корреляция"
      ]
    },
    {
      "cell_type": "markdown",
      "metadata": {
        "id": "XVbLzIQkGC1h"
      },
      "source": [
        "### Коэффициент корреляции Пирсона"
      ]
    },
    {
      "cell_type": "code",
      "metadata": {
        "id": "ML0-8LjwFPM3"
      },
      "source": [
        "data = {'x1':[2,3,4,15,18],\n",
        "        'x2':[0,-21,0,-30,12],\n",
        "        'x3':[2,3,4,5,6],\n",
        "        'y1':[0.2,0.3,0.4,0.5,0.6],\n",
        "        'y2':[11.0,-30.2,12.0,-42.5,43.0]}"
      ],
      "execution_count": 63,
      "outputs": []
    },
    {
      "cell_type": "code",
      "metadata": {
        "colab": {
          "base_uri": "https://localhost:8080/",
          "height": 414
        },
        "id": "wtbmJGihGxJ2",
        "outputId": "334ba468-dd40-4a79-b2a0-d3abba224f59"
      },
      "source": [
        "df = pd.DataFrame(data)\n",
        "df.info()\n",
        "df.head()"
      ],
      "execution_count": 64,
      "outputs": [
        {
          "output_type": "stream",
          "name": "stdout",
          "text": [
            "<class 'pandas.core.frame.DataFrame'>\n",
            "RangeIndex: 5 entries, 0 to 4\n",
            "Data columns (total 5 columns):\n",
            " #   Column  Non-Null Count  Dtype  \n",
            "---  ------  --------------  -----  \n",
            " 0   x1      5 non-null      int64  \n",
            " 1   x2      5 non-null      int64  \n",
            " 2   x3      5 non-null      int64  \n",
            " 3   y1      5 non-null      float64\n",
            " 4   y2      5 non-null      float64\n",
            "dtypes: float64(2), int64(3)\n",
            "memory usage: 328.0 bytes\n"
          ]
        },
        {
          "output_type": "execute_result",
          "data": {
            "text/plain": [
              "   x1  x2  x3   y1    y2\n",
              "0   2   0   2  0.2  11.0\n",
              "1   3 -21   3  0.3 -30.2\n",
              "2   4   0   4  0.4  12.0\n",
              "3  15 -30   5  0.5 -42.5\n",
              "4  18  12   6  0.6  43.0"
            ],
            "text/html": [
              "\n",
              "  <div id=\"df-05660b65-3773-4212-bdbc-9fae0565d088\">\n",
              "    <div class=\"colab-df-container\">\n",
              "      <div>\n",
              "<style scoped>\n",
              "    .dataframe tbody tr th:only-of-type {\n",
              "        vertical-align: middle;\n",
              "    }\n",
              "\n",
              "    .dataframe tbody tr th {\n",
              "        vertical-align: top;\n",
              "    }\n",
              "\n",
              "    .dataframe thead th {\n",
              "        text-align: right;\n",
              "    }\n",
              "</style>\n",
              "<table border=\"1\" class=\"dataframe\">\n",
              "  <thead>\n",
              "    <tr style=\"text-align: right;\">\n",
              "      <th></th>\n",
              "      <th>x1</th>\n",
              "      <th>x2</th>\n",
              "      <th>x3</th>\n",
              "      <th>y1</th>\n",
              "      <th>y2</th>\n",
              "    </tr>\n",
              "  </thead>\n",
              "  <tbody>\n",
              "    <tr>\n",
              "      <th>0</th>\n",
              "      <td>2</td>\n",
              "      <td>0</td>\n",
              "      <td>2</td>\n",
              "      <td>0.2</td>\n",
              "      <td>11.0</td>\n",
              "    </tr>\n",
              "    <tr>\n",
              "      <th>1</th>\n",
              "      <td>3</td>\n",
              "      <td>-21</td>\n",
              "      <td>3</td>\n",
              "      <td>0.3</td>\n",
              "      <td>-30.2</td>\n",
              "    </tr>\n",
              "    <tr>\n",
              "      <th>2</th>\n",
              "      <td>4</td>\n",
              "      <td>0</td>\n",
              "      <td>4</td>\n",
              "      <td>0.4</td>\n",
              "      <td>12.0</td>\n",
              "    </tr>\n",
              "    <tr>\n",
              "      <th>3</th>\n",
              "      <td>15</td>\n",
              "      <td>-30</td>\n",
              "      <td>5</td>\n",
              "      <td>0.5</td>\n",
              "      <td>-42.5</td>\n",
              "    </tr>\n",
              "    <tr>\n",
              "      <th>4</th>\n",
              "      <td>18</td>\n",
              "      <td>12</td>\n",
              "      <td>6</td>\n",
              "      <td>0.6</td>\n",
              "      <td>43.0</td>\n",
              "    </tr>\n",
              "  </tbody>\n",
              "</table>\n",
              "</div>\n",
              "      <button class=\"colab-df-convert\" onclick=\"convertToInteractive('df-05660b65-3773-4212-bdbc-9fae0565d088')\"\n",
              "              title=\"Convert this dataframe to an interactive table.\"\n",
              "              style=\"display:none;\">\n",
              "        \n",
              "  <svg xmlns=\"http://www.w3.org/2000/svg\" height=\"24px\"viewBox=\"0 0 24 24\"\n",
              "       width=\"24px\">\n",
              "    <path d=\"M0 0h24v24H0V0z\" fill=\"none\"/>\n",
              "    <path d=\"M18.56 5.44l.94 2.06.94-2.06 2.06-.94-2.06-.94-.94-2.06-.94 2.06-2.06.94zm-11 1L8.5 8.5l.94-2.06 2.06-.94-2.06-.94L8.5 2.5l-.94 2.06-2.06.94zm10 10l.94 2.06.94-2.06 2.06-.94-2.06-.94-.94-2.06-.94 2.06-2.06.94z\"/><path d=\"M17.41 7.96l-1.37-1.37c-.4-.4-.92-.59-1.43-.59-.52 0-1.04.2-1.43.59L10.3 9.45l-7.72 7.72c-.78.78-.78 2.05 0 2.83L4 21.41c.39.39.9.59 1.41.59.51 0 1.02-.2 1.41-.59l7.78-7.78 2.81-2.81c.8-.78.8-2.07 0-2.86zM5.41 20L4 18.59l7.72-7.72 1.47 1.35L5.41 20z\"/>\n",
              "  </svg>\n",
              "      </button>\n",
              "      \n",
              "  <style>\n",
              "    .colab-df-container {\n",
              "      display:flex;\n",
              "      flex-wrap:wrap;\n",
              "      gap: 12px;\n",
              "    }\n",
              "\n",
              "    .colab-df-convert {\n",
              "      background-color: #E8F0FE;\n",
              "      border: none;\n",
              "      border-radius: 50%;\n",
              "      cursor: pointer;\n",
              "      display: none;\n",
              "      fill: #1967D2;\n",
              "      height: 32px;\n",
              "      padding: 0 0 0 0;\n",
              "      width: 32px;\n",
              "    }\n",
              "\n",
              "    .colab-df-convert:hover {\n",
              "      background-color: #E2EBFA;\n",
              "      box-shadow: 0px 1px 2px rgba(60, 64, 67, 0.3), 0px 1px 3px 1px rgba(60, 64, 67, 0.15);\n",
              "      fill: #174EA6;\n",
              "    }\n",
              "\n",
              "    [theme=dark] .colab-df-convert {\n",
              "      background-color: #3B4455;\n",
              "      fill: #D2E3FC;\n",
              "    }\n",
              "\n",
              "    [theme=dark] .colab-df-convert:hover {\n",
              "      background-color: #434B5C;\n",
              "      box-shadow: 0px 1px 3px 1px rgba(0, 0, 0, 0.15);\n",
              "      filter: drop-shadow(0px 1px 2px rgba(0, 0, 0, 0.3));\n",
              "      fill: #FFFFFF;\n",
              "    }\n",
              "  </style>\n",
              "\n",
              "      <script>\n",
              "        const buttonEl =\n",
              "          document.querySelector('#df-05660b65-3773-4212-bdbc-9fae0565d088 button.colab-df-convert');\n",
              "        buttonEl.style.display =\n",
              "          google.colab.kernel.accessAllowed ? 'block' : 'none';\n",
              "\n",
              "        async function convertToInteractive(key) {\n",
              "          const element = document.querySelector('#df-05660b65-3773-4212-bdbc-9fae0565d088');\n",
              "          const dataTable =\n",
              "            await google.colab.kernel.invokeFunction('convertToInteractive',\n",
              "                                                     [key], {});\n",
              "          if (!dataTable) return;\n",
              "\n",
              "          const docLinkHtml = 'Like what you see? Visit the ' +\n",
              "            '<a target=\"_blank\" href=https://colab.research.google.com/notebooks/data_table.ipynb>data table notebook</a>'\n",
              "            + ' to learn more about interactive tables.';\n",
              "          element.innerHTML = '';\n",
              "          dataTable['output_type'] = 'display_data';\n",
              "          await google.colab.output.renderOutput(dataTable, element);\n",
              "          const docLink = document.createElement('div');\n",
              "          docLink.innerHTML = docLinkHtml;\n",
              "          element.appendChild(docLink);\n",
              "        }\n",
              "      </script>\n",
              "    </div>\n",
              "  </div>\n",
              "  "
            ]
          },
          "metadata": {},
          "execution_count": 64
        }
      ]
    },
    {
      "cell_type": "code",
      "metadata": {
        "colab": {
          "base_uri": "https://localhost:8080/",
          "height": 299
        },
        "id": "ZvrxEL0gH-4g",
        "outputId": "85fe5423-da18-44b8-ad19-89a1b397b603"
      },
      "source": [
        "df.plot(kind='scatter', x='x3', y='y1')"
      ],
      "execution_count": 65,
      "outputs": [
        {
          "output_type": "execute_result",
          "data": {
            "text/plain": [
              "<matplotlib.axes._subplots.AxesSubplot at 0x7f106055ae10>"
            ]
          },
          "metadata": {},
          "execution_count": 65
        },
        {
          "output_type": "display_data",
          "data": {
            "text/plain": [
              "<Figure size 432x288 with 1 Axes>"
            ],
            "image/png": "[encoded data removed]"
          },
          "metadata": {}
        }
      ]
    },
    {
      "cell_type": "code",
      "metadata": {
        "colab": {
          "base_uri": "https://localhost:8080/",
          "height": 299
        },
        "id": "qsD-yhA7IJ4S",
        "outputId": "3d92188f-f7f7-4665-9024-0111f37006f1"
      },
      "source": [
        "df.plot(kind='scatter', x='x1', y='y2')"
      ],
      "execution_count": 66,
      "outputs": [
        {
          "output_type": "execute_result",
          "data": {
            "text/plain": [
              "<matplotlib.axes._subplots.AxesSubplot at 0x7f1060623d50>"
            ]
          },
          "metadata": {},
          "execution_count": 66
        },
        {
          "output_type": "display_data",
          "data": {
            "text/plain": [
              "<Figure size 432x288 with 1 Axes>"
            ],
            "image/png": "[encoded data removed]"
          },
          "metadata": {}
        }
      ]
    },
    {
      "cell_type": "code",
      "metadata": {
        "colab": {
          "base_uri": "https://localhost:8080/",
          "height": 299
        },
        "id": "W4jxzYyeILyc",
        "outputId": "3d4f8f42-c4f3-4f9b-f39a-668f16c1028c"
      },
      "source": [
        "df.plot(kind='scatter', x='x2', y='y2')"
      ],
      "execution_count": 67,
      "outputs": [
        {
          "output_type": "execute_result",
          "data": {
            "text/plain": [
              "<matplotlib.axes._subplots.AxesSubplot at 0x7f106068b410>"
            ]
          },
          "metadata": {},
          "execution_count": 67
        },
        {
          "output_type": "display_data",
          "data": {
            "text/plain": [
              "<Figure size 432x288 with 1 Axes>"
            ],
            "image/png": "[encoded data removed]"
          },
          "metadata": {}
        }
      ]
    },
    {
      "cell_type": "code",
      "metadata": {
        "colab": {
          "base_uri": "https://localhost:8080/",
          "height": 112
        },
        "id": "iXbIA48FIRKd",
        "outputId": "061e12cb-282e-4bd6-9453-7c736d7b0f66"
      },
      "source": [
        "# Коэффициент корреляции Пирсона (r-Пирсона) применяется для исследования взаимосвязи двух переменных, измеренных в метрических шкалах на одной и той же выборке. \n",
        "# Он позволяет определить, насколько пропорциональная изменчивость двух переменных.\n",
        "df[['x2', 'y2']].corr()"
      ],
      "execution_count": 68,
      "outputs": [
        {
          "output_type": "execute_result",
          "data": {
            "text/plain": [
              "          x2        y2\n",
              "x2  1.000000  0.994319\n",
              "y2  0.994319  1.000000"
            ],
            "text/html": [
              "\n",
              "  <div id=\"df-41bac015-78d8-4358-8444-6049585a27e3\">\n",
              "    <div class=\"colab-df-container\">\n",
              "      <div>\n",
              "<style scoped>\n",
              "    .dataframe tbody tr th:only-of-type {\n",
              "        vertical-align: middle;\n",
              "    }\n",
              "\n",
              "    .dataframe tbody tr th {\n",
              "        vertical-align: top;\n",
              "    }\n",
              "\n",
              "    .dataframe thead th {\n",
              "        text-align: right;\n",
              "    }\n",
              "</style>\n",
              "<table border=\"1\" class=\"dataframe\">\n",
              "  <thead>\n",
              "    <tr style=\"text-align: right;\">\n",
              "      <th></th>\n",
              "      <th>x2</th>\n",
              "      <th>y2</th>\n",
              "    </tr>\n",
              "  </thead>\n",
              "  <tbody>\n",
              "    <tr>\n",
              "      <th>x2</th>\n",
              "      <td>1.000000</td>\n",
              "      <td>0.994319</td>\n",
              "    </tr>\n",
              "    <tr>\n",
              "      <th>y2</th>\n",
              "      <td>0.994319</td>\n",
              "      <td>1.000000</td>\n",
              "    </tr>\n",
              "  </tbody>\n",
              "</table>\n",
              "</div>\n",
              "      <button class=\"colab-df-convert\" onclick=\"convertToInteractive('df-41bac015-78d8-4358-8444-6049585a27e3')\"\n",
              "              title=\"Convert this dataframe to an interactive table.\"\n",
              "              style=\"display:none;\">\n",
              "        \n",
              "  <svg xmlns=\"http://www.w3.org/2000/svg\" height=\"24px\"viewBox=\"0 0 24 24\"\n",
              "       width=\"24px\">\n",
              "    <path d=\"M0 0h24v24H0V0z\" fill=\"none\"/>\n",
              "    <path d=\"M18.56 5.44l.94 2.06.94-2.06 2.06-.94-2.06-.94-.94-2.06-.94 2.06-2.06.94zm-11 1L8.5 8.5l.94-2.06 2.06-.94-2.06-.94L8.5 2.5l-.94 2.06-2.06.94zm10 10l.94 2.06.94-2.06 2.06-.94-2.06-.94-.94-2.06-.94 2.06-2.06.94z\"/><path d=\"M17.41 7.96l-1.37-1.37c-.4-.4-.92-.59-1.43-.59-.52 0-1.04.2-1.43.59L10.3 9.45l-7.72 7.72c-.78.78-.78 2.05 0 2.83L4 21.41c.39.39.9.59 1.41.59.51 0 1.02-.2 1.41-.59l7.78-7.78 2.81-2.81c.8-.78.8-2.07 0-2.86zM5.41 20L4 18.59l7.72-7.72 1.47 1.35L5.41 20z\"/>\n",
              "  </svg>\n",
              "      </button>\n",
              "      \n",
              "  <style>\n",
              "    .colab-df-container {\n",
              "      display:flex;\n",
              "      flex-wrap:wrap;\n",
              "      gap: 12px;\n",
              "    }\n",
              "\n",
              "    .colab-df-convert {\n",
              "      background-color: #E8F0FE;\n",
              "      border: none;\n",
              "      border-radius: 50%;\n",
              "      cursor: pointer;\n",
              "      display: none;\n",
              "      fill: #1967D2;\n",
              "      height: 32px;\n",
              "      padding: 0 0 0 0;\n",
              "      width: 32px;\n",
              "    }\n",
              "\n",
              "    .colab-df-convert:hover {\n",
              "      background-color: #E2EBFA;\n",
              "      box-shadow: 0px 1px 2px rgba(60, 64, 67, 0.3), 0px 1px 3px 1px rgba(60, 64, 67, 0.15);\n",
              "      fill: #174EA6;\n",
              "    }\n",
              "\n",
              "    [theme=dark] .colab-df-convert {\n",
              "      background-color: #3B4455;\n",
              "      fill: #D2E3FC;\n",
              "    }\n",
              "\n",
              "    [theme=dark] .colab-df-convert:hover {\n",
              "      background-color: #434B5C;\n",
              "      box-shadow: 0px 1px 3px 1px rgba(0, 0, 0, 0.15);\n",
              "      filter: drop-shadow(0px 1px 2px rgba(0, 0, 0, 0.3));\n",
              "      fill: #FFFFFF;\n",
              "    }\n",
              "  </style>\n",
              "\n",
              "      <script>\n",
              "        const buttonEl =\n",
              "          document.querySelector('#df-41bac015-78d8-4358-8444-6049585a27e3 button.colab-df-convert');\n",
              "        buttonEl.style.display =\n",
              "          google.colab.kernel.accessAllowed ? 'block' : 'none';\n",
              "\n",
              "        async function convertToInteractive(key) {\n",
              "          const element = document.querySelector('#df-41bac015-78d8-4358-8444-6049585a27e3');\n",
              "          const dataTable =\n",
              "            await google.colab.kernel.invokeFunction('convertToInteractive',\n",
              "                                                     [key], {});\n",
              "          if (!dataTable) return;\n",
              "\n",
              "          const docLinkHtml = 'Like what you see? Visit the ' +\n",
              "            '<a target=\"_blank\" href=https://colab.research.google.com/notebooks/data_table.ipynb>data table notebook</a>'\n",
              "            + ' to learn more about interactive tables.';\n",
              "          element.innerHTML = '';\n",
              "          dataTable['output_type'] = 'display_data';\n",
              "          await google.colab.output.renderOutput(dataTable, element);\n",
              "          const docLink = document.createElement('div');\n",
              "          docLink.innerHTML = docLinkHtml;\n",
              "          element.appendChild(docLink);\n",
              "        }\n",
              "      </script>\n",
              "    </div>\n",
              "  </div>\n",
              "  "
            ]
          },
          "metadata": {},
          "execution_count": 68
        }
      ]
    },
    {
      "cell_type": "markdown",
      "metadata": {
        "id": "cc5tjBkSIcUk"
      },
      "source": [
        "### Коэффициент ранговой корреляции Спирмена"
      ]
    },
    {
      "cell_type": "code",
      "metadata": {
        "colab": {
          "base_uri": "https://localhost:8080/",
          "height": 112
        },
        "id": "5Z--zIUcIdik",
        "outputId": "fc8a0a8c-fbaa-431a-958f-7539cf81b04a"
      },
      "source": [
        "# Непараметрический метод, который используется с целью статистического изучения связи между явлениями. \n",
        "# В этом случае определяется фактическая степень параллелизма между двумя количественными рядами изучаемых признаков и дается оценка тесноты установленной связи с помощью количественно выраженного коэффициента.\n",
        "df[['x2', 'y2']].corr(method='spearman')"
      ],
      "execution_count": 69,
      "outputs": [
        {
          "output_type": "execute_result",
          "data": {
            "text/plain": [
              "          x2        y2\n",
              "x2  1.000000  0.974679\n",
              "y2  0.974679  1.000000"
            ],
            "text/html": [
              "\n",
              "  <div id=\"df-73f80254-7f45-4934-bb50-2fe83fd9d7dd\">\n",
              "    <div class=\"colab-df-container\">\n",
              "      <div>\n",
              "<style scoped>\n",
              "    .dataframe tbody tr th:only-of-type {\n",
              "        vertical-align: middle;\n",
              "    }\n",
              "\n",
              "    .dataframe tbody tr th {\n",
              "        vertical-align: top;\n",
              "    }\n",
              "\n",
              "    .dataframe thead th {\n",
              "        text-align: right;\n",
              "    }\n",
              "</style>\n",
              "<table border=\"1\" class=\"dataframe\">\n",
              "  <thead>\n",
              "    <tr style=\"text-align: right;\">\n",
              "      <th></th>\n",
              "      <th>x2</th>\n",
              "      <th>y2</th>\n",
              "    </tr>\n",
              "  </thead>\n",
              "  <tbody>\n",
              "    <tr>\n",
              "      <th>x2</th>\n",
              "      <td>1.000000</td>\n",
              "      <td>0.974679</td>\n",
              "    </tr>\n",
              "    <tr>\n",
              "      <th>y2</th>\n",
              "      <td>0.974679</td>\n",
              "      <td>1.000000</td>\n",
              "    </tr>\n",
              "  </tbody>\n",
              "</table>\n",
              "</div>\n",
              "      <button class=\"colab-df-convert\" onclick=\"convertToInteractive('df-73f80254-7f45-4934-bb50-2fe83fd9d7dd')\"\n",
              "              title=\"Convert this dataframe to an interactive table.\"\n",
              "              style=\"display:none;\">\n",
              "        \n",
              "  <svg xmlns=\"http://www.w3.org/2000/svg\" height=\"24px\"viewBox=\"0 0 24 24\"\n",
              "       width=\"24px\">\n",
              "    <path d=\"M0 0h24v24H0V0z\" fill=\"none\"/>\n",
              "    <path d=\"M18.56 5.44l.94 2.06.94-2.06 2.06-.94-2.06-.94-.94-2.06-.94 2.06-2.06.94zm-11 1L8.5 8.5l.94-2.06 2.06-.94-2.06-.94L8.5 2.5l-.94 2.06-2.06.94zm10 10l.94 2.06.94-2.06 2.06-.94-2.06-.94-.94-2.06-.94 2.06-2.06.94z\"/><path d=\"M17.41 7.96l-1.37-1.37c-.4-.4-.92-.59-1.43-.59-.52 0-1.04.2-1.43.59L10.3 9.45l-7.72 7.72c-.78.78-.78 2.05 0 2.83L4 21.41c.39.39.9.59 1.41.59.51 0 1.02-.2 1.41-.59l7.78-7.78 2.81-2.81c.8-.78.8-2.07 0-2.86zM5.41 20L4 18.59l7.72-7.72 1.47 1.35L5.41 20z\"/>\n",
              "  </svg>\n",
              "      </button>\n",
              "      \n",
              "  <style>\n",
              "    .colab-df-container {\n",
              "      display:flex;\n",
              "      flex-wrap:wrap;\n",
              "      gap: 12px;\n",
              "    }\n",
              "\n",
              "    .colab-df-convert {\n",
              "      background-color: #E8F0FE;\n",
              "      border: none;\n",
              "      border-radius: 50%;\n",
              "      cursor: pointer;\n",
              "      display: none;\n",
              "      fill: #1967D2;\n",
              "      height: 32px;\n",
              "      padding: 0 0 0 0;\n",
              "      width: 32px;\n",
              "    }\n",
              "\n",
              "    .colab-df-convert:hover {\n",
              "      background-color: #E2EBFA;\n",
              "      box-shadow: 0px 1px 2px rgba(60, 64, 67, 0.3), 0px 1px 3px 1px rgba(60, 64, 67, 0.15);\n",
              "      fill: #174EA6;\n",
              "    }\n",
              "\n",
              "    [theme=dark] .colab-df-convert {\n",
              "      background-color: #3B4455;\n",
              "      fill: #D2E3FC;\n",
              "    }\n",
              "\n",
              "    [theme=dark] .colab-df-convert:hover {\n",
              "      background-color: #434B5C;\n",
              "      box-shadow: 0px 1px 3px 1px rgba(0, 0, 0, 0.15);\n",
              "      filter: drop-shadow(0px 1px 2px rgba(0, 0, 0, 0.3));\n",
              "      fill: #FFFFFF;\n",
              "    }\n",
              "  </style>\n",
              "\n",
              "      <script>\n",
              "        const buttonEl =\n",
              "          document.querySelector('#df-73f80254-7f45-4934-bb50-2fe83fd9d7dd button.colab-df-convert');\n",
              "        buttonEl.style.display =\n",
              "          google.colab.kernel.accessAllowed ? 'block' : 'none';\n",
              "\n",
              "        async function convertToInteractive(key) {\n",
              "          const element = document.querySelector('#df-73f80254-7f45-4934-bb50-2fe83fd9d7dd');\n",
              "          const dataTable =\n",
              "            await google.colab.kernel.invokeFunction('convertToInteractive',\n",
              "                                                     [key], {});\n",
              "          if (!dataTable) return;\n",
              "\n",
              "          const docLinkHtml = 'Like what you see? Visit the ' +\n",
              "            '<a target=\"_blank\" href=https://colab.research.google.com/notebooks/data_table.ipynb>data table notebook</a>'\n",
              "            + ' to learn more about interactive tables.';\n",
              "          element.innerHTML = '';\n",
              "          dataTable['output_type'] = 'display_data';\n",
              "          await google.colab.output.renderOutput(dataTable, element);\n",
              "          const docLink = document.createElement('div');\n",
              "          docLink.innerHTML = docLinkHtml;\n",
              "          element.appendChild(docLink);\n",
              "        }\n",
              "      </script>\n",
              "    </div>\n",
              "  </div>\n",
              "  "
            ]
          },
          "metadata": {},
          "execution_count": 69
        }
      ]
    },
    {
      "cell_type": "markdown",
      "metadata": {
        "id": "uz_pBHiB1Ltw"
      },
      "source": [
        "#Дисперсионный анализ"
      ]
    },
    {
      "cell_type": "markdown",
      "metadata": {
        "id": "XXuotNZKD2Lj"
      },
      "source": [
        "### ANOVA"
      ]
    },
    {
      "cell_type": "code",
      "metadata": {
        "id": "HKoR0Yig1Ltw"
      },
      "source": [
        "H = [1, 2, 3, 4, 2, 4, 2, 4, 5, 2, 3, 4, 2, 1, 3, 4, 3, 2, 5, 1]\n",
        "I= [1, 2, 4, 6, 5, 6, 7, 5, 4, 5, 6, 7, 4, 3, 5, 5, 6, 5, 4, 3, 5]\n",
        "J = [2, 1, 1, 3, 2, 4, 2, 4, 5, 4, 3, 2, 3, 2, 3, 1, 3, 4, 5, 1, 4]"
      ],
      "execution_count": 70,
      "outputs": []
    },
    {
      "cell_type": "code",
      "metadata": {
        "colab": {
          "base_uri": "https://localhost:8080/"
        },
        "id": "X6KTnhAG1Ltx",
        "outputId": "1d708c88-e506-497c-aef3-62b1589d90a7"
      },
      "source": [
        "# H0 - различий нет\n",
        "# H1 - различия есть\n",
        "F, p = f_oneway(H, I, J)\n",
        "print('F=%.3f, p=%.5f' % (F, p))\n",
        "alpha = 0.05\n",
        "if p > alpha:\n",
        "    print('Различий в эффекте нет')\n",
        "else:\n",
        "    print('Различия в эффекте есть')"
      ],
      "execution_count": 71,
      "outputs": [
        {
          "output_type": "stream",
          "name": "stdout",
          "text": [
            "F=12.526, p=0.00003\n",
            "Различия в эффекте есть\n"
          ]
        }
      ]
    },
    {
      "cell_type": "code",
      "metadata": {
        "colab": {
          "base_uri": "https://localhost:8080/",
          "height": 337
        },
        "id": "qd4iMuT91Ltx",
        "outputId": "230941f9-56fe-4fa6-ebc3-3f7a13938616"
      },
      "source": [
        "plt.figure(figsize=(7, 5))\n",
        "sns.histplot(H, kde=True, color='green')\n",
        "sns.histplot(I, kde=True, color='yellow')\n",
        "sns.histplot(J, kde=True, color='red')\n",
        "plt.title('Сравнение H, I и J')\n",
        "plt.legend(['H', 'I', 'J'])\n",
        "plt.grid()"
      ],
      "execution_count": 72,
      "outputs": [
        {
          "output_type": "display_data",
          "data": {
            "text/plain": [
              "<Figure size 504x360 with 1 Axes>"
            ],
            "image/png": "[encoded data removed]"
          },
          "metadata": {}
        }
      ]
    },
    {
      "cell_type": "markdown",
      "metadata": {
        "id": "QIaIR--ZNW5y"
      },
      "source": [
        "# Пропорции"
      ]
    },
    {
      "cell_type": "markdown",
      "metadata": {
        "id": "nnPY3-AHRw7R"
      },
      "source": [
        "### Тест разности двух независимых долей. Вариант 1"
      ]
    },
    {
      "cell_type": "code",
      "metadata": {
        "id": "dQ8ImwBPRweU"
      },
      "source": [
        "# Реклама \"А\" получает 3722 откликов на 3830 просмотров, реклама \"В\" 3872 на 3968\n",
        "clicks = [3722, 3872] #отклики в каждой группе\n",
        "views  = [3830, 3968] #просмотры в каждой группе"
      ],
      "execution_count": 73,
      "outputs": []
    },
    {
      "cell_type": "code",
      "metadata": {
        "id": "6gDIBy51R3NJ"
      },
      "source": [
        "# Расчет конверсии\n",
        "p1 = clicks[0]/views[0]\n",
        "p2 = clicks[1]/views[1]"
      ],
      "execution_count": 74,
      "outputs": []
    },
    {
      "cell_type": "code",
      "metadata": {
        "id": "5mV_ueZLR5qJ"
      },
      "source": [
        "def confidence_interval(conversion:float, trials:int) -> List[float]:\n",
        "  '''Функция для нахождения доверительного интервала'''\n",
        "  sigma = math.sqrt(conversion *(1-conversion )/ trials)\n",
        "  mu = conversion\n",
        "  probability = 0.95\n",
        "  interval = stats.norm.interval(probability, loc=mu, scale=sigma)\n",
        "  interval_round = [round(_*100, 1) for _ in interval]\n",
        "  return interval_round"
      ],
      "execution_count": 75,
      "outputs": []
    },
    {
      "cell_type": "code",
      "metadata": {
        "id": "QXsNUMP6SNk0"
      },
      "source": [
        "# Расчет z метрики. Вариант 1\n",
        "p_combined = (clicks[0] + clicks[1]) / (views[0] + views[1])\n",
        "difference = p1 - p2\n",
        "z_scores = difference /math.sqrt(p_combined * (1 - p_combined) * (1/views[0] + 1/views[1]))"
      ],
      "execution_count": 76,
      "outputs": []
    },
    {
      "cell_type": "code",
      "metadata": {
        "colab": {
          "base_uri": "https://localhost:8080/"
        },
        "id": "t0YvaCXG-jEv",
        "outputId": "5cb6fcee-fdee-45bc-e0b4-bb46f03fde6a"
      },
      "source": [
        "print(f\"Значение z равно {z_scores}\")"
      ],
      "execution_count": 77,
      "outputs": [
        {
          "output_type": "stream",
          "name": "stdout",
          "text": [
            "Значение z равно -1.1076855939322139\n"
          ]
        }
      ]
    },
    {
      "cell_type": "code",
      "metadata": {
        "id": "MSUx1LBEg-_l"
      },
      "source": [
        "# Расчет z метрики. Вариант 2\n",
        "def proportions_diff_z_stat_ind(clicks1, views1, clicks2, views2, alpha = 0.05):\n",
        "  p1 = clicks1/views1\n",
        "  p2 = clicks2/views2\n",
        "  p = float(p1*views1 + p2*views2) / (views1 + views2)\n",
        "  return (p1 - p2) / np.sqrt(p * (1 - p) * (1 / views1 + 1 / views2))"
      ],
      "execution_count": 78,
      "outputs": []
    },
    {
      "cell_type": "code",
      "metadata": {
        "colab": {
          "base_uri": "https://localhost:8080/"
        },
        "id": "do08DshxkXoV",
        "outputId": "75fdc5f0-df71-4459-8713-9d52fae5593f"
      },
      "source": [
        "print(f\"Значение z равно {proportions_diff_z_stat_ind(clicks[0],views[0],clicks[1],views[1])}\")"
      ],
      "execution_count": 79,
      "outputs": [
        {
          "output_type": "stream",
          "name": "stdout",
          "text": [
            "Значение z равно -1.1076855939322139\n"
          ]
        }
      ]
    },
    {
      "cell_type": "code",
      "metadata": {
        "colab": {
          "base_uri": "https://localhost:8080/"
        },
        "id": "W8xhU1iASUsh",
        "outputId": "82e459de-5b87-4f3a-d13c-b95f7c6898e3"
      },
      "source": [
        "print(f\"Конверсия вариант А равна {round(p1*100,1)}% \\\n",
        "        Доверительный интервал {confidence_interval(p1, views[0])[0]}% - {confidence_interval(p1, views[0])[1]}%\")\n",
        "print(f\"Конверсия вариант В равна {round(p2*100,1)}% \\\n",
        "        Доверительный интервал {confidence_interval(p2, views[1])[0]}% - {confidence_interval(p2, views[1])[1]}%\")"
      ],
      "execution_count": 80,
      "outputs": [
        {
          "output_type": "stream",
          "name": "stdout",
          "text": [
            "Конверсия вариант А равна 97.2%         Доверительный интервал 96.7% - 97.7%\n",
            "Конверсия вариант В равна 97.6%         Доверительный интервал 97.1% - 98.1%\n"
          ]
        }
      ]
    },
    {
      "cell_type": "code",
      "metadata": {
        "colab": {
          "base_uri": "https://localhost:8080/"
        },
        "id": "zyWWVvIGSZ_R",
        "outputId": "f232bd9e-99f7-4b62-d2db-2ff29bdc26ad"
      },
      "source": [
        "# Рассчитываем p-value. Вариант 1\n",
        "p_value = (1 - scipy.stats.norm.cdf(abs(z_scores))) * 2\n",
        "print('p-значение: {:f}'.format(p_value))"
      ],
      "execution_count": 81,
      "outputs": [
        {
          "output_type": "stream",
          "name": "stdout",
          "text": [
            "p-значение: 0.267998\n"
          ]
        }
      ]
    },
    {
      "cell_type": "code",
      "metadata": {
        "id": "49SaF9S0-8Ti"
      },
      "source": [
        "# Рассчитываем p-value. Вариант 2\n",
        "def p_value_val(z_stat, alternative = 'two-sided'):\n",
        "    if alternative not in ('two-sided', 'less', 'greater'):\n",
        "        raise ValueError(\"alternative not recognized\\n\"\n",
        "                         \"should be 'two-sided', 'less' or 'greater'\")   \n",
        "    if alternative == 'two-sided':\n",
        "        return 2 * (1 - norm.cdf(np.abs(z_stat)))   \n",
        "    if alternative == 'less':\n",
        "        return norm.cdf(z_stat)\n",
        "    if alternative == 'greater':\n",
        "        return 1 - norm.cdf(z_stat)"
      ],
      "execution_count": 82,
      "outputs": []
    },
    {
      "cell_type": "code",
      "metadata": {
        "colab": {
          "base_uri": "https://localhost:8080/"
        },
        "id": "Gr6GdoXT_nLm",
        "outputId": "620525fb-e30e-4a6b-ab0d-84be636212a9"
      },
      "source": [
        "print('p-значение: {:f}'.format(p_value_val(z_scores)))"
      ],
      "execution_count": 83,
      "outputs": [
        {
          "output_type": "stream",
          "name": "stdout",
          "text": [
            "p-значение: 0.267998\n"
          ]
        }
      ]
    },
    {
      "cell_type": "code",
      "metadata": {
        "colab": {
          "base_uri": "https://localhost:8080/"
        },
        "id": "EVQSlIErSh6C",
        "outputId": "12224db0-e1b0-4b91-8350-5b2a657459d0"
      },
      "source": [
        "alpha = .05\n",
        "if (p_value < alpha):\n",
        "    print(\"Отвергаем нулевую гипотезу: между долями есть значимая разница\")\n",
        "else:\n",
        "    print(\"Не получилось отвергнуть нулевую гипотезу, нет оснований считать доли разными\")"
      ],
      "execution_count": 84,
      "outputs": [
        {
          "output_type": "stream",
          "name": "stdout",
          "text": [
            "Не получилось отвергнуть нулевую гипотезу, нет оснований считать доли разными\n"
          ]
        }
      ]
    },
    {
      "cell_type": "markdown",
      "metadata": {
        "id": "C2qym_0NG3SH"
      },
      "source": [
        "### Тест разности двух независимых долей. Вариант 2"
      ]
    },
    {
      "cell_type": "code",
      "metadata": {
        "colab": {
          "base_uri": "https://localhost:8080/"
        },
        "id": "HsmgXFoEG6En",
        "outputId": "8f99ef0e-0591-481c-b336-e0378ec3a974"
      },
      "source": [
        "count = clicks\n",
        "nobs = views\n",
        "stat, pval = proportions_ztest(count, nobs, alternative = 'two-sided')\n",
        "print (\"p-value: %f\" % pval)"
      ],
      "execution_count": 85,
      "outputs": [
        {
          "output_type": "stream",
          "name": "stdout",
          "text": [
            "p-value: 0.267998\n"
          ]
        }
      ]
    },
    {
      "cell_type": "markdown",
      "source": [
        "### Тест Хи-квадрат. Вариант 3"
      ],
      "metadata": {
        "id": "MSaAIt7_Bzwd"
      }
    },
    {
      "cell_type": "code",
      "source": [
        "chi2, p, table = proportion.proportions_chisquare(count = count, nobs = nobs)\n",
        "print (\"Хи-квадрат: %f\" % chi2)\n",
        "print (\"p-value: %f\" % p)"
      ],
      "metadata": {
        "colab": {
          "base_uri": "https://localhost:8080/"
        },
        "id": "YBmc6HKcByev",
        "outputId": "918dc9ad-0138-45e0-aaa9-4fadfe6f6ad9"
      },
      "execution_count": 86,
      "outputs": [
        {
          "output_type": "stream",
          "name": "stdout",
          "text": [
            "Хи-квадрат: 1.226967\n",
            "p-value: 0.267998\n"
          ]
        }
      ]
    },
    {
      "cell_type": "markdown",
      "metadata": {
        "id": "ge_-5FfW2zav"
      },
      "source": [
        "### Тест Фишера"
      ]
    },
    {
      "cell_type": "code",
      "metadata": {
        "colab": {
          "base_uri": "https://localhost:8080/"
        },
        "id": "ORuyzfgr21_P",
        "outputId": "5e3482da-cd2e-4124-df33-46069c55eabd"
      },
      "source": [
        "df3 = pd.DataFrame([[10,15],[39,34]], index=['Рост','Снижение'], columns=['Прогноз','Факт'])\n",
        "print(df3)"
      ],
      "execution_count": 87,
      "outputs": [
        {
          "output_type": "stream",
          "name": "stdout",
          "text": [
            "          Прогноз  Факт\n",
            "Рост           10    15\n",
            "Снижение       39    34\n"
          ]
        }
      ]
    },
    {
      "cell_type": "code",
      "metadata": {
        "colab": {
          "base_uri": "https://localhost:8080/"
        },
        "id": "21pPOImM23u3",
        "outputId": "0e41919f-6a97-49ef-d2c8-08fe884fe654"
      },
      "source": [
        "# H0 - эффект случайный\n",
        "# H1 - эффект не случайный\n",
        "oddsratio, pvalue = stats.stats.fisher_exact(df3)\n",
        "print(pvalue)"
      ],
      "execution_count": 88,
      "outputs": [
        {
          "output_type": "stream",
          "name": "stdout",
          "text": [
            "0.35417955365927367\n"
          ]
        }
      ]
    }
  ]
}
