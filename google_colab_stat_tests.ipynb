{
  "nbformat": 4,
  "nbformat_minor": 0,
  "metadata": {
    "kernelspec": {
      "display_name": "Python 3",
      "language": "python",
      "name": "python3"
    },
    "language_info": {
      "codemirror_mode": {
        "name": "ipython",
        "version": 3
      },
      "file_extension": ".py",
      "mimetype": "text/x-python",
      "name": "python",
      "nbconvert_exporter": "python",
      "pygments_lexer": "ipython3",
      "version": "3.8.5"
    },
    "colab": {
      "name": "google_colab_stat_tests.ipynb",
      "provenance": [],
      "collapsed_sections": []
    }
  },
  "cells": [
    {
      "cell_type": "code",
      "metadata": {
        "id": "omSWYlRO1LtY",
        "colab": {
          "base_uri": "https://localhost:8080/"
        },
        "outputId": "552294b2-9179-4265-ca46-6e6d87e61999"
      },
      "source": [
        "# Импорт библиотек\n",
        "import math\n",
        "import numpy as np\n",
        "import pandas as pd\n",
        "import scipy\n",
        "import scipy.stats as stats\n",
        "import matplotlib.pyplot as plt \n",
        "import seaborn as sns\n",
        "from scipy.stats import wilcoxon, mannwhitneyu,f_oneway\n",
        "from statsmodels.stats.weightstats import CompareMeans, DescrStatsW\n",
        "from scipy.stats import chi2_contingency\n",
        "from scipy.stats import norm\n",
        "import statsmodels.stats.api as sms\n",
        "from typing import List, Tuple, Dict, Set\n",
        "%matplotlib inline"
      ],
      "execution_count": 1,
      "outputs": [
        {
          "output_type": "stream",
          "text": [
            "/usr/local/lib/python3.7/dist-packages/statsmodels/tools/_testing.py:19: FutureWarning: pandas.util.testing is deprecated. Use the functions in the public API at pandas.testing instead.\n",
            "  import pandas.util.testing as tm\n"
          ],
          "name": "stderr"
        }
      ]
    },
    {
      "cell_type": "code",
      "metadata": {
        "id": "DCEC00LKTNdu"
      },
      "source": [
        "# A/B калькулятор https://www.evanmiller.org/ab-testing/chi-squared.html"
      ],
      "execution_count": 2,
      "outputs": []
    },
    {
      "cell_type": "code",
      "metadata": {
        "id": "Z32_aEYV0foE"
      },
      "source": [
        "# Создаем данные\n",
        "# x1 = np.random.normal(0, 1.5, 100)\n",
        "# y1 = np.random.normal(0, 1.5, 100)\n",
        "x1 = [64.2, 28.4, 85.3, 83.1, 13.4, 56.8, 44.2, 90, 86, 75]\n",
        "y1 = [45, 29.5, 32.3, 49.3, 18.3, 34.2, 43.9, 13.8, 27.4, 43.4]"
      ],
      "execution_count": 3,
      "outputs": []
    },
    {
      "cell_type": "markdown",
      "metadata": {
        "id": "5qvBJvFY09y2"
      },
      "source": [
        "# Тест, отличается ли среднее выборки от N"
      ]
    },
    {
      "cell_type": "code",
      "metadata": {
        "colab": {
          "base_uri": "https://localhost:8080/"
        },
        "id": "dbFutw3E1QBM",
        "outputId": "6855bb5d-a675-482c-c36e-f6f11216d46d"
      },
      "source": [
        "N=10\n",
        "stats.ttest_1samp(x1, N)"
      ],
      "execution_count": 4,
      "outputs": [
        {
          "output_type": "execute_result",
          "data": {
            "text/plain": [
              "Ttest_1sampResult(statistic=6.265559754169641, pvalue=0.00014688203506718392)"
            ]
          },
          "metadata": {
            "tags": []
          },
          "execution_count": 4
        }
      ]
    },
    {
      "cell_type": "markdown",
      "metadata": {
        "id": "bWwvdK8N1hcE"
      },
      "source": [
        "# Доверительный интервал для среднего"
      ]
    },
    {
      "cell_type": "code",
      "metadata": {
        "colab": {
          "base_uri": "https://localhost:8080/"
        },
        "id": "QiC3k0qm3hS8",
        "outputId": "984b1cfb-ce24-47bc-cf5b-f25d22017203"
      },
      "source": [
        "np.mean(x1)"
      ],
      "execution_count": 5,
      "outputs": [
        {
          "output_type": "execute_result",
          "data": {
            "text/plain": [
              "62.64"
            ]
          },
          "metadata": {
            "tags": []
          },
          "execution_count": 5
        }
      ]
    },
    {
      "cell_type": "code",
      "metadata": {
        "id": "cdiDAVkw3HcU"
      },
      "source": [
        "def mean_confidence_interval(data, confidence=0.95):\n",
        "    a = 1.0 * np.array(data)\n",
        "    n = len(a)\n",
        "    m, se = np.mean(a), scipy.stats.sem(a)\n",
        "    h = se * scipy.stats.t.ppf((1 + confidence) / 2., n-1)\n",
        "    return m, m-h, m+h"
      ],
      "execution_count": 6,
      "outputs": []
    },
    {
      "cell_type": "code",
      "metadata": {
        "colab": {
          "base_uri": "https://localhost:8080/"
        },
        "id": "KV7vdGQP3Q4S",
        "outputId": "30f5ddc9-c05d-42a8-93a2-b4d6663f0b43"
      },
      "source": [
        "mean_confidence_interval(x1)"
      ],
      "execution_count": 7,
      "outputs": [
        {
          "output_type": "execute_result",
          "data": {
            "text/plain": [
              "(62.64, 43.63452280102512, 81.64547719897487)"
            ]
          },
          "metadata": {
            "tags": []
          },
          "execution_count": 7
        }
      ]
    },
    {
      "cell_type": "code",
      "metadata": {
        "id": "fFXdw1KB3_Mz"
      },
      "source": [
        "def mean_confidence_interval_(data, confidence=0.95):\n",
        "    return stats.t.interval(confidence, len(data)-1, loc=np.mean(data), scale=stats.sem(data))"
      ],
      "execution_count": 8,
      "outputs": []
    },
    {
      "cell_type": "code",
      "metadata": {
        "colab": {
          "base_uri": "https://localhost:8080/"
        },
        "id": "89-V88Nr4FaC",
        "outputId": "4127fdd3-8cdd-4f0d-f57c-e3e32d3941a8"
      },
      "source": [
        "mean_confidence_interval_(x1)"
      ],
      "execution_count": 9,
      "outputs": [
        {
          "output_type": "execute_result",
          "data": {
            "text/plain": [
              "(43.63452280102512, 81.64547719897487)"
            ]
          },
          "metadata": {
            "tags": []
          },
          "execution_count": 9
        }
      ]
    },
    {
      "cell_type": "markdown",
      "metadata": {
        "id": "b6ei4pRX10ES"
      },
      "source": [
        "# t-тест двух независимых выборок"
      ]
    },
    {
      "cell_type": "markdown",
      "metadata": {
        "id": "aqK22Ckn15LH"
      },
      "source": [
        "### Проверка на нормальность данных"
      ]
    },
    {
      "cell_type": "code",
      "metadata": {
        "colab": {
          "base_uri": "https://localhost:8080/"
        },
        "id": "wGXkQSvS1w5f",
        "outputId": "2a50c994-7632-4284-f96a-aac0db54084d"
      },
      "source": [
        "# Тест Шапиро-Уилка\n",
        "stat, p = stats.shapiro(x1)\n",
        "print('Statistics=%.3f, p-value=%.3f' % (stat, p))\n",
        "alpha = 0.05\n",
        "if p > alpha:\n",
        "    print('Принять гипотезу о нормальности')\n",
        "else:\n",
        "    print('Отклонить гипотезу о нормальности')"
      ],
      "execution_count": 10,
      "outputs": [
        {
          "output_type": "stream",
          "text": [
            "Statistics=0.894, p-value=0.189\n",
            "Принять гипотезу о нормальности\n"
          ],
          "name": "stdout"
        }
      ]
    },
    {
      "cell_type": "markdown",
      "metadata": {
        "id": "2Aji_RI92Bl5"
      },
      "source": [
        "###  Проверка гипотезы"
      ]
    },
    {
      "cell_type": "code",
      "metadata": {
        "colab": {
          "base_uri": "https://localhost:8080/"
        },
        "id": "ScyyLu_Q1__X",
        "outputId": "9bb5de02-0ed6-4ce8-b962-e1386c6b708b"
      },
      "source": [
        "# H0 - между выборками нет статистически значимых различий\n",
        "# H1 - между выборками есть статистически значимые различия\n",
        "stats.ttest_ind(x1, y1)"
      ],
      "execution_count": 11,
      "outputs": [
        {
          "output_type": "execute_result",
          "data": {
            "text/plain": [
              "Ttest_indResult(statistic=3.145198441422933, pvalue=0.005596956346997708)"
            ]
          },
          "metadata": {
            "tags": []
          },
          "execution_count": 11
        }
      ]
    },
    {
      "cell_type": "code",
      "metadata": {
        "colab": {
          "base_uri": "https://localhost:8080/",
          "height": 336
        },
        "id": "xQxRm0Lb2GuH",
        "outputId": "3b06d501-c10f-4bdb-d3b9-705e4a9f5769"
      },
      "source": [
        "plt.figure(figsize=(7, 5))\n",
        "df1 = pd.DataFrame({'x1':x1,'y2':y1})\n",
        "sns.histplot(data=df1, kde=True)\n",
        "plt.title('Сравнение двух независимых выборок')\n",
        "plt.legend(['x1', 'y1'])\n",
        "plt.grid()"
      ],
      "execution_count": 12,
      "outputs": [
        {
          "output_type": "display_data",
          "data": {
            "image/png": "[encoded data removed]",
            "text/plain": [
              "<Figure size 504x360 with 1 Axes>"
            ]
          },
          "metadata": {
            "tags": [],
            "needs_background": "light"
          }
        }
      ]
    },
    {
      "cell_type": "markdown",
      "metadata": {
        "id": "7-0FJYHr8oOL"
      },
      "source": [
        "### Доверительный интервал разности средних для двух независимых выборок"
      ]
    },
    {
      "cell_type": "code",
      "metadata": {
        "id": "qpmwGN7P8yO_"
      },
      "source": [
        "def mean_diff_confint_ind(sample1,sample2):\n",
        "    cm = CompareMeans(DescrStatsW(sample1), DescrStatsW(sample2))\n",
        "    return cm.tconfint_diff(usevar='unequal')"
      ],
      "execution_count": 13,
      "outputs": []
    },
    {
      "cell_type": "code",
      "metadata": {
        "colab": {
          "base_uri": "https://localhost:8080/"
        },
        "id": "_X2nzFOw84nb",
        "outputId": "ea2949d9-470b-4431-bdd4-8d41001889b4"
      },
      "source": [
        "# Построим 95% доверительный интервал для разности средних. Данный интервал не содержит ноль - значит разницу можно признать отличной от нуля.\n",
        "mean_diff_confint_ind(x1,y1)"
      ],
      "execution_count": 14,
      "outputs": [
        {
          "output_type": "execute_result",
          "data": {
            "text/plain": [
              "(8.967258335059267, 48.89274166494074)"
            ]
          },
          "metadata": {
            "tags": []
          },
          "execution_count": 14
        }
      ]
    },
    {
      "cell_type": "markdown",
      "metadata": {
        "id": "aET_Gj_42L6v"
      },
      "source": [
        "# t-тест двух зависимых выборок"
      ]
    },
    {
      "cell_type": "code",
      "metadata": {
        "id": "WipbmZqv2M4f"
      },
      "source": [
        "# Создаем данные\n",
        "x2 = np.random.normal(0, 1.5, 100)\n",
        "y2 = np.random.normal(1, 1.5, 100)"
      ],
      "execution_count": 15,
      "outputs": []
    },
    {
      "cell_type": "markdown",
      "metadata": {
        "id": "IyT1DZ0x2Rcx"
      },
      "source": [
        "### Проверка на нормальность данных"
      ]
    },
    {
      "cell_type": "code",
      "metadata": {
        "colab": {
          "base_uri": "https://localhost:8080/"
        },
        "id": "sWacPj5x2PEW",
        "outputId": "e1f86146-6394-4ac0-d80c-c9d7259b4dda"
      },
      "source": [
        "# Критерий Пирсона\n",
        "stat, p = stats.normaltest(x2)\n",
        "print('Statistics=%.3f, p-value=%.3f' % (stat, p))\n",
        "alpha = 0.05\n",
        "if p > alpha:\n",
        "    print('Принять гипотезу о нормальности')\n",
        "else:\n",
        "    print('Отклонить гипотезу о нормальности')"
      ],
      "execution_count": 16,
      "outputs": [
        {
          "output_type": "stream",
          "text": [
            "Statistics=3.706, p-value=0.157\n",
            "Принять гипотезу о нормальности\n"
          ],
          "name": "stdout"
        }
      ]
    },
    {
      "cell_type": "markdown",
      "metadata": {
        "id": "7JWVjbQo2WZO"
      },
      "source": [
        "### Проверка гипотезы"
      ]
    },
    {
      "cell_type": "code",
      "metadata": {
        "colab": {
          "base_uri": "https://localhost:8080/"
        },
        "id": "5nEDpr642X6g",
        "outputId": "4767df22-fae1-4645-b1e2-75fa719dd772"
      },
      "source": [
        "# H0 - между выборками нет статистически значимых различий\n",
        "# H1 - между выборками есть статистически значимые различия\n",
        "stats.ttest_rel(x2, y2)"
      ],
      "execution_count": 17,
      "outputs": [
        {
          "output_type": "execute_result",
          "data": {
            "text/plain": [
              "Ttest_relResult(statistic=-4.760976988370981, pvalue=6.587284794125499e-06)"
            ]
          },
          "metadata": {
            "tags": []
          },
          "execution_count": 17
        }
      ]
    },
    {
      "cell_type": "code",
      "metadata": {
        "colab": {
          "base_uri": "https://localhost:8080/",
          "height": 336
        },
        "id": "03j5k4NT2Z23",
        "outputId": "2e9e0653-2546-4a26-e2a4-86191d9a7718"
      },
      "source": [
        "plt.figure(figsize=(7, 5))\n",
        "df2 = pd.DataFrame({'x2':x2,'y2':y2})\n",
        "sns.histplot(data=df2, kde=True)\n",
        "plt.title('Сравнение двух зависимых выборок')\n",
        "plt.legend(['x2', 'y2'])\n",
        "plt.grid()"
      ],
      "execution_count": 18,
      "outputs": [
        {
          "output_type": "display_data",
          "data": {
            "image/png": "[encoded data removed]",
            "text/plain": [
              "<Figure size 504x360 with 1 Axes>"
            ]
          },
          "metadata": {
            "tags": [],
            "needs_background": "light"
          }
        }
      ]
    },
    {
      "cell_type": "markdown",
      "metadata": {
        "id": "qNTjPyPBEDbq"
      },
      "source": [
        "# Непараметрические критерии"
      ]
    },
    {
      "cell_type": "markdown",
      "metadata": {
        "id": "pOg0iBT71Ltj"
      },
      "source": [
        "### U-критерий Манна — Уитни"
      ]
    },
    {
      "cell_type": "code",
      "metadata": {
        "id": "d140G7k11Ltl"
      },
      "source": [
        "#  Статистический критерий, используемый для оценки различий между двумя независимыми выборками по уровню какого-либо признака, \n",
        "# измеренного количественно. Позволяет выявлять различия в значении параметра между малыми выборками."
      ],
      "execution_count": 19,
      "outputs": []
    },
    {
      "cell_type": "code",
      "metadata": {
        "id": "BEF66WIx1Ltm"
      },
      "source": [
        "np.random.seed(11)\n",
        "A = stats.norm.rvs(scale=30,loc=11,size=100)\n",
        "B = A + stats.norm.rvs(scale=54,loc=11,size=100)"
      ],
      "execution_count": 20,
      "outputs": []
    },
    {
      "cell_type": "code",
      "metadata": {
        "colab": {
          "base_uri": "https://localhost:8080/"
        },
        "id": "NSREGx1S1Ltn",
        "outputId": "1b8c77ad-f2d4-4849-e9ef-a12a538320d8"
      },
      "source": [
        "# H0 - различий нет\n",
        "# H1 - различия есть\n",
        "stat, p = mannwhitneyu(A, B)\n",
        "print('Statistics=%.3f, p=%.3f' % (stat, p))\n",
        "alpha = 0.05\n",
        "if p > alpha:\n",
        "    print('Различий в эффекте нет')\n",
        "else:\n",
        "    print('Различия в эффекте есть')"
      ],
      "execution_count": 21,
      "outputs": [
        {
          "output_type": "stream",
          "text": [
            "Statistics=4343.000, p=0.054\n",
            "Различий в эффекте нет\n"
          ],
          "name": "stdout"
        }
      ]
    },
    {
      "cell_type": "code",
      "metadata": {
        "colab": {
          "base_uri": "https://localhost:8080/",
          "height": 336
        },
        "id": "lmmGoJo61Lto",
        "outputId": "37f85903-1025-49d1-a0fd-8034344bfd62"
      },
      "source": [
        "plt.figure(figsize=(7, 5))\n",
        "df = pd.DataFrame({'A':A, 'B':B})\n",
        "sns.histplot(data=df, kde=True, bins=50)\n",
        "plt.title('Сравнение A и B')\n",
        "plt.legend(['A', 'B'])\n",
        "plt.grid()"
      ],
      "execution_count": 22,
      "outputs": [
        {
          "output_type": "display_data",
          "data": {
            "image/png": "[encoded data removed]",
            "text/plain": [
              "<Figure size 504x360 with 1 Axes>"
            ]
          },
          "metadata": {
            "tags": [],
            "needs_background": "light"
          }
        }
      ]
    },
    {
      "cell_type": "markdown",
      "metadata": {
        "id": "xGaGphr41Ltp"
      },
      "source": [
        "### Т-критерий Вилкоксона"
      ]
    },
    {
      "cell_type": "code",
      "metadata": {
        "id": "oA0qv2Qe1Ltp"
      },
      "source": [
        "# Также используются названия Т-критерий Уилкоксона, критерий Вилкоксона, критерий знаковых рангов Уилкоксона, критерий суммы рангов Уилкоксона.\n",
        "# Непараметрический статистический тест (критерий), используемый для проверки различий между двумя выборками парных или независимых измерений по уровню\n",
        "# какого-либо количественного признака, измеренного в непрерывной или в порядковой шкале. Впервые предложен Фрэнком Уилкоксоном. \n",
        "# Другие названия — W-критерий Вилкоксона, критерий знаковых рангов Вилкоксона, критерий Уилкоксона для связных выборок. \n",
        "# Тест Вилкоксона для независимых выборок также называется критерием Манна-Уитни."
      ],
      "execution_count": 23,
      "outputs": []
    },
    {
      "cell_type": "code",
      "metadata": {
        "id": "6PdkflDw1Ltq"
      },
      "source": [
        "np.random.seed(11)\n",
        "C = stats.norm.rvs(scale=30,loc=11,size=100)\n",
        "D = C + stats.norm.rvs(scale=54,loc=11,size=100)"
      ],
      "execution_count": 24,
      "outputs": []
    },
    {
      "cell_type": "code",
      "metadata": {
        "colab": {
          "base_uri": "https://localhost:8080/"
        },
        "id": "X9ZSron31Ltq",
        "outputId": "51fe6a2d-6f4e-4c70-bb16-b6cdc4f4364f"
      },
      "source": [
        "# H0 - различий нет\n",
        "# H1 - различия есть\n",
        "stat, p = wilcoxon(C,D)\n",
        "print('Statistics=%.3f, p=%.3f' % (stat, p))\n",
        "alpha = 0.05\n",
        "if p > alpha:\n",
        "    print('Различий в эффекте нет')\n",
        "else:\n",
        "    print('Различия в эффекте есть')"
      ],
      "execution_count": 25,
      "outputs": [
        {
          "output_type": "stream",
          "text": [
            "Statistics=1930.000, p=0.041\n",
            "Различия в эффекте есть\n"
          ],
          "name": "stdout"
        }
      ]
    },
    {
      "cell_type": "code",
      "metadata": {
        "colab": {
          "base_uri": "https://localhost:8080/",
          "height": 336
        },
        "id": "XTZkvLKt1Ltr",
        "outputId": "1fea8bbd-5e8a-4672-da87-448bd6c131a7"
      },
      "source": [
        "plt.figure(figsize=(7, 5))\n",
        "df = pd.DataFrame({'C':C, 'D':D})\n",
        "sns.histplot(data=df, kde=True, bins=50)\n",
        "plt.title('Сравнение C и D')\n",
        "plt.legend(['C', 'D'])\n",
        "plt.grid()"
      ],
      "execution_count": 26,
      "outputs": [
        {
          "output_type": "display_data",
          "data": {
            "image/png": "[encoded data removed]",
            "text/plain": [
              "<Figure size 504x360 with 1 Axes>"
            ]
          },
          "metadata": {
            "tags": [],
            "needs_background": "light"
          }
        }
      ]
    },
    {
      "cell_type": "markdown",
      "metadata": {
        "id": "GU1c9GuCFgMi"
      },
      "source": [
        "###  Бутстреп"
      ]
    },
    {
      "cell_type": "code",
      "metadata": {
        "id": "igTdhbByFhlC"
      },
      "source": [
        "group1 = np.array([1,2,3,4,5,6,7,8,9,10])\n",
        "group2 = np.array([10,11,12,13,14,15])"
      ],
      "execution_count": 27,
      "outputs": []
    },
    {
      "cell_type": "code",
      "metadata": {
        "id": "10dXPdKRFkJV"
      },
      "source": [
        "def get_bootstrap_samples(data, n_samples):\n",
        "    \"\"\"Бутстрап-выборка\"\"\"\n",
        "    indices = np.random.randint(0, len(data), (n_samples, len(data)))\n",
        "    samples = data[indices]\n",
        "    return samples"
      ],
      "execution_count": 28,
      "outputs": []
    },
    {
      "cell_type": "code",
      "metadata": {
        "id": "mtcwkR30FnE-"
      },
      "source": [
        "def stat_intervals(stat, alpha=0.05):\n",
        "    \"\"\"Доверительный интервал\"\"\"\n",
        "    boundaries = np.percentile(stat, [100 * alpha / 2., 100 * (1 - alpha / 2.)])\n",
        "    return boundaries"
      ],
      "execution_count": 29,
      "outputs": []
    },
    {
      "cell_type": "code",
      "metadata": {
        "id": "GXGNJDsQFrG2"
      },
      "source": [
        "group1_median = list(map(np.median, get_bootstrap_samples(group1, 1000)))\n",
        "group2_median  = list(map(np.median, get_bootstrap_samples(group2, 1000)))"
      ],
      "execution_count": 30,
      "outputs": []
    },
    {
      "cell_type": "code",
      "metadata": {
        "id": "Lf-5NzRnFtfp"
      },
      "source": [
        "delta_median = list(map(lambda x: x[1] - x[0], zip(group1_median, group2_median)))"
      ],
      "execution_count": 31,
      "outputs": []
    },
    {
      "cell_type": "code",
      "metadata": {
        "colab": {
          "base_uri": "https://localhost:8080/"
        },
        "id": "m3G11UYVFwmK",
        "outputId": "cdaf6b52-1b39-45fc-c0c8-41018f4f2512"
      },
      "source": [
        "print (\"Макc значение для для группы1:\", np.max(group1),\"Мин значение для для группы1:\", np.min(group1))\n",
        "print (\"Макc значение для для группы2:\", np.max(group2),\"Мин значение для для группы2:\", np.min(group2))\n",
        "print (\"95% доверительный интервал для группы1:\", stat_intervals(group1_median, 0.05))\n",
        "print (\"95% доверительный интервал для группы2:\",  stat_intervals(group2_median, 0.05))\n",
        "print (\"95% доверительный интервал для разности медиан:\",  stat_intervals(delta_median, 0.05))"
      ],
      "execution_count": 32,
      "outputs": [
        {
          "output_type": "stream",
          "text": [
            "Макc значение для для группы1: 10 Мин значение для для группы1: 1\n",
            "Макc значение для для группы2: 15 Мин значение для для группы2: 10\n",
            "95% доверительный интервал для группы1: [3. 8.]\n",
            "95% доверительный интервал для группы2: [10.5 14.5]\n",
            "95% доверительный интервал для разности медиан: [ 3.5 10. ]\n"
          ],
          "name": "stdout"
        }
      ]
    },
    {
      "cell_type": "markdown",
      "metadata": {
        "id": "isgukdciGvzr"
      },
      "source": [
        "# Корреляция"
      ]
    },
    {
      "cell_type": "markdown",
      "metadata": {
        "id": "XVbLzIQkGC1h"
      },
      "source": [
        "### Коэффициент корреляции Пирсона"
      ]
    },
    {
      "cell_type": "code",
      "metadata": {
        "colab": {
          "base_uri": "https://localhost:8080/",
          "height": 408
        },
        "id": "wtbmJGihGxJ2",
        "outputId": "666d475a-a93f-47aa-a1a6-5d9ff0189884"
      },
      "source": [
        "df = pd.read_csv('data1.txt', sep=',', decimal='.')\n",
        "df.info()\n",
        "df.head()"
      ],
      "execution_count": 33,
      "outputs": [
        {
          "output_type": "stream",
          "text": [
            "<class 'pandas.core.frame.DataFrame'>\n",
            "RangeIndex: 5 entries, 0 to 4\n",
            "Data columns (total 5 columns):\n",
            " #   Column  Non-Null Count  Dtype  \n",
            "---  ------  --------------  -----  \n",
            " 0   x1      5 non-null      int64  \n",
            " 1   x2      5 non-null      int64  \n",
            " 2   x3      5 non-null      int64  \n",
            " 3   y1      5 non-null      float64\n",
            " 4   y2      5 non-null      float64\n",
            "dtypes: float64(2), int64(3)\n",
            "memory usage: 328.0 bytes\n"
          ],
          "name": "stdout"
        },
        {
          "output_type": "execute_result",
          "data": {
            "text/html": [
              "<div>\n",
              "<style scoped>\n",
              "    .dataframe tbody tr th:only-of-type {\n",
              "        vertical-align: middle;\n",
              "    }\n",
              "\n",
              "    .dataframe tbody tr th {\n",
              "        vertical-align: top;\n",
              "    }\n",
              "\n",
              "    .dataframe thead th {\n",
              "        text-align: right;\n",
              "    }\n",
              "</style>\n",
              "<table border=\"1\" class=\"dataframe\">\n",
              "  <thead>\n",
              "    <tr style=\"text-align: right;\">\n",
              "      <th></th>\n",
              "      <th>x1</th>\n",
              "      <th>x2</th>\n",
              "      <th>x3</th>\n",
              "      <th>y1</th>\n",
              "      <th>y2</th>\n",
              "    </tr>\n",
              "  </thead>\n",
              "  <tbody>\n",
              "    <tr>\n",
              "      <th>0</th>\n",
              "      <td>2</td>\n",
              "      <td>0</td>\n",
              "      <td>2</td>\n",
              "      <td>0.2</td>\n",
              "      <td>11.0</td>\n",
              "    </tr>\n",
              "    <tr>\n",
              "      <th>1</th>\n",
              "      <td>3</td>\n",
              "      <td>-21</td>\n",
              "      <td>3</td>\n",
              "      <td>0.3</td>\n",
              "      <td>-30.2</td>\n",
              "    </tr>\n",
              "    <tr>\n",
              "      <th>2</th>\n",
              "      <td>4</td>\n",
              "      <td>0</td>\n",
              "      <td>4</td>\n",
              "      <td>0.4</td>\n",
              "      <td>12.0</td>\n",
              "    </tr>\n",
              "    <tr>\n",
              "      <th>3</th>\n",
              "      <td>15</td>\n",
              "      <td>-30</td>\n",
              "      <td>5</td>\n",
              "      <td>0.5</td>\n",
              "      <td>-42.5</td>\n",
              "    </tr>\n",
              "    <tr>\n",
              "      <th>4</th>\n",
              "      <td>18</td>\n",
              "      <td>12</td>\n",
              "      <td>6</td>\n",
              "      <td>0.6</td>\n",
              "      <td>43.0</td>\n",
              "    </tr>\n",
              "  </tbody>\n",
              "</table>\n",
              "</div>"
            ],
            "text/plain": [
              "   x1  x2  x3   y1    y2\n",
              "0   2   0   2  0.2  11.0\n",
              "1   3 -21   3  0.3 -30.2\n",
              "2   4   0   4  0.4  12.0\n",
              "3  15 -30   5  0.5 -42.5\n",
              "4  18  12   6  0.6  43.0"
            ]
          },
          "metadata": {
            "tags": []
          },
          "execution_count": 33
        }
      ]
    },
    {
      "cell_type": "code",
      "metadata": {
        "colab": {
          "base_uri": "https://localhost:8080/",
          "height": 296
        },
        "id": "ZvrxEL0gH-4g",
        "outputId": "63547a09-3b75-4891-bc6f-2752dfbed9a2"
      },
      "source": [
        "df.plot(kind='scatter', x='x3', y='y1')"
      ],
      "execution_count": 34,
      "outputs": [
        {
          "output_type": "execute_result",
          "data": {
            "text/plain": [
              "<matplotlib.axes._subplots.AxesSubplot at 0x7f6ea613efd0>"
            ]
          },
          "metadata": {
            "tags": []
          },
          "execution_count": 34
        },
        {
          "output_type": "display_data",
          "data": {
            "image/png": "[encoded data removed]",
            "text/plain": [
              "<Figure size 432x288 with 1 Axes>"
            ]
          },
          "metadata": {
            "tags": [],
            "needs_background": "light"
          }
        }
      ]
    },
    {
      "cell_type": "code",
      "metadata": {
        "colab": {
          "base_uri": "https://localhost:8080/",
          "height": 296
        },
        "id": "qsD-yhA7IJ4S",
        "outputId": "d6fd3ab4-fdad-4628-c153-5a37a82c1a7e"
      },
      "source": [
        "df.plot(kind='scatter', x='x1', y='y2')"
      ],
      "execution_count": 35,
      "outputs": [
        {
          "output_type": "execute_result",
          "data": {
            "text/plain": [
              "<matplotlib.axes._subplots.AxesSubplot at 0x7f6ea604b150>"
            ]
          },
          "metadata": {
            "tags": []
          },
          "execution_count": 35
        },
        {
          "output_type": "display_data",
          "data": {
            "image/png": "[encoded data removed]",
            "text/plain": [
              "<Figure size 432x288 with 1 Axes>"
            ]
          },
          "metadata": {
            "tags": [],
            "needs_background": "light"
          }
        }
      ]
    },
    {
      "cell_type": "code",
      "metadata": {
        "colab": {
          "base_uri": "https://localhost:8080/",
          "height": 296
        },
        "id": "W4jxzYyeILyc",
        "outputId": "c0f2831a-a8cb-4ce3-b9c0-2e9bff90d25f"
      },
      "source": [
        "df.plot(kind='scatter', x='x2', y='y2')"
      ],
      "execution_count": 36,
      "outputs": [
        {
          "output_type": "execute_result",
          "data": {
            "text/plain": [
              "<matplotlib.axes._subplots.AxesSubplot at 0x7f6ea5fc3710>"
            ]
          },
          "metadata": {
            "tags": []
          },
          "execution_count": 36
        },
        {
          "output_type": "display_data",
          "data": {
            "image/png": "[encoded data removed]",
            "text/plain": [
              "<Figure size 432x288 with 1 Axes>"
            ]
          },
          "metadata": {
            "tags": [],
            "needs_background": "light"
          }
        }
      ]
    },
    {
      "cell_type": "code",
      "metadata": {
        "colab": {
          "base_uri": "https://localhost:8080/",
          "height": 111
        },
        "id": "iXbIA48FIRKd",
        "outputId": "0fc4e81f-086d-4c89-a8df-9f8701fc75fe"
      },
      "source": [
        "# Коэффициент корреляции Пирсона (r-Пирсона) применяется для исследования взаимосвязи двух переменных, измеренных в метрических шкалах на одной и той же выборке. \n",
        "# Он позволяет определить, насколько пропорциональная изменчивость двух переменных.\n",
        "df[['x2', 'y2']].corr()"
      ],
      "execution_count": 37,
      "outputs": [
        {
          "output_type": "execute_result",
          "data": {
            "text/html": [
              "<div>\n",
              "<style scoped>\n",
              "    .dataframe tbody tr th:only-of-type {\n",
              "        vertical-align: middle;\n",
              "    }\n",
              "\n",
              "    .dataframe tbody tr th {\n",
              "        vertical-align: top;\n",
              "    }\n",
              "\n",
              "    .dataframe thead th {\n",
              "        text-align: right;\n",
              "    }\n",
              "</style>\n",
              "<table border=\"1\" class=\"dataframe\">\n",
              "  <thead>\n",
              "    <tr style=\"text-align: right;\">\n",
              "      <th></th>\n",
              "      <th>x2</th>\n",
              "      <th>y2</th>\n",
              "    </tr>\n",
              "  </thead>\n",
              "  <tbody>\n",
              "    <tr>\n",
              "      <th>x2</th>\n",
              "      <td>1.000000</td>\n",
              "      <td>0.994319</td>\n",
              "    </tr>\n",
              "    <tr>\n",
              "      <th>y2</th>\n",
              "      <td>0.994319</td>\n",
              "      <td>1.000000</td>\n",
              "    </tr>\n",
              "  </tbody>\n",
              "</table>\n",
              "</div>"
            ],
            "text/plain": [
              "          x2        y2\n",
              "x2  1.000000  0.994319\n",
              "y2  0.994319  1.000000"
            ]
          },
          "metadata": {
            "tags": []
          },
          "execution_count": 37
        }
      ]
    },
    {
      "cell_type": "markdown",
      "metadata": {
        "id": "cc5tjBkSIcUk"
      },
      "source": [
        "### Коэффициент ранговой корреляции Спирмена"
      ]
    },
    {
      "cell_type": "code",
      "metadata": {
        "colab": {
          "base_uri": "https://localhost:8080/",
          "height": 111
        },
        "id": "5Z--zIUcIdik",
        "outputId": "94414337-f238-411f-af11-194cafab88aa"
      },
      "source": [
        "# Непараметрический метод, который используется с целью статистического изучения связи между явлениями. \n",
        "# В этом случае определяется фактическая степень параллелизма между двумя количественными рядами изучаемых признаков и дается оценка тесноты установленной связи с помощью количественно выраженного коэффициента.\n",
        "df[['x2', 'y2']].corr(method='spearman')"
      ],
      "execution_count": 38,
      "outputs": [
        {
          "output_type": "execute_result",
          "data": {
            "text/html": [
              "<div>\n",
              "<style scoped>\n",
              "    .dataframe tbody tr th:only-of-type {\n",
              "        vertical-align: middle;\n",
              "    }\n",
              "\n",
              "    .dataframe tbody tr th {\n",
              "        vertical-align: top;\n",
              "    }\n",
              "\n",
              "    .dataframe thead th {\n",
              "        text-align: right;\n",
              "    }\n",
              "</style>\n",
              "<table border=\"1\" class=\"dataframe\">\n",
              "  <thead>\n",
              "    <tr style=\"text-align: right;\">\n",
              "      <th></th>\n",
              "      <th>x2</th>\n",
              "      <th>y2</th>\n",
              "    </tr>\n",
              "  </thead>\n",
              "  <tbody>\n",
              "    <tr>\n",
              "      <th>x2</th>\n",
              "      <td>1.000000</td>\n",
              "      <td>0.974679</td>\n",
              "    </tr>\n",
              "    <tr>\n",
              "      <th>y2</th>\n",
              "      <td>0.974679</td>\n",
              "      <td>1.000000</td>\n",
              "    </tr>\n",
              "  </tbody>\n",
              "</table>\n",
              "</div>"
            ],
            "text/plain": [
              "          x2        y2\n",
              "x2  1.000000  0.974679\n",
              "y2  0.974679  1.000000"
            ]
          },
          "metadata": {
            "tags": []
          },
          "execution_count": 38
        }
      ]
    },
    {
      "cell_type": "markdown",
      "metadata": {
        "id": "uz_pBHiB1Ltw"
      },
      "source": [
        "#Дисперсионный анализ"
      ]
    },
    {
      "cell_type": "markdown",
      "metadata": {
        "id": "XXuotNZKD2Lj"
      },
      "source": [
        "### ANOVA"
      ]
    },
    {
      "cell_type": "markdown",
      "metadata": {
        "id": "RNDH1do7D0MD"
      },
      "source": [
        ""
      ]
    },
    {
      "cell_type": "code",
      "metadata": {
        "id": "HKoR0Yig1Ltw"
      },
      "source": [
        "H = [1, 2, 3, 4, 2, 4, 2, 4, 5, 2, 3, 4, 2, 1, 3, 4, 3, 2, 5, 1]\n",
        "I= [1, 2, 4, 6, 5, 6, 7, 5, 4, 5, 6, 7, 4, 3, 5, 5, 6, 5, 4, 3, 5]\n",
        "J = [2, 1, 1, 3, 2, 4, 2, 4, 5, 4, 3, 2, 3, 2, 3, 1, 3, 4, 5, 1, 4]"
      ],
      "execution_count": 39,
      "outputs": []
    },
    {
      "cell_type": "code",
      "metadata": {
        "colab": {
          "base_uri": "https://localhost:8080/"
        },
        "id": "X6KTnhAG1Ltx",
        "outputId": "7bb60f69-b287-40eb-fd8c-fbfba6358525"
      },
      "source": [
        "# H0 - различий нет\n",
        "# H1 - различия есть\n",
        "F, p = f_oneway(H, I,J)\n",
        "print('F=%.3f, p=%.5f' % (F, p))\n",
        "alpha = 0.05\n",
        "if p > alpha:\n",
        "    print('Различий в эффекте нет')\n",
        "else:\n",
        "    print('Различия в эффекте есть')"
      ],
      "execution_count": 40,
      "outputs": [
        {
          "output_type": "stream",
          "text": [
            "F=12.526, p=0.00003\n",
            "Различия в эффекте есть\n"
          ],
          "name": "stdout"
        }
      ]
    },
    {
      "cell_type": "code",
      "metadata": {
        "colab": {
          "base_uri": "https://localhost:8080/",
          "height": 336
        },
        "id": "qd4iMuT91Ltx",
        "outputId": "1a36cffc-1b11-4652-d058-2a0c8589efb7"
      },
      "source": [
        "plt.figure(figsize=(7, 5))\n",
        "sns.histplot(H, kde=True, color='green')\n",
        "sns.histplot(I, kde=True, color='yellow')\n",
        "sns.histplot(J, kde=True, color='red')\n",
        "plt.title('Сравнение H, I и J')\n",
        "plt.legend(['H', 'I', 'J'])\n",
        "plt.grid()"
      ],
      "execution_count": 41,
      "outputs": [
        {
          "output_type": "display_data",
          "data": {
            "image/png": "[encoded data removed]",
            "text/plain": [
              "<Figure size 504x360 with 1 Axes>"
            ]
          },
          "metadata": {
            "tags": [],
            "needs_background": "light"
          }
        }
      ]
    },
    {
      "cell_type": "markdown",
      "metadata": {
        "id": "QIaIR--ZNW5y"
      },
      "source": [
        "# Пропорции"
      ]
    },
    {
      "cell_type": "markdown",
      "metadata": {
        "id": "sJYKQ2ZBEZkq"
      },
      "source": [
        "# Доли"
      ]
    },
    {
      "cell_type": "markdown",
      "metadata": {
        "id": "h45lYnDss3Gh"
      },
      "source": [
        "### Размер выборки"
      ]
    },
    {
      "cell_type": "code",
      "metadata": {
        "id": "3db4h61Qq-I3"
      },
      "source": [
        "def proportions_sample_size (baseline_rate,practical_significance,confidence_level=0.05, sensitivity=0.8):\n",
        "  effect_size = sms.proportion_effectsize(baseline_rate, baseline_rate + practical_significance)\n",
        "  sample_size = sms.NormalIndPower().solve_power(effect_size = effect_size, power = sensitivity, \n",
        "                                                alpha = confidence_level, ratio=1)\n",
        "  return round(sample_size)"
      ],
      "execution_count": 42,
      "outputs": []
    },
    {
      "cell_type": "code",
      "metadata": {
        "colab": {
          "base_uri": "https://localhost:8080/"
        },
        "id": "nL3ViI95tT94",
        "outputId": "38e3ea59-d387-4caa-ecc9-c65e0da9bc98"
      },
      "source": [
        "proportions_sample_size(0.2,0.05)"
      ],
      "execution_count": 43,
      "outputs": [
        {
          "output_type": "execute_result",
          "data": {
            "text/plain": [
              "1092"
            ]
          },
          "metadata": {
            "tags": []
          },
          "execution_count": 43
        }
      ]
    },
    {
      "cell_type": "markdown",
      "metadata": {
        "id": "nnPY3-AHRw7R"
      },
      "source": [
        "### Тест разности двух независимых долей"
      ]
    },
    {
      "cell_type": "code",
      "metadata": {
        "id": "dQ8ImwBPRweU"
      },
      "source": [
        "# Реклама \"А\" получает 3252 откликов на 3730 просмотров, реклама \"В\" 3872 на 3968\n",
        "clicks = [290, 430] #отклики в каждой группе\n",
        "views  = [300, 450] #просмотры в каждой группе"
      ],
      "execution_count": 44,
      "outputs": []
    },
    {
      "cell_type": "code",
      "metadata": {
        "id": "6gDIBy51R3NJ"
      },
      "source": [
        "# Расчет конверсии\n",
        "p1 = clicks[0]/views[0]\n",
        "p2 = clicks[1]/views[1]"
      ],
      "execution_count": 45,
      "outputs": []
    },
    {
      "cell_type": "code",
      "metadata": {
        "id": "5mV_ueZLR5qJ"
      },
      "source": [
        "def confidence_interval(conversion:float, trials:int) -> List[float]:\n",
        "  '''Функция для нахождения доверительного интервала'''\n",
        "  sigma = math.sqrt(conversion *(1-conversion )/ trials)\n",
        "  mu = conversion\n",
        "  probability = 0.95\n",
        "  interval = stats.norm.interval(probability, loc=mu, scale=sigma)\n",
        "  interval_round = [round(_*100, 1) for _ in interval]\n",
        "  return interval_round"
      ],
      "execution_count": 46,
      "outputs": []
    },
    {
      "cell_type": "code",
      "metadata": {
        "id": "QXsNUMP6SNk0"
      },
      "source": [
        "# Расчет z метрики\n",
        "p_combined = (clicks[0] + clicks[1]) / (views[0] + views[1])\n",
        "difference = p1 - p2\n",
        "z_scores = difference /math.sqrt(p_combined * (1 - p_combined) * (1/views[0] + 1/views[1]))"
      ],
      "execution_count": 47,
      "outputs": []
    },
    {
      "cell_type": "code",
      "metadata": {
        "id": "MSUx1LBEg-_l"
      },
      "source": [
        "def proportions_diff_z_stat_ind(clicks1, views1, clicks2, views2, alpha = 0.05):\n",
        "  p1 = clicks1/views1\n",
        "  p2 = clicks2/views2\n",
        "  p = float(p1*views1 + p2*views2) / (views1 + views2)\n",
        "  return (p1 - p2) / np.sqrt(p * (1 - p) * (1 / views1 + 1 / views2))"
      ],
      "execution_count": 48,
      "outputs": []
    },
    {
      "cell_type": "code",
      "metadata": {
        "colab": {
          "base_uri": "https://localhost:8080/"
        },
        "id": "do08DshxkXoV",
        "outputId": "88d3ba24-e9ff-4815-b110-30dcb9d3d76c"
      },
      "source": [
        "proportions_diff_z_stat_ind(290,300,430,450)"
      ],
      "execution_count": 49,
      "outputs": [
        {
          "output_type": "execute_result",
          "data": {
            "text/plain": [
              "0.7607257743127277"
            ]
          },
          "metadata": {
            "tags": []
          },
          "execution_count": 49
        }
      ]
    },
    {
      "cell_type": "code",
      "metadata": {
        "colab": {
          "base_uri": "https://localhost:8080/"
        },
        "id": "W8xhU1iASUsh",
        "outputId": "24249ad1-e8c1-422b-9da3-c64b21dbf364"
      },
      "source": [
        "print(f\"Значение z равно {z_scores}\")\n",
        "print(f\"Конверсия вариант А равна {round(p1*100,1)}% \\\n",
        "        Доверительный интервал {confidence_interval(p1, views[0])[0]}% - {confidence_interval(p1, views[0])[1]}%\")\n",
        "print(f\"Конверсия вариант В равна {round(p2*100,1)}% \\\n",
        "        Доверительный интервал {confidence_interval(p2, views[1])[0]}% - {confidence_interval(p2, views[1])[1]}%\")"
      ],
      "execution_count": 50,
      "outputs": [
        {
          "output_type": "stream",
          "text": [
            "Значение z равно 0.7607257743127277\n",
            "Конверсия вариант А равна 96.7%         Доверительный интервал 94.6% - 98.7%\n",
            "Конверсия вариант В равна 95.6%         Доверительный интервал 93.7% - 97.5%\n"
          ],
          "name": "stdout"
        }
      ]
    },
    {
      "cell_type": "code",
      "metadata": {
        "colab": {
          "base_uri": "https://localhost:8080/"
        },
        "id": "zyWWVvIGSZ_R",
        "outputId": "a8669d21-7b80-4fcd-d04f-46e14fa80200"
      },
      "source": [
        "# Рассчитываем p-value\n",
        "p_value = (1 - scipy.stats.norm.cdf(abs(z_scores))) * 2\n",
        "print('p-значение: {:f}'.format(p_value))"
      ],
      "execution_count": 51,
      "outputs": [
        {
          "output_type": "stream",
          "text": [
            "p-значение: 0.446821\n"
          ],
          "name": "stdout"
        }
      ]
    },
    {
      "cell_type": "code",
      "metadata": {
        "colab": {
          "base_uri": "https://localhost:8080/"
        },
        "id": "EVQSlIErSh6C",
        "outputId": "265a5892-0736-49ba-b07b-439b9da6b980"
      },
      "source": [
        "alpha = .05\n",
        "if (p_value < alpha):\n",
        "    print(\"Отвергаем нулевую гипотезу: между долями есть значимая разница\")\n",
        "else:\n",
        "    print(\"Не получилось отвергнуть нулевую гипотезу, нет оснований считать доли разными\")"
      ],
      "execution_count": 52,
      "outputs": [
        {
          "output_type": "stream",
          "text": [
            "Не получилось отвергнуть нулевую гипотезу, нет оснований считать доли разными\n"
          ],
          "name": "stdout"
        }
      ]
    },
    {
      "cell_type": "code",
      "metadata": {
        "id": "hD7DWaVwfQ2l"
      },
      "source": [
        "def proportions_diff_z_test(z_stat, alternative = 'two-sided'):\n",
        "    if alternative not in ('two-sided', 'less', 'greater'):\n",
        "        raise ValueError(\"alternative not recognized\\n\"\n",
        "                         \"should be 'two-sided', 'less' or 'greater'\")\n",
        "    \n",
        "    if alternative == 'two-sided':\n",
        "        return 2 * (1 - norm.cdf(np.abs(z_stat)))\n",
        "    \n",
        "    if alternative == 'less':\n",
        "        return norm.cdf(z_stat)\n",
        "\n",
        "    if alternative == 'greater':\n",
        "        return 1 - norm.cdf(z_stat)"
      ],
      "execution_count": 53,
      "outputs": []
    },
    {
      "cell_type": "code",
      "metadata": {
        "colab": {
          "base_uri": "https://localhost:8080/"
        },
        "id": "s1fqLLBHk311",
        "outputId": "aed6d93b-9842-4a19-cb36-37aa8cdd4af8"
      },
      "source": [
        "print('p-значение: {:f}'.format(proportions_diff_z_test(z_scores)))"
      ],
      "execution_count": 54,
      "outputs": [
        {
          "output_type": "stream",
          "text": [
            "p-значение: 0.446821\n"
          ],
          "name": "stdout"
        }
      ]
    },
    {
      "cell_type": "markdown",
      "metadata": {
        "id": "56TSpOAVWMO6"
      },
      "source": [
        "### Коэффициента корреляции Мэтьюса"
      ]
    },
    {
      "cell_type": "code",
      "metadata": {
        "id": "13K1GfICWL7y"
      },
      "source": [
        "# Среди респондентов General Social Survey 2014 года хотя бы раз в месяц проводят вечер в баре 203 женщины и 239 мужчин;\n",
        "# реже, чем раз в месяц, это делают 718 женщин и 515 мужчин.\n",
        "# Посчитайте значение коэффициента корреляции Мэтьюса между полом и частотой похода в бары."
      ],
      "execution_count": 55,
      "outputs": []
    },
    {
      "cell_type": "code",
      "metadata": {
        "id": "znqe57Y7WWlx"
      },
      "source": [
        "def Matthews_correlation(a, b, c, d):\n",
        "    return (a*d-b*c)/np.sqrt((a+b)*(a+c)*(b+d)*(c+d))"
      ],
      "execution_count": 56,
      "outputs": []
    },
    {
      "cell_type": "code",
      "metadata": {
        "colab": {
          "base_uri": "https://localhost:8080/"
        },
        "id": "qjx1H_EOWZ7g",
        "outputId": "5f46cdaf-1de3-4850-8e76-c464c056edce"
      },
      "source": [
        "men_visit_monthly = 239\n",
        "women_visit_monthly = 203\n",
        "men_visit_rarely = 515\n",
        "women_visit_rarely = 718\n",
        "print (\"Коэффициента корреляции Мэтьюса: %.3f\" % np.round(Matthews_correlation(men_visit_monthly, men_visit_rarely, \n",
        "                                                                       women_visit_monthly, women_visit_rarely), 3))"
      ],
      "execution_count": 57,
      "outputs": [
        {
          "output_type": "stream",
          "text": [
            "Коэффициента корреляции Мэтьюса: 0.109\n"
          ],
          "name": "stdout"
        }
      ]
    },
    {
      "cell_type": "markdown",
      "metadata": {
        "id": "mBjVpocGXhAq"
      },
      "source": [
        "### Доверительный интервал для разности двух незавимых долей"
      ]
    },
    {
      "cell_type": "code",
      "metadata": {
        "id": "gup4WilEXxbw"
      },
      "source": [
        "# В предыдущей задаче давайте попробуем ответить на немного другой вопрос: отличаются ли доля мужчин и доля женщин, относительно часто проводящих вечера в баре?\n",
        "# Постройте 95% доверительный интервал для разности долей, вычитая долю женщин из доли мужчин.\n",
        "# Чему равна его нижняя граница? Округлите до четырёх знаков после десятичной точки."
      ],
      "execution_count": 58,
      "outputs": []
    },
    {
      "cell_type": "code",
      "metadata": {
        "id": "JgaJ9IEIXilo"
      },
      "source": [
        "def proportions_confint_diff_ind(p1, count1, p2, count2, alpha = 0.05):    \n",
        "    z = norm.ppf(1 - alpha / 2.)\n",
        "    \n",
        "    left_boundary = (p1 - p2) - z * np.sqrt(p1 * (1. - p1)/ count1 + p2 * (1 - p2)/ count2)\n",
        "    right_boundary = (p1 - p2) + z * np.sqrt(p1 * (1. - p1)/ count1 + p2 * (1 - p2)/ count2)\n",
        "    \n",
        "    return (left_boundary, right_boundary)"
      ],
      "execution_count": 59,
      "outputs": []
    },
    {
      "cell_type": "code",
      "metadata": {
        "colab": {
          "base_uri": "https://localhost:8080/"
        },
        "id": "Wo5po2C-X4vo",
        "outputId": "5d05f370-0867-40e0-ee80-59b5669c92d6"
      },
      "source": [
        "all_men = men_visit_monthly + men_visit_rarely\n",
        "all_women = women_visit_monthly + women_visit_rarely\n",
        "men_proportion = float(men_visit_monthly)/float(all_men)\n",
        "women_proportion = float(women_visit_monthly)/float(all_women)\n",
        "conf_interval_diff = proportions_confint_diff_ind(men_proportion, all_men, women_proportion, all_women)\n",
        "print (\"Доверительный интервал: [%.4f, %.4f]\" % (np.round(conf_interval_diff[0],4),np.round(conf_interval_diff[1],4)))"
      ],
      "execution_count": 60,
      "outputs": [
        {
          "output_type": "stream",
          "text": [
            "Доверительный интервал: [0.0539, 0.1392]\n"
          ],
          "name": "stdout"
        }
      ]
    },
    {
      "cell_type": "code",
      "metadata": {
        "id": "A3FAN4eFYLiw"
      },
      "source": [
        ""
      ],
      "execution_count": 60,
      "outputs": []
    },
    {
      "cell_type": "markdown",
      "metadata": {
        "id": "vzWrHxUwWugS"
      },
      "source": [
        "### Тест Хи-квадрат"
      ]
    },
    {
      "cell_type": "code",
      "metadata": {
        "id": "gWzj1KbOWwTx"
      },
      "source": [
        "# В предыдущей задаче проверьте, значимо ли коэффициент корреляции Мэтьюса отличается от нуля.\n",
        "# Посчитайте достигаемый уровень значимости; используйте функцию scipy.stats.chi2_contingency."
      ],
      "execution_count": 61,
      "outputs": []
    },
    {
      "cell_type": "code",
      "metadata": {
        "colab": {
          "base_uri": "https://localhost:8080/"
        },
        "id": "daN2-03tWzP5",
        "outputId": "e1efa7de-15c7-459d-b472-1117f30b3cf1"
      },
      "source": [
        "chi_stat = chi2_contingency([[men_visit_monthly, men_visit_rarely], [women_visit_monthly, women_visit_rarely]])\n",
        "print (\"Хи-квадрат: %f\" % chi_stat[1])"
      ],
      "execution_count": 62,
      "outputs": [
        {
          "output_type": "stream",
          "text": [
            "Хи-квадрат: 0.000011\n"
          ],
          "name": "stdout"
        }
      ]
    },
    {
      "cell_type": "markdown",
      "metadata": {
        "id": "ge_-5FfW2zav"
      },
      "source": [
        "### Тест Фишера"
      ]
    },
    {
      "cell_type": "code",
      "metadata": {
        "colab": {
          "base_uri": "https://localhost:8080/"
        },
        "id": "ORuyzfgr21_P",
        "outputId": "360717ff-bfe0-476e-edc4-9b0ede561607"
      },
      "source": [
        "df3 = pd.DataFrame([[10,15],[39,34]], index=['Рост','Снижение'], columns=['Прогноз','Факт'])\n",
        "print(df3)"
      ],
      "execution_count": 63,
      "outputs": [
        {
          "output_type": "stream",
          "text": [
            "          Прогноз  Факт\n",
            "Рост           10    15\n",
            "Снижение       39    34\n"
          ],
          "name": "stdout"
        }
      ]
    },
    {
      "cell_type": "code",
      "metadata": {
        "colab": {
          "base_uri": "https://localhost:8080/"
        },
        "id": "21pPOImM23u3",
        "outputId": "55c5b40a-75f8-4cbe-b52e-e1355c78b2cd"
      },
      "source": [
        "# H0 - эффект случайный\n",
        "# H1 - эффект не случайный\n",
        "oddsratio, pvalue = stats.stats.fisher_exact(df3)\n",
        "print(pvalue)"
      ],
      "execution_count": 64,
      "outputs": [
        {
          "output_type": "stream",
          "text": [
            "0.35417955365927367\n"
          ],
          "name": "stdout"
        }
      ]
    },
    {
      "cell_type": "markdown",
      "metadata": {
        "id": "CNrdeEtY5F2o"
      },
      "source": [
        "#Прочее. "
      ]
    },
    {
      "cell_type": "markdown",
      "metadata": {
        "id": "_FMkTtURElRx"
      },
      "source": [
        "### Z-оценка"
      ]
    },
    {
      "cell_type": "code",
      "metadata": {
        "id": "yRSJ2P5D5JeG"
      },
      "source": [
        "list_number = [7,8,8,7.5,9]"
      ],
      "execution_count": 65,
      "outputs": []
    },
    {
      "cell_type": "code",
      "metadata": {
        "colab": {
          "base_uri": "https://localhost:8080/"
        },
        "id": "YJsFInsn5ORH",
        "outputId": "c8a91c8b-86f4-4c95-cdf7-c7db287c42e5"
      },
      "source": [
        "# Рассчитываем среднее\n",
        "mean = np.mean(list_number)\n",
        "print(mean)"
      ],
      "execution_count": 66,
      "outputs": [
        {
          "output_type": "stream",
          "text": [
            "7.9\n"
          ],
          "name": "stdout"
        }
      ]
    },
    {
      "cell_type": "code",
      "metadata": {
        "colab": {
          "base_uri": "https://localhost:8080/"
        },
        "id": "HSadXKUS5XLR",
        "outputId": "3e13259a-4354-4280-8151-153386d092b7"
      },
      "source": [
        "# Рассчитываем дисперсию\n",
        "var = np.var(list_number,ddof=1)\n",
        "print(var)"
      ],
      "execution_count": 67,
      "outputs": [
        {
          "output_type": "stream",
          "text": [
            "0.55\n"
          ],
          "name": "stdout"
        }
      ]
    },
    {
      "cell_type": "code",
      "metadata": {
        "colab": {
          "base_uri": "https://localhost:8080/"
        },
        "id": "upzYTFjp5bIn",
        "outputId": "56d3d143-9ada-489e-a668-bd2a79987dec"
      },
      "source": [
        "# Рассчитываем стандартное отклонение\n",
        "std = round(np.std(list_number,ddof=1),2)\n",
        "print(std)"
      ],
      "execution_count": 68,
      "outputs": [
        {
          "output_type": "stream",
          "text": [
            "0.74\n"
          ],
          "name": "stdout"
        }
      ]
    },
    {
      "cell_type": "code",
      "metadata": {
        "id": "TDFyQt255drH",
        "colab": {
          "base_uri": "https://localhost:8080/"
        },
        "outputId": "2add9b2a-0876-4526-9a95-13de92c28c34"
      },
      "source": [
        "# Рассчитаем z-оценку для 7.5\n",
        "z = (7.5-mean)/std\n",
        "print(z)"
      ],
      "execution_count": 69,
      "outputs": [
        {
          "output_type": "stream",
          "text": [
            "-0.540540540540541\n"
          ],
          "name": "stdout"
        }
      ]
    },
    {
      "cell_type": "code",
      "metadata": {
        "id": "T43rKnOL5ezP"
      },
      "source": [
        "# Такая Z-оценка означает, что число 7,5 удалено на -0,54 стандартных отклонений от среднего значения выборки.\n",
        "# Z-оценка может быть как положительной, так и отрицательной.\n",
        "# Отрицательная Z-оценка указывает на то, что выбранное число выборки меньше среднего значения, \n",
        "# а положительная Z-оценка – на то, что число больше среднего значения."
      ],
      "execution_count": 70,
      "outputs": []
    }
  ]
}