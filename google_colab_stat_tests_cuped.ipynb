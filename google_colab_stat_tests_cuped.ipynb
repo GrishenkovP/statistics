{
  "nbformat": 4,
  "nbformat_minor": 0,
  "metadata": {
    "colab": {
      "provenance": [],
      "collapsed_sections": []
    },
    "kernelspec": {
      "name": "python3",
      "display_name": "Python 3"
    },
    "language_info": {
      "name": "python"
    }
  },
  "cells": [
    {
      "cell_type": "markdown",
      "source": [
        "# **CUPED (Controlled-experiment Using Pre-Experiment Data)**"
      ],
      "metadata": {
        "id": "KMXEVeAf-veQ"
      }
    },
    {
      "cell_type": "markdown",
      "source": [
        "# Publication \"Reducing variance in A/B testing with CUPED\""
      ],
      "metadata": {
        "id": "Lu8wQtbq9CKR"
      }
    },
    {
      "cell_type": "code",
      "source": [
        "# Ноутбук-первоисточник https://github.com/mtrencseni/playground/blob/master/CUPED.ipynb"
      ],
      "metadata": {
        "id": "cTfgyOdefmfB"
      },
      "execution_count": 1,
      "outputs": []
    },
    {
      "cell_type": "code",
      "execution_count": 2,
      "metadata": {
        "id": "o7jiIFC71zjn"
      },
      "outputs": [],
      "source": [
        "import scipy\n",
        "import numpy as np\n",
        "from math import sqrt\n",
        "from scipy import stats\n",
        "from numpy.random import normal\n",
        "import matplotlib.pyplot as plt\n",
        "%matplotlib inline"
      ]
    },
    {
      "cell_type": "code",
      "source": [
        "def get_cuped_adjusted(a_before, b_before, a_after, b_after):\n",
        "    cv = np.cov([a_after + b_after, a_before + b_before])\n",
        "    theta = cv[0, 1] / cv[1, 1]\n",
        "    mean_before = np.mean(a_before + b_before)\n",
        "    a_after_adjusted = [after - (before - mean_before) * theta for after, before in zip(a_after, a_before)]\n",
        "    b_after_adjusted = [after - (before - mean_before) * theta for after, before in zip(b_after, b_before)]\n",
        "    return a_after_adjusted, b_after_adjusted"
      ],
      "metadata": {
        "id": "BzuOt_lj2abX"
      },
      "execution_count": 3,
      "outputs": []
    },
    {
      "cell_type": "code",
      "source": [
        "# def get_cuped_adjusted(a_before, b_before, a_after, b_after):\n",
        "#     theta = np.cov([a_after + b_after, a_before + b_before], bias=True)[0][1] / np.var([a_before + b_before])\n",
        "#     mean_before = np.mean(a_before + b_before)\n",
        "#     a_after_adjusted = [after - (before - mean_before) * theta for after, before in zip(a_after, a_before)]\n",
        "#     b_after_adjusted = [after - (before - mean_before) * theta for after, before in zip(b_after, b_before)]\n",
        "#     return a_after_adjusted, b_after_adjusted"
      ],
      "metadata": {
        "id": "OW4EqezwllSk"
      },
      "execution_count": 4,
      "outputs": []
    },
    {
      "cell_type": "code",
      "source": [
        "def get_ab_samples(before_mean, before_sigma, eps_sigma, treatment_lift, N):\n",
        "    a_before = list(normal(loc=before_mean, scale=before_sigma, size=N))\n",
        "    b_before = list(normal(loc=before_mean, scale=before_sigma, size=N))\n",
        "    a_after  = [x + normal(loc=0, scale=eps_sigma) for x in a_before]\n",
        "    b_after  = [x + normal(loc=0, scale=eps_sigma) + treatment_lift for x in b_before]\n",
        "    return a_before, b_before, a_after, b_after"
      ],
      "metadata": {
        "id": "D4GSfCOc8LxO"
      },
      "execution_count": 5,
      "outputs": []
    },
    {
      "cell_type": "code",
      "source": [
        "def lift(a, b):\n",
        "    return np.mean(a) - np.mean(b)"
      ],
      "metadata": {
        "id": "ZedPcbT-8rCQ"
      },
      "execution_count": 6,
      "outputs": []
    },
    {
      "cell_type": "code",
      "source": [
        "def p_value(a, b):\n",
        "    return stats.ttest_ind(a, b)[1]"
      ],
      "metadata": {
        "id": "eWi8jtAA8wwX"
      },
      "execution_count": 7,
      "outputs": []
    },
    {
      "cell_type": "code",
      "source": [
        "N = 1000\n",
        "before_mean = 100 \n",
        "before_sigma = 50\n",
        "eps_sigma = 20\n",
        "treatment_lift = 2"
      ],
      "metadata": {
        "id": "845sxXB48UmP"
      },
      "execution_count": 8,
      "outputs": []
    },
    {
      "cell_type": "code",
      "source": [
        "a_before, b_before, a_after, b_after = get_ab_samples(before_mean, before_sigma, eps_sigma, treatment_lift, N)\n",
        "a_after_adjusted, b_after_adjusted = get_cuped_adjusted(a_before, b_before, a_after, b_after)"
      ],
      "metadata": {
        "id": "as9Uu60X8e2H"
      },
      "execution_count": 9,
      "outputs": []
    },
    {
      "cell_type": "code",
      "source": [
        "print('A mean before = %05.1f, A mean after = %05.1f' % (np.mean(a_before), np.mean(a_after)))\n",
        "print('B mean before = %05.1f, B mean after = %05.1f' % (np.mean(b_before), np.mean(b_after)))\n",
        "print('Traditional    A/B test evaluation, lift = %.3f, p-value = %.3f' % (lift(a_after, b_after), p_value(a_after, b_after)))\n",
        "print('CUPED adjusted A/B test evaluation, lift = %.3f, p-value = %.3f' % (lift(a_after_adjusted, b_after_adjusted),\n",
        "                                                                           p_value(a_after_adjusted, b_after_adjusted)))"
      ],
      "metadata": {
        "colab": {
          "base_uri": "https://localhost:8080/"
        },
        "id": "j2f_wjcm8g_3",
        "outputId": "2b16be37-e5bb-467a-f697-fe4154fb0dda"
      },
      "execution_count": 10,
      "outputs": [
        {
          "output_type": "stream",
          "name": "stdout",
          "text": [
            "A mean before = 101.2, A mean after = 101.5\n",
            "B mean before = 102.0, B mean after = 103.7\n",
            "Traditional    A/B test evaluation, lift = -2.196, p-value = 0.349\n",
            "CUPED adjusted A/B test evaluation, lift = -1.380, p-value = 0.120\n"
          ]
        }
      ]
    },
    {
      "cell_type": "markdown",
      "source": [
        "# Вариант 2"
      ],
      "metadata": {
        "id": "9hZ2syfnH7rv"
      }
    },
    {
      "cell_type": "code",
      "source": [
        "print(f\"Mean A before {np.round(np.mean(a_before),2)}\")\n",
        "print(f\"Mean A after {np.round(np.mean(a_after),2)}\")\n",
        "print(f\"Mean B before {np.round(np.mean(b_before),2)}\")\n",
        "print(f\"Mean B after {np.round(np.mean(b_after),2)}\")"
      ],
      "metadata": {
        "colab": {
          "base_uri": "https://localhost:8080/"
        },
        "id": "CkEX7oG0H_pV",
        "outputId": "7388920d-f537-405b-cde1-bf132ffb8ca2"
      },
      "execution_count": 11,
      "outputs": [
        {
          "output_type": "stream",
          "name": "stdout",
          "text": [
            "Mean A before 101.17\n",
            "Mean A after 101.54\n",
            "Mean B before 101.99\n",
            "Mean B after 103.73\n"
          ]
        }
      ]
    },
    {
      "cell_type": "code",
      "source": [
        "_, pvalue_before = stats.ttest_ind(b_before, a_before)\n",
        "_, pvalue_after = stats.ttest_ind(b_after, a_after)\n",
        "print(f'pvalue_before {pvalue_before:0.3f}')\n",
        "print(f'pvalue_after {pvalue_after:0.3f}')"
      ],
      "metadata": {
        "colab": {
          "base_uri": "https://localhost:8080/"
        },
        "id": "Fg8b6-nvLhaN",
        "outputId": "3c319220-0267-4812-af26-f566391e2f59"
      },
      "execution_count": 12,
      "outputs": [
        {
          "output_type": "stream",
          "name": "stdout",
          "text": [
            "pvalue_before 0.707\n",
            "pvalue_after 0.349\n"
          ]
        }
      ]
    },
    {
      "cell_type": "code",
      "source": [
        "def calculate_theta(a_after, b_after, a_before, b_before) -> float:\n",
        "    \"\"\"\n",
        "    a_after - контрольная группа во время теста\n",
        "    b_after - тестовая группа во время теста\n",
        "    a_before - контрольная группа до теста\n",
        "    b_before - тестовая группа до теста\n",
        "    \"\"\"\n",
        "    y = np.hstack([a_after, b_after])\n",
        "    y_cov = np.hstack([a_before, b_before])\n",
        "    covariance = np.cov(y_cov, y)[0, 1]\n",
        "    variance = y_cov.var()\n",
        "    theta = covariance / variance\n",
        "    return theta"
      ],
      "metadata": {
        "id": "J_2tX9TiO8qN"
      },
      "execution_count": 13,
      "outputs": []
    },
    {
      "cell_type": "code",
      "source": [
        "def get_cuped_adjusted(a_before, b_before, a_after, b_after):\n",
        "    theta = calculate_theta(a_after, b_after, a_before, b_before)\n",
        "    a_after_adjusted = list(np.array(a_after) - theta * np.array(a_before))\n",
        "    b_after_adjusted = list(np.array(b_after) - theta * np.array(b_before))\n",
        "    return a_after_adjusted, b_after_adjusted"
      ],
      "metadata": {
        "id": "sNg_kipnS3bk"
      },
      "execution_count": 14,
      "outputs": []
    },
    {
      "cell_type": "code",
      "source": [
        "a_after_adjusted, b_after_adjusted = get_cuped_adjusted(a_before, b_before, a_after, b_after)"
      ],
      "metadata": {
        "id": "SGeJYh6yTkyr"
      },
      "execution_count": 15,
      "outputs": []
    },
    {
      "cell_type": "code",
      "source": [
        "_, pvalue_cuped = stats.ttest_ind(a_after_adjusted, b_after_adjusted)\n",
        "print(f'pvalue cuped {pvalue_cuped:0.3f}')"
      ],
      "metadata": {
        "colab": {
          "base_uri": "https://localhost:8080/"
        },
        "id": "XplLbmTCV8Ll",
        "outputId": "09834bab-91a2-47c7-eb0d-ef0f1c65bdef"
      },
      "execution_count": 16,
      "outputs": [
        {
          "output_type": "stream",
          "name": "stdout",
          "text": [
            "pvalue cuped 0.120\n"
          ]
        }
      ]
    },
    {
      "cell_type": "code",
      "source": [
        "var_b_after = np.var(b_after)\n",
        "var_a_after = np.var(a_after)\n",
        "var_b_after_adjusted = np.var(b_after_adjusted)\n",
        "var_a_after_adjusted = np.var(a_after_adjusted)\n",
        "\n",
        "delta_y = np.mean(b_after) - np.mean(a_after)\n",
        "delta_y_cuped = np.mean(b_after_adjusted) - np.mean(a_after_adjusted)\n",
        "\n",
        "print(\n",
        "    f'Тестовая группа\\n    var(y) = {var_b_after:0.1f}\\n    var(y_cuped) = {var_b_after_adjusted:0.1f}'\n",
        "    f'\\n    var(y)/var(y_cuped) = {var_b_after/var_b_after_adjusted:0.2f}'\n",
        ")\n",
        "print(\n",
        "    f'Контрольная группа\\n    var(y) = {var_a_after:0.1f}\\n    var(y_cuped) = {var_a_after_adjusted:0.1f}'\n",
        "    f'\\n    var(y)/var(y_cuped) = {var_a_after/var_a_after_adjusted:0.2f}'\n",
        ")\n",
        "print(f'\\ndelta_y = {delta_y:0.2f}\\ndelta_y_cuped = {delta_y_cuped:0.2f}')"
      ],
      "metadata": {
        "colab": {
          "base_uri": "https://localhost:8080/"
        },
        "id": "hIYLmfwoX0ld",
        "outputId": "b31c2982-de28-40aa-f240-884f737fdb68"
      },
      "execution_count": 17,
      "outputs": [
        {
          "output_type": "stream",
          "name": "stdout",
          "text": [
            "Тестовая группа\n",
            "    var(y) = 2808.4\n",
            "    var(y_cuped) = 386.5\n",
            "    var(y)/var(y_cuped) = 7.27\n",
            "Контрольная группа\n",
            "    var(y) = 2693.5\n",
            "    var(y_cuped) = 400.8\n",
            "    var(y)/var(y_cuped) = 6.72\n",
            "\n",
            "delta_y = 2.20\n",
            "delta_y_cuped = 1.38\n"
          ]
        }
      ]
    }
  ]
}
