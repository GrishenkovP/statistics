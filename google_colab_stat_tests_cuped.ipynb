{
  "nbformat": 4,
  "nbformat_minor": 0,
  "metadata": {
    "colab": {
      "name": "google_colab_stat_tests_cuped.ipynb",
      "provenance": [],
      "collapsed_sections": []
    },
    "kernelspec": {
      "name": "python3",
      "display_name": "Python 3"
    },
    "language_info": {
      "name": "python"
    }
  },
  "cells": [
    {
      "cell_type": "markdown",
      "metadata": {
        "id": "cA3JABmmrsIV"
      },
      "source": [
        "#CUPED"
      ]
    },
    {
      "cell_type": "code",
      "metadata": {
        "id": "Y7-G_QjCrhEy"
      },
      "source": [
        "import pandas as pd\n",
        "import numpy as np\n",
        "import random"
      ],
      "execution_count": 1,
      "outputs": []
    },
    {
      "cell_type": "code",
      "metadata": {
        "id": "OD8MS-qNrywT"
      },
      "source": [
        "group_option = ['A','B']\n",
        "user_id_list = []\n",
        "group_list = []\n",
        "covariate_list = []\n",
        "metric_list = []"
      ],
      "execution_count": 2,
      "outputs": []
    },
    {
      "cell_type": "code",
      "metadata": {
        "id": "Tq7bOPxGsCW6"
      },
      "source": [
        "for _ in range(1000):\n",
        "  user_id_list.append(_)\n",
        "  group_list.append(random.choice(group_option))\n",
        "  covariate_list.append(random.normalvariate(3500, 1000))\n",
        "  metric_list.append(random.normalvariate(3500,1000)*random.randint(0,1))"
      ],
      "execution_count": 3,
      "outputs": []
    },
    {
      "cell_type": "code",
      "metadata": {
        "id": "5uOSUeoTtl0E"
      },
      "source": [
        "data = {'user_id':user_id_list,\n",
        "        'group':group_list,\n",
        "        'covariate':covariate_list,\n",
        "        'metric':metric_list}"
      ],
      "execution_count": 4,
      "outputs": []
    },
    {
      "cell_type": "code",
      "metadata": {
        "id": "yWeo5swpt5eD"
      },
      "source": [
        "df = pd.DataFrame(data=data)"
      ],
      "execution_count": 5,
      "outputs": []
    },
    {
      "cell_type": "code",
      "metadata": {
        "colab": {
          "base_uri": "https://localhost:8080/",
          "height": 204
        },
        "id": "gfKnn8pSt_nn",
        "outputId": "d44bfcaf-6c78-4174-f17a-c9aaa292a567"
      },
      "source": [
        "df.head()"
      ],
      "execution_count": 6,
      "outputs": [
        {
          "output_type": "execute_result",
          "data": {
            "text/html": [
              "<div>\n",
              "<style scoped>\n",
              "    .dataframe tbody tr th:only-of-type {\n",
              "        vertical-align: middle;\n",
              "    }\n",
              "\n",
              "    .dataframe tbody tr th {\n",
              "        vertical-align: top;\n",
              "    }\n",
              "\n",
              "    .dataframe thead th {\n",
              "        text-align: right;\n",
              "    }\n",
              "</style>\n",
              "<table border=\"1\" class=\"dataframe\">\n",
              "  <thead>\n",
              "    <tr style=\"text-align: right;\">\n",
              "      <th></th>\n",
              "      <th>user_id</th>\n",
              "      <th>group</th>\n",
              "      <th>covariate</th>\n",
              "      <th>metric</th>\n",
              "    </tr>\n",
              "  </thead>\n",
              "  <tbody>\n",
              "    <tr>\n",
              "      <th>0</th>\n",
              "      <td>0</td>\n",
              "      <td>A</td>\n",
              "      <td>3926.865731</td>\n",
              "      <td>0.000000</td>\n",
              "    </tr>\n",
              "    <tr>\n",
              "      <th>1</th>\n",
              "      <td>1</td>\n",
              "      <td>B</td>\n",
              "      <td>3627.206122</td>\n",
              "      <td>2464.596115</td>\n",
              "    </tr>\n",
              "    <tr>\n",
              "      <th>2</th>\n",
              "      <td>2</td>\n",
              "      <td>A</td>\n",
              "      <td>3245.593265</td>\n",
              "      <td>2759.915059</td>\n",
              "    </tr>\n",
              "    <tr>\n",
              "      <th>3</th>\n",
              "      <td>3</td>\n",
              "      <td>A</td>\n",
              "      <td>5307.228223</td>\n",
              "      <td>0.000000</td>\n",
              "    </tr>\n",
              "    <tr>\n",
              "      <th>4</th>\n",
              "      <td>4</td>\n",
              "      <td>B</td>\n",
              "      <td>3381.117680</td>\n",
              "      <td>5813.209695</td>\n",
              "    </tr>\n",
              "  </tbody>\n",
              "</table>\n",
              "</div>"
            ],
            "text/plain": [
              "   user_id group    covariate       metric\n",
              "0        0     A  3926.865731     0.000000\n",
              "1        1     B  3627.206122  2464.596115\n",
              "2        2     A  3245.593265  2759.915059\n",
              "3        3     A  5307.228223     0.000000\n",
              "4        4     B  3381.117680  5813.209695"
            ]
          },
          "metadata": {},
          "execution_count": 6
        }
      ]
    },
    {
      "cell_type": "code",
      "metadata": {
        "colab": {
          "base_uri": "https://localhost:8080/",
          "height": 297
        },
        "id": "Ps8GKr5_uMVj",
        "outputId": "e552977d-b6bc-4d90-987f-d1db522f8aaf"
      },
      "source": [
        "df.describe()"
      ],
      "execution_count": 7,
      "outputs": [
        {
          "output_type": "execute_result",
          "data": {
            "text/html": [
              "<div>\n",
              "<style scoped>\n",
              "    .dataframe tbody tr th:only-of-type {\n",
              "        vertical-align: middle;\n",
              "    }\n",
              "\n",
              "    .dataframe tbody tr th {\n",
              "        vertical-align: top;\n",
              "    }\n",
              "\n",
              "    .dataframe thead th {\n",
              "        text-align: right;\n",
              "    }\n",
              "</style>\n",
              "<table border=\"1\" class=\"dataframe\">\n",
              "  <thead>\n",
              "    <tr style=\"text-align: right;\">\n",
              "      <th></th>\n",
              "      <th>user_id</th>\n",
              "      <th>covariate</th>\n",
              "      <th>metric</th>\n",
              "    </tr>\n",
              "  </thead>\n",
              "  <tbody>\n",
              "    <tr>\n",
              "      <th>count</th>\n",
              "      <td>1000.000000</td>\n",
              "      <td>1000.000000</td>\n",
              "      <td>1000.000000</td>\n",
              "    </tr>\n",
              "    <tr>\n",
              "      <th>mean</th>\n",
              "      <td>499.500000</td>\n",
              "      <td>3412.510138</td>\n",
              "      <td>1783.382728</td>\n",
              "    </tr>\n",
              "    <tr>\n",
              "      <th>std</th>\n",
              "      <td>288.819436</td>\n",
              "      <td>994.668983</td>\n",
              "      <td>1904.836469</td>\n",
              "    </tr>\n",
              "    <tr>\n",
              "      <th>min</th>\n",
              "      <td>0.000000</td>\n",
              "      <td>351.600448</td>\n",
              "      <td>0.000000</td>\n",
              "    </tr>\n",
              "    <tr>\n",
              "      <th>25%</th>\n",
              "      <td>249.750000</td>\n",
              "      <td>2757.554397</td>\n",
              "      <td>0.000000</td>\n",
              "    </tr>\n",
              "    <tr>\n",
              "      <th>50%</th>\n",
              "      <td>499.500000</td>\n",
              "      <td>3375.288462</td>\n",
              "      <td>1438.006318</td>\n",
              "    </tr>\n",
              "    <tr>\n",
              "      <th>75%</th>\n",
              "      <td>749.250000</td>\n",
              "      <td>4103.348222</td>\n",
              "      <td>3524.154888</td>\n",
              "    </tr>\n",
              "    <tr>\n",
              "      <th>max</th>\n",
              "      <td>999.000000</td>\n",
              "      <td>6170.144511</td>\n",
              "      <td>6822.466037</td>\n",
              "    </tr>\n",
              "  </tbody>\n",
              "</table>\n",
              "</div>"
            ],
            "text/plain": [
              "           user_id    covariate       metric\n",
              "count  1000.000000  1000.000000  1000.000000\n",
              "mean    499.500000  3412.510138  1783.382728\n",
              "std     288.819436   994.668983  1904.836469\n",
              "min       0.000000   351.600448     0.000000\n",
              "25%     249.750000  2757.554397     0.000000\n",
              "50%     499.500000  3375.288462  1438.006318\n",
              "75%     749.250000  4103.348222  3524.154888\n",
              "max     999.000000  6170.144511  6822.466037"
            ]
          },
          "metadata": {},
          "execution_count": 7
        }
      ]
    },
    {
      "cell_type": "code",
      "metadata": {
        "colab": {
          "base_uri": "https://localhost:8080/",
          "height": 282
        },
        "id": "Ugm3EU5_ugtC",
        "outputId": "15274c44-27b4-4dd9-928d-952253027ee5"
      },
      "source": [
        "df['covariate'].hist()"
      ],
      "execution_count": 8,
      "outputs": [
        {
          "output_type": "execute_result",
          "data": {
            "text/plain": [
              "<matplotlib.axes._subplots.AxesSubplot at 0x7f864386a3d0>"
            ]
          },
          "metadata": {},
          "execution_count": 8
        },
        {
          "output_type": "display_data",
          "data": {
            "image/png": "[encoded data removed]",
            "text/plain": [
              "<Figure size 432x288 with 1 Axes>"
            ]
          },
          "metadata": {
            "needs_background": "light"
          }
        }
      ]
    },
    {
      "cell_type": "code",
      "metadata": {
        "colab": {
          "base_uri": "https://localhost:8080/",
          "height": 282
        },
        "id": "H1y-nCrAuUUK",
        "outputId": "6f4090a0-8443-41ed-9a06-631e2d190a8e"
      },
      "source": [
        "df['metric'].hist()"
      ],
      "execution_count": 9,
      "outputs": [
        {
          "output_type": "execute_result",
          "data": {
            "text/plain": [
              "<matplotlib.axes._subplots.AxesSubplot at 0x7f86437513d0>"
            ]
          },
          "metadata": {},
          "execution_count": 9
        },
        {
          "output_type": "display_data",
          "data": {
            "image/png": "[encoded data removed]",
            "text/plain": [
              "<Figure size 432x288 with 1 Axes>"
            ]
          },
          "metadata": {
            "needs_background": "light"
          }
        }
      ]
    },
    {
      "cell_type": "code",
      "metadata": {
        "id": "xcGkOUPiKs10"
      },
      "source": [
        "def covariance(x, y):\n",
        "    mean_x = sum(x)/float(len(x))\n",
        "    mean_y = sum(y)/float(len(y))\n",
        "    sub_x = [i - mean_x for i in x]\n",
        "    sub_y = [i - mean_y for i in y]\n",
        "    numerator = sum([sub_x[i]*sub_y[i] for i in range(len(sub_x))])\n",
        "    denominator = len(x)-1\n",
        "    cov = numerator/denominator\n",
        "    return cov"
      ],
      "execution_count": 10,
      "outputs": []
    },
    {
      "cell_type": "code",
      "metadata": {
        "id": "qJOGh07YKu89"
      },
      "source": [
        "def variance(data, ddof=0):\n",
        "    \"\"\"\n",
        "    :param ddof 0 - дисперсия генеральной совокупности, 1 - выборки\n",
        "    \"\"\"\n",
        "    n = len(data)\n",
        "    mean = sum(data) / n\n",
        "    return sum((x - mean) ** 2 for x in data) / (n - ddof)"
      ],
      "execution_count": 11,
      "outputs": []
    },
    {
      "cell_type": "code",
      "metadata": {
        "id": "SbimMJXVzmaK"
      },
      "source": [
        "df['theta'] = covariance(df['metric'],df['covariate'])/variance(df['covariate'])"
      ],
      "execution_count": 12,
      "outputs": []
    },
    {
      "cell_type": "code",
      "metadata": {
        "id": "Wdv3u7DLzRMx"
      },
      "source": [
        "df['cuped'] = df['metric'] - (df['covariate'] - np.mean(df['covariate']))*df['theta']"
      ],
      "execution_count": 13,
      "outputs": []
    },
    {
      "cell_type": "code",
      "metadata": {
        "colab": {
          "base_uri": "https://localhost:8080/",
          "height": 359
        },
        "id": "dkacETHgzfAB",
        "outputId": "94a4873f-911f-41a4-a171-0d95ccb93c98"
      },
      "source": [
        "df.head(10)"
      ],
      "execution_count": 14,
      "outputs": [
        {
          "output_type": "execute_result",
          "data": {
            "text/html": [
              "<div>\n",
              "<style scoped>\n",
              "    .dataframe tbody tr th:only-of-type {\n",
              "        vertical-align: middle;\n",
              "    }\n",
              "\n",
              "    .dataframe tbody tr th {\n",
              "        vertical-align: top;\n",
              "    }\n",
              "\n",
              "    .dataframe thead th {\n",
              "        text-align: right;\n",
              "    }\n",
              "</style>\n",
              "<table border=\"1\" class=\"dataframe\">\n",
              "  <thead>\n",
              "    <tr style=\"text-align: right;\">\n",
              "      <th></th>\n",
              "      <th>user_id</th>\n",
              "      <th>group</th>\n",
              "      <th>covariate</th>\n",
              "      <th>metric</th>\n",
              "      <th>theta</th>\n",
              "      <th>cuped</th>\n",
              "    </tr>\n",
              "  </thead>\n",
              "  <tbody>\n",
              "    <tr>\n",
              "      <th>0</th>\n",
              "      <td>0</td>\n",
              "      <td>A</td>\n",
              "      <td>3926.865731</td>\n",
              "      <td>0.000000</td>\n",
              "      <td>-0.125642</td>\n",
              "      <td>64.624565</td>\n",
              "    </tr>\n",
              "    <tr>\n",
              "      <th>1</th>\n",
              "      <td>1</td>\n",
              "      <td>B</td>\n",
              "      <td>3627.206122</td>\n",
              "      <td>2464.596115</td>\n",
              "      <td>-0.125642</td>\n",
              "      <td>2491.570906</td>\n",
              "    </tr>\n",
              "    <tr>\n",
              "      <th>2</th>\n",
              "      <td>2</td>\n",
              "      <td>A</td>\n",
              "      <td>3245.593265</td>\n",
              "      <td>2759.915059</td>\n",
              "      <td>-0.125642</td>\n",
              "      <td>2738.943322</td>\n",
              "    </tr>\n",
              "    <tr>\n",
              "      <th>3</th>\n",
              "      <td>3</td>\n",
              "      <td>A</td>\n",
              "      <td>5307.228223</td>\n",
              "      <td>0.000000</td>\n",
              "      <td>-0.125642</td>\n",
              "      <td>238.055801</td>\n",
              "    </tr>\n",
              "    <tr>\n",
              "      <th>4</th>\n",
              "      <td>4</td>\n",
              "      <td>B</td>\n",
              "      <td>3381.117680</td>\n",
              "      <td>5813.209695</td>\n",
              "      <td>-0.125642</td>\n",
              "      <td>5809.265490</td>\n",
              "    </tr>\n",
              "    <tr>\n",
              "      <th>5</th>\n",
              "      <td>5</td>\n",
              "      <td>A</td>\n",
              "      <td>3801.391893</td>\n",
              "      <td>0.000000</td>\n",
              "      <td>-0.125642</td>\n",
              "      <td>48.859806</td>\n",
              "    </tr>\n",
              "    <tr>\n",
              "      <th>6</th>\n",
              "      <td>6</td>\n",
              "      <td>B</td>\n",
              "      <td>4627.349214</td>\n",
              "      <td>3098.287798</td>\n",
              "      <td>-0.125642</td>\n",
              "      <td>3250.922373</td>\n",
              "    </tr>\n",
              "    <tr>\n",
              "      <th>7</th>\n",
              "      <td>7</td>\n",
              "      <td>B</td>\n",
              "      <td>3375.503919</td>\n",
              "      <td>0.000000</td>\n",
              "      <td>-0.125642</td>\n",
              "      <td>-4.649528</td>\n",
              "    </tr>\n",
              "    <tr>\n",
              "      <th>8</th>\n",
              "      <td>8</td>\n",
              "      <td>B</td>\n",
              "      <td>3830.173989</td>\n",
              "      <td>4737.619091</td>\n",
              "      <td>-0.125642</td>\n",
              "      <td>4790.095131</td>\n",
              "    </tr>\n",
              "    <tr>\n",
              "      <th>9</th>\n",
              "      <td>9</td>\n",
              "      <td>B</td>\n",
              "      <td>3083.495944</td>\n",
              "      <td>0.000000</td>\n",
              "      <td>-0.125642</td>\n",
              "      <td>-41.337937</td>\n",
              "    </tr>\n",
              "  </tbody>\n",
              "</table>\n",
              "</div>"
            ],
            "text/plain": [
              "   user_id group    covariate       metric     theta        cuped\n",
              "0        0     A  3926.865731     0.000000 -0.125642    64.624565\n",
              "1        1     B  3627.206122  2464.596115 -0.125642  2491.570906\n",
              "2        2     A  3245.593265  2759.915059 -0.125642  2738.943322\n",
              "3        3     A  5307.228223     0.000000 -0.125642   238.055801\n",
              "4        4     B  3381.117680  5813.209695 -0.125642  5809.265490\n",
              "5        5     A  3801.391893     0.000000 -0.125642    48.859806\n",
              "6        6     B  4627.349214  3098.287798 -0.125642  3250.922373\n",
              "7        7     B  3375.503919     0.000000 -0.125642    -4.649528\n",
              "8        8     B  3830.173989  4737.619091 -0.125642  4790.095131\n",
              "9        9     B  3083.495944     0.000000 -0.125642   -41.337937"
            ]
          },
          "metadata": {},
          "execution_count": 14
        }
      ]
    },
    {
      "cell_type": "code",
      "metadata": {
        "colab": {
          "base_uri": "https://localhost:8080/",
          "height": 282
        },
        "id": "PSEt_oGdLKPH",
        "outputId": "e0c8316e-d600-4ce8-aebe-0867fcd9eaf0"
      },
      "source": [
        "df['cuped'].hist()"
      ],
      "execution_count": 15,
      "outputs": [
        {
          "output_type": "execute_result",
          "data": {
            "text/plain": [
              "<matplotlib.axes._subplots.AxesSubplot at 0x7f86427a9110>"
            ]
          },
          "metadata": {},
          "execution_count": 15
        },
        {
          "output_type": "display_data",
          "data": {
            "image/png": "[encoded data removed]",
            "text/plain": [
              "<Figure size 432x288 with 1 Axes>"
            ]
          },
          "metadata": {
            "needs_background": "light"
          }
        }
      ]
    }
  ]
}