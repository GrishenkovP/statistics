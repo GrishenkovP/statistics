{
  "nbformat": 4,
  "nbformat_minor": 0,
  "metadata": {
    "colab": {
      "provenance": [],
      "collapsed_sections": []
    },
    "kernelspec": {
      "name": "python3",
      "display_name": "Python 3"
    },
    "language_info": {
      "name": "python"
    }
  },
  "cells": [
    {
      "cell_type": "markdown",
      "source": [
        "# **CUPED (Controlled-experiment Using Pre-Experiment Data)**"
      ],
      "metadata": {
        "id": "KMXEVeAf-veQ"
      }
    },
    {
      "cell_type": "markdown",
      "source": [
        "# Publication \"Reducing variance in A/B testing with CUPED\""
      ],
      "metadata": {
        "id": "Lu8wQtbq9CKR"
      }
    },
    {
      "cell_type": "code",
      "source": [
        "# Ноутбук-первоисточник https://github.com/mtrencseni/playground/blob/master/CUPED.ipynb"
      ],
      "metadata": {
        "id": "cTfgyOdefmfB"
      },
      "execution_count": 1,
      "outputs": []
    },
    {
      "cell_type": "code",
      "execution_count": 2,
      "metadata": {
        "id": "o7jiIFC71zjn"
      },
      "outputs": [],
      "source": [
        "import scipy\n",
        "import numpy as np\n",
        "from math import sqrt\n",
        "from scipy import stats\n",
        "from numpy.random import normal\n",
        "import matplotlib.pyplot as plt\n",
        "%matplotlib inline"
      ]
    },
    {
      "cell_type": "code",
      "source": [
        "def get_cuped_adjusted(A_before, B_before, A_after, B_after):\n",
        "    cv = np.cov([A_after + B_after, A_before + B_before])\n",
        "    theta = cv[0, 1] / cv[1, 1]\n",
        "    mean_before = np.mean(A_before + B_before)\n",
        "    A_after_adjusted = [after - (before - mean_before) * theta for after, before in zip(A_after, A_before)]\n",
        "    B_after_adjusted = [after - (before - mean_before) * theta for after, before in zip(B_after, B_before)]\n",
        "    return A_after_adjusted, B_after_adjusted"
      ],
      "metadata": {
        "id": "BzuOt_lj2abX"
      },
      "execution_count": 3,
      "outputs": []
    },
    {
      "cell_type": "code",
      "source": [
        "# # Аналогично\n",
        "# def get_cuped_adjusted(A_before, B_before, A_after, B_after):\n",
        "#     theta = np.cov([A_after + B_after, A_before + B_before], bias=True)[0][1] / np.var([A_before + B_before])\n",
        "#     mean_before = np.mean(A_before + B_before)\n",
        "#     A_after_adjusted = [after - (before - mean_before) * theta for after, before in zip(A_after, A_before)]\n",
        "#     B_after_adjusted = [after - (before - mean_before) * theta for after, before in zip(B_after, B_before)]\n",
        "#     return A_after_adjusted, B_after_adjusted"
      ],
      "metadata": {
        "id": "OW4EqezwllSk"
      },
      "execution_count": 4,
      "outputs": []
    },
    {
      "cell_type": "code",
      "source": [
        "def get_AB_samples(before_mean, before_sigma, eps_sigma, treatment_lift, N):\n",
        "    A_before = list(normal(loc=before_mean, scale=before_sigma, size=N))\n",
        "    B_before = list(normal(loc=before_mean, scale=before_sigma, size=N))\n",
        "    A_after  = [x + normal(loc=0, scale=eps_sigma) for x in A_before]\n",
        "    B_after  = [x + normal(loc=0, scale=eps_sigma) + treatment_lift for x in B_before]\n",
        "    return A_before, B_before, A_after, B_after"
      ],
      "metadata": {
        "id": "D4GSfCOc8LxO"
      },
      "execution_count": 5,
      "outputs": []
    },
    {
      "cell_type": "code",
      "source": [
        "def lift(A, B):\n",
        "    return np.mean(B) - np.mean(A)"
      ],
      "metadata": {
        "id": "ZedPcbT-8rCQ"
      },
      "execution_count": 6,
      "outputs": []
    },
    {
      "cell_type": "code",
      "source": [
        "def p_value(A, B):\n",
        "    return stats.ttest_ind(A, B)[1]"
      ],
      "metadata": {
        "id": "eWi8jtAA8wwX"
      },
      "execution_count": 7,
      "outputs": []
    },
    {
      "cell_type": "code",
      "source": [
        "N = 1000\n",
        "before_mean = 100 \n",
        "before_sigma = 50\n",
        "eps_sigma = 20\n",
        "treatment_lift = 2"
      ],
      "metadata": {
        "id": "845sxXB48UmP"
      },
      "execution_count": 8,
      "outputs": []
    },
    {
      "cell_type": "code",
      "source": [
        "A_before, B_before, A_after, B_after = get_AB_samples(before_mean, before_sigma, eps_sigma, treatment_lift, N)\n",
        "A_after_adjusted, B_after_adjusted = get_cuped_adjusted(A_before, B_before, A_after, B_after)"
      ],
      "metadata": {
        "id": "as9Uu60X8e2H"
      },
      "execution_count": 9,
      "outputs": []
    },
    {
      "cell_type": "code",
      "source": [
        "print('A mean before = %05.1f, A mean after = %05.1f' % (np.mean(A_before), np.mean(A_after)))\n",
        "print('B mean before = %05.1f, B mean after = %05.1f' % (np.mean(B_before), np.mean(B_after)))\n",
        "print('Traditional    A/B test evaluation, lift = %.3f, p-value = %.3f' % (lift(A_after, B_after), p_value(A_after, B_after)))\n",
        "print('CUPED adjusted A/B test evaluation, lift = %.3f, p-value = %.3f' % (lift(A_after_adjusted, B_after_adjusted), p_value(A_after_adjusted, B_after_adjusted)))"
      ],
      "metadata": {
        "colab": {
          "base_uri": "https://localhost:8080/"
        },
        "id": "j2f_wjcm8g_3",
        "outputId": "5bd2e8c5-c425-49b6-d43e-dcd56d908056"
      },
      "execution_count": 10,
      "outputs": [
        {
          "output_type": "stream",
          "name": "stdout",
          "text": [
            "A mean before = 099.1, A mean after = 098.5\n",
            "B mean before = 099.9, B mean after = 101.4\n",
            "Traditional    A/B test evaluation, lift = 2.890, p-value = 0.231\n",
            "CUPED adjusted A/B test evaluation, lift = 2.062, p-value = 0.024\n"
          ]
        }
      ]
    }
  ]
}
