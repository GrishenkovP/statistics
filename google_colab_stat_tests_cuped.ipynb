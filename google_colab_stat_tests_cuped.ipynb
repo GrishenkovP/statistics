{
  "nbformat": 4,
  "nbformat_minor": 0,
  "metadata": {
    "colab": {
      "name": "google_colab_stat_tests_cuped.ipynb",
      "provenance": [],
      "collapsed_sections": []
    },
    "kernelspec": {
      "name": "python3",
      "display_name": "Python 3"
    },
    "language_info": {
      "name": "python"
    },
    "widgets": {
      "application/vnd.jupyter.widget-state+json": {
        "36f3cee72145401e84d437ba2feebc69": {
          "model_module": "@jupyter-widgets/controls",
          "model_name": "HBoxModel",
          "model_module_version": "1.5.0",
          "state": {
            "_dom_classes": [],
            "_model_module": "@jupyter-widgets/controls",
            "_model_module_version": "1.5.0",
            "_model_name": "HBoxModel",
            "_view_count": null,
            "_view_module": "@jupyter-widgets/controls",
            "_view_module_version": "1.5.0",
            "_view_name": "HBoxView",
            "box_style": "",
            "children": [
              "IPY_MODEL_3cd15152495a42809e40b06a00d7e6af",
              "IPY_MODEL_14cde579aff745ccb9b815e9d887d21b",
              "IPY_MODEL_c42f9583bba341f1bad78dfab4d4e10e"
            ],
            "layout": "IPY_MODEL_4ce5035659b64184a492972f14096daa"
          }
        },
        "3cd15152495a42809e40b06a00d7e6af": {
          "model_module": "@jupyter-widgets/controls",
          "model_name": "HTMLModel",
          "model_module_version": "1.5.0",
          "state": {
            "_dom_classes": [],
            "_model_module": "@jupyter-widgets/controls",
            "_model_module_version": "1.5.0",
            "_model_name": "HTMLModel",
            "_view_count": null,
            "_view_module": "@jupyter-widgets/controls",
            "_view_module_version": "1.5.0",
            "_view_name": "HTMLView",
            "description": "",
            "description_tooltip": null,
            "layout": "IPY_MODEL_84b6ae7d3d9640c6bebd9419c1573c4e",
            "placeholder": "​",
            "style": "IPY_MODEL_9193d6b3356c4deb8a67f38f8653f982",
            "value": "100%"
          }
        },
        "14cde579aff745ccb9b815e9d887d21b": {
          "model_module": "@jupyter-widgets/controls",
          "model_name": "FloatProgressModel",
          "model_module_version": "1.5.0",
          "state": {
            "_dom_classes": [],
            "_model_module": "@jupyter-widgets/controls",
            "_model_module_version": "1.5.0",
            "_model_name": "FloatProgressModel",
            "_view_count": null,
            "_view_module": "@jupyter-widgets/controls",
            "_view_module_version": "1.5.0",
            "_view_name": "ProgressView",
            "bar_style": "success",
            "description": "",
            "description_tooltip": null,
            "layout": "IPY_MODEL_3574393052b1458c8a645d5490622f0c",
            "max": 30000,
            "min": 0,
            "orientation": "horizontal",
            "style": "IPY_MODEL_26e0558db2e04d7fb898b5c3689ab59c",
            "value": 30000
          }
        },
        "c42f9583bba341f1bad78dfab4d4e10e": {
          "model_module": "@jupyter-widgets/controls",
          "model_name": "HTMLModel",
          "model_module_version": "1.5.0",
          "state": {
            "_dom_classes": [],
            "_model_module": "@jupyter-widgets/controls",
            "_model_module_version": "1.5.0",
            "_model_name": "HTMLModel",
            "_view_count": null,
            "_view_module": "@jupyter-widgets/controls",
            "_view_module_version": "1.5.0",
            "_view_name": "HTMLView",
            "description": "",
            "description_tooltip": null,
            "layout": "IPY_MODEL_a4c5adf470324c73b2aa7f6a92bbfcc0",
            "placeholder": "​",
            "style": "IPY_MODEL_03ba680e903a45c4b6c56ca35d50f9ce",
            "value": " 30000/30000 [03:11&lt;00:00, 172.59it/s]"
          }
        },
        "4ce5035659b64184a492972f14096daa": {
          "model_module": "@jupyter-widgets/base",
          "model_name": "LayoutModel",
          "model_module_version": "1.2.0",
          "state": {
            "_model_module": "@jupyter-widgets/base",
            "_model_module_version": "1.2.0",
            "_model_name": "LayoutModel",
            "_view_count": null,
            "_view_module": "@jupyter-widgets/base",
            "_view_module_version": "1.2.0",
            "_view_name": "LayoutView",
            "align_content": null,
            "align_items": null,
            "align_self": null,
            "border": null,
            "bottom": null,
            "display": null,
            "flex": null,
            "flex_flow": null,
            "grid_area": null,
            "grid_auto_columns": null,
            "grid_auto_flow": null,
            "grid_auto_rows": null,
            "grid_column": null,
            "grid_gap": null,
            "grid_row": null,
            "grid_template_areas": null,
            "grid_template_columns": null,
            "grid_template_rows": null,
            "height": null,
            "justify_content": null,
            "justify_items": null,
            "left": null,
            "margin": null,
            "max_height": null,
            "max_width": null,
            "min_height": null,
            "min_width": null,
            "object_fit": null,
            "object_position": null,
            "order": null,
            "overflow": null,
            "overflow_x": null,
            "overflow_y": null,
            "padding": null,
            "right": null,
            "top": null,
            "visibility": null,
            "width": null
          }
        },
        "84b6ae7d3d9640c6bebd9419c1573c4e": {
          "model_module": "@jupyter-widgets/base",
          "model_name": "LayoutModel",
          "model_module_version": "1.2.0",
          "state": {
            "_model_module": "@jupyter-widgets/base",
            "_model_module_version": "1.2.0",
            "_model_name": "LayoutModel",
            "_view_count": null,
            "_view_module": "@jupyter-widgets/base",
            "_view_module_version": "1.2.0",
            "_view_name": "LayoutView",
            "align_content": null,
            "align_items": null,
            "align_self": null,
            "border": null,
            "bottom": null,
            "display": null,
            "flex": null,
            "flex_flow": null,
            "grid_area": null,
            "grid_auto_columns": null,
            "grid_auto_flow": null,
            "grid_auto_rows": null,
            "grid_column": null,
            "grid_gap": null,
            "grid_row": null,
            "grid_template_areas": null,
            "grid_template_columns": null,
            "grid_template_rows": null,
            "height": null,
            "justify_content": null,
            "justify_items": null,
            "left": null,
            "margin": null,
            "max_height": null,
            "max_width": null,
            "min_height": null,
            "min_width": null,
            "object_fit": null,
            "object_position": null,
            "order": null,
            "overflow": null,
            "overflow_x": null,
            "overflow_y": null,
            "padding": null,
            "right": null,
            "top": null,
            "visibility": null,
            "width": null
          }
        },
        "9193d6b3356c4deb8a67f38f8653f982": {
          "model_module": "@jupyter-widgets/controls",
          "model_name": "DescriptionStyleModel",
          "model_module_version": "1.5.0",
          "state": {
            "_model_module": "@jupyter-widgets/controls",
            "_model_module_version": "1.5.0",
            "_model_name": "DescriptionStyleModel",
            "_view_count": null,
            "_view_module": "@jupyter-widgets/base",
            "_view_module_version": "1.2.0",
            "_view_name": "StyleView",
            "description_width": ""
          }
        },
        "3574393052b1458c8a645d5490622f0c": {
          "model_module": "@jupyter-widgets/base",
          "model_name": "LayoutModel",
          "model_module_version": "1.2.0",
          "state": {
            "_model_module": "@jupyter-widgets/base",
            "_model_module_version": "1.2.0",
            "_model_name": "LayoutModel",
            "_view_count": null,
            "_view_module": "@jupyter-widgets/base",
            "_view_module_version": "1.2.0",
            "_view_name": "LayoutView",
            "align_content": null,
            "align_items": null,
            "align_self": null,
            "border": null,
            "bottom": null,
            "display": null,
            "flex": null,
            "flex_flow": null,
            "grid_area": null,
            "grid_auto_columns": null,
            "grid_auto_flow": null,
            "grid_auto_rows": null,
            "grid_column": null,
            "grid_gap": null,
            "grid_row": null,
            "grid_template_areas": null,
            "grid_template_columns": null,
            "grid_template_rows": null,
            "height": null,
            "justify_content": null,
            "justify_items": null,
            "left": null,
            "margin": null,
            "max_height": null,
            "max_width": null,
            "min_height": null,
            "min_width": null,
            "object_fit": null,
            "object_position": null,
            "order": null,
            "overflow": null,
            "overflow_x": null,
            "overflow_y": null,
            "padding": null,
            "right": null,
            "top": null,
            "visibility": null,
            "width": null
          }
        },
        "26e0558db2e04d7fb898b5c3689ab59c": {
          "model_module": "@jupyter-widgets/controls",
          "model_name": "ProgressStyleModel",
          "model_module_version": "1.5.0",
          "state": {
            "_model_module": "@jupyter-widgets/controls",
            "_model_module_version": "1.5.0",
            "_model_name": "ProgressStyleModel",
            "_view_count": null,
            "_view_module": "@jupyter-widgets/base",
            "_view_module_version": "1.2.0",
            "_view_name": "StyleView",
            "bar_color": null,
            "description_width": ""
          }
        },
        "a4c5adf470324c73b2aa7f6a92bbfcc0": {
          "model_module": "@jupyter-widgets/base",
          "model_name": "LayoutModel",
          "model_module_version": "1.2.0",
          "state": {
            "_model_module": "@jupyter-widgets/base",
            "_model_module_version": "1.2.0",
            "_model_name": "LayoutModel",
            "_view_count": null,
            "_view_module": "@jupyter-widgets/base",
            "_view_module_version": "1.2.0",
            "_view_name": "LayoutView",
            "align_content": null,
            "align_items": null,
            "align_self": null,
            "border": null,
            "bottom": null,
            "display": null,
            "flex": null,
            "flex_flow": null,
            "grid_area": null,
            "grid_auto_columns": null,
            "grid_auto_flow": null,
            "grid_auto_rows": null,
            "grid_column": null,
            "grid_gap": null,
            "grid_row": null,
            "grid_template_areas": null,
            "grid_template_columns": null,
            "grid_template_rows": null,
            "height": null,
            "justify_content": null,
            "justify_items": null,
            "left": null,
            "margin": null,
            "max_height": null,
            "max_width": null,
            "min_height": null,
            "min_width": null,
            "object_fit": null,
            "object_position": null,
            "order": null,
            "overflow": null,
            "overflow_x": null,
            "overflow_y": null,
            "padding": null,
            "right": null,
            "top": null,
            "visibility": null,
            "width": null
          }
        },
        "03ba680e903a45c4b6c56ca35d50f9ce": {
          "model_module": "@jupyter-widgets/controls",
          "model_name": "DescriptionStyleModel",
          "model_module_version": "1.5.0",
          "state": {
            "_model_module": "@jupyter-widgets/controls",
            "_model_module_version": "1.5.0",
            "_model_name": "DescriptionStyleModel",
            "_view_count": null,
            "_view_module": "@jupyter-widgets/base",
            "_view_module_version": "1.2.0",
            "_view_name": "StyleView",
            "description_width": ""
          }
        },
        "8df6067bd9ca4efc9b19dc3c419d2780": {
          "model_module": "@jupyter-widgets/controls",
          "model_name": "HBoxModel",
          "model_module_version": "1.5.0",
          "state": {
            "_dom_classes": [],
            "_model_module": "@jupyter-widgets/controls",
            "_model_module_version": "1.5.0",
            "_model_name": "HBoxModel",
            "_view_count": null,
            "_view_module": "@jupyter-widgets/controls",
            "_view_module_version": "1.5.0",
            "_view_name": "HBoxView",
            "box_style": "",
            "children": [
              "IPY_MODEL_b250b70882d04ff48f3be47a2c5569b5",
              "IPY_MODEL_f673b8f7c2de4f9fa77e477b4ca4592c",
              "IPY_MODEL_df90d6509b2c4e7d932a2e1eebb01a18"
            ],
            "layout": "IPY_MODEL_42eb18039f9a4e71a92772c5ccb3e388"
          }
        },
        "b250b70882d04ff48f3be47a2c5569b5": {
          "model_module": "@jupyter-widgets/controls",
          "model_name": "HTMLModel",
          "model_module_version": "1.5.0",
          "state": {
            "_dom_classes": [],
            "_model_module": "@jupyter-widgets/controls",
            "_model_module_version": "1.5.0",
            "_model_name": "HTMLModel",
            "_view_count": null,
            "_view_module": "@jupyter-widgets/controls",
            "_view_module_version": "1.5.0",
            "_view_name": "HTMLView",
            "description": "",
            "description_tooltip": null,
            "layout": "IPY_MODEL_100a292818334af1b366bc53f41a1602",
            "placeholder": "​",
            "style": "IPY_MODEL_52213550d49247ac9de1247b741923e8",
            "value": "100%"
          }
        },
        "f673b8f7c2de4f9fa77e477b4ca4592c": {
          "model_module": "@jupyter-widgets/controls",
          "model_name": "FloatProgressModel",
          "model_module_version": "1.5.0",
          "state": {
            "_dom_classes": [],
            "_model_module": "@jupyter-widgets/controls",
            "_model_module_version": "1.5.0",
            "_model_name": "FloatProgressModel",
            "_view_count": null,
            "_view_module": "@jupyter-widgets/controls",
            "_view_module_version": "1.5.0",
            "_view_name": "ProgressView",
            "bar_style": "success",
            "description": "",
            "description_tooltip": null,
            "layout": "IPY_MODEL_630518f84f514ee790ccb949c03fe843",
            "max": 30000,
            "min": 0,
            "orientation": "horizontal",
            "style": "IPY_MODEL_1783fa0e89734145b222db723532735c",
            "value": 30000
          }
        },
        "df90d6509b2c4e7d932a2e1eebb01a18": {
          "model_module": "@jupyter-widgets/controls",
          "model_name": "HTMLModel",
          "model_module_version": "1.5.0",
          "state": {
            "_dom_classes": [],
            "_model_module": "@jupyter-widgets/controls",
            "_model_module_version": "1.5.0",
            "_model_name": "HTMLModel",
            "_view_count": null,
            "_view_module": "@jupyter-widgets/controls",
            "_view_module_version": "1.5.0",
            "_view_name": "HTMLView",
            "description": "",
            "description_tooltip": null,
            "layout": "IPY_MODEL_07cce9d9c46740539d56114ef17c5b9c",
            "placeholder": "​",
            "style": "IPY_MODEL_cf8bd8f64b2c4a78962fbab8b42cb526",
            "value": " 30000/30000 [03:35&lt;00:00, 141.10it/s]"
          }
        },
        "42eb18039f9a4e71a92772c5ccb3e388": {
          "model_module": "@jupyter-widgets/base",
          "model_name": "LayoutModel",
          "model_module_version": "1.2.0",
          "state": {
            "_model_module": "@jupyter-widgets/base",
            "_model_module_version": "1.2.0",
            "_model_name": "LayoutModel",
            "_view_count": null,
            "_view_module": "@jupyter-widgets/base",
            "_view_module_version": "1.2.0",
            "_view_name": "LayoutView",
            "align_content": null,
            "align_items": null,
            "align_self": null,
            "border": null,
            "bottom": null,
            "display": null,
            "flex": null,
            "flex_flow": null,
            "grid_area": null,
            "grid_auto_columns": null,
            "grid_auto_flow": null,
            "grid_auto_rows": null,
            "grid_column": null,
            "grid_gap": null,
            "grid_row": null,
            "grid_template_areas": null,
            "grid_template_columns": null,
            "grid_template_rows": null,
            "height": null,
            "justify_content": null,
            "justify_items": null,
            "left": null,
            "margin": null,
            "max_height": null,
            "max_width": null,
            "min_height": null,
            "min_width": null,
            "object_fit": null,
            "object_position": null,
            "order": null,
            "overflow": null,
            "overflow_x": null,
            "overflow_y": null,
            "padding": null,
            "right": null,
            "top": null,
            "visibility": null,
            "width": null
          }
        },
        "100a292818334af1b366bc53f41a1602": {
          "model_module": "@jupyter-widgets/base",
          "model_name": "LayoutModel",
          "model_module_version": "1.2.0",
          "state": {
            "_model_module": "@jupyter-widgets/base",
            "_model_module_version": "1.2.0",
            "_model_name": "LayoutModel",
            "_view_count": null,
            "_view_module": "@jupyter-widgets/base",
            "_view_module_version": "1.2.0",
            "_view_name": "LayoutView",
            "align_content": null,
            "align_items": null,
            "align_self": null,
            "border": null,
            "bottom": null,
            "display": null,
            "flex": null,
            "flex_flow": null,
            "grid_area": null,
            "grid_auto_columns": null,
            "grid_auto_flow": null,
            "grid_auto_rows": null,
            "grid_column": null,
            "grid_gap": null,
            "grid_row": null,
            "grid_template_areas": null,
            "grid_template_columns": null,
            "grid_template_rows": null,
            "height": null,
            "justify_content": null,
            "justify_items": null,
            "left": null,
            "margin": null,
            "max_height": null,
            "max_width": null,
            "min_height": null,
            "min_width": null,
            "object_fit": null,
            "object_position": null,
            "order": null,
            "overflow": null,
            "overflow_x": null,
            "overflow_y": null,
            "padding": null,
            "right": null,
            "top": null,
            "visibility": null,
            "width": null
          }
        },
        "52213550d49247ac9de1247b741923e8": {
          "model_module": "@jupyter-widgets/controls",
          "model_name": "DescriptionStyleModel",
          "model_module_version": "1.5.0",
          "state": {
            "_model_module": "@jupyter-widgets/controls",
            "_model_module_version": "1.5.0",
            "_model_name": "DescriptionStyleModel",
            "_view_count": null,
            "_view_module": "@jupyter-widgets/base",
            "_view_module_version": "1.2.0",
            "_view_name": "StyleView",
            "description_width": ""
          }
        },
        "630518f84f514ee790ccb949c03fe843": {
          "model_module": "@jupyter-widgets/base",
          "model_name": "LayoutModel",
          "model_module_version": "1.2.0",
          "state": {
            "_model_module": "@jupyter-widgets/base",
            "_model_module_version": "1.2.0",
            "_model_name": "LayoutModel",
            "_view_count": null,
            "_view_module": "@jupyter-widgets/base",
            "_view_module_version": "1.2.0",
            "_view_name": "LayoutView",
            "align_content": null,
            "align_items": null,
            "align_self": null,
            "border": null,
            "bottom": null,
            "display": null,
            "flex": null,
            "flex_flow": null,
            "grid_area": null,
            "grid_auto_columns": null,
            "grid_auto_flow": null,
            "grid_auto_rows": null,
            "grid_column": null,
            "grid_gap": null,
            "grid_row": null,
            "grid_template_areas": null,
            "grid_template_columns": null,
            "grid_template_rows": null,
            "height": null,
            "justify_content": null,
            "justify_items": null,
            "left": null,
            "margin": null,
            "max_height": null,
            "max_width": null,
            "min_height": null,
            "min_width": null,
            "object_fit": null,
            "object_position": null,
            "order": null,
            "overflow": null,
            "overflow_x": null,
            "overflow_y": null,
            "padding": null,
            "right": null,
            "top": null,
            "visibility": null,
            "width": null
          }
        },
        "1783fa0e89734145b222db723532735c": {
          "model_module": "@jupyter-widgets/controls",
          "model_name": "ProgressStyleModel",
          "model_module_version": "1.5.0",
          "state": {
            "_model_module": "@jupyter-widgets/controls",
            "_model_module_version": "1.5.0",
            "_model_name": "ProgressStyleModel",
            "_view_count": null,
            "_view_module": "@jupyter-widgets/base",
            "_view_module_version": "1.2.0",
            "_view_name": "StyleView",
            "bar_color": null,
            "description_width": ""
          }
        },
        "07cce9d9c46740539d56114ef17c5b9c": {
          "model_module": "@jupyter-widgets/base",
          "model_name": "LayoutModel",
          "model_module_version": "1.2.0",
          "state": {
            "_model_module": "@jupyter-widgets/base",
            "_model_module_version": "1.2.0",
            "_model_name": "LayoutModel",
            "_view_count": null,
            "_view_module": "@jupyter-widgets/base",
            "_view_module_version": "1.2.0",
            "_view_name": "LayoutView",
            "align_content": null,
            "align_items": null,
            "align_self": null,
            "border": null,
            "bottom": null,
            "display": null,
            "flex": null,
            "flex_flow": null,
            "grid_area": null,
            "grid_auto_columns": null,
            "grid_auto_flow": null,
            "grid_auto_rows": null,
            "grid_column": null,
            "grid_gap": null,
            "grid_row": null,
            "grid_template_areas": null,
            "grid_template_columns": null,
            "grid_template_rows": null,
            "height": null,
            "justify_content": null,
            "justify_items": null,
            "left": null,
            "margin": null,
            "max_height": null,
            "max_width": null,
            "min_height": null,
            "min_width": null,
            "object_fit": null,
            "object_position": null,
            "order": null,
            "overflow": null,
            "overflow_x": null,
            "overflow_y": null,
            "padding": null,
            "right": null,
            "top": null,
            "visibility": null,
            "width": null
          }
        },
        "cf8bd8f64b2c4a78962fbab8b42cb526": {
          "model_module": "@jupyter-widgets/controls",
          "model_name": "DescriptionStyleModel",
          "model_module_version": "1.5.0",
          "state": {
            "_model_module": "@jupyter-widgets/controls",
            "_model_module_version": "1.5.0",
            "_model_name": "DescriptionStyleModel",
            "_view_count": null,
            "_view_module": "@jupyter-widgets/base",
            "_view_module_version": "1.2.0",
            "_view_name": "StyleView",
            "description_width": ""
          }
        }
      }
    }
  },
  "cells": [
    {
      "cell_type": "markdown",
      "metadata": {
        "id": "cA3JABmmrsIV"
      },
      "source": [
        "#CUPED (Controlled-experiment Using Pre-Experiment Data)"
      ]
    },
    {
      "cell_type": "markdown",
      "source": [
        "### Материал для ноутбука взят из публикации на Хабр \"Как улучшить ваши A/B-тесты: лайфхаки аналитиков Авито. Часть 2\". Автор Дмитрий Лунин"
      ],
      "metadata": {
        "id": "Ky-VsTq61NgV"
      }
    },
    {
      "cell_type": "code",
      "source": [
        "from collections import namedtuple\n",
        "import scipy.stats as sps\n",
        "import statsmodels.stats.api as sms\n",
        "from tqdm.notebook import tqdm as tqdm_notebook\n",
        "from collections import defaultdict\n",
        "from statsmodels.stats.proportion import proportion_confint\n",
        "import numpy as np\n",
        "import itertools\n",
        "import seaborn as sns\n",
        "import matplotlib.pyplot as plt\n",
        "import seaborn as sns\n",
        "sns.set(font_scale=1.5, palette='Set2')\n",
        "ExperimentComparisonResults = namedtuple('ExperimentComparisonResults', \n",
        "                                        ['pvalue', 'effect', 'ci_length', 'left_bound', 'right_bound'])"
      ],
      "metadata": {
        "colab": {
          "base_uri": "https://localhost:8080/"
        },
        "id": "9BKe7M4G1o8F",
        "outputId": "367801da-cb26-4421-9c92-7b4b0c1d7167"
      },
      "execution_count": null,
      "outputs": [
        {
          "output_type": "stream",
          "name": "stderr",
          "text": [
            "/usr/local/lib/python3.7/dist-packages/statsmodels/tools/_testing.py:19: FutureWarning: pandas.util.testing is deprecated. Use the functions in the public API at pandas.testing instead.\n",
            "  import pandas.util.testing as tm\n"
          ]
        }
      ]
    },
    {
      "cell_type": "code",
      "source": [
        "def absolute_ttest(control, test):\n",
        "    mean_control = np.mean(control)\n",
        "    mean_test = np.mean(test)\n",
        "    var_mean_control  = np.var(control) / len(control)\n",
        "    var_mean_test  = np.var(test) / len(test)\n",
        "    \n",
        "    difference_mean = mean_test - mean_control\n",
        "    difference_mean_var = var_mean_control + var_mean_test\n",
        "    difference_distribution = sps.norm(loc=difference_mean, scale=np.sqrt(difference_mean_var))\n",
        "\n",
        "    left_bound, right_bound = difference_distribution.ppf([0.025, 0.975])\n",
        "    ci_length = (right_bound - left_bound)\n",
        "    pvalue = 2 * min(difference_distribution.cdf(0), difference_distribution.sf(0))\n",
        "    effect = difference_mean\n",
        "    return ExperimentComparisonResults(pvalue, effect, ci_length, left_bound, right_bound)"
      ],
      "metadata": {
        "id": "Rzu8eJ3H2Q7V"
      },
      "execution_count": null,
      "outputs": []
    },
    {
      "cell_type": "code",
      "source": [
        "def cuped_ttest(control, test, control_before, test_before):\n",
        "    theta = (np.cov(control, control_before)[0, 1] + np.cov(test, test_before)[0, 1]) /\\\n",
        "                (np.var(control_before) + np.var(test_before))\n",
        "\n",
        "    control_cup = control - theta * control_before\n",
        "    test_cup = test - theta * test_before\n",
        "    return absolute_ttest(control_cup, test_cup)"
      ],
      "metadata": {
        "id": "zg3XjJHD206t"
      },
      "execution_count": null,
      "outputs": []
    },
    {
      "cell_type": "code",
      "source": [
        "bad_cnt = 0"
      ],
      "metadata": {
        "id": "FTuwiuHy23S9"
      },
      "execution_count": null,
      "outputs": []
    },
    {
      "cell_type": "code",
      "source": [
        "N = 30000\n",
        "for i in tqdm_notebook(range(N)):\n",
        "\n",
        "    control_before = sps.expon(scale=1000).rvs(1000)\n",
        "    control = control_before + sps.norm(loc=0, scale=100).rvs(1000)\n",
        "\n",
        "    test_before = sps.expon(scale=1000).rvs(1000)\n",
        "    test = test_before + sps.norm(loc=0, scale=100).rvs(1000)\n",
        "    test *= 1.1\n",
        "\n",
        "    _, _, _, left_bound, right_bound = cuped_ttest(control, test, control_before, test_before)\n",
        "    \n",
        "    if left_bound > 100 or right_bound < 100:\n",
        "        bad_cnt += 1\n",
        "        \n",
        "left_real_level, right_real_level = proportion_confint(count = bad_cnt, nobs = N, alpha=0.05, method='wilson')\n",
        "\n",
        "print(f\"Реальный уровень значимости: {round(bad_cnt / N, 4)};\"\n",
        "      f\" доверительный интервал: [{round(left_real_level, 4)}, {round(right_real_level, 4)}]\")"
      ],
      "metadata": {
        "colab": {
          "base_uri": "https://localhost:8080/",
          "height": 66,
          "referenced_widgets": [
            "36f3cee72145401e84d437ba2feebc69",
            "3cd15152495a42809e40b06a00d7e6af",
            "14cde579aff745ccb9b815e9d887d21b",
            "c42f9583bba341f1bad78dfab4d4e10e",
            "4ce5035659b64184a492972f14096daa",
            "84b6ae7d3d9640c6bebd9419c1573c4e",
            "9193d6b3356c4deb8a67f38f8653f982",
            "3574393052b1458c8a645d5490622f0c",
            "26e0558db2e04d7fb898b5c3689ab59c",
            "a4c5adf470324c73b2aa7f6a92bbfcc0",
            "03ba680e903a45c4b6c56ca35d50f9ce"
          ]
        },
        "id": "cmmQi7jR2-BM",
        "outputId": "a932994e-2507-4ad9-8d98-37673e82b016"
      },
      "execution_count": null,
      "outputs": [
        {
          "output_type": "display_data",
          "data": {
            "text/plain": [
              "  0%|          | 0/30000 [00:00<?, ?it/s]"
            ],
            "application/vnd.jupyter.widget-view+json": {
              "version_major": 2,
              "version_minor": 0,
              "model_id": "36f3cee72145401e84d437ba2feebc69"
            }
          },
          "metadata": {}
        },
        {
          "output_type": "stream",
          "name": "stdout",
          "text": [
            "Реальный уровень значимости: 0.0499; доверительный интервал: [0.0475, 0.0524]\n"
          ]
        }
      ]
    },
    {
      "cell_type": "code",
      "source": [
        "cuped_ci_lengths = []\n",
        "ttest_ci_lengths = []\n",
        "N = 30000\n",
        "for i in tqdm_notebook(range(N)):\n",
        "\n",
        "    control_before = sps.expon(scale=1000).rvs(1000)\n",
        "    control = control_before + sps.norm(loc=0, scale=100).rvs(1000)\n",
        "\n",
        "    test_before = sps.expon(scale=1000).rvs(1000)\n",
        "    test = test_before + sps.norm(loc=0, scale=100).rvs(1000)\n",
        "    test *= 1.1\n",
        "\n",
        "    _, _, cuped_ci, _, _ = cuped_ttest(control, test, control_before, test_before)\n",
        "    _, _, ttest_ci, _, _ = absolute_ttest(control, test)\n",
        "\n",
        "    cuped_ci_lengths.append(cuped_ci)\n",
        "    ttest_ci_lengths.append(ttest_ci)\n",
        "    \n",
        "coeff = np.mean(cuped_ci_lengths) / np.mean(ttest_ci_lengths)\n",
        "print(f\"Отношение ширины доверительных интервалов друг к другу: {round(coeff * 100, 3)}%\")"
      ],
      "metadata": {
        "colab": {
          "base_uri": "https://localhost:8080/",
          "height": 66,
          "referenced_widgets": [
            "8df6067bd9ca4efc9b19dc3c419d2780",
            "b250b70882d04ff48f3be47a2c5569b5",
            "f673b8f7c2de4f9fa77e477b4ca4592c",
            "df90d6509b2c4e7d932a2e1eebb01a18",
            "42eb18039f9a4e71a92772c5ccb3e388",
            "100a292818334af1b366bc53f41a1602",
            "52213550d49247ac9de1247b741923e8",
            "630518f84f514ee790ccb949c03fe843",
            "1783fa0e89734145b222db723532735c",
            "07cce9d9c46740539d56114ef17c5b9c",
            "cf8bd8f64b2c4a78962fbab8b42cb526"
          ]
        },
        "id": "AWvcCOIRDQnZ",
        "outputId": "186c0d9c-561d-417e-e010-120ba0097a68"
      },
      "execution_count": null,
      "outputs": [
        {
          "output_type": "display_data",
          "data": {
            "text/plain": [
              "  0%|          | 0/30000 [00:00<?, ?it/s]"
            ],
            "application/vnd.jupyter.widget-view+json": {
              "version_major": 2,
              "version_minor": 0,
              "model_id": "8df6067bd9ca4efc9b19dc3c419d2780"
            }
          },
          "metadata": {}
        },
        {
          "output_type": "stream",
          "name": "stdout",
          "text": [
            "Отношение ширины доверительных интервалов друг к другу: 11.016%\n"
          ]
        }
      ]
    }
  ]
}
