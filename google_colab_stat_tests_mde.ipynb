{
  "nbformat": 4,
  "nbformat_minor": 0,
  "metadata": {
    "colab": {
      "provenance": [],
      "collapsed_sections": []
    },
    "kernelspec": {
      "name": "python3",
      "display_name": "Python 3"
    },
    "language_info": {
      "name": "python"
    }
  },
  "cells": [
    {
      "cell_type": "markdown",
      "metadata": {
        "id": "oKy16PaENZv5"
      },
      "source": [
        "# MDE"
      ]
    },
    {
      "cell_type": "markdown",
      "metadata": {
        "id": "y8OhMa3PNcyo"
      },
      "source": [
        "Минимальный ожидаемый эффект — это наименьший истинный эффект полученный от изменений, который с уверенностью сможет обнаружить статистический критерий.\n",
        "Если прокраса в метрике нет, то это не означает отсутствие эффекта. Эффект может и есть, но он точно не больше, чем MDE для α, β и дисперсии."
      ]
    },
    {
      "cell_type": "markdown",
      "metadata": {
        "id": "k2fywvN0Ot1D"
      },
      "source": [
        "Допустим, мы запустили A/B. Было накоплено по ~500 наблюдений в каждой ветке эксперимента. Мы хотим проверить метрику с непрерывным распределением и узнать какой “точности” мы добились за это время."
      ]
    },
    {
      "cell_type": "code",
      "metadata": {
        "id": "uiwcZ39aOzcy"
      },
      "source": [
        "import numpy as np\n",
        "import random\n",
        "from scipy.stats import norm\n",
        "from statsmodels.stats.power import tt_ind_solve_power "
      ],
      "execution_count": 1,
      "outputs": []
    },
    {
      "cell_type": "code",
      "source": [
        "random.seed(32)\n",
        "\n",
        "N=500\n",
        "random_integer_array = np.random.normal(0, 1, N)"
      ],
      "metadata": {
        "id": "HbHjDeT9b66C"
      },
      "execution_count": 2,
      "outputs": []
    },
    {
      "cell_type": "code",
      "source": [
        "mu = random_integer_array.mean()\n",
        "print(f\"mu - {mu}\")\n",
        "std = random_integer_array.std()\n",
        "print(f\"std - {std}\")\n",
        "sample_size = len(random_integer_array)\n",
        "print(f\"sample_size - {sample_size}\")\n",
        "alpha = 0.05\n",
        "power = 0.8"
      ],
      "metadata": {
        "colab": {
          "base_uri": "https://localhost:8080/"
        },
        "id": "Hxyo4hTzbyeC",
        "outputId": "79ef667c-f5d1-4516-dddf-af84a728b0c8"
      },
      "execution_count": 3,
      "outputs": [
        {
          "output_type": "stream",
          "name": "stdout",
          "text": [
            "mu - -0.07005942291291374\n",
            "std - 1.033142980104643\n",
            "sample_size - 500\n"
          ]
        }
      ]
    },
    {
      "cell_type": "markdown",
      "source": [
        "### Вариант 1"
      ],
      "metadata": {
        "id": "1UtCyhFWa_ia"
      }
    },
    {
      "cell_type": "code",
      "metadata": {
        "id": "d9V5DJXvNWw4"
      },
      "source": [
        "def estimate_effect_size(sd, n, alpha=alpha, power=power):\n",
        "    \"\"\"\n",
        "    Расчет MDE для баланса 50/50\n",
        "    :param sd: ско одной группы\n",
        "    :param n: размер выборки в одной группе\n",
        "    :return: MDE\n",
        "    \"\"\"\n",
        "    S = np.sqrt((sd**2 / n) + (sd**2 / n))\n",
        "    M = norm.ppf(q=1-alpha/2) + norm.ppf(q=power)\n",
        "    return M * S"
      ],
      "execution_count": 4,
      "outputs": []
    },
    {
      "cell_type": "code",
      "metadata": {
        "colab": {
          "base_uri": "https://localhost:8080/"
        },
        "id": "QuG27CXBO2Si",
        "outputId": "ddaaa176-3ff4-4ef7-85f4-2756538f8b6b"
      },
      "source": [
        "mde = estimate_effect_size(std, sample_size)\n",
        "print(f'MDE - {mde}')"
      ],
      "execution_count": 5,
      "outputs": [
        {
          "output_type": "stream",
          "name": "stdout",
          "text": [
            "MDE - 0.1830603389269891\n"
          ]
        }
      ]
    },
    {
      "cell_type": "markdown",
      "metadata": {
        "id": "RmiZwWK9PKm5"
      },
      "source": [
        "Мы получили в качестве результата 0.18. Это означает, что эффекты ниже этого значения будут обладать меньшей мощностью. Соответственно, вероятность того, что эффект действительно есть будет меньше. Эффекты выше этого значения, наоборот, будут мощнее."
      ]
    },
    {
      "cell_type": "markdown",
      "metadata": {
        "id": "U9-eFJA7PLio"
      },
      "source": [
        "Теперь сделаем обратную операцию и рассчитаем количество наблюдений, зная Effect Size. При тех же значениях alpha и power, получим тот же самый размер выборки, что был ранее в качестве входного параметра:"
      ]
    },
    {
      "cell_type": "code",
      "metadata": {
        "id": "2JORLbVrPQCp"
      },
      "source": [
        "def estimate_sample_size(effect_size, sd, alpha=alpha, power=power):\n",
        "    \"\"\"\n",
        "    Расчет N для баланса 50/50\n",
        "    :param sd: ско одной группы\n",
        "    :param effect_size: ожидания по изменения в метрику\n",
        "    :return: N\n",
        "    \"\"\"\n",
        "    M = (norm.ppf(q=1-alpha/2) + norm.ppf(q=power))**2\n",
        "    return 2 * M * sd**2 / effect_size**2 "
      ],
      "execution_count": 6,
      "outputs": []
    },
    {
      "cell_type": "code",
      "metadata": {
        "colab": {
          "base_uri": "https://localhost:8080/"
        },
        "id": "Gfeu_0NGPXXG",
        "outputId": "7a509883-41e9-4ca7-eeca-361311f34ff3"
      },
      "source": [
        "effect_size = estimate_effect_size(std, sample_size)\n",
        "print(f\"Samlpe Size - {estimate_sample_size(effect_size, std)}\")"
      ],
      "execution_count": 7,
      "outputs": [
        {
          "output_type": "stream",
          "name": "stdout",
          "text": [
            "Samlpe Size - 500.0000000000001\n"
          ]
        }
      ]
    },
    {
      "cell_type": "markdown",
      "metadata": {
        "id": "LKG1H3Y9QAWX"
      },
      "source": [
        "Ранее было сказано, что эффекты ниже 0.18 будут обладать меньшей мощностью при 500 наблюдениях. Следовательно, больше наблюдений → больше мощность для того же эффекта и выше."
      ]
    },
    {
      "cell_type": "markdown",
      "source": [
        "### Вариант 2"
      ],
      "metadata": {
        "id": "OqxjsjyFbD8R"
      }
    },
    {
      "cell_type": "code",
      "metadata": {
        "colab": {
          "base_uri": "https://localhost:8080/"
        },
        "id": "HhQ9HLe4QBcm",
        "outputId": "23a69426-4986-49a5-f6ba-49135481629a"
      },
      "source": [
        "print(f\"\"\"\n",
        "Samlpe Size - {tt_ind_solve_power(effect_size=effect_size, alpha=alpha, power=power, ratio=1)}\n",
        "MDE -  {tt_ind_solve_power(nobs1=sample_size, alpha=alpha, power=power, ratio=1)}\n",
        "\"\"\")"
      ],
      "execution_count": 8,
      "outputs": [
        {
          "output_type": "stream",
          "name": "stdout",
          "text": [
            "\n",
            "Samlpe Size - 469.3959498776776\n",
            "MDE -  0.17735842307242328\n",
            "\n"
          ]
        }
      ]
    },
    {
      "cell_type": "markdown",
      "source": [
        "### Вариант 3"
      ],
      "metadata": {
        "id": "zAkUkSYZbIey"
      }
    },
    {
      "cell_type": "code",
      "source": [
        "def get_minimal_determinable_effect(std, sample_size, alpha=alpha, beta=(1-power)):\n",
        "    t_alpha = norm.ppf(1 - alpha / 2, loc=0, scale=1)\n",
        "    t_beta = norm.ppf(1 - beta, loc=0, scale=1)\n",
        "    disp_sum_sqrt = (2 * (std ** 2)) ** 0.5\n",
        "    mde = (t_alpha + t_beta) * disp_sum_sqrt / np.sqrt(sample_size)\n",
        "    return mde"
      ],
      "metadata": {
        "id": "mjh4dm7mbOO7"
      },
      "execution_count": 9,
      "outputs": []
    },
    {
      "cell_type": "code",
      "source": [
        "mde = get_minimal_determinable_effect(std, sample_size)\n",
        "print(f'MDE - {mde}')"
      ],
      "metadata": {
        "colab": {
          "base_uri": "https://localhost:8080/"
        },
        "id": "r9mObm-KrABI",
        "outputId": "06c938ae-da42-4bd4-f066-995b9b90447f"
      },
      "execution_count": 10,
      "outputs": [
        {
          "output_type": "stream",
          "name": "stdout",
          "text": [
            "MDE - 0.18306033892698914\n"
          ]
        }
      ]
    }
  ]
}
