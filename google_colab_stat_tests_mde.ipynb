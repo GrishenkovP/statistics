{
  "nbformat": 4,
  "nbformat_minor": 0,
  "metadata": {
    "colab": {
      "provenance": []
    },
    "kernelspec": {
      "name": "python3",
      "display_name": "Python 3"
    },
    "language_info": {
      "name": "python"
    }
  },
  "cells": [
    {
      "cell_type": "markdown",
      "metadata": {
        "id": "oKy16PaENZv5"
      },
      "source": [
        "# MDE"
      ]
    },
    {
      "cell_type": "markdown",
      "source": [
        "## *Ноутбук подготовлен на основе публикации \"Когда останавливать A/B-тест? Часть 1: MDE\"*"
      ],
      "metadata": {
        "id": "wlptO2DHostE"
      }
    },
    {
      "cell_type": "code",
      "source": [
        "import numpy as np\n",
        "import pandas as pd\n",
        "import random\n",
        "from scipy.stats import norm\n",
        "from statsmodels.stats.power import tt_ind_solve_power "
      ],
      "metadata": {
        "id": "Cn8k1VLXqklj"
      },
      "execution_count": 1,
      "outputs": []
    },
    {
      "cell_type": "markdown",
      "metadata": {
        "id": "y8OhMa3PNcyo"
      },
      "source": [
        "Минимальный ожидаемый эффект — это наименьший истинный эффект полученный от изменений, который с уверенностью сможет обнаружить статистический критерий.\n",
        "Если прокраса в метрике нет, то это не означает отсутствие эффекта. Эффект может и есть, но он точно не больше, чем MDE для α, β и дисперсии."
      ]
    },
    {
      "cell_type": "markdown",
      "source": [
        "Ошибка второго рода (beta, False Negative) — принятие неверной нулевой гипотезы. Вероятность ошибочно сохранить неверную нулевую гипотезу обозначают греческой буквой β (например, 0.2)\n",
        "\n",
        "Ошибка первого рода (alpha, False positive) — отклонение верной нулевой гипотезы. Риск совершить такую ошибку равен выбранному 1-уровень статистической значимости и обозначают греческой буквой α (например, α=0.05)\n",
        "\n",
        "Мощность true positive) — вероятность, что тест правильно засечёт эффект там, где он и правда есть. (1-β)\n",
        "\n",
        "Статистическая значимость (True Negative) — вероятность, что результат эксперимента получился случайно и мы это знаем. Другими словами, это риск, что тест покажет взаимосвязь, которой на самом деле нет (1-α)"
      ],
      "metadata": {
        "id": "m4_iP3ejopIr"
      }
    },
    {
      "cell_type": "code",
      "source": [
        "mean = 1.8 # рассчитанное среднее за N недель\n",
        "print(f'mean - {mean}')\n",
        "std = 1 # рассчитанное стандартное отклонение за тот же период\n",
        "print(f'std - {std}')\n",
        "n = 500\n",
        "print(f'n - {n}')\n",
        "alpha = 0.05 # уровень значимости не менее 95% (чем больше – тем лучше)\n",
        "print(f'alpha - {alpha}')\n",
        "power = 0.8 # уровень мощности не менее 80%\n",
        "print(f'power- {power}')\n",
        "lift = 0.1 # от 0.01 до 1.00 (где 1.00 – 100% прироста у метрики)\n",
        "print(f'lift- {lift}')"
      ],
      "metadata": {
        "colab": {
          "base_uri": "https://localhost:8080/"
        },
        "id": "Hxyo4hTzbyeC",
        "outputId": "b5f48595-5d66-4b02-e3d4-775332ab2607"
      },
      "execution_count": 2,
      "outputs": [
        {
          "output_type": "stream",
          "name": "stdout",
          "text": [
            "mean - 1.8\n",
            "std - 1\n",
            "n - 500\n",
            "alpha - 0.05\n",
            "power- 0.8\n",
            "lift- 0.1\n"
          ]
        }
      ]
    },
    {
      "cell_type": "markdown",
      "source": [
        "### Effect Size"
      ],
      "metadata": {
        "id": "A682WZ8XOKo4"
      }
    },
    {
      "cell_type": "code",
      "source": [
        "effect_size = mean / std * lift\n",
        "print(f'effect_size - {effect_size}')"
      ],
      "metadata": {
        "colab": {
          "base_uri": "https://localhost:8080/"
        },
        "id": "aG7lttMhOhXB",
        "outputId": "d2951009-b10a-4408-cf86-69933645f06a"
      },
      "execution_count": 3,
      "outputs": [
        {
          "output_type": "stream",
          "name": "stdout",
          "text": [
            "effect_size - 0.18000000000000002\n"
          ]
        }
      ]
    },
    {
      "cell_type": "markdown",
      "source": [
        "### Estimate Effect Size. MDE. Вариант 1"
      ],
      "metadata": {
        "id": "5SL1hjdvhk69"
      }
    },
    {
      "cell_type": "markdown",
      "source": [
        "Допустим, мы запустили A/B. Было накоплено по ~500 наблюдений в каждой ветке эксперимента. Мы хотим проверить метрику с непрерывным распределением и узнать какой “точности” мы добились за это время."
      ],
      "metadata": {
        "id": "DoNaqcP2qb5L"
      }
    },
    {
      "cell_type": "code",
      "source": [
        "def estimate_effect_size_v1(std, n, alpha=alpha, power=power):\n",
        "    \"\"\"\n",
        "    Расчет MDE для баланса 50/50\n",
        "    :param sd: ско одной группы\n",
        "    :param n: размер выборки в одной группе\n",
        "    :return: MDE\n",
        "    \"\"\"\n",
        "    S = np.sqrt((std**2 / n) + (std**2 / n))\n",
        "    M = norm.ppf(q=1-alpha/2) + norm.ppf(q=power)\n",
        "    return M * S"
      ],
      "metadata": {
        "id": "ycvuqkPwhMI_"
      },
      "execution_count": 4,
      "outputs": []
    },
    {
      "cell_type": "code",
      "source": [
        "mde_v1 = estimate_effect_size_v1(std, n)\n",
        "print(f'MDE - {mde_v1}')"
      ],
      "metadata": {
        "colab": {
          "base_uri": "https://localhost:8080/"
        },
        "id": "ITG-1wZThMDC",
        "outputId": "d57d7171-27c8-41ca-85de-2e58a9c5370c"
      },
      "execution_count": 5,
      "outputs": [
        {
          "output_type": "stream",
          "name": "stdout",
          "text": [
            "MDE - 0.17718780696593192\n"
          ]
        }
      ]
    },
    {
      "cell_type": "markdown",
      "source": [
        "Мы получили в качестве результата 0.17. Это означает, что эффекты ниже этого значения будут обладать меньшей мощностью. Соответственно, вероятность того, что эффект действительно есть будет меньше. Эффекты выше этого значения, наоборот, будут мощнее."
      ],
      "metadata": {
        "id": "2vwQbXA0qJea"
      }
    },
    {
      "cell_type": "markdown",
      "source": [
        "### Estimate Effect Size. MDE. Вариант 2"
      ],
      "metadata": {
        "id": "Z1NE8vn7hxTy"
      }
    },
    {
      "cell_type": "code",
      "source": [
        "def estimate_effect_size_v2(std, n, alpha=alpha, beta=(1-power)):\n",
        "    t_alpha = norm.ppf(1 - alpha / 2, loc=0, scale=1)\n",
        "    t_beta = norm.ppf(1 - beta, loc=0, scale=1)\n",
        "    disp_sum_sqrt = (2 * (std ** 2)) ** 0.5\n",
        "    mde = (t_alpha + t_beta) * disp_sum_sqrt / np.sqrt(n)\n",
        "    return mde"
      ],
      "metadata": {
        "id": "tXB3jjEQhywM"
      },
      "execution_count": 6,
      "outputs": []
    },
    {
      "cell_type": "code",
      "source": [
        "mde_v2 = estimate_effect_size_v2(std, n)\n",
        "print(f'MDE - {mde_v2}')"
      ],
      "metadata": {
        "colab": {
          "base_uri": "https://localhost:8080/"
        },
        "id": "aS-ZYDLsh7Er",
        "outputId": "954df27d-514a-4be2-f7a4-c1511c93babe"
      },
      "execution_count": 7,
      "outputs": [
        {
          "output_type": "stream",
          "name": "stdout",
          "text": [
            "MDE - 0.17718780696593192\n"
          ]
        }
      ]
    },
    {
      "cell_type": "markdown",
      "source": [
        "### Estimate Effect Size. MDE. Вариант 3"
      ],
      "metadata": {
        "id": "l-4jkqnmnTt6"
      }
    },
    {
      "cell_type": "code",
      "source": [
        "mde_v3 = tt_ind_solve_power(nobs1=n, alpha=alpha, power=power, ratio=1)\n",
        "print(f'MDE - {mde_v3}')"
      ],
      "metadata": {
        "colab": {
          "base_uri": "https://localhost:8080/"
        },
        "id": "9OWVlYLpnIZb",
        "outputId": "b68b92e3-50dd-4a4a-9d48-b629bb849c09"
      },
      "execution_count": 8,
      "outputs": [
        {
          "output_type": "stream",
          "name": "stdout",
          "text": [
            "MDE - 0.17735842307242328\n"
          ]
        }
      ]
    },
    {
      "cell_type": "markdown",
      "source": [
        "### Estimate Sample Size. Вариант 1"
      ],
      "metadata": {
        "id": "FT7r3m9zemo6"
      }
    },
    {
      "cell_type": "markdown",
      "source": [
        "Теперь сделаем обратную операцию и рассчитаем количество наблюдений, зная Effect Size. При тех же значениях alpha и power, получим тот же самый размер выборки, что был ранее в качестве входного параметра:"
      ],
      "metadata": {
        "id": "OF4HJu_9qSUr"
      }
    },
    {
      "cell_type": "code",
      "source": [
        "def estimate_sample_size(effect_size, std, alpha=alpha, power=power):\n",
        "    \"\"\"\n",
        "    Расчет N для баланса 50/50\n",
        "    :param sd: ско одной группы\n",
        "    :param effect_size: ожидания по изменения в метрику\n",
        "    :return: N\n",
        "    \"\"\"\n",
        "    M = (norm.ppf(q=1-alpha/2) + norm.ppf(q=power))**2\n",
        "    return 2 * M * std**2 / effect_size**2 "
      ],
      "metadata": {
        "id": "pTkQlwfYiXfZ"
      },
      "execution_count": 9,
      "outputs": []
    },
    {
      "cell_type": "code",
      "source": [
        "# Результат – наблюдения на одну выборку!\n",
        "nobs_v1 = estimate_sample_size(mde_v1, std)\n",
        "print(f'nobs - {nobs_v1}')"
      ],
      "metadata": {
        "colab": {
          "base_uri": "https://localhost:8080/"
        },
        "id": "N9wR1stWibRJ",
        "outputId": "f51182f8-ab83-402c-a24a-e04e3bbaeccf"
      },
      "execution_count": 10,
      "outputs": [
        {
          "output_type": "stream",
          "name": "stdout",
          "text": [
            "nobs - 500.0\n"
          ]
        }
      ]
    },
    {
      "cell_type": "markdown",
      "source": [
        "Ранее было сказано, что эффекты ниже 0.17 будут обладать меньшей мощностью при 500 наблюдениях. Следовательно, больше наблюдений → больше мощность для того же эффекта и выше."
      ],
      "metadata": {
        "id": "44La8Wlkq_GD"
      }
    },
    {
      "cell_type": "markdown",
      "source": [
        "### Estimate Sample Size. Вариант 2"
      ],
      "metadata": {
        "id": "98VNZAh4jHjB"
      }
    },
    {
      "cell_type": "code",
      "source": [
        "nobs_v2 = tt_ind_solve_power(effect_size=mde_v1, alpha=alpha, power=power, nobs1=None, ratio=1)\n",
        "print(f'nobs - {nobs_v2}')"
      ],
      "metadata": {
        "colab": {
          "base_uri": "https://localhost:8080/"
        },
        "id": "5T-6l3m2ewWV",
        "outputId": "493bd6e0-a910-4f06-c97b-41379a82b0f5"
      },
      "execution_count": 11,
      "outputs": [
        {
          "output_type": "stream",
          "name": "stdout",
          "text": [
            "nobs - 500.96095684136526\n"
          ]
        }
      ]
    },
    {
      "cell_type": "markdown",
      "source": [
        "### Estimate Sample Size. Вариант 3"
      ],
      "metadata": {
        "id": "q8TTEfZut0Fj"
      }
    },
    {
      "cell_type": "code",
      "source": [
        "nobs_v3 = tt_ind_solve_power(effect_size=effect_size, alpha=alpha, power=power, nobs1=None, ratio=1)\n",
        "print(f'nobs - {nobs_v3}')"
      ],
      "metadata": {
        "colab": {
          "base_uri": "https://localhost:8080/"
        },
        "id": "YH3W8-s_t3lD",
        "outputId": "f35da1a2-12a0-464c-e65d-2cf044baeae3"
      },
      "execution_count": 12,
      "outputs": [
        {
          "output_type": "stream",
          "name": "stdout",
          "text": [
            "nobs - 485.4598017596581\n"
          ]
        }
      ]
    }
  ]
}
