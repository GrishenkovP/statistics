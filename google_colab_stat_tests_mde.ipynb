{
  "nbformat": 4,
  "nbformat_minor": 0,
  "metadata": {
    "colab": {
      "name": "google_colab_stat_tests_mde.ipynb",
      "provenance": [],
      "collapsed_sections": []
    },
    "kernelspec": {
      "name": "python3",
      "display_name": "Python 3"
    },
    "language_info": {
      "name": "python"
    }
  },
  "cells": [
    {
      "cell_type": "markdown",
      "metadata": {
        "id": "oKy16PaENZv5"
      },
      "source": [
        "### MDE"
      ]
    },
    {
      "cell_type": "markdown",
      "metadata": {
        "id": "y8OhMa3PNcyo"
      },
      "source": [
        "Минимальный ожидаемый эффект — это наименьший истинный эффект полученный от изменений, который с уверенностью сможет обнаружить статистический критерий.\n",
        "Если прокраса в метрике нет, то это не означает отсутствие эффекта. Эффект может и есть, но он точно не больше, чем MDE для α, β и дисперсии."
      ]
    },
    {
      "cell_type": "markdown",
      "metadata": {
        "id": "k2fywvN0Ot1D"
      },
      "source": [
        "Допустим, мы запустили A/B. Было накоплено по ~500 наблюдений в каждой ветке эксперимента. Мы хотим проверить метрику с непрерывным распределением и узнать какой “точности” мы добились за это время."
      ]
    },
    {
      "cell_type": "code",
      "metadata": {
        "colab": {
          "base_uri": "https://localhost:8080/"
        },
        "id": "uiwcZ39aOzcy",
        "outputId": "a1660554-2bf5-4acf-e10c-ea8ff3ea3f74"
      },
      "source": [
        "import numpy as np\n",
        "from scipy.stats import norm\n",
        "from statsmodels.stats.power import tt_ind_solve_power "
      ],
      "execution_count": 9,
      "outputs": [
        {
          "output_type": "stream",
          "name": "stderr",
          "text": [
            "/usr/local/lib/python3.7/dist-packages/statsmodels/tools/_testing.py:19: FutureWarning: pandas.util.testing is deprecated. Use the functions in the public API at pandas.testing instead.\n",
            "  import pandas.util.testing as tm\n"
          ]
        }
      ]
    },
    {
      "cell_type": "code",
      "metadata": {
        "id": "d9V5DJXvNWw4"
      },
      "source": [
        "def estimate_effect_size(sd, n, alpha=0.05, power=0.8):\n",
        "    \"\"\"\n",
        "    Расчет MDE для баланса 50/50\n",
        "    :param sd: ско одной группы\n",
        "    :param n: размер выбрки в одной группе\n",
        "    :return: MDE\n",
        "    \"\"\"\n",
        "    S = np.sqrt((sd**2 / n) + (sd**2 / n))\n",
        "    M = norm.ppf(q=1-alpha/2) + norm.ppf(q=power)\n",
        "    return M * S"
      ],
      "execution_count": 2,
      "outputs": []
    },
    {
      "cell_type": "code",
      "metadata": {
        "colab": {
          "base_uri": "https://localhost:8080/"
        },
        "id": "QuG27CXBO2Si",
        "outputId": "aaf7a597-111b-4f25-9b5f-bbcb8da87468"
      },
      "source": [
        "n = 500\n",
        "sd = 1\n",
        "print(estimate_effect_size(sd, n))"
      ],
      "execution_count": 3,
      "outputs": [
        {
          "output_type": "stream",
          "name": "stdout",
          "text": [
            "0.17718780696593192\n"
          ]
        }
      ]
    },
    {
      "cell_type": "markdown",
      "metadata": {
        "id": "RmiZwWK9PKm5"
      },
      "source": [
        "Мы получили в качестве результата 0.17. Это означает, что эффекты ниже этого значения будут обладать меньшей мощностью. Соответственно, вероятность того, что эффект действительно есть будет меньше. Эффекты выше этого значения, наоборот, будут мощнее."
      ]
    },
    {
      "cell_type": "markdown",
      "metadata": {
        "id": "U9-eFJA7PLio"
      },
      "source": [
        "Теперь сделаем обратную операцию и рассчитаем количество наблюдений, зная Effect Size. При тех же значениях alpha и power, получим тот же самый размер выборки, что был ранее в качестве входного параметра:"
      ]
    },
    {
      "cell_type": "code",
      "metadata": {
        "id": "2JORLbVrPQCp"
      },
      "source": [
        "def estimate_sample_size(effect_size, sd, alpha=0.05, power=0.8):\n",
        "    \"\"\"\n",
        "    Расчет N для баланса 50/50\n",
        "    :param sd: ско одной группы\n",
        "    :param effect_size: ожидания по изменения в метрику\n",
        "    :return: N\n",
        "    \"\"\"\n",
        "    M = (norm.ppf(q=1-alpha/2) + norm.ppf(q=power))**2\n",
        "    return 2 * M * sd**2 / effect_size**2 "
      ],
      "execution_count": 6,
      "outputs": []
    },
    {
      "cell_type": "code",
      "metadata": {
        "colab": {
          "base_uri": "https://localhost:8080/"
        },
        "id": "Gfeu_0NGPXXG",
        "outputId": "128593b2-2d6c-4069-b103-5491e805fc7d"
      },
      "source": [
        "effect_size = 0.17718780696593192\n",
        "sd = 1\n",
        "print(estimate_sample_size(effect_size, sd))"
      ],
      "execution_count": 8,
      "outputs": [
        {
          "output_type": "stream",
          "name": "stdout",
          "text": [
            "500.0\n"
          ]
        }
      ]
    },
    {
      "cell_type": "markdown",
      "metadata": {
        "id": "LKG1H3Y9QAWX"
      },
      "source": [
        "Ранее было сказано, что эффекты ниже 0.17 будут обладать меньшей мощностью при 500 наблюдениях. Следовательно, больше наблюдений → больше мощность для того же эффекта и выше."
      ]
    },
    {
      "cell_type": "code",
      "metadata": {
        "colab": {
          "base_uri": "https://localhost:8080/"
        },
        "id": "HhQ9HLe4QBcm",
        "outputId": "34c7ee70-9e24-4f99-c93a-d375f4b70d61"
      },
      "source": [
        "alpha = 0.05\n",
        "power = 0.8\n",
        "n = 500\n",
        "sd = 1\n",
        "effect_size = 0.17718780696593192\n",
        "\n",
        "print(f\"\"\"\n",
        "estimate_sample_size: {estimate_sample_size(effect_size, sd)}\n",
        "estimate_effect_size: {estimate_effect_size(sd, n)}\n",
        "tt_ind_solve_power nobs: {tt_ind_solve_power(effect_size=effect_size, alpha=alpha, power=power, ratio=1)}\n",
        "tt_ind_solve_power effect_size: {tt_ind_solve_power(nobs1=n, alpha=alpha, power=power, ratio=1)}\n",
        "\"\"\")"
      ],
      "execution_count": 12,
      "outputs": [
        {
          "output_type": "stream",
          "name": "stdout",
          "text": [
            "\n",
            "estimate_sample_size: 500.0\n",
            "estimate_effect_size: 0.17718780696593192\n",
            "tt_ind_solve_power nobs: 500.96095684136526\n",
            "tt_ind_solve_power effect_size: 0.17735842307242328\n",
            "\n"
          ]
        }
      ]
    }
  ]
}