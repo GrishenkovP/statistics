{
  "nbformat": 4,
  "nbformat_minor": 0,
  "metadata": {
    "colab": {
      "name": "google_colab_stat_bayes_theorem.ipynb",
      "provenance": [],
      "collapsed_sections": []
    },
    "kernelspec": {
      "name": "python3",
      "display_name": "Python 3"
    },
    "language_info": {
      "name": "python"
    }
  },
  "cells": [
    {
      "cell_type": "markdown",
      "source": [
        "# Теорема Байеса"
      ],
      "metadata": {
        "id": "Hy2tJNrN95Ot"
      }
    },
    {
      "cell_type": "markdown",
      "source": [
        "### Тест. Гениальность человека. Подготовлено на основе публикации на Хабр \"Теорема Байеса: просто о сложном\""
      ],
      "metadata": {
        "id": "vPWO1Vje-Z-0"
      }
    },
    {
      "cell_type": "code",
      "execution_count": 1,
      "metadata": {
        "id": "gai44giH9wO4"
      },
      "outputs": [],
      "source": [
        "# 97% чувствительность (доля истинно положительных результатов)\n",
        "# 95% специфичность (доля истинно отрицательных результатов)\n",
        "# То есть тест даст 97% истинно положительных результатов для гениев \n",
        "# и 95% истинно отрицательных результатов для негениев."
      ]
    },
    {
      "cell_type": "markdown",
      "source": [
        "###Предположим, мы также знаем, что 0,5% населения в целом гении. Какова вероятность того, что случайно выбранный человек с положительным результатом анализа является гением?"
      ],
      "metadata": {
        "id": "544FiYGB-z1k"
      }
    },
    {
      "cell_type": "code",
      "source": [
        "# Если мы выберем случайного человека из общей популяции без какого-либо тестирования, мы можем только сказать, \n",
        "# что вероятность того, что этот человек - гений, составляет 0,5%"
      ],
      "metadata": {
        "id": "x3DBPYD--vBq"
      },
      "execution_count": 2,
      "outputs": []
    },
    {
      "cell_type": "markdown",
      "source": [
        "![bayes_theorem.png](https://github.com/grishenkovp/statistics/blob/main/screenshot/bayes_theorem.png)"
      ],
      "metadata": {
        "id": "cj1tSj-YRlbx"
      }
    },
    {
      "cell_type": "code",
      "source": [
        "# P(Гений) = Уровень распространенности наркомании,\n",
        "# P(Негений) = 1 - Уровень распространенности наркомании\n",
        "# P(Положительный тест | Гений) = Чувствительность теста\n",
        "# P(Отрицательный тест | Негений) = Специфичность теста\n",
        "# P(Положительный тест | Негений) = 1 - Специфичность теста"
      ],
      "metadata": {
        "id": "Ad-bZ9r__Ufi"
      },
      "execution_count": 4,
      "outputs": []
    },
    {
      "cell_type": "code",
      "source": [
        "def genius_man(prob_th:float, \n",
        "               sensitivity:float,\n",
        "               specificity:float,\n",
        "               prevelance:float,\n",
        "               verbose=True)->float:\n",
        "    p_genius = prevelance\n",
        "    p_no_genius = 1-prevelance\n",
        "    p_pos_genius = sensitivity\n",
        "    p_neg_genius = specificity\n",
        "    p_pos_no_genius = 1-specificity\n",
        "    \n",
        "    numerator  = p_pos_genius*p_genius\n",
        "    denominator  = p_pos_genius*p_genius+p_pos_no_genius*p_no_genius\n",
        "    probability  = numerator/denominator\n",
        "    \n",
        "    if verbose:\n",
        "          if probability  > prob_th:\n",
        "              print(\"Genius\")\n",
        "          else:\n",
        "              print(\"Nogenius\")\n",
        "\n",
        "    return round(probability,3)"
      ],
      "metadata": {
        "id": "_bpVZ2_pAO6T"
      },
      "execution_count": 5,
      "outputs": []
    },
    {
      "cell_type": "code",
      "source": [
        "genius_man(0.5,0.97,0.95,0.005)"
      ],
      "metadata": {
        "colab": {
          "base_uri": "https://localhost:8080/"
        },
        "id": "U4TYwwpQDC3L",
        "outputId": "db40a49e-5b72-4aaa-bd47-b7f915af72fe"
      },
      "execution_count": 6,
      "outputs": [
        {
          "output_type": "stream",
          "name": "stdout",
          "text": [
            "Nogenius\n"
          ]
        },
        {
          "output_type": "execute_result",
          "data": {
            "text/plain": [
              "0.089"
            ]
          },
          "metadata": {},
          "execution_count": 6
        }
      ]
    },
    {
      "cell_type": "markdown",
      "source": [
        "### Даже при использовании теста, который в 97% случаях верно выявляет положительные случаи и который в 95% случаях правильно выявляет отрицательные случаи, истинная вероятность быть гением с положительным результатом этого теста составляет всего 8,9%!"
      ],
      "metadata": {
        "id": "_rTBD1m7EjMj"
      }
    },
    {
      "cell_type": "code",
      "source": [
        "#Если вы посмотрите на расчеты, то станет понятным, что это связано с чрезвычайно низким уровнем распространенности. \n",
        "# Количество ложных срабатываний превышает количество истинных срабатываний.\n",
        "# Например, если протестировано 1000 человек, ожидается, что будет 995 негениев и 5 гениев. \n",
        "# Из 995 негениев ожидается 0,05 × 995 ≃ 50 ложных срабатываний. \n",
        "# Из 5 гениев ожидается 0,95 × 5 ≈ 5 истинно положительных результатов. \n",
        "# Из 55 положительных результатов только 5 являются истинно положительными!"
      ],
      "metadata": {
        "id": "aLKJgEQYEowy"
      },
      "execution_count": 7,
      "outputs": []
    },
    {
      "cell_type": "code",
      "source": [
        "import matplotlib.pyplot as plt"
      ],
      "metadata": {
        "id": "B_7STuH1HjUy"
      },
      "execution_count": 8,
      "outputs": []
    },
    {
      "cell_type": "code",
      "source": [
        "ps = []\n",
        "pres = []\n",
        "for pre in [i*0.001 for i in range(1,51,2)]:\n",
        "    pres.append(pre*100)\n",
        "    p = genius_man(prob_th=0.5,\n",
        "                   sensitivity=0.97,\n",
        "                   specificity=0.95,\n",
        "                   prevelance=pre,\n",
        "                   verbose=False)\n",
        "    ps.append(p)\n",
        "\n",
        "plt.figure(figsize=(10,5))\n",
        "plt.title(\"Probability of genius\",fontsize=15)\n",
        "plt.plot(pres,ps,color='k',marker='o',markersize=8)\n",
        "plt.grid(True)\n",
        "plt.xlabel(\"Prevelance\",fontsize=14)\n",
        "plt.ylabel(\"Probability\",fontsize=14)\n",
        "plt.xticks([i*0.25 for i in range(1,21)],fontsize=12,rotation=45)\n",
        "plt.yticks(fontsize=12)\n",
        "plt.show()"
      ],
      "metadata": {
        "colab": {
          "base_uri": "https://localhost:8080/",
          "height": 374
        },
        "id": "GWp1HnDvGsu6",
        "outputId": "168388a1-d6d7-4d35-bcfc-a3d7744303c2"
      },
      "execution_count": 9,
      "outputs": [
        {
          "output_type": "display_data",
          "data": {
            "image/png": "[encoded data removed]",
            "text/plain": [
              "<Figure size 720x360 with 1 Axes>"
            ]
          },
          "metadata": {
            "needs_background": "light"
          }
        }
      ]
    },
    {
      "cell_type": "code",
      "source": [
        "# Обратите внимание, что в данном случае наше решение зависит от порога вероятности. \n",
        "# В данном примере он установлен на уровне 0,5. \n",
        "# При необходимости его можно понизить. \n",
        "# При пороге 0,5 у нас должен быть уровень распространенности почти 4,8%, чтобы найти гения с одним положительным результатом теста."
      ],
      "metadata": {
        "id": "6t_Bn2UPHs_L"
      },
      "execution_count": 10,
      "outputs": []
    },
    {
      "cell_type": "code",
      "source": [
        "ps = []\n",
        "sp_ = []\n",
        "for sp in [i*0.001+0.95 for i in range(1,50,2)]:\n",
        "    sp_.append(sp)\n",
        "    p = genius_man(prob_th=0.5,sensitivity=0.97,specificity=sp,prevelance=0.005,verbose=False)\n",
        "    ps.append(p)\n",
        "\n",
        "plt.figure(figsize=(10,5))\n",
        "plt.title(\"Probability of genius\",fontsize=15)\n",
        "plt.plot(sp_,ps,color='k',marker='o',markersize=8)\n",
        "plt.grid(True)\n",
        "plt.xlabel(\"Sensitivity(%)\",fontsize=14)\n",
        "plt.ylabel(\"Probability\",fontsize=14)\n",
        "plt.xticks([0.95+i*0.0025 for i in range(1,21)],fontsize=12,rotation=45)\n",
        "plt.yticks(fontsize=12)\n",
        "plt.show()"
      ],
      "metadata": {
        "colab": {
          "base_uri": "https://localhost:8080/",
          "height": 384
        },
        "id": "WQk3bZRwIJs6",
        "outputId": "1a9c21d0-3ac8-40c6-f1ba-c03b96a51f9d"
      },
      "execution_count": 11,
      "outputs": [
        {
          "output_type": "display_data",
          "data": {
            "image/png": "[encoded data removed]",
            "text/plain": [
              "<Figure size 720x360 with 1 Axes>"
            ]
          },
          "metadata": {
            "needs_background": "light"
          }
        }
      ]
    },
    {
      "cell_type": "code",
      "source": [
        "# Имеет место нелинейная зависимость вероятности от специфичности теста, и по мере того, \n",
        "# как тест достигает совершенства (с точки зрения специфичности), мы получаем значительное увеличение вероятности. \n",
        "# Следовательно, все усилия отдела разработки должны быть направлены на улучшение специфичности теста."
      ],
      "metadata": {
        "id": "oR_taA7JIk_T"
      },
      "execution_count": 12,
      "outputs": []
    },
    {
      "cell_type": "markdown",
      "source": [
        "### Лучшее в байесовском выводе - это возможность использовать предшествующие знания в форме априорного вероятностного члена в числителе теоремы Байеса."
      ],
      "metadata": {
        "id": "AwfoZBD1L7m5"
      }
    },
    {
      "cell_type": "code",
      "source": [
        "# Предварительные знания - это не что иное, как вычисленная вероятность теста, которая затем возвращается к следующему тесту .\n",
        "# Это означает, что для этих случаев, когда уровень распространенности среди населения в целом чрезвычайно низок, \n",
        "# один из способов повысить уверенность в результате теста - назначить последующий тест, если первый результат теста окажется положительным."
      ],
      "metadata": {
        "id": "_G9sMgDSL85Y"
      },
      "execution_count": 13,
      "outputs": []
    },
    {
      "cell_type": "code",
      "source": [
        "p1 = genius_man(\n",
        "  prob_th=0.5,\n",
        "  sensitivity=0.97,\n",
        "  specificity=0.95,\n",
        "  prevelance=0.005)\n",
        "print(\"Genius\",\n",
        "      round(p1,3))\n",
        "print(\"---------\")\n",
        "p2 = genius_man(\n",
        "  prob_th=0.5,\n",
        "  sensitivity=0.97,\n",
        "  specificity=0.95,\n",
        "  prevelance=p1)\n",
        "print(\"Genius\",\n",
        "      round(p2,3))\n",
        "print(\"---------\")\n",
        "p3 = genius_man(\n",
        "  prob_th=0.5, \n",
        "  sensitivity=0.97,\n",
        "  specificity=0.95,\n",
        "  prevelance=p2)\n",
        "print(\"Genius\",\n",
        "      round(p3,3))"
      ],
      "metadata": {
        "colab": {
          "base_uri": "https://localhost:8080/"
        },
        "id": "jqG8yeCrMOQB",
        "outputId": "e381abd7-417f-4e65-b792-d659bbd44d3b"
      },
      "execution_count": 14,
      "outputs": [
        {
          "output_type": "stream",
          "name": "stdout",
          "text": [
            "Nogenius\n",
            "Genius 0.089\n",
            "---------\n",
            "Genius\n",
            "Genius 0.655\n",
            "---------\n",
            "Genius\n",
            "Genius 0.974\n"
          ]
        }
      ]
    },
    {
      "cell_type": "code",
      "source": [
        "# Когда мы выполняем тест в первый раз, расчетная (апостериорная) вероятность низка, всего 8,9%, \n",
        "# но она значительно возрастает до 65,4% во втором тесте, а третий положительный тест дает апостериорную вероятность 97,3%.\n",
        "# Следовательно, неточный тест можно использовать несколько раз, чтобы обновить наше мнение с помощью последовательного применения правила Байеса.\n",
        "# Лучшее в байесовском выводе - это возможность использовать предшествующие знания в форме априорного вероятностного члена в числителе теоремы Байеса."
      ],
      "metadata": {
        "id": "oTu0LfXoMmwi"
      },
      "execution_count": 15,
      "outputs": []
    }
  ]
}