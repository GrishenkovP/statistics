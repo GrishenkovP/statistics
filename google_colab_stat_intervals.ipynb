{
  "nbformat": 4,
  "nbformat_minor": 0,
  "metadata": {
    "colab": {
      "name": "google_colab_stat_intervals.ipynb",
      "provenance": [],
      "collapsed_sections": []
    },
    "kernelspec": {
      "name": "python3",
      "display_name": "Python 3"
    },
    "language_info": {
      "name": "python"
    }
  },
  "cells": [
    {
      "cell_type": "code",
      "metadata": {
        "id": "u3vXzoX_PuaH"
      },
      "source": [
        "import numpy as np\n",
        "import pandas as pd\n",
        "import seaborn as sns\n",
        "import scipy\n",
        "from scipy import stats"
      ],
      "execution_count": 1,
      "outputs": []
    },
    {
      "cell_type": "code",
      "metadata": {
        "id": "oo2kn5U4QCKz"
      },
      "source": [
        "group1 = np.array([1,2,3,4,5,6,7,8,9,10])\n",
        "group2 = np.array([10,11,12,13,14,15])"
      ],
      "execution_count": 2,
      "outputs": []
    },
    {
      "cell_type": "code",
      "metadata": {
        "id": "GCtK_u36QBGz"
      },
      "source": [
        "def mean_confidence_interval(data, confidence=0.95):\n",
        "    a = 1.0 * np.array(data)\n",
        "    n = len(a)\n",
        "    m, se = np.mean(a), scipy.stats.sem(a)\n",
        "    h = se * scipy.stats.t.ppf((1 + confidence) / 2., n-1)\n",
        "    return m, m-h, m+h\n",
        "\n",
        "def mean_confidence_interval_(data, confidence=0.95):\n",
        "    return stats.t.interval(confidence, len(data)-1, loc=np.mean(data), scale=st.sem(data))\n",
        "\n",
        "def stat_intervals(stat, alpha=0.05):\n",
        "    boundaries = np.percentile(stat, [100 * alpha / 2., 100 * (1 - alpha / 2.)])\n",
        "    return boundaries\n",
        "\n",
        "def get_bootstrap_samples(data, n_samples):\n",
        "    indices = np.random.randint(0, len(data), (n_samples, len(data)))\n",
        "    samples = data[indices]\n",
        "    return samples"
      ],
      "execution_count": 3,
      "outputs": []
    },
    {
      "cell_type": "code",
      "metadata": {
        "id": "bPB1ItVAQGIC"
      },
      "source": [
        "np.random.seed(0)\n",
        "\n",
        "group1_median = list(map(np.median, get_bootstrap_samples(group1, 1000)))\n",
        "group2_median  = list(map(np.median, get_bootstrap_samples(group2, 1000)))"
      ],
      "execution_count": 4,
      "outputs": []
    },
    {
      "cell_type": "code",
      "metadata": {
        "id": "oN59mosEQIzi"
      },
      "source": [
        "delta_median = list(map(lambda x: x[1] - x[0], zip(group1_median, group2_median)))"
      ],
      "execution_count": 5,
      "outputs": []
    },
    {
      "cell_type": "code",
      "metadata": {
        "colab": {
          "base_uri": "https://localhost:8080/"
        },
        "id": "ZTq148duQJYq",
        "outputId": "41e0c2cd-f42b-4af5-80dd-35c022c20256"
      },
      "source": [
        "print (\"95% доверительный интервал для группы1:\", stat_intervals(group1_median, 0.05))\n",
        "print (\"95% доверительный интервал для группы2:\",  stat_intervals(group2_median, 0.05))\n",
        "print (\"95% доверительный интервал для разности медиан:\",  stat_intervals(delta_median, 0.05))"
      ],
      "execution_count": 6,
      "outputs": [
        {
          "output_type": "stream",
          "text": [
            "95% доверительный интервал для группы1: [3. 8.]\n",
            "95% доверительный интервал для группы2: [10.5 14.5]\n",
            "95% доверительный интервал для разности медиан: [ 3.5 10. ]\n"
          ],
          "name": "stdout"
        }
      ]
    },
    {
      "cell_type": "code",
      "metadata": {
        "colab": {
          "base_uri": "https://localhost:8080/"
        },
        "id": "_5_t9c-veSQj",
        "outputId": "86a16146-efcf-4f13-af3e-c59ce43b4f8e"
      },
      "source": [
        "mean_confidence_interval(group1)"
      ],
      "execution_count": 7,
      "outputs": [
        {
          "output_type": "execute_result",
          "data": {
            "text/plain": [
              "(5.5, 3.3341494103866087, 7.665850589613392)"
            ]
          },
          "metadata": {
            "tags": []
          },
          "execution_count": 7
        }
      ]
    },
    {
      "cell_type": "code",
      "metadata": {
        "colab": {
          "base_uri": "https://localhost:8080/"
        },
        "id": "x-UKmzFBeW_C",
        "outputId": "8a7a5be6-69b6-40bf-cb43-2d87a7fe6ed8"
      },
      "source": [
        "mean_confidence_interval(group2)"
      ],
      "execution_count": 8,
      "outputs": [
        {
          "output_type": "execute_result",
          "data": {
            "text/plain": [
              "(12.5, 10.536685692272393, 14.463314307727607)"
            ]
          },
          "metadata": {
            "tags": []
          },
          "execution_count": 8
        }
      ]
    }
  ]
}