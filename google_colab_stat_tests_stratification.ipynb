{
  "nbformat": 4,
  "nbformat_minor": 0,
  "metadata": {
    "colab": {
      "name": "google_colab_stat_tests_stratification .ipynb",
      "provenance": [],
      "collapsed_sections": []
    },
    "kernelspec": {
      "name": "python3",
      "display_name": "Python 3"
    },
    "language_info": {
      "name": "python"
    }
  },
  "cells": [
    {
      "cell_type": "markdown",
      "source": [
        "# Стратификация. Как разбиение выборки повышает чувствительность A/B теста"
      ],
      "metadata": {
        "id": "CLkyJFV3Q5lI"
      }
    },
    {
      "cell_type": "markdown",
      "source": [
        "### ***Ноутбук из публикации \"Стратификация. Как разбиение выборки повышает чувствительность A/B теста\", X5RetailGroup, Хабр. Авторы Николай Назаров, Александр Сахнов***"
      ],
      "metadata": {
        "id": "qQU9W0y6Q8hW"
      }
    },
    {
      "cell_type": "code",
      "execution_count": 1,
      "metadata": {
        "id": "N2FRY3SbQcw8"
      },
      "outputs": [],
      "source": [
        "import pandas as pd\n",
        "import numpy as np    \n",
        "from scipy import stats\n",
        "from tqdm import tqdm\n",
        "import seaborn as sns"
      ]
    },
    {
      "cell_type": "markdown",
      "source": [
        "### **Размер выборки**"
      ],
      "metadata": {
        "id": "WvtTFDwLSSVY"
      }
    },
    {
      "cell_type": "code",
      "source": [
        "alpha = 0.05                    # вероятность ошибки I рода\n",
        "beta = 0.2                      # вероятность ошибки II рода\n",
        "mu_control = 2500               # средняя выручка с пользователя в контрольной группе\n",
        "effect = 100                    # размер эффекта\n",
        "mu_pilot = mu_control + effect  # средняя выручка с пользователя в экспериментальной группе\n",
        "std = 800                       # стандартное отклонение\n",
        "\n",
        "t_alpha = stats.norm.ppf(1 - alpha / 2, loc=0, scale=1)\n",
        "t_beta = stats.norm.ppf(1 - beta, loc=0, scale=1)\n",
        "var = 2 * std ** 2\n",
        "sample_size = int((t_alpha + t_beta) ** 2 * var / (effect ** 2))\n",
        "print(f'sample_size = {sample_size}')"
      ],
      "metadata": {
        "colab": {
          "base_uri": "https://localhost:8080/"
        },
        "id": "EKA6xD9kR0eB",
        "outputId": "5560c6c4-0981-49d0-e487-5e14853205d7"
      },
      "execution_count": 2,
      "outputs": [
        {
          "output_type": "stream",
          "name": "stdout",
          "text": [
            "sample_size = 1004\n"
          ]
        }
      ]
    },
    {
      "cell_type": "markdown",
      "source": [
        "### **Проверим, что при таком размере групп вероятности ошибок контролируются на заданных уровнях. Это можно сделать с помощью синтетических AA и AB тестов. Будем генерировать пары выборок с эффектом и без эффекта и считать доли случаев, когда тест Стьюдента ошибся.**"
      ],
      "metadata": {
        "id": "mTzZqCs0Sq_H"
      }
    },
    {
      "cell_type": "code",
      "source": [
        "first_type_errors = []\n",
        "second_type_errors = []\n",
        " \n",
        "sample_size = 1004\n",
        " \n",
        "for _ in tqdm(range(10000)):\n",
        "    control_one = np.random.normal(mu_control, std, sample_size)\n",
        "    control_two = np.random.normal(mu_control, std, sample_size)\n",
        "    pilot = np.random.normal(mu_pilot, std, sample_size)\n",
        "    _, pvalue_aa = stats.ttest_ind(control_one, control_two)\n",
        "    first_type_errors.append(pvalue_aa < alpha)\n",
        "    _, pvalue_ab = stats.ttest_ind(control_one, pilot)\n",
        "    second_type_errors.append(pvalue_ab >= alpha)\n",
        "\n",
        "part_first_type_errors = np.mean(first_type_errors)\n",
        "part_second_type_errors = np.mean(second_type_errors)\n",
        "print('--------------------------------------------')\n",
        "print(f'part_first_type_errors = {part_first_type_errors:0.3f}')\n",
        "print(f'part_second_type_errors = {part_second_type_errors:0.3f}')"
      ],
      "metadata": {
        "colab": {
          "base_uri": "https://localhost:8080/"
        },
        "id": "7TE_uw8RSuEe",
        "outputId": "40c815ec-6df6-4ef9-e079-b33d3fd4b26a"
      },
      "execution_count": 3,
      "outputs": [
        {
          "output_type": "stream",
          "name": "stderr",
          "text": [
            "100%|██████████| 10000/10000 [00:17<00:00, 581.40it/s]"
          ]
        },
        {
          "output_type": "stream",
          "name": "stdout",
          "text": [
            "--------------------------------------------\n",
            "part_first_type_errors = 0.047\n",
            "part_second_type_errors = 0.195\n"
          ]
        },
        {
          "output_type": "stream",
          "name": "stderr",
          "text": [
            "\n"
          ]
        }
      ]
    },
    {
      "cell_type": "markdown",
      "source": [
        "### **Формирование тестовой и контрольной группы**"
      ],
      "metadata": {
        "id": "jmWSteQrXK3g"
      }
    },
    {
      "cell_type": "code",
      "source": [
        "user_ids = np.arange(10000)\n",
        "control_user_ids, pilot_user_ids = np.random.choice(\n",
        "user_ids, (2, sample_size), replace=False\n",
        ")"
      ],
      "metadata": {
        "id": "rLUQnDxMWpYg"
      },
      "execution_count": 4,
      "outputs": []
    },
    {
      "cell_type": "markdown",
      "source": [
        "### **Ковариата - метрика, которая коррелирует с целевой метрикой, может быть измерена до эксперимента и не зависит от других экспериментов.**\n",
        "### **Популяция - все пользователи, на которых мы можем повлиять нашим экспериментом.**\n",
        "### **С помощью ковариат можно разделить популяцию на непересекающиеся подмножества, которые будут обладать уникальным набором значений ковариат - стратами.**\n"
      ],
      "metadata": {
        "id": "YE-S09gkYB5f"
      }
    },
    {
      "cell_type": "code",
      "source": [
        "def get_stratified_data(strat_to_param, effect=0):\n",
        "    \"\"\"Генерирует данные стратифицированным семплированием.\n",
        "\n",
        "    Возвращает датафрейм со значениями метрики и страт пользователей\n",
        "    в контрольной и экспериментальной группах.\n",
        "\n",
        "    strat_to_param - словарь с параметрами страт\n",
        "    effect - размер эффекта\n",
        "    \"\"\"\n",
        "    control, pilot = [], []\n",
        "    for strat, (n, mu, std) in strat_to_param.items():\n",
        "        control += [\n",
        "            (x, strat,) for x in np.random.normal(mu, std, n)\n",
        "        ]\n",
        "        pilot += [\n",
        "            (x, strat,) for x in np.random.normal(mu + effect, std, n)\n",
        "        ]\n",
        "    columns = ['value', 'strat']\n",
        "    control_df = pd.DataFrame(control, columns=columns)\n",
        "    pilot_df = pd.DataFrame(pilot, columns=columns)\n",
        "    return control_df, pilot_df"
      ],
      "metadata": {
        "id": "3m4tNDNJYo-w"
      },
      "execution_count": 5,
      "outputs": []
    },
    {
      "cell_type": "code",
      "source": [
        "def get_random_data(strats, sample_size, strat_to_param, effect=0):\n",
        "    \"\"\"Генерирует данные случайным семплированием.\n",
        "\n",
        "    Возвращает датафрейм со значениями метрики и страт пользователей\n",
        "    в контрольной и экспериментальной группах.\n",
        "\n",
        "    strats - cписок страт в популяции\n",
        "    sample_size - размеры групп\n",
        "    strat_to_param - словарь с параметрами страт\n",
        "    effect - размер эффекта\n",
        "    \"\"\"\n",
        "    control_strats, pilot_strats = np.random.choice(\n",
        "        strats, (2, sample_size), False\n",
        "    )\n",
        "    control, pilot = [], []\n",
        "    for strat, (n, mu, std) in strat_to_param.items():\n",
        "        n_control_ = np.sum(control_strats == strat)\n",
        "        control += [\n",
        "            (x, strat,) for x in np.random.normal(mu, std, n_control_)\n",
        "        ]\n",
        "        n_pilot_ = np.sum(pilot_strats == strat)\n",
        "        pilot += [\n",
        "            (x, strat,) for x in np.random.normal(mu + effect, std, n_pilot_)\n",
        "        ]\n",
        "    columns = ['value', 'strat']\n",
        "    control_df = pd.DataFrame(control, columns=columns)\n",
        "    pilot_df = pd.DataFrame(pilot, columns=columns)\n",
        "    return control_df, pilot_df"
      ],
      "metadata": {
        "id": "nbQdONrWZP2g"
      },
      "execution_count": 6,
      "outputs": []
    },
    {
      "cell_type": "code",
      "source": [
        "def ttest(a: pd.DataFrame, b: pd.DataFrame) -> float:\n",
        "    \"\"\"Возвращает pvalue теста Стьюдента.\n",
        "  \n",
        "    a, b - данные пользователей контрольной и экспериментальной групп\n",
        "    \"\"\"\n",
        "    _, pvalue = stats.ttest_ind(a['value'].values, b['value'].values)\n",
        "    return pvalue"
      ],
      "metadata": {
        "id": "e9_ZysB7ZToQ"
      },
      "execution_count": 7,
      "outputs": []
    },
    {
      "cell_type": "code",
      "source": [
        "alpha = 0.05                        # уровень значимости\n",
        "N = 10000                           # количество пользователей в популяции\n",
        "w_one, w_two = 0.5, 0.5             # доли страт в популяции\n",
        "N_one = int(N * w_one)              # количество пользователей первой страты\n",
        "N_two = int(N * w_two)              # количество пользователей второй страты\n",
        "mu_one, mu_two = 2000, 3000         # средние выручки в стратах\n",
        "std_one, std_two = 625, 625         # стандартное отклонение в стратах\n",
        "\n",
        "# список страт в популяции\n",
        "strats = [1 for _ in range(N_one)] + [2 for _ in range(N_two)]\n",
        "\n",
        "# размер групп эксперимента\n",
        "sample_size = 1100\n",
        "sample_size_one = int(sample_size * w_one)\n",
        "sample_size_two = int(sample_size * w_two)\n",
        "\n",
        "# маппинг параметров страт\n",
        "strat_to_param = {\n",
        "    1: (sample_size_one, mu_one, std_one,),\n",
        "    2: (sample_size_two, mu_two, std_two,)\n",
        "}\n",
        "\n",
        "random_first_type_errors = []\n",
        "stratified_first_type_errors = []\n",
        "random_deltas = []\n",
        "stratified_deltas = []\n",
        "\n",
        "for _ in tqdm(range(10000)):\n",
        "    control_random, pilot_random = get_random_data(\n",
        "        strats, sample_size, strat_to_param\n",
        "    )\n",
        "    control_stratified, pilot_stratified = get_stratified_data(\n",
        "        strat_to_param\n",
        "    )\n",
        "    random_deltas.append(\n",
        "        pilot_random['value'].mean() - control_random['value'].mean()\n",
        "    )\n",
        "    stratified_deltas.append(\n",
        "        pilot_stratified['value'].mean() - control_stratified['value'].mean()\n",
        "    )\n",
        "\n",
        "    pvalue_random = ttest(control_random, pilot_random)\n",
        "    random_first_type_errors.append(pvalue_random < alpha)\n",
        "    pvalue_stratified = ttest(control_stratified, pilot_stratified)\n",
        "    stratified_first_type_errors.append(pvalue_stratified < alpha)\n",
        " \n",
        "part_random_first_type_errors = np.mean(random_first_type_errors)\n",
        "part_stratified_first_type_errors = np.mean(stratified_first_type_errors)\n",
        "print('--------------------------------------------')\n",
        "print(f'part_random_first_type_errors = {part_random_first_type_errors:0.3f}')\n",
        "print(f'part_stratified_first_type_errors = {part_stratified_first_type_errors:0.3f}')"
      ],
      "metadata": {
        "colab": {
          "base_uri": "https://localhost:8080/"
        },
        "id": "weyzojeSZ3p3",
        "outputId": "8057c591-2074-4544-b990-6437209dff52"
      },
      "execution_count": 8,
      "outputs": [
        {
          "output_type": "stream",
          "name": "stderr",
          "text": [
            "100%|██████████| 10000/10000 [01:31<00:00, 109.88it/s]"
          ]
        },
        {
          "output_type": "stream",
          "name": "stdout",
          "text": [
            "--------------------------------------------\n",
            "part_random_first_type_errors = 0.047\n",
            "part_stratified_first_type_errors = 0.012\n"
          ]
        },
        {
          "output_type": "stream",
          "name": "stderr",
          "text": [
            "\n"
          ]
        }
      ]
    },
    {
      "cell_type": "markdown",
      "source": [
        "###**Стратифицированное семплирование снизило вероятность ошибки первого рода более чем в 4 раза**"
      ],
      "metadata": {
        "id": "en_563Bmfi-X"
      }
    },
    {
      "cell_type": "code",
      "source": [
        "sns.displot(\n",
        "    {'random_deltas': random_deltas, 'stratified_deltas': stratified_deltas},\n",
        "    kind='kde'\n",
        ")"
      ],
      "metadata": {
        "colab": {
          "base_uri": "https://localhost:8080/",
          "height": 386
        },
        "id": "LnjUXXakfk7v",
        "outputId": "badaeac1-6266-4e17-a158-3233e0687746"
      },
      "execution_count": 9,
      "outputs": [
        {
          "output_type": "execute_result",
          "data": {
            "text/plain": [
              "<seaborn.axisgrid.FacetGrid at 0x7f7763862050>"
            ]
          },
          "metadata": {},
          "execution_count": 9
        },
        {
          "output_type": "display_data",
          "data": {
            "image/png": "[encoded data removed]",
            "text/plain": [
              "<Figure size 476.75x360 with 1 Axes>"
            ]
          },
          "metadata": {
            "needs_background": "light"
          }
        }
      ]
    },
    {
      "cell_type": "code",
      "source": [
        "effect = 100\n",
        "random_second_type_errors = []\n",
        "stratified_second_type_errors = []\n",
        "\n",
        "for _ in tqdm(range(10000)):\n",
        "    control_random, pilot_random = get_random_data(\n",
        "        strats, sample_size, strat_to_param, effect\n",
        "    )\n",
        "    control_stratified, pilot_stratified = get_stratified_data(\n",
        "        strat_to_param, effect\n",
        "    )\n",
        "    pvalue_random = ttest(control_random, pilot_random)\n",
        "    random_second_type_errors.append(pvalue_random >= alpha)\n",
        "    pvalue_stratified = ttest(control_stratified, pilot_stratified)\n",
        "    stratified_second_type_errors.append(pvalue_stratified >= alpha)\n",
        " \n",
        "part_random_second_type_errors = np.mean(random_second_type_errors)\n",
        "part_stratified_second_type_errors = np.mean(stratified_second_type_errors)\n",
        "print('--------------------------------------------')\n",
        "print(f'part_random_second_type_errors = {part_random_second_type_errors:0.3f}')\n",
        "print(f'part_stratified_second_type_errors = {part_stratified_second_type_errors:0.3f}')"
      ],
      "metadata": {
        "colab": {
          "base_uri": "https://localhost:8080/"
        },
        "id": "ZvdZR5pjiVLg",
        "outputId": "c51aa720-17e3-4f92-a926-a0bff434ab32"
      },
      "execution_count": 10,
      "outputs": [
        {
          "output_type": "stream",
          "name": "stderr",
          "text": [
            "100%|██████████| 10000/10000 [01:22<00:00, 121.13it/s]"
          ]
        },
        {
          "output_type": "stream",
          "name": "stdout",
          "text": [
            "--------------------------------------------\n",
            "part_random_second_type_errors = 0.167\n",
            "part_stratified_second_type_errors = 0.102\n"
          ]
        },
        {
          "output_type": "stream",
          "name": "stderr",
          "text": [
            "\n"
          ]
        }
      ]
    },
    {
      "cell_type": "markdown",
      "source": [
        "###**Получилось, что при случайном семплировании доля ошибок второго рода равна 0.167, а при стратифицированном - 0.109.**"
      ],
      "metadata": {
        "id": "N6oT5ri6ifQR"
      }
    },
    {
      "cell_type": "markdown",
      "source": [
        "### **Стратифицированное среднее**"
      ],
      "metadata": {
        "id": "dzjkJ3DkjH6w"
      }
    },
    {
      "cell_type": "code",
      "source": [
        "def calc_strat_mean(df: pd.DataFrame, weights: pd.Series) -> float:\n",
        "    \"\"\"Считает стратифицированное среднее.\n",
        "\n",
        "    df - датафрейм с целевой метрикой и данными для стратификации\n",
        "    weights - маппинг {название страты: вес страты в популяции}\n",
        "    \"\"\"\n",
        "    strat_mean = df.groupby('strat')['value'].mean()\n",
        "    return (strat_mean * weights).sum()\n"
      ],
      "metadata": {
        "id": "UL35i_w1ihFv"
      },
      "execution_count": 11,
      "outputs": []
    },
    {
      "cell_type": "code",
      "source": [
        "def calc_strat_var(df: pd.DataFrame, weights: pd.Series) -> float:\n",
        "    \"\"\"Считает стратифицированную дисперсию.\n",
        "    df - датафрейм с целевой метрикой и данными для стратификации\n",
        "    weights - маппинг {название страты: вес страты в популяции}\n",
        "    \"\"\"\n",
        "    strat_var = df.groupby('strat')['value'].var()\n",
        "    return (strat_var * weights).sum()\n"
      ],
      "metadata": {
        "id": "Ym9f448Ljbgv"
      },
      "execution_count": 12,
      "outputs": []
    },
    {
      "cell_type": "code",
      "source": [
        "def ttest_strat(a: pd.DataFrame, b: pd.DataFrame, weights: pd.Series) -> float:\n",
        "    \"\"\"Возвращает pvalue теста Стьюдента для стратифицированного среднего.\n",
        "\n",
        "    a, b - данные пользователей контрольной и экспериментальной групп\n",
        "    weights - маппинг {название страты: вес страты в популяции}\n",
        "    \"\"\"\n",
        "    a_strat_mean = calc_strat_mean(a, weights)\n",
        "    b_strat_mean = calc_strat_mean(b, weights)\n",
        "    a_strat_var = calc_strat_var(a, weights)\n",
        "    b_strat_var = calc_strat_var(b, weights)\n",
        "    delta = b_strat_mean - a_strat_mean\n",
        "    std = (a_strat_var / len(a) + b_strat_var / len(b)) ** 0.5\n",
        "    t = delta / std\n",
        "    pvalue = 2 * (1 - stats.norm.cdf(np.abs(t)))\n",
        "    return pvalue"
      ],
      "metadata": {
        "id": "JYjm33wsjd-4"
      },
      "execution_count": 13,
      "outputs": []
    },
    {
      "cell_type": "code",
      "source": [
        "weights = pd.Series({1: w_one, 2: w_two})\n",
        "\n",
        "first_type_errors = []\n",
        "second_type_errors = []\n",
        "\n",
        "for _ in tqdm(range(10000)):\n",
        "    control_aa, pilot_aa = get_stratified_data(\n",
        "        strat_to_param\n",
        "    )\n",
        "    control_ab, pilot_ab = get_stratified_data(\n",
        "        strat_to_param, effect\n",
        "    )\n",
        "\n",
        "    pvalue_aa = ttest_strat(control_aa, pilot_aa, weights)\n",
        "    first_type_errors.append(pvalue_aa < alpha)\n",
        "    pvalue_ab = ttest_strat(control_ab, pilot_ab, weights)\n",
        "    second_type_errors.append(pvalue_ab >= alpha)\n",
        "\n",
        "\n",
        "part_first_type_errors = np.mean(first_type_errors)\n",
        "part_second_type_errors = np.mean(second_type_errors)\n",
        "print('--------------------------------------------')\n",
        "print(f'part_first_type_errors = {part_first_type_errors:0.3f}')\n",
        "print(f'part_second_type_errors = {part_second_type_errors:0.3f}')"
      ],
      "metadata": {
        "colab": {
          "base_uri": "https://localhost:8080/"
        },
        "id": "YyuNsQ-ujv3A",
        "outputId": "646dd220-763b-4605-fbd7-8d2bcdf60daa"
      },
      "execution_count": 14,
      "outputs": [
        {
          "output_type": "stream",
          "name": "stderr",
          "text": [
            "100%|██████████| 10000/10000 [02:50<00:00, 58.53it/s]"
          ]
        },
        {
          "output_type": "stream",
          "name": "stdout",
          "text": [
            "--------------------------------------------\n",
            "part_first_type_errors = 0.051\n",
            "part_second_type_errors = 0.038\n"
          ]
        },
        {
          "output_type": "stream",
          "name": "stderr",
          "text": [
            "\n"
          ]
        }
      ]
    },
    {
      "cell_type": "markdown",
      "source": [
        "###**Получаем долю ошибок I рода 0.05 и ошибок II рода 0.035. Теперь тест контролируют вероятность ошибки первого рода на заданном уровне значимости, но при этом его мощность значительно увеличилась.**"
      ],
      "metadata": {
        "id": "FZmn4w7glNiZ"
      }
    }
  ]
}