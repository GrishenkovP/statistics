{
  "nbformat": 4,
  "nbformat_minor": 0,
  "metadata": {
    "colab": {
      "name": "google_colab_stat_tests_false_positive_errors.ipynb",
      "provenance": [],
      "collapsed_sections": []
    },
    "kernelspec": {
      "name": "python3",
      "display_name": "Python 3"
    },
    "language_info": {
      "name": "python"
    }
  },
  "cells": [
    {
      "cell_type": "code",
      "metadata": {
        "id": "fEp9WGCnllCF"
      },
      "source": [
        "%%capture\n",
        "!python -m pip install --upgrade scipy"
      ],
      "execution_count": 1,
      "outputs": []
    },
    {
      "cell_type": "code",
      "metadata": {
        "id": "sqySQp__jzyq"
      },
      "source": [
        "import numpy as np\n",
        "import pandas as pd\n",
        "from scipy.stats import mannwhitneyu,ttest_ind\n",
        "from tqdm import tqdm"
      ],
      "execution_count": 2,
      "outputs": []
    },
    {
      "cell_type": "markdown",
      "metadata": {
        "id": "iYkjquR3zuGB"
      },
      "source": [
        "### False Positive"
      ]
    },
    {
      "cell_type": "code",
      "metadata": {
        "colab": {
          "base_uri": "https://localhost:8080/"
        },
        "id": "eAqo8vg0lPss",
        "outputId": "63cf698d-fd7e-4532-b917-5a363558b7c6"
      },
      "source": [
        "p_val_list_t = []\n",
        "p_val_list_mw = []\n",
        "\n",
        "for _ in tqdm(range(1000)):\n",
        "  d1 = np.random.normal(0, 1, 1000)\n",
        "  d2 = np.random.normal(0, 1, 1000)\n",
        "  _, p_value_t = ttest_ind(d1, d2, alternative='two-sided')\n",
        "  _, p_value_mw = mannwhitneyu(d1, d2, alternative='two-sided')\n",
        "\n",
        "  if p_value_t <= 0.05:\n",
        "    p_val_list_t.append(1)\n",
        "  else:\n",
        "    p_val_list_t.append(0)\n",
        "\n",
        "  if p_value_mw <= 0.05:\n",
        "    p_val_list_mw.append(1)\n",
        "  else:\n",
        "    p_val_list_mw.append(0)"
      ],
      "execution_count": 3,
      "outputs": [
        {
          "output_type": "stream",
          "name": "stderr",
          "text": [
            "100%|██████████| 1000/1000 [00:02<00:00, 426.19it/s]\n"
          ]
        }
      ]
    },
    {
      "cell_type": "code",
      "metadata": {
        "colab": {
          "base_uri": "https://localhost:8080/"
        },
        "id": "TUIFcY-Vs7kM",
        "outputId": "efe90494-4bb2-44c3-984e-dfc710556bf9"
      },
      "source": [
        "print(np.mean(p_val_list_t))\n",
        "print(np.mean(p_val_list_mw))"
      ],
      "execution_count": 4,
      "outputs": [
        {
          "output_type": "stream",
          "name": "stdout",
          "text": [
            "0.045\n",
            "0.049\n"
          ]
        }
      ]
    }
  ]
}