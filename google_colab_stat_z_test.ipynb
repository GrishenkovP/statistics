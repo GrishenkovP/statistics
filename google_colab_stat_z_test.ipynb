{
  "nbformat": 4,
  "nbformat_minor": 0,
  "metadata": {
    "colab": {
      "name": "google_colab_stat_z_test.ipynb",
      "provenance": [],
      "collapsed_sections": []
    },
    "kernelspec": {
      "name": "python3",
      "display_name": "Python 3"
    },
    "language_info": {
      "name": "python"
    }
  },
  "cells": [
    {
      "cell_type": "code",
      "metadata": {
        "id": "EoBCCF5LhgDz"
      },
      "source": [
        "import pandas as pd\n",
        "import numpy as np\n",
        "import matplotlib.pyplot as plt\n",
        "import seaborn as sns\n",
        "sns.set(rc={'figure.figsize':(10, 8)})\n",
        "from scipy import stats as st\n",
        "import math"
      ],
      "execution_count": 1,
      "outputs": []
    },
    {
      "cell_type": "markdown",
      "metadata": {
        "id": "p7AJXh4bm7my"
      },
      "source": [
        "#Z-тест"
      ]
    },
    {
      "cell_type": "code",
      "metadata": {
        "id": "56nEcMxTisDD"
      },
      "source": [
        "# Реклама \"А\" получает 200 откликов на 1000 просмотров, реклама \"В\" 180 на 1000\n",
        "clicks = [250, 240] #отклики в каждой группе\n",
        "views  = [1000, 1000] #просмотры в каждой группе"
      ],
      "execution_count": 2,
      "outputs": []
    },
    {
      "cell_type": "code",
      "metadata": {
        "colab": {
          "base_uri": "https://localhost:8080/"
        },
        "id": "tJNzGNCCitXS",
        "outputId": "dd23daca-58ea-40e9-c721-3725f877eefc"
      },
      "source": [
        "# Рассчитываем z\n",
        "p1 = clicks[0]/views[0]\n",
        "p2 = clicks[1]/views[1]\n",
        "p_combined = (clicks[0] + clicks[1]) / (views[0] + views[1])\n",
        "difference = p1 - p2\n",
        "z_value = difference /math.sqrt(p_combined * (1 - p_combined) * (1/views[0] + 1/views[1]))\n",
        "print(z_value)"
      ],
      "execution_count": 3,
      "outputs": [
        {
          "output_type": "stream",
          "text": [
            "0.519910375176314\n"
          ],
          "name": "stdout"
        }
      ]
    },
    {
      "cell_type": "code",
      "metadata": {
        "colab": {
          "base_uri": "https://localhost:8080/"
        },
        "id": "pliXRJeBiwxS",
        "outputId": "2e87af1d-f8c4-407c-b118-001bd91bb2f0"
      },
      "source": [
        "# Рассчитываем p\n",
        "distr = st.norm(0, 1)\n",
        "p_value = (1 - distr.cdf(abs(z_value))) * 2\n",
        "print('p-значение: ', p_value)"
      ],
      "execution_count": 5,
      "outputs": [
        {
          "output_type": "stream",
          "text": [
            "p-значение:  0.6031260437095334\n"
          ],
          "name": "stdout"
        }
      ]
    },
    {
      "cell_type": "code",
      "metadata": {
        "colab": {
          "base_uri": "https://localhost:8080/"
        },
        "id": "ONRyzds1i39C",
        "outputId": "296090f8-e64b-466b-f1df-4d6009d514ec"
      },
      "source": [
        "alpha = .05\n",
        "if (p_value < alpha):\n",
        "    print(\"Отвергаем нулевую гипотезу: между долями есть значимая разница\")\n",
        "else:\n",
        "    print(\"Не получилось отвергнуть нулевую гипотезу, нет оснований считать доли разными\")"
      ],
      "execution_count": 6,
      "outputs": [
        {
          "output_type": "stream",
          "text": [
            "Не получилось отвергнуть нулевую гипотезу, нет оснований считать доли разными\n"
          ],
          "name": "stdout"
        }
      ]
    },
    {
      "cell_type": "markdown",
      "metadata": {
        "id": "o-BOjbmNnAhq"
      },
      "source": [
        "#Z-оценка"
      ]
    },
    {
      "cell_type": "code",
      "metadata": {
        "id": "KNdF2MySnAFa"
      },
      "source": [
        "list_number = [7,8,8,7.5,9]"
      ],
      "execution_count": 7,
      "outputs": []
    },
    {
      "cell_type": "code",
      "metadata": {
        "colab": {
          "base_uri": "https://localhost:8080/"
        },
        "id": "l99HQv0dne4Z",
        "outputId": "215bbd33-8cf2-4cdb-90df-de8e1956f3d7"
      },
      "source": [
        "# Рассчитываем среднее\n",
        "mean = np.mean(list_number)\n",
        "print(mean)"
      ],
      "execution_count": 12,
      "outputs": [
        {
          "output_type": "stream",
          "text": [
            "7.9\n"
          ],
          "name": "stdout"
        }
      ]
    },
    {
      "cell_type": "code",
      "metadata": {
        "colab": {
          "base_uri": "https://localhost:8080/"
        },
        "id": "-k3U4KcpoWAA",
        "outputId": "eea88aea-557b-4180-950c-d2479acdddd5"
      },
      "source": [
        "# Рассчитываем дисперсию\n",
        "var = np.var(list_number,ddof=1)\n",
        "print(var)"
      ],
      "execution_count": 15,
      "outputs": [
        {
          "output_type": "stream",
          "text": [
            "0.55\n"
          ],
          "name": "stdout"
        }
      ]
    },
    {
      "cell_type": "code",
      "metadata": {
        "colab": {
          "base_uri": "https://localhost:8080/"
        },
        "id": "V8Emk2QHo0hJ",
        "outputId": "886c7f51-452c-4d31-d2f8-f962d85eec94"
      },
      "source": [
        "# Рассчитываем стандартное отклонение\n",
        "std = round(np.std(list_number,ddof=1),2)\n",
        "print(std)"
      ],
      "execution_count": 20,
      "outputs": [
        {
          "output_type": "stream",
          "text": [
            "0.74\n"
          ],
          "name": "stdout"
        }
      ]
    },
    {
      "cell_type": "code",
      "metadata": {
        "colab": {
          "base_uri": "https://localhost:8080/"
        },
        "id": "f-VuWFSipgQB",
        "outputId": "0cb23a0f-2da3-41b3-872e-17458607bf98"
      },
      "source": [
        "# Рассчитаем z-оценку для 7.5\n",
        "z = (7.5-mean)/std\n",
        "print(z)"
      ],
      "execution_count": 22,
      "outputs": [
        {
          "output_type": "stream",
          "text": [
            "-0.540540540540541\n"
          ],
          "name": "stdout"
        }
      ]
    },
    {
      "cell_type": "code",
      "metadata": {
        "id": "RoCAtr8TqBaZ"
      },
      "source": [
        "# Такая Z-оценка означает, что число 7,5 удалено на -0,54 стандартных отклонений от среднего значения выборки.\n",
        "# Z-оценка может быть как положительной, так и отрицательной.\n",
        "# Отрицательная Z-оценка указывает на то, что выбранное число выборки меньше среднего значения, \n",
        "# а положительная Z-оценка – на то, что число больше среднего значения."
      ],
      "execution_count": null,
      "outputs": []
    }
  ]
}