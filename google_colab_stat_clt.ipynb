{
  "nbformat": 4,
  "nbformat_minor": 0,
  "metadata": {
    "colab": {
      "name": "google_colab_clt.ipynb",
      "provenance": [],
      "collapsed_sections": []
    },
    "kernelspec": {
      "name": "python3",
      "display_name": "Python 3"
    },
    "language_info": {
      "name": "python"
    }
  },
  "cells": [
    {
      "cell_type": "code",
      "metadata": {
        "id": "Kn3EmI7xnjk0"
      },
      "source": [
        "# Импорт библиотек\n",
        "import math\n",
        "import numpy as np\n",
        "import pandas as pd\n",
        "import scipy as sp\n",
        "import scipy.stats as stats\n",
        "import seaborn as sns\n",
        "import matplotlib.pyplot as plt\n",
        "%matplotlib inline"
      ],
      "execution_count": 1,
      "outputs": []
    },
    {
      "cell_type": "code",
      "metadata": {
        "id": "Z3A4yUdhpWlk"
      },
      "source": [
        "df = pd.read_csv('test.csv',sep=';',nrows=1500)"
      ],
      "execution_count": 9,
      "outputs": []
    },
    {
      "cell_type": "code",
      "metadata": {
        "colab": {
          "base_uri": "https://localhost:8080/"
        },
        "id": "LM2v2BCUppMZ",
        "outputId": "cecc44e4-e91d-4ede-c248-1109511b03f6"
      },
      "source": [
        "print(df.head(5))\n",
        "print(df.shape)\n",
        "print(df.info())"
      ],
      "execution_count": 10,
      "outputs": [
        {
          "output_type": "stream",
          "text": [
            "  region  amount\n",
            "0      B      66\n",
            "1      A      47\n",
            "2      B      54\n",
            "3      B      82\n",
            "4      A      38\n",
            "(1500, 2)\n",
            "<class 'pandas.core.frame.DataFrame'>\n",
            "RangeIndex: 1500 entries, 0 to 1499\n",
            "Data columns (total 2 columns):\n",
            " #   Column  Non-Null Count  Dtype \n",
            "---  ------  --------------  ----- \n",
            " 0   region  1500 non-null   object\n",
            " 1   amount  1500 non-null   int64 \n",
            "dtypes: int64(1), object(1)\n",
            "memory usage: 23.6+ KB\n",
            "None\n"
          ],
          "name": "stdout"
        }
      ]
    },
    {
      "cell_type": "code",
      "metadata": {
        "id": "PT-3lKa0p74B"
      },
      "source": [
        "# Создание списка загрузочных средств для каждой AB-группы\n",
        "list_of_averages = []\n",
        "for i in range(1000):\n",
        "    list_mean = df.sample(frac = 1,replace = True).groupby('region')['amount'].mean()\n",
        "    list_of_averages.append(list_mean)"
      ],
      "execution_count": 11,
      "outputs": []
    },
    {
      "cell_type": "code",
      "metadata": {
        "id": "_pfUrvkErnzx"
      },
      "source": [
        "# Преобразование списка в DataFrame\n",
        "df_list_of_averages = pd.DataFrame(list_of_averages)"
      ],
      "execution_count": 13,
      "outputs": []
    },
    {
      "cell_type": "code",
      "metadata": {
        "colab": {
          "base_uri": "https://localhost:8080/",
          "height": 359
        },
        "id": "CdJQRm82rtBR",
        "outputId": "5b5db2d2-34d9-4dbb-d38b-d76915f2ce06"
      },
      "source": [
        "df_list_of_averages.head(10)"
      ],
      "execution_count": 14,
      "outputs": [
        {
          "output_type": "execute_result",
          "data": {
            "text/html": [
              "<div>\n",
              "<style scoped>\n",
              "    .dataframe tbody tr th:only-of-type {\n",
              "        vertical-align: middle;\n",
              "    }\n",
              "\n",
              "    .dataframe tbody tr th {\n",
              "        vertical-align: top;\n",
              "    }\n",
              "\n",
              "    .dataframe thead th {\n",
              "        text-align: right;\n",
              "    }\n",
              "</style>\n",
              "<table border=\"1\" class=\"dataframe\">\n",
              "  <thead>\n",
              "    <tr style=\"text-align: right;\">\n",
              "      <th>region</th>\n",
              "      <th>A</th>\n",
              "      <th>B</th>\n",
              "    </tr>\n",
              "  </thead>\n",
              "  <tbody>\n",
              "    <tr>\n",
              "      <th>amount</th>\n",
              "      <td>29.283747</td>\n",
              "      <td>69.005168</td>\n",
              "    </tr>\n",
              "    <tr>\n",
              "      <th>amount</th>\n",
              "      <td>29.217114</td>\n",
              "      <td>68.238494</td>\n",
              "    </tr>\n",
              "    <tr>\n",
              "      <th>amount</th>\n",
              "      <td>29.656716</td>\n",
              "      <td>68.305374</td>\n",
              "    </tr>\n",
              "    <tr>\n",
              "      <th>amount</th>\n",
              "      <td>30.383825</td>\n",
              "      <td>67.633842</td>\n",
              "    </tr>\n",
              "    <tr>\n",
              "      <th>amount</th>\n",
              "      <td>29.969577</td>\n",
              "      <td>67.056452</td>\n",
              "    </tr>\n",
              "    <tr>\n",
              "      <th>amount</th>\n",
              "      <td>30.033987</td>\n",
              "      <td>67.772789</td>\n",
              "    </tr>\n",
              "    <tr>\n",
              "      <th>amount</th>\n",
              "      <td>30.114987</td>\n",
              "      <td>67.769972</td>\n",
              "    </tr>\n",
              "    <tr>\n",
              "      <th>amount</th>\n",
              "      <td>30.881201</td>\n",
              "      <td>67.914169</td>\n",
              "    </tr>\n",
              "    <tr>\n",
              "      <th>amount</th>\n",
              "      <td>30.171171</td>\n",
              "      <td>67.294606</td>\n",
              "    </tr>\n",
              "    <tr>\n",
              "      <th>amount</th>\n",
              "      <td>30.019405</td>\n",
              "      <td>66.694635</td>\n",
              "    </tr>\n",
              "  </tbody>\n",
              "</table>\n",
              "</div>"
            ],
            "text/plain": [
              "region          A          B\n",
              "amount  29.283747  69.005168\n",
              "amount  29.217114  68.238494\n",
              "amount  29.656716  68.305374\n",
              "amount  30.383825  67.633842\n",
              "amount  29.969577  67.056452\n",
              "amount  30.033987  67.772789\n",
              "amount  30.114987  67.769972\n",
              "amount  30.881201  67.914169\n",
              "amount  30.171171  67.294606\n",
              "amount  30.019405  66.694635"
            ]
          },
          "metadata": {
            "tags": []
          },
          "execution_count": 14
        }
      ]
    },
    {
      "cell_type": "code",
      "metadata": {
        "colab": {
          "base_uri": "https://localhost:8080/",
          "height": 282
        },
        "id": "NRjWrXlnr1ZK",
        "outputId": "fc555aa0-67f9-43a8-a8db-fab145a6d6be"
      },
      "source": [
        "# График оценки плотности вероятности для выборки методом бутстрэп \n",
        "list_of_averages.plot(kind='density')"
      ],
      "execution_count": 15,
      "outputs": [
        {
          "output_type": "execute_result",
          "data": {
            "text/plain": [
              "<matplotlib.axes._subplots.AxesSubplot at 0x7f16a7ef7a50>"
            ]
          },
          "metadata": {
            "tags": []
          },
          "execution_count": 15
        },
        {
          "output_type": "display_data",
          "data": {
            "image/png": "[encoded data removed]",
            "text/plain": [
              "<Figure size 432x288 with 1 Axes>"
            ]
          },
          "metadata": {
            "tags": [],
            "needs_background": "light"
          }
        }
      ]
    }
  ]
}
