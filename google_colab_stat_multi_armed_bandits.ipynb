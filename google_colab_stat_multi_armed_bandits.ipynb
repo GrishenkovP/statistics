{
  "nbformat": 4,
  "nbformat_minor": 0,
  "metadata": {
    "colab": {
      "name": "google_colab_stat_multi_armed_bandits.ipynb",
      "provenance": []
    },
    "kernelspec": {
      "name": "python3",
      "display_name": "Python 3"
    },
    "language_info": {
      "name": "python"
    }
  },
  "cells": [
    {
      "cell_type": "markdown",
      "source": [
        "# Publication \"Multi-Armed Bandits: Epsilon-Greedy Algorithm with Python Code\" (medium.com)"
      ],
      "metadata": {
        "id": "aRQqEXSV02Bb"
      }
    },
    {
      "cell_type": "code",
      "execution_count": 1,
      "metadata": {
        "id": "nmOgQgSDtRnt"
      },
      "outputs": [],
      "source": [
        "import uuid\n",
        "import numpy as np\n",
        "import matplotlib\n",
        "import matplotlib.pyplot as plt\n",
        "from typing import List, Tuple\n",
        "from collections import defaultdict\n",
        "import logging"
      ]
    },
    {
      "cell_type": "code",
      "source": [
        "class Bandit:\n",
        "    def __init__(self, m):\n",
        "        \"\"\"\n",
        "        Simulates bandit.\n",
        "        Args:\n",
        "            m (float): True mean.\n",
        "        \"\"\"\n",
        "\n",
        "        self.m = m\n",
        "        self.id = uuid.uuid4()\n",
        "\n",
        "    def pull(self):\n",
        "        \"\"\"\n",
        "        Simulate pulling the arm of the bandit.\n",
        "        Normal distribution with mu = self.m and sigma = 1.\n",
        "        \"\"\"\n",
        "        reward = np.random.randn() + self.m\n",
        "\n",
        "        return reward"
      ],
      "metadata": {
        "id": "FFAMr7sStwt7"
      },
      "execution_count": 2,
      "outputs": []
    },
    {
      "cell_type": "code",
      "source": [
        "class BanditRewardsLog:\n",
        "    def __init__(self):\n",
        "        self.total_actions = 0\n",
        "        self.total_rewards = 0\n",
        "        self.all_rewards = []\n",
        "        self.record = defaultdict(lambda: dict(actions=0, reward=0))\n",
        "\n",
        "    def record_action(self, bandit, reward):\n",
        "        self.total_actions += 1\n",
        "        self.total_rewards += reward\n",
        "        self.all_rewards.append(reward)\n",
        "        self.record[bandit.id]['actions'] += 1\n",
        "        self.record[bandit.id]['reward'] += reward\n",
        "\n",
        "    def __getitem__(self, bandit):\n",
        "        return self.record[bandit.id]"
      ],
      "metadata": {
        "id": "Gch1LrPrtywS"
      },
      "execution_count": 3,
      "outputs": []
    },
    {
      "cell_type": "code",
      "source": [
        "class EpsilonGreedyAgent:\n",
        "    def __init__(self, bandits: List[Bandit], epsilon: float = None):\n",
        "        self.bandits = bandits\n",
        "        self.epsilon = epsilon\n",
        "        self.rewards_log = BanditRewardsLog()\n",
        "\n",
        "    def _get_random_bandit(self) -> Bandit:\n",
        "        return np.random.choice(self.bandits)\n",
        "\n",
        "    def _get_current_best_bandit(self) -> Bandit:\n",
        "        estimates = []\n",
        "        for bandit in self.bandits:\n",
        "            bandit_record = self.rewards_log[bandit]\n",
        "            if not bandit_record['actions']:\n",
        "                estimates.append(0)\n",
        "            else:\n",
        "                estimates.append(bandit_record['reward'] / bandit_record['actions'])\n",
        "\n",
        "        return self.bandits[np.argmax(estimates)]\n",
        "\n",
        "    def _choose_bandit(self) -> Bandit:\n",
        "        epsilon = self.epsilon or 1 / (1 + self.rewards_log.total_actions)\n",
        "\n",
        "        p = np.random.uniform(0, 1, 1)\n",
        "        if p < epsilon:\n",
        "            bandit = self._get_random_bandit()\n",
        "        else:\n",
        "            bandit = self._get_current_best_bandit()\n",
        "\n",
        "        return bandit\n",
        "\n",
        "    def take_action(self):\n",
        "        current_bandit = self._choose_bandit()\n",
        "        reward = current_bandit.pull()\n",
        "        self.rewards_log.record_action(current_bandit, reward)\n",
        "        return reward\n",
        "\n",
        "    def take_actions(self, iter):\n",
        "        for _ in range(iter):\n",
        "            self.take_action()"
      ],
      "metadata": {
        "id": "HV1Y9U0RuGgS"
      },
      "execution_count": 4,
      "outputs": []
    },
    {
      "cell_type": "code",
      "source": [
        "logger = logging.getLogger('logger')"
      ],
      "metadata": {
        "id": "3g5LWn3U0R1D"
      },
      "execution_count": 5,
      "outputs": []
    },
    {
      "cell_type": "code",
      "source": [
        "def compare_epsilons(\n",
        "    epsilons: List[float],\n",
        "    bandits_true_means: List[float],\n",
        "    iterations: int,\n",
        ") -> Tuple[List[EpsilonGreedyAgent], List[float]]:\n",
        "    \"\"\"\n",
        "    Compare different epsilons for epsilon-greedy algorithm.\n",
        "    \"\"\"\n",
        "    agents = []\n",
        "    bandits = [Bandit(m) for m in bandits_true_means]\n",
        "\n",
        "    for epsilon in epsilons:\n",
        "        logger.info(\"Running epsilon-greedy for epsilon = %f\", epsilon)\n",
        "        agent = EpsilonGreedyAgent(bandits=bandits, epsilon=epsilon)\n",
        "        agent.take_actions(iterations)\n",
        "        agents.append(agent)\n",
        "\n",
        "    return agents, epsilons\n",
        "  \n",
        "  \n",
        "epsilons = [0.01, 0.05, 0.1, None]\n",
        "bandits_means = [3, 4, 5]\n",
        "\n",
        "iterations = 50\n",
        "agents, _ =  compare_epsilons(epsilons, bandits_means, iterations)\n",
        "\n",
        "all_rewards = [agent.rewards_log.all_rewards for agent in agents]\n",
        "\n",
        "\n",
        "for i in range(len(agents)):\n",
        "    plt.plot(\n",
        "        np.cumsum(all_rewards[i]), \n",
        "        label=\"epsilon = {}\".format(epsilons[i] or '1 / iter'),\n",
        "    )\n",
        "\n",
        "plt.xlabel(\"iteration\")\n",
        "plt.ylabel(\"total rewards\")\n",
        "plt.legend()\n",
        "plt.show()"
      ],
      "metadata": {
        "colab": {
          "base_uri": "https://localhost:8080/",
          "height": 279
        },
        "id": "QEkDulYxuPhq",
        "outputId": "1e48098a-dc89-47ac-ca05-a0efeeb06a32"
      },
      "execution_count": 6,
      "outputs": [
        {
          "output_type": "display_data",
          "data": {
            "image/png": "[encoded data removed]",
            "text/plain": [
              "<Figure size 432x288 with 1 Axes>"
            ]
          },
          "metadata": {
            "needs_background": "light"
          }
        }
      ]
    }
  ]
}